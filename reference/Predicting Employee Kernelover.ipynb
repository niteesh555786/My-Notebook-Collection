{
  "nbformat": 4,
  "cells": [
    {
      "source": [
        "<img src=\"http://cliparts.co/cliparts/6iy/oBb/6iyoBbdpT.gif\"/>"
      ],
      "metadata": {
        "_cell_guid": "ba5763c3-c180-4af1-9fa7-9d1bd3a31d28",
        "_uuid": "83eeded573beb68f368cc959d437e6ac4aee5f1a"
      },
      "cell_type": "markdown"
    },
    {
      "source": [
        "# Human Resource Analytics - Milestone Report\n",
        "***"
      ],
      "metadata": {
        "_cell_guid": "ea5028a5-e497-43b9-95d9-d54b9d559a0f",
        "_uuid": "e2e867859acbb5fc5b62f8a8a59439f3d1d7746c"
      },
      "cell_type": "markdown"
    },
    {
      "source": [
        "**\"Yeah, they all said that to me...\"**, *Bob replied as we were at Starbucks sipping on our dark roast coffee. Bob is a friend of mine and was the owner of a multi-million dollar company, that's right, \"m-i-l-l-i-o-n\". He used to tell me stories about how his company's productivity and growth has sky rocketed from the previous years and everything has been going great. But recently, he's been noticing some decline within his company. In a five month period, he lost one-fifth of his employees. At least a dozen of them throughout each department made phone calls and even left sticky notes on their tables informing him about their leave. Nobody knew what was happening. In that year, he was contemplating about filing for bankruptcy. Fast-forward seven months later, he's having a conversation with his co-founder of the company. The conversation ends with, **\"I quit...\"***"
      ],
      "metadata": {
        "_cell_guid": "28284afb-1322-4651-935a-332efe986684",
        "_uuid": "39286a6433ae87ba47f96461c381c6b36b9e63c3"
      },
      "cell_type": "markdown"
    },
    {
      "source": [
        "That is the last thing anybody wants to hear from their employees. In a sense, it’s the employees who make the company. It’s the employees who do the work. It’s the employees who shape the company’s culture. Long-term success, a healthy work environment, and high employee retention are all signs of a successful company. But when a company experiences a high rate of employee turnover, then something is going wrong. This can lead the company to huge monetary losses by these innovative and valuable employees."
      ],
      "metadata": {
        "_cell_guid": "2a7111b6-75ff-41eb-998a-94f9dfb6aefd",
        "_uuid": "0cf9e262ad63d1de792e244f7d186a2cd330641d"
      },
      "cell_type": "markdown"
    },
    {
      "source": [
        "Companies that maintain a healthy organization and culture are always a good sign of future prosperity. Recognizing and understanding what factors that were associated with employee turnover will allow companies and individuals to limit this from happening and may even increase employee productivity and growth. These predictive insights give managers the opportunity to take corrective steps to build and preserve their successful business."
      ],
      "metadata": {
        "_cell_guid": "ff45ce8c-1fb6-44dc-a600-62773e463e8a",
        "_uuid": "cb6903f7345fd0f99d8dbb8f90fb5e352224bcfa"
      },
      "cell_type": "markdown"
    },
    {
      "source": [
        "** \"You don't build a business. You build people, and people build the business.\" - Zig Ziglar**\n",
        "***\n",
        "\n",
        "<img src=\"https://static1.squarespace.com/static/5144a1bde4b033f38036b7b9/t/56ab72ebbe7b96fafe9303f5/1454076676264/\"/>"
      ],
      "metadata": {
        "_cell_guid": "68dea03b-b1dd-4d82-9971-23961a63726d",
        "_uuid": "66af7d6c36b2edcfd93d8e987d0a1da85f3f259c"
      },
      "cell_type": "markdown"
    },
    {
      "source": [
        "## About This Kernel\n",
        "***\n",
        "\n",
        "*Hopefully the kernel added some new insights/perspectives to the data science community! If there are any suggestions/changes you would like to see in the Kernel please let me know :). Appreciate every ounce of help!* **#KernelsAward #Kaggle**\n",
        "\n",
        "*This notebook will always be a work in progress. Please leave any comments about further improvements to the notebook! Any feedback or constructive criticism is greatly appreciated!. Thank you guys!*"
      ],
      "metadata": {
        "_cell_guid": "7c889dd5-a047-43dd-bd52-cfd8a2074361",
        "_uuid": "f7e7456e42c60b5e61dfc269b6f4734d8123e9d4"
      },
      "cell_type": "markdown"
    },
    {
      "source": [
        "## Business Problem\n",
        "***\n",
        "*Bob's multi-million dollar company is about to go bankrupt and he wants to know why his employees are leaving.*"
      ],
      "metadata": {
        "_cell_guid": "1a32307f-5710-4755-8e17-b18532bd617d",
        "_uuid": "e786ac2910dbd798f5ef96dc7227f0500d3bda57"
      },
      "cell_type": "markdown"
    },
    {
      "source": [
        "## Client\n",
        "***\n",
        "*Bob the Boss*"
      ],
      "metadata": {
        "_cell_guid": "e1d23372-c6b1-47bf-9d53-5a608eb8a332",
        "_uuid": "24ee82de2b89cba4476270d70f85124a2ca54e29"
      },
      "cell_type": "markdown"
    },
    {
      "source": [
        "## Objective\n",
        "***\n",
        "*My goal is to understand what factors contribute most to employee turnover and create a model that can predict if a certain employee will leave the company or not.*"
      ],
      "metadata": {
        "_cell_guid": "b48a77a9-7510-4451-ba95-a42c3a5e4d64",
        "_uuid": "4d8c98421757e91a79ebcec73d40267231cce47a"
      },
      "cell_type": "markdown"
    },
    {
      "source": [
        "## OSEMN Pipeline\n",
        "****\n",
        "\n",
        "*I’ll be following a typical data science pipeline, which is call “OSEMN” (pronounced awesome).*\n",
        "\n",
        "1. **O**btaining the data is the first approach in solving the problem.\n",
        "\n",
        "2. **S**crubbing or cleaning the data is the next step. This includes data imputation of missing or invalid data and fixing column names.\n",
        "\n",
        "3. **E**xploring the data will follow right after and allow further insight of what our dataset contains. Looking for any outliers or weird data. Understanding the relationship each explanatory variable has with the response variable resides here and we can do this with a correlation matrix. \n",
        "\n",
        "4. **M**odeling the data will give us our predictive power on whether an employee will leave. \n",
        "\n",
        "5. I**N**terpreting the data is last. With all the results and analysis of the data, what conclusion is made? What factors contributed most to employee turnover? What relationship of variables were found? \n",
        "\n",
        "**Note:** *The data was found from the “Human Resources Analytics” dataset provided by Kaggle’s website. https://www.kaggle.com/ludobenistant/hr-analytics*\n",
        "\n",
        "**Note:** THIS DATASET IS **SIMULATED**."
      ],
      "metadata": {
        "_cell_guid": "5a27714f-9c80-4ed5-b804-3f5903870122",
        "_uuid": "897f2d7d8c403dd43e0e5805629cdeb1f2365d39"
      },
      "cell_type": "markdown"
    },
    {
      "source": [
        "# Part 1: Obtaining the Data \n",
        "***"
      ],
      "metadata": {
        "_cell_guid": "a46b6c64-6f25-4007-9f41-4abd863b0130",
        "_uuid": "db8d6c6327671959fae8eefb9e3e60adad46afbe"
      },
      "cell_type": "markdown"
    },
    {
      "source": [
        "# Import the neccessary modules for data manipulation and visual representation\n",
        "import pandas as pd\n",
        "import numpy as np\n",
        "import matplotlib.pyplot as plt\n",
        "import matplotlib as matplot\n",
        "import seaborn as sns\n",
        "%matplotlib inline"
      ],
      "outputs": [],
      "metadata": {
        "_cell_guid": "9b79a352-5901-4b5a-af72-c2872c6c2d3b",
        "collapsed": true,
        "_uuid": "4ebdadf89270fbbe8a2efa6aa8053c3605fbc808"
      },
      "execution_count": null,
      "cell_type": "code"
    },
    {
      "source": [
        "#Read the analytics csv file and store our dataset into a dataframe called \"df\"\n",
        "df = pd.DataFrame.from_csv('../input/HR_comma_sep.csv', index_col=None)"
      ],
      "outputs": [],
      "metadata": {
        "_cell_guid": "af5af896-7e0a-46fb-837a-b6f0ae51fd56",
        "collapsed": true,
        "_uuid": "4bbc946c081a0d297fd5801048e9b49a0d036168"
      },
      "execution_count": null,
      "cell_type": "code"
    },
    {
      "source": [
        "# Part 2: Scrubbing the Data \n",
        "***"
      ],
      "metadata": {
        "_cell_guid": "88cf1176-a3c4-49a9-915c-3bea5c8a3a4e",
        "_uuid": "b5b800ca16faed7e7317413bd6fe0c4c44d082fb"
      },
      "cell_type": "markdown"
    },
    {
      "source": [
        "*Typically, cleaning the data requires a lot of work and can be a very tedious procedure. This dataset from Kaggle is super clean and contains no missing values. But still, I will have to examine the dataset to make sure that everything else is readable and that the observation values match the feature names appropriately.*"
      ],
      "metadata": {
        "_cell_guid": "b25ecb0e-e300-4a72-b6fd-35ae93e020b8",
        "_uuid": "f664a189a3b1d04813b5223274b31ea7a14e8438"
      },
      "cell_type": "markdown"
    },
    {
      "source": [
        "# Check to see if there are any missing values in our data set\n",
        "df.isnull().any()"
      ],
      "outputs": [],
      "metadata": {
        "_cell_guid": "def1f3a5-2295-4cfa-8000-5e501cc15864",
        "collapsed": true,
        "_uuid": "b31aed21b4ffe7dd68ecf96412d26a0f58425ce6"
      },
      "execution_count": null,
      "cell_type": "code"
    },
    {
      "source": [
        "# Get a quick overview of what we are dealing with in our dataset\n",
        "df.head()"
      ],
      "outputs": [],
      "metadata": {
        "_cell_guid": "9b322ef9-e81d-451e-97e9-8d07565c3926",
        "collapsed": true,
        "_uuid": "d4e87b49f2d638cb7d2f64b830ed835fd9790412"
      },
      "execution_count": null,
      "cell_type": "code"
    },
    {
      "source": [
        "# Renaming certain columns for better readability\n",
        "df = df.rename(columns={'satisfaction_level': 'satisfaction', \n",
        "                        'last_evaluation': 'evaluation',\n",
        "                        'number_project': 'projectCount',\n",
        "                        'average_montly_hours': 'averageMonthlyHours',\n",
        "                        'time_spend_company': 'yearsAtCompany',\n",
        "                        'Work_accident': 'workAccident',\n",
        "                        'promotion_last_5years': 'promotion',\n",
        "                        'sales' : 'department',\n",
        "                        'left' : 'turnover'\n",
        "                        })"
      ],
      "outputs": [],
      "metadata": {
        "_cell_guid": "d59ec584-237a-492f-aca7-a5302571b3ca",
        "collapsed": true,
        "_uuid": "d26af4fb750db2dddd884c2294803f4e9e3a157b"
      },
      "execution_count": null,
      "cell_type": "code"
    },
    {
      "source": [
        "# Move the reponse variable \"turnover\" to the front of the table\n",
        "front = df['turnover']\n",
        "df.drop(labels=['turnover'], axis=1,inplace = True)\n",
        "df.insert(0, 'turnover', front)\n",
        "df.head()"
      ],
      "outputs": [],
      "metadata": {
        "_cell_guid": "a8a74097-4ab3-4570-bdff-7b911fe3368f",
        "collapsed": true,
        "_uuid": "0e8ced3df6e4031c4ae2265bd192a55334065a92",
        "scrolled": true
      },
      "execution_count": null,
      "cell_type": "code"
    },
    {
      "source": [
        "# Part 3: Exploring the Data\n",
        "*** \n",
        " <img  src=\"https://s-media-cache-ak0.pinimg.com/originals/32/ef/23/32ef2383a36df04a065b909ee0ac8688.gif\"/>"
      ],
      "metadata": {
        "_cell_guid": "11e56653-4ce4-44eb-b562-a5715562c3cc",
        "_uuid": "7af6d7934b3f0212c93d1a07e69f934dd986a954"
      },
      "cell_type": "markdown"
    },
    {
      "source": [
        "##  3a. Statistical Overview \n",
        "***\n",
        "The dataset has:\n",
        " - About 15,000 employee observations and 10 features \n",
        " - The company had a turnover rate of about 24%\n",
        " - Mean satisfaction of employees is 0.61"
      ],
      "metadata": {
        "_cell_guid": "bde6fe00-926c-4ee4-a00a-faca5ecfa917",
        "_uuid": "551ca8d64aaaa080d36e0da0ed46c3ca267349fd"
      },
      "cell_type": "markdown"
    },
    {
      "source": [
        "# The dataset contains 10 columns and 14999 observations\n",
        "df.shape"
      ],
      "outputs": [],
      "metadata": {
        "_cell_guid": "73419440-c92d-4f6a-a718-216646b900cc",
        "collapsed": true,
        "_uuid": "a7eabf82ee6adbd09aca9e878112f8525ea50417"
      },
      "execution_count": null,
      "cell_type": "code"
    },
    {
      "source": [
        "# Check the type of our features. \n",
        "df.dtypes"
      ],
      "outputs": [],
      "metadata": {
        "_cell_guid": "25bc8dfe-5d24-4249-bab0-0424a20b1bd5",
        "collapsed": true,
        "_uuid": "4be89ba5d2e7f693b0cd228830423a700b6196fa"
      },
      "execution_count": null,
      "cell_type": "code"
    },
    {
      "source": [
        "# Looks like about 76% of employees stayed and 24% of employees left. \n",
        "# NOTE: When performing cross validation, its important to maintain this turnover ratio\n",
        "turnover_rate = df.turnover.value_counts() / 14999\n",
        "turnover_rate"
      ],
      "outputs": [],
      "metadata": {
        "_cell_guid": "bbac7b26-fc6d-47ad-8b15-b1f61191a471",
        "collapsed": true,
        "_uuid": "e4a3109a02643d0a8388553ee176f7fc112f321a"
      },
      "execution_count": null,
      "cell_type": "code"
    },
    {
      "source": [
        "# Display the statistical overview of the employees\n",
        "df.describe()"
      ],
      "outputs": [],
      "metadata": {
        "_cell_guid": "bc3d99b1-7bc5-4ba2-a34f-0a721c51075f",
        "collapsed": true,
        "_uuid": "a9ae5674c17ee2b88035aef24d674c56d0b89a03",
        "scrolled": false
      },
      "execution_count": null,
      "cell_type": "code"
    },
    {
      "source": [
        "# Overview of summary (Turnover V.S. Non-turnover)\n",
        "turnover_Summary = df.groupby('turnover')\n",
        "turnover_Summary.mean()"
      ],
      "outputs": [],
      "metadata": {
        "_cell_guid": "d61efd5d-5c2c-4b3c-b2ac-22d562c9e91a",
        "collapsed": true,
        "_uuid": "cfb764723207606d3e7fe991b17cd648e04c0a7a"
      },
      "execution_count": null,
      "cell_type": "code"
    },
    {
      "source": [
        "##  3b. Correlation Matrix & Heatmap\n",
        "***\n",
        "**Moderate Positively Correlated Features:** \n",
        "- projectCount vs evaluation: 0.349333\n",
        "- projectCount vs averageMonthlyHours:  0.417211\n",
        "- averageMonthlyHours vs evaluation: 0.339742\n",
        "\n",
        "**Moderate Negatively Correlated Feature:**\n",
        " - satisfaction vs turnover:  -0.388375\n",
        "\n",
        "**Stop and Think:**\n",
        "- What features affect our target variable the most (turnover)?\n",
        "- What features have strong correlations with each other?\n",
        "- Can we do a more in depth examination of these features?\n",
        "\n",
        "**Summary:**\n",
        "\n",
        "From the heatmap, there is a **positive(+)** correlation between projectCount, averageMonthlyHours, and evaluation. Which could mean that the employees who spent more hours and did more projects were evaluated highly. \n",
        "\n",
        "For the **negative(-)** relationships, turnover and satisfaction are highly correlated. I'm assuming that people tend to leave a company more when they are less satisfied. "
      ],
      "metadata": {
        "_cell_guid": "918f20ff-ed2c-43dd-849c-b7d751aeed86",
        "_uuid": "bed79decbf6495197f8f0219212c41c0042e196e"
      },
      "cell_type": "markdown"
    },
    {
      "source": [
        "#Correlation Matrix\n",
        "corr = df.corr()\n",
        "corr = (corr)\n",
        "sns.heatmap(corr, \n",
        "            xticklabels=corr.columns.values,\n",
        "            yticklabels=corr.columns.values)\n",
        "sns.plt.title('Heatmap of Correlation Matrix')\n",
        "corr"
      ],
      "outputs": [],
      "metadata": {
        "_cell_guid": "20d2f962-fcfa-434c-88ab-12dc05071b03",
        "collapsed": true,
        "_uuid": "1e2cb2cce7d8edf2ecd13a7197063ef3eea8d073",
        "scrolled": true
      },
      "execution_count": null,
      "cell_type": "code"
    },
    {
      "source": [
        "## 3b2. Statistical Test for Correlation\n",
        "***\n",
        "\n",
        "### One-Sample T-Test (Measuring Satisfaction Level)\n",
        "A one-sample t-test checks whether a sample mean differs from the population mean. Let's test to see whether the average satisfaction level of employees that had a turnover differs from the entire employee population.\n",
        "\n",
        "**Hypothesis Testing:** Is there significant difference in the **means of satisfaction level** between employees who had a turnover and the entire employee population?\n",
        "\n",
        " - **Null Hypothesis:** *(H0: pTS = pES)* The null hypothesis would be that there is **no** difference in satisfaction level between employees who did turnover and the entire employee population.\n",
        "\n",
        " - **Alternate Hypothesis:** *(HA: pTS != pES)* The alternative hypothesis would be that there **is** a difference in satisfaction level between employees who did turnover and the entire employee population."
      ],
      "metadata": {
        "_cell_guid": "7d936e7c-b7dd-4b32-9dd3-8e2c55313a30",
        "_uuid": "2126a99f138eb0ae59598629d1b7c4cf6686b8c9"
      },
      "cell_type": "markdown"
    },
    {
      "source": [
        "# Let's compare the means of our employee turnover satisfaction against the employee population satisfaction\n",
        "emp_population_satisfaction = df['satisfaction'].mean()\n",
        "emp_turnover_satisfaction = df[df['turnover']==1]['satisfaction'].mean()\n",
        "\n",
        "print( 'The mean for the employee population is: ' + str(emp_population_satisfaction) )\n",
        "print( 'The mean for the employees that had a turnover is: ' + str(emp_turnover_satisfaction) )"
      ],
      "outputs": [],
      "metadata": {
        "_cell_guid": "2e1c6ff1-1140-4892-b928-03df51d88fae",
        "collapsed": true,
        "_uuid": "90b9a8841cbc9c404923acf05a7f607c6df05bb6"
      },
      "execution_count": null,
      "cell_type": "code"
    },
    {
      "source": [
        "### Conducting the T-Test\n",
        "***\n",
        "Let's conduct a t-test at **95% confidence level** and see if it correctly rejects the null hypothesis that the sample comes from the same distribution as the employee population. To conduct a one sample t-test, we can use the **stats.ttest_1samp()** function:"
      ],
      "metadata": {
        "_cell_guid": "1a35ccd8-f60d-42d0-afb5-f8c32e01925a",
        "_uuid": "797103751f3468f19e22b0b9bdfb97a46737a30c"
      },
      "cell_type": "markdown"
    },
    {
      "source": [
        "import scipy.stats as stats\n",
        "stats.ttest_1samp(a=  df[df['turnover']==1]['satisfaction'], # Sample of Employee satisfaction who had a Turnover\n",
        "                  popmean = emp_population_satisfaction)  # Employee Population satisfaction mean"
      ],
      "outputs": [],
      "metadata": {
        "_cell_guid": "3ce92ea4-829d-45bc-8547-ab4b1f261684",
        "collapsed": true,
        "_uuid": "7d9177f88ffe8bf88148390454b00abc00195467"
      },
      "execution_count": null,
      "cell_type": "code"
    },
    {
      "source": [
        "### T-Test Result\n",
        "***\n",
        "The test result shows the **test statistic \"t\" is equal to -39.109**. This test statistic tells us how much the sample mean deviates from the null hypothesis. If the t-statistic lies **outside** the quantiles of the t-distribution corresponding to our confidence level and degrees of freedom, we reject the null hypothesis. We can check the quantiles with **stats.t.ppf()**:"
      ],
      "metadata": {
        "_cell_guid": "fe8233cd-83c4-45a8-82bc-89d20a241e13",
        "_uuid": "a254f97a16de3fe1a3491d349ca574e243cf6b11"
      },
      "cell_type": "markdown"
    },
    {
      "source": [
        "### T-Test Quantile\n",
        "***\n",
        "If the t-statistic value we calculated above **(-39.109)** is outside the quantiles, then we can reject the null hypothesis"
      ],
      "metadata": {
        "_cell_guid": "9a021234-21cb-4194-9179-b9ba373912cd",
        "_uuid": "a4abedc33125e59fd0fb368cd10d612ff09c6b80"
      },
      "cell_type": "markdown"
    },
    {
      "source": [
        "degree_freedom = len(df[df['turnover']==1])\n",
        "\n",
        "LQ = stats.t.ppf(0.025,degree_freedom)  # Left Quartile\n",
        "\n",
        "RQ = stats.t.ppf(0.975,degree_freedom)  # Right Quartile\n",
        "\n",
        "print ('The t-distribution left quartile range is: ' + str(LQ))\n",
        "print ('The t-distribution right quartile range is: ' + str(RQ))\n"
      ],
      "outputs": [],
      "metadata": {
        "_cell_guid": "207f67ca-f12f-4b20-a649-85b8dfeac3f2",
        "collapsed": true,
        "_uuid": "da9473ae9e6fc971e89ac291e57f208526ab58d1"
      },
      "execution_count": null,
      "cell_type": "code"
    },
    {
      "source": [
        "### One-Sample T-Test Summary\n",
        "***\n",
        "#### **T-Test = -39.109**       |        **P-Value = 9.01e-279**       |       **Reject Null Hypothesis**\n",
        "\n",
        "**Reject the null hypothesis because:**\n",
        " - T-Test score is outside the quantiles\n",
        " - P-value is lower than confidence level of 5%\n",
        "\n",
        "Based on the statistical analysis of a one sample t-test, there seems to be some significant difference between the mean satisfaction of employees who had a turnover and the entire employee population. The super low P-value of **9.012e-279** at a 5% confidence level is a good indicator to **reject the null hypothesis**. \n",
        "\n",
        "But this does not neccessarily mean that there is practical significance. We would have to conduct more experiments or maybe collect more data about the employees in order to come up with a more accurate finding.\n",
        "\n",
        "<img src=\"https://static1.squarespace.com/static/5144a1bde4b033f38036b7b9/t/56714b05c647ad9f555348fa/1450265419456/PresentWIP.gif?format=500w\"/>"
      ],
      "metadata": {
        "_cell_guid": "27019d76-3e7f-4076-b0fc-48f22f4e3281",
        "_uuid": "1b4b02a9d1b86d6b386a36495d20d0059c25f715"
      },
      "cell_type": "markdown"
    },
    {
      "source": [
        "##  3c. Distribution Plots (Satisfaction - Evaluation - AverageMonthlyHours)\n",
        "***\n",
        "**Summary:** Let's examine the distribution on some of the employee's features. Here's what I found:\n",
        " - **Satisfaction** - There is a huge spike for employees with low satisfaction and high satisfaction.\n",
        " - **Evaluation** - There is a bimodal distrubtion of employees for low evaluations (less than 0.6) and high evaluations (more than 0.8)\n",
        " - **AverageMonthlyHours** - There is another bimodal distribution of employees with lower and higher average monthly hours (less than 150 hours & more than 250 hours)\n",
        " - The evaluation and average monthly hour graphs both share a similar distribution. \n",
        " - Employees with lower average monthly hours were evaluated less and vice versa.\n",
        " - If you look back at the correlation matrix, the high correlation between evaluation and averageMonthlyHours does support this finding.\n",
        " \n",
        "**Stop and Think:** \n",
        " - Is there a reason for the high spike in low satisfaction of employees?\n",
        " - Could employees be grouped in a way with these features?\n",
        " - Is there a correlation between evaluation and averageMonthlyHours?"
      ],
      "metadata": {
        "_cell_guid": "fd10e1bc-1cca-4bdd-a8b4-73a6b7f5ddd7",
        "_uuid": "06467f1691005e605af9084ee142fd2c86b4f324"
      },
      "cell_type": "markdown"
    },
    {
      "source": [
        "# Set up the matplotlib figure\n",
        "f, axes = plt.subplots(ncols=3, figsize=(15, 6))\n",
        "\n",
        "# Graph Employee Satisfaction\n",
        "sns.distplot(df.satisfaction, kde=False, color=\"g\", ax=axes[0]).set_title('Employee Satisfaction Distribution')\n",
        "\n",
        "# Graph Employee Evaluation\n",
        "sns.distplot(df.evaluation, kde=False, color=\"r\", ax=axes[1]).set_title('Employee Evaluation Distribution')\n",
        "\n",
        "# Graph Employee Average Monthly Hours\n",
        "sns.distplot(df.averageMonthlyHours, kde=False, color=\"b\", ax=axes[2]).set_title('Employee Average Monthly Hours Distribution')"
      ],
      "outputs": [],
      "metadata": {
        "_cell_guid": "1899ace3-af9c-45aa-a351-affc1268f6fd",
        "collapsed": true,
        "_uuid": "965942ee9773a202172d7d855495089165b5ddac",
        "scrolled": false
      },
      "execution_count": null,
      "cell_type": "code"
    },
    {
      "source": [
        "##  3d. Salary V.S. Turnover\n",
        "***\n",
        "**Summary:** This is not unusual. Here's what I found:\n",
        " - Majority of employees who left either had **low** or **medium** salary.\n",
        " - Barely any employees left with **high** salary\n",
        " - Employees with low to average salaries tend to leave the company.\n",
        " \n",
        "**Stop and Think:** \n",
        " - What is the work environment like for low, medium, and high salaries?\n",
        " - What made employees with high salaries to leave?"
      ],
      "metadata": {
        "_cell_guid": "59946601-f880-492f-bba0-2abb6fa3349c",
        "_uuid": "0a7acbd87733d69cd9415694ecf9207bd3a351d8"
      },
      "cell_type": "markdown"
    },
    {
      "source": [
        "f, ax = plt.subplots(figsize=(15, 4))\n",
        "sns.countplot(y=\"salary\", hue='turnover', data=df).set_title('Employee Salary Turnover Distribution');"
      ],
      "outputs": [],
      "metadata": {
        "_cell_guid": "9949ba1f-4427-422b-99ca-8dac582a02b1",
        "collapsed": true,
        "_uuid": "df172af0f3fc0fdcf837b6f94c0f477fd831dc04",
        "scrolled": true
      },
      "execution_count": null,
      "cell_type": "code"
    },
    {
      "source": [
        "<img src=\"https://cdn.dribbble.com/users/20727/screenshots/2118641/video-producer-motion-graphics-designer-animator-jobs-manchester-uk.gif\"/>"
      ],
      "metadata": {
        "_cell_guid": "0a57deee-74dd-40cc-9fb2-3536ebae7e50",
        "_uuid": "833b1d1e28f3ca30b9f5a675134034fb7cdcc358"
      },
      "cell_type": "markdown"
    },
    {
      "source": [
        "##  3e. Department V.S. Turnover \n",
        "***\n",
        "**Summary:** Let's see more information about the departments. Here's what I found:\n",
        " - The **sales, technical, and support department** were the top 3 departments to have employee turnover\n",
        " - The management department had the smallest amount of turnover\n",
        " \n",
        "**Stop and Think:** \n",
        " - If we had more information on each department, can we pinpoint a more direct cause for employee turnover?"
      ],
      "metadata": {
        "_cell_guid": "259d4f6a-d194-4ad6-8344-169c8cf6ecc4",
        "_uuid": "4789e0df5a115e9c7404928b5095c9949dd23d9c"
      },
      "cell_type": "markdown"
    },
    {
      "source": [
        "# Employee distri\n",
        "# Types of colors\n",
        "color_types = ['#78C850','#F08030','#6890F0','#A8B820','#A8A878','#A040A0','#F8D030',  \n",
        "                '#E0C068','#EE99AC','#C03028','#F85888','#B8A038','#705898','#98D8D8','#7038F8']\n",
        "\n",
        "# Count Plot (a.k.a. Bar Plot)\n",
        "sns.countplot(x='department', data=df, palette=color_types).set_title('Employee Department Distribution');\n",
        " \n",
        "# Rotate x-labels\n",
        "plt.xticks(rotation=-45)"
      ],
      "outputs": [],
      "metadata": {
        "_cell_guid": "d3b1f718-f4d4-4e4f-8e64-e110e65416d6",
        "collapsed": true,
        "_uuid": "2fa4f8c2ee0138b1a32a5b64611ae2fc1362227d"
      },
      "execution_count": null,
      "cell_type": "code"
    },
    {
      "source": [
        "f, ax = plt.subplots(figsize=(15, 5))\n",
        "sns.countplot(y=\"department\", hue='turnover', data=df).set_title('Employee Department Turnover Distribution');"
      ],
      "outputs": [],
      "metadata": {
        "_cell_guid": "199dbab9-5628-43d0-b82c-0f061de15fcd",
        "collapsed": true,
        "_uuid": "851c00d7a5a61128b2a3928967b8ba3c8f138d1d",
        "scrolled": true
      },
      "execution_count": null,
      "cell_type": "code"
    },
    {
      "source": [
        "##  3f. Turnover V.S. ProjectCount \n",
        "***\n",
        "**Summary:** This graph is quite interesting as well. Here's what I found:\n",
        " - More than half of the employees with **2,6, and 7** projects left the company\n",
        " - Majority of the employees who did not leave the company had **3,4, and 5** projects\n",
        " - All of the employees with **7** projects left the company\n",
        " - There is an increase in employee turnover rate as project count increases\n",
        " \n",
        "**Stop and Think:** \n",
        " - Why are employees leaving at the lower/higher spectrum of project counts?\n",
        " - Does this means that employees with project counts 2 or less are not worked hard enough or are not highly valued, thus leaving the company?\n",
        " - Do employees with 6+ projects are getting overworked, thus leaving the company?\n",
        "\n"
      ],
      "metadata": {
        "_cell_guid": "c070de56-b7b3-4b09-a773-4e4a34910d6e",
        "_uuid": "fe0a392af640faeb8e015ff7f1189e65fa8b82ee"
      },
      "cell_type": "markdown"
    },
    {
      "source": [
        "ax = sns.barplot(x=\"projectCount\", y=\"projectCount\", hue=\"turnover\", data=df, estimator=lambda x: len(x) / len(df) * 100)\n",
        "ax.set(ylabel=\"Percent\")"
      ],
      "outputs": [],
      "metadata": {
        "_cell_guid": "d46616dd-a54d-4c50-ad5e-25dd6f3adb71",
        "collapsed": true,
        "_uuid": "496f694864d11a9fb03be8fe0ca9eb716801be59",
        "scrolled": true
      },
      "execution_count": null,
      "cell_type": "code"
    },
    {
      "source": [
        "##  3g. Turnover V.S. Evaluation \n",
        "***\n",
        "**Summary:** \n",
        " - There is a biomodal distribution for those that had a turnover. \n",
        " - Employees with **low** performance tend to leave the company more\n",
        " - Employees with **high** performance tend to leave the company more\n",
        " - The **sweet spot** for employees that stayed is within **0.6-0.8** evaluation"
      ],
      "metadata": {
        "_cell_guid": "b94a2476-5042-4d95-ac00-cab1fe478923",
        "_uuid": "5d6fa0ad02bf997ec83c5f9310d8e5d44735c48a"
      },
      "cell_type": "markdown"
    },
    {
      "source": [
        "# Kernel Density Plot\n",
        "fig = plt.figure(figsize=(15,4),)\n",
        "ax=sns.kdeplot(df.loc[(df['turnover'] == 0),'evaluation'] , color='b',shade=True,label='no turnover')\n",
        "ax=sns.kdeplot(df.loc[(df['turnover'] == 1),'evaluation'] , color='r',shade=True, label='turnover')\n",
        "plt.title('Employee Evaluation Distribution - Turnover V.S. No Turnover')"
      ],
      "outputs": [],
      "metadata": {
        "_cell_guid": "c83e7515-15b7-42c5-b4a2-79d4b7c40086",
        "collapsed": true,
        "_uuid": "ad1e101b036b2bd2ac1ee0eb148b46ea8978ef3c"
      },
      "execution_count": null,
      "cell_type": "code"
    },
    {
      "source": [
        "##  3h. Turnover V.S. AverageMonthlyHours \n",
        "***\n",
        "**Summary:** \n",
        " - Another bi-modal distribution for employees that turnovered \n",
        " - Employees who had less hours of work **(~150hours or less)** left the company more\n",
        " - Employees who had too many hours of work **(~250 or more)** left the company \n",
        " - Employees who left generally were **underworked** or **overworked**."
      ],
      "metadata": {
        "_cell_guid": "23cfc886-46ef-4fbd-891d-3b1f20c42edb",
        "_uuid": "f9ecb9833eba01293ce72c97885092181adb91bd"
      },
      "cell_type": "markdown"
    },
    {
      "source": [
        "#KDEPlot: Kernel Density Estimate Plot\n",
        "fig = plt.figure(figsize=(15,4))\n",
        "ax=sns.kdeplot(df.loc[(df['turnover'] == 0),'averageMonthlyHours'] , color='b',shade=True, label='no turnover')\n",
        "ax=sns.kdeplot(df.loc[(df['turnover'] == 1),'averageMonthlyHours'] , color='r',shade=True, label='turnover')\n",
        "plt.title('Employee AverageMonthly Hours Distribution - Turnover V.S. No Turnover')"
      ],
      "outputs": [],
      "metadata": {
        "_cell_guid": "856a761b-b0a1-46e2-a751-58ad923bd5b3",
        "collapsed": true,
        "_uuid": "7e431f421027da4cd00322c0f206ce2840cc42a3",
        "scrolled": true
      },
      "execution_count": null,
      "cell_type": "code"
    },
    {
      "source": [
        "##  3i. Turnover V.S. Satisfaction \n",
        "***\n",
        "**Summary:** \n",
        " - There is a **tri-modal** distribution for employees that turnovered\n",
        " - Employees who had really low satisfaction levels **(0.2 or less)** left the company more\n",
        " - Employees who had low satisfaction levels **(0.3~0.5)** left the company more\n",
        " - Employees who had really high satisfaction levels **(0.7 or more)** left the company more"
      ],
      "metadata": {
        "_cell_guid": "e3c6f8ba-37de-4af9-b3bc-d41d8b55f7c5",
        "_uuid": "1e1de25645e5ebd949b5e36c528a755594ea4c85"
      },
      "cell_type": "markdown"
    },
    {
      "source": [
        "#KDEPlot: Kernel Density Estimate Plot\n",
        "fig = plt.figure(figsize=(15,4))\n",
        "ax=sns.kdeplot(df.loc[(df['turnover'] == 0),'satisfaction'] , color='b',shade=True, label='no turnover')\n",
        "ax=sns.kdeplot(df.loc[(df['turnover'] == 1),'satisfaction'] , color='r',shade=True, label='turnover')\n",
        "plt.title('Employee Satisfaction Distribution - Turnover V.S. No Turnover')"
      ],
      "outputs": [],
      "metadata": {
        "_cell_guid": "be7ff8b9-1523-43d4-8243-1443cb3b8186",
        "collapsed": true,
        "_uuid": "68bd32416c8feaf927c20bd17beaa8133e8836c6"
      },
      "execution_count": null,
      "cell_type": "code"
    },
    {
      "source": [
        "##  3j. ProjectCount VS AverageMonthlyHours \n",
        "***\n",
        "\n",
        "**Summary:**\n",
        " - As project count increased, so did average monthly hours\n",
        " - Something weird about the boxplot graph is the difference in averageMonthlyHours between people who had a turnver and did not. \n",
        " - Looks like employees who **did not** have a turnover had **consistent** averageMonthlyHours, despite the increase in projects\n",
        " - In contrast, employees who **did** have a turnover had an increase in averageMonthlyHours with the increase in projects\n",
        "\n",
        "**Stop and Think:** \n",
        " - What could be the meaning for this? \n",
        " - Why is it that employees who left worked more hours than employees who didn't, even with the same project count?"
      ],
      "metadata": {
        "_cell_guid": "5c692223-97b5-49e0-91b6-110b14267dad",
        "_uuid": "82a9fc8e7ca4c2d4d7f89921bbf25863ab1b5e0b"
      },
      "cell_type": "markdown"
    },
    {
      "source": [
        "#ProjectCount VS AverageMonthlyHours [BOXPLOT]\n",
        "#Looks like the average employees who stayed worked about 200hours/month. Those that had a turnover worked about 250hours/month and 150hours/month\n",
        "\n",
        "import seaborn as sns\n",
        "sns.boxplot(x=\"projectCount\", y=\"averageMonthlyHours\", hue=\"turnover\", data=df)"
      ],
      "outputs": [],
      "metadata": {
        "_cell_guid": "7af16e4e-4ede-40cf-a9aa-480ddae10861",
        "collapsed": true,
        "_uuid": "8111e8f9f4a45ae68a0d81bdf20ef0f35563514c",
        "scrolled": true
      },
      "execution_count": null,
      "cell_type": "code"
    },
    {
      "source": [
        "##  3k. ProjectCount VS Evaluation\n",
        "***\n",
        "**Summary:** This graph looks very similar to the graph above. What I find strange with this graph is with the turnover group. There is an increase in evaluation for employees who did more projects within the turnover group. But, again for the non-turnover group, employees here had a consistent evaluation score despite the increase in project counts. \n",
        "\n",
        "**Questions to think about:**\n",
        " - Why is it that employees who left, had on average, a higher evaluation than employees who did not leave, even with an increase in project count? \n",
        " - Shouldn't employees with lower evaluations tend to leave the company more? "
      ],
      "metadata": {
        "_cell_guid": "c13c46d9-10d9-4bc6-83ff-4e8f18e6f51d",
        "_uuid": "795734acfd702fab1d2a861d1fb9a4c37ba67f55"
      },
      "cell_type": "markdown"
    },
    {
      "source": [
        "#ProjectCount VS Evaluation\n",
        "#Looks like employees who did not leave the company had an average evaluation of around 70% even with different projectCounts\n",
        "#There is a huge skew in employees who had a turnover though. It drastically changes after 3 projectCounts. \n",
        "#Employees that had two projects and a horrible evaluation left. Employees with more than 3 projects and super high evaluations left\n",
        "import seaborn as sns\n",
        "sns.boxplot(x=\"projectCount\", y=\"evaluation\", hue=\"turnover\", data=df)"
      ],
      "outputs": [],
      "metadata": {
        "_cell_guid": "f71fe174-dd36-43a2-b882-99976b1fbb8d",
        "collapsed": true,
        "_uuid": "8cb12be2d8182a91b87bb91a11edf9864677976d",
        "scrolled": true
      },
      "execution_count": null,
      "cell_type": "code"
    },
    {
      "source": [
        "##  3l. Satisfaction VS Evaluation\n",
        "***\n",
        "**Summary:** This is by far the most compelling graph. This is what I found:\n",
        " - There are **3** distinct clusters for employees who left the company\n",
        " \n",
        "**Cluster 1 (Hard-working and Sad Employee):** Satisfaction was below 0.2 and evaluations were greater than 0.75. Which could be a good indication that employees who left the company were good workers but felt horrible at their job. \n",
        " - **Question:** What could be the reason for feeling so horrible when you are highly evaluated? Could it be working too hard? Could this cluster mean employees who are \"overworked\"?\n",
        "\n",
        "**Cluster 2 (Bad and Sad Employee):** Satisfaction between about 0.35~0.45 and evaluations below ~0.58. This could be seen as employees who were badly evaluated and felt bad at work.\n",
        " - **Question:** Could this cluster mean employees who \"under-performed\"?\n",
        "\n",
        "**Cluster 3 (Hard-working and Happy Employee):** Satisfaction between 0.7~1.0 and evaluations were greater than 0.8. Which could mean that employees in this cluster were \"ideal\". They loved their work and were evaluated highly for their performance. \n",
        " - **Question:** Could this cluser mean that employees left because they found another job opportunity?"
      ],
      "metadata": {
        "_cell_guid": "9620f86f-5620-48fd-b2c3-99268e58e2a7",
        "_uuid": "0713ae7edc3f945e5446fa8b52ee3314180b4eac"
      },
      "cell_type": "markdown"
    },
    {
      "source": [
        "sns.lmplot(x='satisfaction', y='evaluation', data=df,\n",
        "           fit_reg=False, # No regression line\n",
        "           hue='turnover')   # Color by evolution stage"
      ],
      "outputs": [],
      "metadata": {
        "_cell_guid": "b8f87f7f-4914-43a0-9874-61faef17311f",
        "collapsed": true,
        "_uuid": "44d6e53bb0793ab87470bdcb821ff9c1315227a6"
      },
      "execution_count": null,
      "cell_type": "code"
    },
    {
      "source": [
        "##  3m. Turnover V.S. YearsAtCompany \n",
        "***\n",
        "**Summary:** Let's see if theres a point where employees start leaving the company. Here's what I found:\n",
        " - More than half of the employees with **4 and 5** years left the company\n",
        " - Employees with **5** years should **highly** be looked into \n",
        " \n",
        "**Stop and Think:** \n",
        " - Why are employees leaving mostly at the **3-5** year range?\n",
        " - Who are these employees that left?\n",
        " - Are these employees part-time or contractors? "
      ],
      "metadata": {
        "_cell_guid": "78601de6-6ea0-4e54-9f9e-c1f2b8b7fbc6",
        "_uuid": "262cca697d2a9692014de75e5dfa9f815d64a753"
      },
      "cell_type": "markdown"
    },
    {
      "source": [
        "ax = sns.barplot(x=\"yearsAtCompany\", y=\"yearsAtCompany\", hue=\"turnover\", data=df, estimator=lambda x: len(x) / len(df) * 100)\n",
        "ax.set(ylabel=\"Percent\")"
      ],
      "outputs": [],
      "metadata": {
        "_cell_guid": "e107272c-1ab1-4aed-a7cc-75135fede617",
        "collapsed": true,
        "_uuid": "0bcea16190679921613a3aaf7e8bb1fd4dc9cec4"
      },
      "execution_count": null,
      "cell_type": "code"
    },
    {
      "source": [
        "## 3n. K-Means Clustering of Employee Turnover\n",
        "***\n",
        "**Cluster 1 (Blue):** Hard-working and Sad Employees\n",
        "\n",
        "**Cluster 2 (Red):** Bad and Sad Employee \n",
        "\n",
        "**Cluster 3 (Green):** Hard-working and Happy Employee \n",
        "\n",
        "**Clustering PROBLEM:**\n",
        "    - How do we know that there are \"3\" clusters?\n",
        "    - We would need expert domain knowledge to classify the right amount of clusters\n",
        "    - Hidden uknown structures could be present"
      ],
      "metadata": {
        "_cell_guid": "2c6573d7-83b6-49a5-8b91-e769bdcafe35",
        "_uuid": "115172607d3265eca2e443bacf0a5a035a5021f9"
      },
      "cell_type": "markdown"
    },
    {
      "source": [
        "# Import KMeans Model\n",
        "from sklearn.cluster import KMeans\n",
        "\n",
        "# Graph and create 3 clusters of Employee Turnover\n",
        "kmeans = KMeans(n_clusters=3,random_state=2)\n",
        "kmeans.fit(df[df.turnover==1][[\"satisfaction\",\"evaluation\"]])\n",
        "\n",
        "kmeans_colors = ['green' if c == 0 else 'blue' if c == 2 else 'red' for c in kmeans.labels_]\n",
        "\n",
        "fig = plt.figure(figsize=(10, 6))\n",
        "plt.scatter(x=\"satisfaction\",y=\"evaluation\", data=df[df.turnover==1],\n",
        "            alpha=0.25,color = kmeans_colors)\n",
        "plt.xlabel(\"Satisfaction\")\n",
        "plt.ylabel(\"Evaluation\")\n",
        "plt.scatter(x=kmeans.cluster_centers_[:,0],y=kmeans.cluster_centers_[:,1],color=\"black\",marker=\"X\",s=100)\n",
        "plt.title(\"Clusters of Employee Turnover\")\n",
        "plt.show()"
      ],
      "outputs": [],
      "metadata": {
        "_cell_guid": "18b5345f-d8bd-4651-bf9d-83ea9f31b44e",
        "collapsed": true,
        "_uuid": "4c56e8854ca95e95a632731a9dc98e186c95602f"
      },
      "execution_count": null,
      "cell_type": "code"
    },
    {
      "source": [
        "# 4. Modeling the Data\n",
        "***\n",
        " The best model performance out of the four (Decision Tree Model, AdaBoost Model, Logistic Regression Model, Random Forest Model) was **Random Forest**! \n",
        " \n",
        " **Note: Base Rate** \n",
        " ***\n",
        " - A **Base Rate Model** is a model that always selects the target variable's **majority class**. It's just used for reference to compare how better another model is against it. In this dataset, the majority class that will be predicted will be **0's**, which are employees who did not leave the company. \n",
        " - If you recall back to **Part 3: Exploring the Data**, 24% of the dataset contained 1's (employee who left the company) and the remaining 76% contained 0's (employee who did not leave the company). The Base Rate Model would simply predict every 0's and ignore all the 1's. \n",
        " - **Example**: The base rate accuracy for this data set, when classifying everything as 0's, would be 76% because 76% of the dataset are labeled as 0's (employees not leaving the company)."
      ],
      "metadata": {
        "_cell_guid": "a319378d-ce76-4057-a30c-f4b20f91f5ea",
        "_uuid": "70a52b375eee3504b8b0e93d2f94d3d430ebf4e4"
      },
      "cell_type": "markdown"
    },
    {
      "source": [
        " **Note: Different Ways to Evaluate Classification Models**\n",
        " ***\n",
        "   1.  **Predictive Accuracy:** How many does it get right?\n",
        "   2. **Speed:** How fast does it take for the model to deploy? \n",
        "   3. **Scalability:** Can the model handle large datasets?\n",
        "   4. **Robustness:** How well does the model handle outliers/missing values?\n",
        "   5. **Interpretability:** Is the model easy to understand?"
      ],
      "metadata": {
        "_uuid": "6f5fe8fb30c580b11a5f9de786066eb31dd8fa4e"
      },
      "cell_type": "markdown"
    },
    {
      "source": [
        "<img src=\"http://i68.tinypic.com/qsts7k.jpg\"/>"
      ],
      "metadata": {
        "_cell_guid": "a2b5b0b4-9e51-42bc-982b-2e85a4f30e3d",
        "_uuid": "cdebeb8304a7173fa3d548c3929df9f98299576d"
      },
      "cell_type": "markdown"
    },
    {
      "source": [
        "from sklearn.linear_model import LogisticRegression\n",
        "from sklearn.preprocessing import LabelEncoder\n",
        "from sklearn.model_selection import train_test_split\n",
        "from sklearn.metrics import accuracy_score, classification_report, precision_score, recall_score, confusion_matrix, precision_recall_curve\n",
        "from sklearn.preprocessing import RobustScaler\n",
        "\n",
        "# Create dummy variables for the 'department' and 'salary' features, since they are categorical \n",
        "department = pd.get_dummies(data=df['department'],drop_first=True,prefix='dep') #drop first column to avoid dummy trap\n",
        "salary = pd.get_dummies(data=df['salary'],drop_first=True,prefix='sal')\n",
        "df.drop(['department','salary'],axis=1,inplace=True)\n",
        "df = pd.concat([df,department,salary],axis=1)"
      ],
      "outputs": [],
      "metadata": {
        "_cell_guid": "928c8cd9-4ae0-4f7a-b029-dea37ea19472",
        "collapsed": true,
        "_uuid": "22f78fd2f10e6d9f87b83e74a2c89ef21c2051bf",
        "scrolled": true
      },
      "execution_count": null,
      "cell_type": "code"
    },
    {
      "source": [
        "# Create base rate model\n",
        "def base_rate_model(X) :\n",
        "    y = np.zeros(X.shape[0])\n",
        "    return y"
      ],
      "outputs": [],
      "metadata": {
        "_cell_guid": "54285c25-10dd-403b-96da-ef7c4d23c9c3",
        "collapsed": true,
        "_uuid": "44d34f016c77d80e0cef016d52a744d63bd5079f"
      },
      "execution_count": null,
      "cell_type": "code"
    },
    {
      "source": [
        "# Create train and test splits\n",
        "target_name = 'turnover'\n",
        "X = df.drop('turnover', axis=1)\n",
        "robust_scaler = RobustScaler()\n",
        "X = robust_scaler.fit_transform(X)\n",
        "y=df[target_name]\n",
        "X_train, X_test, y_train, y_test = train_test_split(X,y,test_size=0.15, random_state=123, stratify=y)"
      ],
      "outputs": [],
      "metadata": {
        "_cell_guid": "52a6380e-2cb1-41d9-add1-7fbb7c11a447",
        "collapsed": true,
        "_uuid": "2e0c1dcc07bd95aad1bd21f8068625fa656866b1"
      },
      "execution_count": null,
      "cell_type": "code"
    },
    {
      "source": [
        "# Check accuracy of base rate model\n",
        "y_base_rate = base_rate_model(X_test)\n",
        "from sklearn.metrics import accuracy_score\n",
        "print (\"Base rate accuracy is %2.2f\" % accuracy_score(y_test, y_base_rate))"
      ],
      "outputs": [],
      "metadata": {
        "_cell_guid": "5d51ef8f-edb2-434e-8eff-e381798cd134",
        "collapsed": true,
        "_uuid": "213db6b9c482d69e33b8914952bc45f9aa68bb52"
      },
      "execution_count": null,
      "cell_type": "code"
    },
    {
      "source": [
        "# Check accuracy of Logistic Model\n",
        "from sklearn.linear_model import LogisticRegression\n",
        "model = LogisticRegression(penalty='l2', C=1)\n",
        "\n",
        "model.fit(X_train, y_train)\n",
        "print (\"Logistic accuracy is %2.2f\" % accuracy_score(y_test, model.predict(X_test)))"
      ],
      "outputs": [],
      "metadata": {
        "_cell_guid": "9ad8cfad-6a99-4b9c-b71d-d14c9cf63cba",
        "collapsed": true,
        "_uuid": "1fa992b574e7e7206602d4eccb1df747a362f252"
      },
      "execution_count": null,
      "cell_type": "code"
    },
    {
      "source": [
        "# Using 10 fold Cross-Validation to train our Logistic Regression Model\n",
        "from sklearn import model_selection\n",
        "from sklearn.linear_model import LogisticRegression\n",
        "kfold = model_selection.KFold(n_splits=10, random_state=7)\n",
        "modelCV = LogisticRegression(class_weight = \"balanced\")\n",
        "scoring = 'roc_auc'\n",
        "results = model_selection.cross_val_score(modelCV, X_train, y_train, cv=kfold, scoring=scoring)\n",
        "print(\"AUC: %.3f (%.3f)\" % (results.mean(), results.std()))"
      ],
      "outputs": [],
      "metadata": {
        "_cell_guid": "981e3a3b-f3ac-4cae-806b-a79f4478557e",
        "collapsed": true,
        "_uuid": "087405fc49d296fe9670fe949f2fa44a0338bd28"
      },
      "execution_count": null,
      "cell_type": "code"
    },
    {
      "source": [
        "## Logistic Regression V.S. Random Forest V.S. Decision Tree V.S. AdaBoost Model\n",
        "***"
      ],
      "metadata": {
        "_cell_guid": "2a9855af-4efd-4692-8b60-84d6c8ddafea",
        "_uuid": "ce1f37f6997bba100650cb23814faef02d9945ea"
      },
      "cell_type": "markdown"
    },
    {
      "source": [
        "# Compare the Logistic Regression Model V.S. Base Rate Model V.S. Random Forest Model\n",
        "from sklearn.metrics import roc_auc_score\n",
        "from sklearn.metrics import classification_report\n",
        "from sklearn.ensemble import RandomForestClassifier\n",
        "\n",
        "from sklearn import tree\n",
        "from sklearn.tree import DecisionTreeClassifier\n",
        "from sklearn.linear_model import LogisticRegression\n",
        "from sklearn.ensemble import ExtraTreesClassifier\n",
        "from sklearn.ensemble import BaggingClassifier\n",
        "from sklearn.ensemble import AdaBoostClassifier\n",
        "from sklearn.ensemble import GradientBoostingClassifier\n",
        "from sklearn.ensemble import VotingClassifier\n",
        "\n",
        "\n",
        "print (\"---Base Model---\")\n",
        "base_roc_auc = roc_auc_score(y_test, base_rate_model(X_test))\n",
        "print (\"Base Rate AUC = %2.2f\" % base_roc_auc)\n",
        "print(classification_report(y_test, base_rate_model(X_test)))\n",
        "\n",
        "# NOTE: By adding in \"class_weight = balanced\", the Logistic Auc increased by about 10%! This adjusts the threshold value\n",
        "logis = LogisticRegression(class_weight = \"balanced\")\n",
        "logis.fit(X_train, y_train)\n",
        "print (\"\\n\\n ---Logistic Model---\")\n",
        "logit_roc_auc = roc_auc_score(y_test, logis.predict(X_test))\n",
        "print (\"Logistic AUC = %2.2f\" % logit_roc_auc)\n",
        "print(classification_report(y_test, logis.predict(X_test)))\n",
        "\n",
        "# Decision Tree Model\n",
        "dtree = tree.DecisionTreeClassifier(\n",
        "    #max_depth=3,\n",
        "    class_weight=\"balanced\",\n",
        "    min_weight_fraction_leaf=0.01\n",
        "    )\n",
        "dtree = dtree.fit(X_train,y_train)\n",
        "print (\"\\n\\n ---Decision Tree Model---\")\n",
        "dt_roc_auc = roc_auc_score(y_test, dtree.predict(X_test))\n",
        "print (\"Decision Tree AUC = %2.2f\" % dt_roc_auc)\n",
        "print(classification_report(y_test, dtree.predict(X_test)))\n",
        "\n",
        "# Random Forest Model\n",
        "rf = RandomForestClassifier(\n",
        "    n_estimators=1000, \n",
        "    max_depth=None, \n",
        "    min_samples_split=10, \n",
        "    class_weight=\"balanced\"\n",
        "    #min_weight_fraction_leaf=0.02 \n",
        "    )\n",
        "rf.fit(X_train, y_train)\n",
        "print (\"\\n\\n ---Random Forest Model---\")\n",
        "rf_roc_auc = roc_auc_score(y_test, rf.predict(X_test))\n",
        "print (\"Random Forest AUC = %2.2f\" % rf_roc_auc)\n",
        "print(classification_report(y_test, rf.predict(X_test)))\n",
        "\n",
        "\n",
        "# Ada Boost\n",
        "ada = AdaBoostClassifier(n_estimators=400, learning_rate=0.1)\n",
        "ada.fit(X_train,y_train)\n",
        "print (\"\\n\\n ---AdaBoost Model---\")\n",
        "ada_roc_auc = roc_auc_score(y_test, ada.predict(X_test))\n",
        "print (\"AdaBoost AUC = %2.2f\" % ada_roc_auc)\n",
        "print(classification_report(y_test, ada.predict(X_test)))"
      ],
      "outputs": [],
      "metadata": {
        "_cell_guid": "5a76ae8a-f8af-4241-aae5-c7cd5cced2ad",
        "collapsed": true,
        "_uuid": "3e3565867e9559ab635430bf2045927a5f56d31a"
      },
      "execution_count": null,
      "cell_type": "code"
    },
    {
      "source": [
        "## ROC Graph\n",
        "***"
      ],
      "metadata": {
        "_cell_guid": "f37f3cd2-8dcc-41c0-a56f-91e8df1d9adb",
        "_uuid": "4eba4ea0d57b8b74f708a0ccea08c21bb72dc803"
      },
      "cell_type": "markdown"
    },
    {
      "source": [
        "# Create ROC Graph\n",
        "from sklearn.metrics import roc_curve\n",
        "fpr, tpr, thresholds = roc_curve(y_test, logis.predict_proba(X_test)[:,1])\n",
        "rf_fpr, rf_tpr, rf_thresholds = roc_curve(y_test, rf.predict_proba(X_test)[:,1])\n",
        "dt_fpr, dt_tpr, dt_thresholds = roc_curve(y_test, dtree.predict_proba(X_test)[:,1])\n",
        "ada_fpr, ada_tpr, ada_thresholds = roc_curve(y_test, ada.predict_proba(X_test)[:,1])\n",
        "\n",
        "plt.figure()\n",
        "\n",
        "# Plot Logistic Regression ROC\n",
        "plt.plot(fpr, tpr, label='Logistic Regression (area = %0.2f)' % logit_roc_auc)\n",
        "\n",
        "# Plot Random Forest ROC\n",
        "plt.plot(rf_fpr, rf_tpr, label='Random Forest (area = %0.2f)' % rf_roc_auc)\n",
        "\n",
        "# Plot Decision Tree ROC\n",
        "plt.plot(dt_fpr, dt_tpr, label='Decision Tree (area = %0.2f)' % dt_roc_auc)\n",
        "\n",
        "# Plot AdaBoost ROC\n",
        "plt.plot(ada_fpr, ada_tpr, label='AdaBoost (area = %0.2f)' % ada_roc_auc)\n",
        "\n",
        "# Plot Base Rate ROC\n",
        "plt.plot([0,1], [0,1],label='Base Rate' 'k--')\n",
        "\n",
        "plt.xlim([0.0, 1.0])\n",
        "plt.ylim([0.0, 1.05])\n",
        "plt.xlabel('False Positive Rate')\n",
        "plt.ylabel('True Positive Rate')\n",
        "plt.title('ROC Graph')\n",
        "plt.legend(loc=\"lower right\")\n",
        "plt.show()"
      ],
      "outputs": [],
      "metadata": {
        "_cell_guid": "2ad3ed61-963c-430a-b150-aa0dacfa9f8f",
        "collapsed": true,
        "_uuid": "0eca62b259ac194a0aef17617a01ee929120bd8c"
      },
      "execution_count": null,
      "cell_type": "code"
    },
    {
      "source": [
        "# 5. Interpreting the Data\n",
        "***"
      ],
      "metadata": {
        "_cell_guid": "05b9bf5d-7f3a-4944-a38a-390eb9ba6454",
        "_uuid": "bd5f222c57120e2d10a2530d834fd227de4d24ca"
      },
      "cell_type": "markdown"
    },
    {
      "source": [
        "**Summary:** \n",
        "With all of this information, this is what Bob should know about his company and why his employees probably left:\n",
        " 1. Employees generally left when they are **underworked** (less than 150hr/month or 6hr/day)\n",
        " 2. Employees generally left when they are **overworked** (more than 250hr/month or 10hr/day)\n",
        " 3. Employees with either **really high or low evaluations** should be taken into consideration for high turnover rate\n",
        " 4. Employees with **low to medium salaries** are the bulk of employee turnover\n",
        " 5. Employees that had **2,6, or 7 project count** was at risk of leaving the company\n",
        " 6. Employee **satisfaction** is the highest indicator for employee turnover.\n",
        " 7. Employee that had **4 and 5 yearsAtCompany** should be taken into consideration for high turnover rate"
      ],
      "metadata": {
        "_cell_guid": "570aba22-a2f2-4e99-81a8-0513b6c1213d",
        "_uuid": "27a54db3e6b2c184769ede6a907b421703b8a0fd"
      },
      "cell_type": "markdown"
    },
    {
      "source": [
        "**\"You don't build a business. You build people, and people build the business.\" - Zig Ziglar**\n",
        "***\n",
        "<img src=\"http://www.goldbeck.com/hrblog/wp-content/uploads/2015/11/giphy-3.gif\"/>"
      ],
      "metadata": {
        "_cell_guid": "268545cc-eab3-4a7d-95ad-228d39d0a3dd",
        "_uuid": "b00bcd1f6771849605815724764feb5289938f53"
      },
      "cell_type": "markdown"
    },
    {
      "source": [
        "**Potential Solution** \n",
        "***\n",
        "Since satisfaction had the most effect in determining employee turnover, the underlying problem can be generalized down to a personal level. Or the problem is not with the employees, but persist in a deeper level of the company (their core values and purpose). \n",
        "\n",
        " \n",
        " **Solution 1:** \n",
        " - We can rank employees by their probability of leaving, then allocate a limited incentive budget to the highest probability instances.\n",
        " - OR, we can allocate our incentive budget to the instances with the highest expected loss, for which we'll need the probability of turnover.\n",
        "\n",
        "**Solution 2:** \n",
        "Develop learning programs for managers. Then use analytics to gauge their performance and measure progress. Some advice:\n",
        " - Be a good coach\n",
        " - Empower the team and do not micromanage\n",
        " - Express interest for team member success\n",
        " - Have clear vision / strategy for team\n",
        " - Help team with career development    "
      ],
      "metadata": {
        "_cell_guid": "3828b436-358c-40ed-97db-db5ddcdd867d",
        "_uuid": "65bb542ed029a214dc085a4e3450eb404badecb5"
      },
      "cell_type": "markdown"
    },
    {
      "source": [
        "**What Now?** \n",
        "***\n",
        "This problem is about people decision. When modeling the data, we should not be using this predictive metric as a solution decider. But, we can use this to arm people with much better relevant information for better decision making.\n",
        "\n",
        "We would have to conduct more experiments or collect more data about the employees in order to come up with a more accurate finding. I would recommend to gather more variables from the database that could have more impact on determining employee turnover and satisfaction such as their distance from home, gender, age, and etc.\n",
        "\n",
        "**Reverse Engineer the Problem**\n",
        "***\n",
        "After trying to understand what caused employees to leave in the first place, we can form another problem to solve by asking ourselves \n",
        "1. **\"What features caused employees stay?** \n",
        "2. **\"What features contributed to employee retention?**\n",
        "\n",
        "There are endless problems to solve!"
      ],
      "metadata": {
        "_cell_guid": "804d40b2-b611-489e-b7e4-631c6a6d21dc",
        "_uuid": "316792f4dbaed05d8534f28045fbc52fef5c83fa"
      },
      "cell_type": "markdown"
    },
    {
      "source": [
        "**What would you do?**\n",
        "***\n",
        "\n",
        "**Reddit Commentor (DSPublic):** I worked in HR for a couple of years and here's a few questions I have:\n",
        "People that have HIGH salary and not been promoted, did they leave? If so, could it be a signal that we're not developing people or providing enough opportunities?\n",
        "\n",
        "How would you define a 'high performer' without using their last evaluation rating? Evaluations tend to be inconsistently applied across departments and highly dependent on your relationship with the person doing that evaluation. Can we do an Evaluation Vs. Departments (see if there are actual differences)?\n",
        "Once defined, did these high performers leave? If so, why? Are we not providing opportunities or recognizing these high performers? Is it a lack of salary?\n",
        "\n",
        "To add some additional context, 24% turnover rate is high in general but do we know what industry this is from? If the industry norm is 50%, this company is doing great! I see you've done Turnover by dept which is great. If only we have more info and classify these turnovers.\n",
        "\n",
        "We have voluntary and involuntary turnovers as well. Also, who are these employees - is it part timers, contract workers that turn over? We don't worry about those, they're suppose to go. I'd like to see Turnover vs. Years of service. In real life, we found a cluster / turning point where people 'turn sour' after about 5 years at the company. Can we see satisfaction vs. years at company?"
      ],
      "metadata": {
        "_cell_guid": "71a7c327-afd0-4fe9-8cb0-f5bf8dda2494",
        "_uuid": "81a525f4eab49fb3b7ba16fcba5a83b8e3ae8f98"
      },
      "cell_type": "markdown"
    },
    {
      "source": [
        "# Edits:\n",
        "***\n",
        "\n",
        "**To Do's:** \n",
        "1. Define \"high performers\". It's ambiguous and is normally determined by relationships. Could be inconsistent. To verify, do a **Evaluation V.S. Department**.\n",
        "\n",
        "2. Create Expected Value Model. Cost and Benefits. Understand the cost of targeting and cost of employee leaving. "
      ],
      "metadata": {
        "_cell_guid": "16fc68e6-3e50-4040-aaa2-47dc7585a442",
        "_uuid": "8da30470d2d7e8ebaf60ab4db0faf9ac396e45dc"
      },
      "cell_type": "markdown"
    },
    {
      "source": [
        "**Edit 1**: Added Hypothesis testing for employee turnover satisfaction and entire employee satisfaction 8/29/2017"
      ],
      "metadata": {
        "_cell_guid": "af281591-e683-48d8-a8eb-842367669017",
        "_uuid": "3aeb3fa420e71ac4e12f27d9e8ab90624a52e08c"
      },
      "cell_type": "markdown"
    },
    {
      "source": [
        "**Edit 2**: Added Turnover VS Satisfaction graph 9/14/2017 "
      ],
      "metadata": {
        "_cell_guid": "6d165680-46f1-4972-a039-5198d4422b0b",
        "_uuid": "ce75eee3577bad8cb53085f0f6018ab2f7b4a867"
      },
      "cell_type": "markdown"
    },
    {
      "source": [
        "**Edit 3**: Added pd.get_dummies for 'salary' and 'department' features. This increased the AUC score by 2% (76%-78%) 9/23/2017"
      ],
      "metadata": {
        "_cell_guid": "1500f69b-00ea-4fe8-9038-0075b649063f",
        "_uuid": "19389508c9d62f390275e487612e259737a8a0a5"
      },
      "cell_type": "markdown"
    },
    {
      "source": [
        "**Edit 4:** Added Random Forest Model and updated the ROC Curve. Added Base Rate Model explanation. Added AdaBoost Model. Added Decision Tree Model  9/27/2017"
      ],
      "metadata": {
        "_cell_guid": "b3633232-3760-44e5-a08c-9f58f296a2ad",
        "_uuid": "99da8c7c95929197e7e5b41b35838979139b4e2b"
      },
      "cell_type": "markdown"
    },
    {
      "source": [
        "<img src=\"https://content.linkedin.com/content/dam/brand/site/img/logo/logo-tm.png\"/>"
      ],
      "metadata": {
        "_cell_guid": "2cb8366d-e3bd-4af5-851c-be27d116e3fd",
        "_uuid": "9a9d9cae996ba453b21f5159b001e3f443f4696b"
      },
      "cell_type": "markdown"
    },
    {
      "source": [
        "# Let's Connect!\n",
        "If anybody would like to discuss any other projects or just have a chat about data science topics, I'll be more than happy to connect with you on **LinkedIn:**\n",
        "https://www.linkedin.com/in/randylaosat/\n",
        "\n",
        "**This notebook will always be a work in progress. Please leave any comments about further improvements to the notebook! Any feedback or constructive criticism is greatly appreciated. Thank you guys!**"
      ],
      "metadata": {
        "_cell_guid": "1b5ebb39-b413-41f1-8073-ef8f70e57412",
        "_uuid": "ba49dab1b92be924b118fc47c610b7aac830897f"
      },
      "cell_type": "markdown"
    },
    {
      "source": [],
      "outputs": [],
      "metadata": {
        "_cell_guid": "3bae8cd1-9cc5-4e5d-b3bc-82086e4867d3",
        "collapsed": true,
        "_uuid": "19bd16ebb1fbc343596fa25f6bbd170064c3b855"
      },
      "execution_count": null,
      "cell_type": "code"
    }
  ],
  "nbformat_minor": 1,
  "metadata": {
    "kernelspec": {
      "display_name": "Python 3",
      "language": "python",
      "name": "python3"
    },
    "language_info": {
      "pygments_lexer": "ipython3",
      "codemirror_mode": {
        "version": 3,
        "name": "ipython"
      },
      "file_extension": ".py",
      "version": "3.6.1",
      "name": "python",
      "mimetype": "text/x-python",
      "nbconvert_exporter": "python"
    }
  }
}