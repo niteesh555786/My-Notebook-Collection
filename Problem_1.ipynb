{
  "nbformat": 4,
  "nbformat_minor": 0,
  "metadata": {
    "colab": {
      "name": "Problem 1.ipynb",
      "version": "0.3.2",
      "provenance": [],
      "collapsed_sections": [],
      "include_colab_link": true
    },
    "kernelspec": {
      "name": "python3",
      "display_name": "Python 3"
    },
    "accelerator": "GPU"
  },
  "cells": [
    {
      "cell_type": "markdown",
      "metadata": {
        "id": "view-in-github",
        "colab_type": "text"
      },
      "source": [
        "<a href=\"https://colab.research.google.com/github/niteesh555786/My-Notebook-Collection/blob/master/Problem_1.ipynb\" target=\"_parent\"><img src=\"https://colab.research.google.com/assets/colab-badge.svg\" alt=\"Open In Colab\"/></a>"
      ]
    },
    {
      "cell_type": "code",
      "metadata": {
        "id": "9hrLamVEAiLi",
        "colab_type": "code",
        "colab": {}
      },
      "source": [
        "import pandas as pd\n",
        "import numpy as np\n",
        "import seaborn as sns\n",
        "import matplotlib.pyplot as plt\n",
        "%matplotlib inline"
      ],
      "execution_count": 0,
      "outputs": []
    },
    {
      "cell_type": "code",
      "metadata": {
        "id": "qoMy91DrEXAv",
        "colab_type": "code",
        "colab": {}
      },
      "source": [
        "!wget -O train.csv \"https://www.dropbox.com/sh/ti9ta6mzdx56x1f/AAA-JbNaAHzMs_Xs3xwu7K53a/Training.csv?dl=0\""
      ],
      "execution_count": 0,
      "outputs": []
    },
    {
      "cell_type": "code",
      "metadata": {
        "id": "v_25CtmUG6cU",
        "colab_type": "code",
        "colab": {}
      },
      "source": [
        "!wget -O test.csv \"https://www.dropbox.com/sh/ti9ta6mzdx56x1f/AACZjJ4lHrh_RTDaCsQ5HeKia/Testing.csv?dl=0\""
      ],
      "execution_count": 0,
      "outputs": []
    },
    {
      "cell_type": "code",
      "metadata": {
        "id": "ssUYlorIDTtk",
        "colab_type": "code",
        "colab": {}
      },
      "source": [
        "!wget -O sample.csv \"https://www.dropbox.com/sh/ti9ta6mzdx56x1f/AACGdX2acMpsNpia_7FN_2c9a/Sample%20Submission.csv?dl=0\""
      ],
      "execution_count": 0,
      "outputs": []
    },
    {
      "cell_type": "code",
      "metadata": {
        "id": "lntE5RUtDihP",
        "colab_type": "code",
        "colab": {
          "base_uri": "https://localhost:8080/",
          "height": 35
        },
        "outputId": "555ec92c-28cc-49e6-a442-99832533c522"
      },
      "source": [
        "!ls"
      ],
      "execution_count": 5,
      "outputs": [
        {
          "output_type": "stream",
          "text": [
            "sample.csv  sample_data  test.csv  train.csv\n"
          ],
          "name": "stdout"
        }
      ]
    },
    {
      "cell_type": "markdown",
      "metadata": {
        "id": "YHYvLX4BDuI9",
        "colab_type": "text"
      },
      "source": [
        "#DataSet v1 Analysis"
      ]
    },
    {
      "cell_type": "code",
      "metadata": {
        "id": "RJJlLoxnDron",
        "colab_type": "code",
        "colab": {}
      },
      "source": [
        "df=pd.read_csv('train.csv')"
      ],
      "execution_count": 0,
      "outputs": []
    },
    {
      "cell_type": "code",
      "metadata": {
        "id": "MfwS_eiZD4NX",
        "colab_type": "code",
        "colab": {
          "base_uri": "https://localhost:8080/",
          "height": 202
        },
        "outputId": "2c97effa-3ca6-42b2-fc5b-f6631782d6bd"
      },
      "source": [
        "df.head()"
      ],
      "execution_count": 13,
      "outputs": [
        {
          "output_type": "execute_result",
          "data": {
            "text/html": [
              "<div>\n",
              "<style scoped>\n",
              "    .dataframe tbody tr th:only-of-type {\n",
              "        vertical-align: middle;\n",
              "    }\n",
              "\n",
              "    .dataframe tbody tr th {\n",
              "        vertical-align: top;\n",
              "    }\n",
              "\n",
              "    .dataframe thead th {\n",
              "        text-align: right;\n",
              "    }\n",
              "</style>\n",
              "<table border=\"1\" class=\"dataframe\">\n",
              "  <thead>\n",
              "    <tr style=\"text-align: right;\">\n",
              "      <th></th>\n",
              "      <th>Cycle</th>\n",
              "      <th>Type</th>\n",
              "      <th>EndTime</th>\n",
              "      <th>Time</th>\n",
              "      <th>Values</th>\n",
              "    </tr>\n",
              "  </thead>\n",
              "  <tbody>\n",
              "    <tr>\n",
              "      <th>0</th>\n",
              "      <td>2</td>\n",
              "      <td>2</td>\n",
              "      <td>3490.0</td>\n",
              "      <td>101.0</td>\n",
              "      <td>20.402</td>\n",
              "    </tr>\n",
              "    <tr>\n",
              "      <th>1</th>\n",
              "      <td>2</td>\n",
              "      <td>2</td>\n",
              "      <td>3490.0</td>\n",
              "      <td>102.0</td>\n",
              "      <td>20.402</td>\n",
              "    </tr>\n",
              "    <tr>\n",
              "      <th>2</th>\n",
              "      <td>2</td>\n",
              "      <td>2</td>\n",
              "      <td>3490.0</td>\n",
              "      <td>103.0</td>\n",
              "      <td>20.402</td>\n",
              "    </tr>\n",
              "    <tr>\n",
              "      <th>3</th>\n",
              "      <td>2</td>\n",
              "      <td>2</td>\n",
              "      <td>3490.0</td>\n",
              "      <td>104.0</td>\n",
              "      <td>20.402</td>\n",
              "    </tr>\n",
              "    <tr>\n",
              "      <th>4</th>\n",
              "      <td>2</td>\n",
              "      <td>2</td>\n",
              "      <td>3490.0</td>\n",
              "      <td>105.0</td>\n",
              "      <td>20.402</td>\n",
              "    </tr>\n",
              "  </tbody>\n",
              "</table>\n",
              "</div>"
            ],
            "text/plain": [
              "   Cycle  Type  EndTime   Time  Values\n",
              "0      2     2   3490.0  101.0  20.402\n",
              "1      2     2   3490.0  102.0  20.402\n",
              "2      2     2   3490.0  103.0  20.402\n",
              "3      2     2   3490.0  104.0  20.402\n",
              "4      2     2   3490.0  105.0  20.402"
            ]
          },
          "metadata": {
            "tags": []
          },
          "execution_count": 13
        }
      ]
    },
    {
      "cell_type": "code",
      "metadata": {
        "id": "PZdrkAqAEfRu",
        "colab_type": "code",
        "colab": {
          "base_uri": "https://localhost:8080/",
          "height": 301
        },
        "outputId": "a557de44-8896-4946-a30c-3d8965f71137"
      },
      "source": [
        "sns.boxplot(\"Values\", data=df[df['Cycle']==2])\n",
        "sns.swarmplot(\"Values\", data=df[df['Cycle']==2], color=\".25\")"
      ],
      "execution_count": 48,
      "outputs": [
        {
          "output_type": "execute_result",
          "data": {
            "text/plain": [
              "<matplotlib.axes._subplots.AxesSubplot at 0x7fed9a141c88>"
            ]
          },
          "metadata": {
            "tags": []
          },
          "execution_count": 48
        },
        {
          "output_type": "display_data",
          "data": {
            "image/png": "[encoded data removed]",
            "text/plain": [
              "<Figure size 432x288 with 1 Axes>"
            ]
          },
          "metadata": {
            "tags": []
          }
        }
      ]
    },
    {
      "cell_type": "markdown",
      "metadata": {
        "id": "FrQh2czrZN87",
        "colab_type": "text"
      },
      "source": [
        "(**To-Do**)\n",
        "*We can clip off the training data set till 1800. as req in test data*"
      ]
    },
    {
      "cell_type": "code",
      "metadata": {
        "id": "Au86zMLVEkAm",
        "colab_type": "code",
        "colab": {}
      },
      "source": [
        "def makeFeatureDataset(df):\n",
        "  cycle_set=df['Cycle'].unique()\n",
        "  \n",
        "  data=[]\n",
        "  for i in range(len(cycle_set)):\n",
        "    val=[]\n",
        "    df_temp=df[df['Cycle']==cycle_set[i]]\n",
        "    #val.append(cycle_set[i])\n",
        "    val.append(float('%.3f'%(df_temp['Values'].mean())))\n",
        "    val.append(float('%.3f'%(df_temp['Values'].var())))\n",
        "    val.append(float('%.3f'%(df_temp['Values'].std())))\n",
        "    val.append(float('%.3f'%(df_temp['Values'].quantile(0.25))))\n",
        "    val.append(float('%.3f'%(df_temp['Values'].quantile(0.75))))\n",
        "    val.append(df_temp.iloc[0]['EndTime'])\n",
        "\n",
        "    data.append(val)\n",
        "    \n",
        "  col=['Mean', 'Variance', 'Std-Dev', '25-Quartile', '75-Quartile', 'EndTime']\n",
        "  df_feature = pd.DataFrame(data, columns = col)\n",
        "    \n",
        "  return df_feature"
      ],
      "execution_count": 0,
      "outputs": []
    },
    {
      "cell_type": "code",
      "metadata": {
        "id": "CLWlQDM5HpBu",
        "colab_type": "code",
        "colab": {}
      },
      "source": [
        "df_feature= makeFeatureDataset(df)"
      ],
      "execution_count": 0,
      "outputs": []
    },
    {
      "cell_type": "code",
      "metadata": {
        "id": "fYxEnOBZIdao",
        "colab_type": "code",
        "colab": {
          "base_uri": "https://localhost:8080/",
          "height": 202
        },
        "outputId": "bf524010-b423-4908-b1f0-a54f54acf7ea"
      },
      "source": [
        "df_feature.head()"
      ],
      "execution_count": 51,
      "outputs": [
        {
          "output_type": "execute_result",
          "data": {
            "text/html": [
              "<div>\n",
              "<style scoped>\n",
              "    .dataframe tbody tr th:only-of-type {\n",
              "        vertical-align: middle;\n",
              "    }\n",
              "\n",
              "    .dataframe tbody tr th {\n",
              "        vertical-align: top;\n",
              "    }\n",
              "\n",
              "    .dataframe thead th {\n",
              "        text-align: right;\n",
              "    }\n",
              "</style>\n",
              "<table border=\"1\" class=\"dataframe\">\n",
              "  <thead>\n",
              "    <tr style=\"text-align: right;\">\n",
              "      <th></th>\n",
              "      <th>Mean</th>\n",
              "      <th>Variance</th>\n",
              "      <th>Std-Dev</th>\n",
              "      <th>25-Quartile</th>\n",
              "      <th>75-Quartile</th>\n",
              "      <th>EndTime</th>\n",
              "    </tr>\n",
              "  </thead>\n",
              "  <tbody>\n",
              "    <tr>\n",
              "      <th>0</th>\n",
              "      <td>16.970</td>\n",
              "      <td>2.257</td>\n",
              "      <td>1.502</td>\n",
              "      <td>15.677</td>\n",
              "      <td>17.795</td>\n",
              "      <td>3490.0</td>\n",
              "    </tr>\n",
              "    <tr>\n",
              "      <th>1</th>\n",
              "      <td>18.490</td>\n",
              "      <td>1.851</td>\n",
              "      <td>1.360</td>\n",
              "      <td>17.133</td>\n",
              "      <td>19.910</td>\n",
              "      <td>2556.0</td>\n",
              "    </tr>\n",
              "    <tr>\n",
              "      <th>2</th>\n",
              "      <td>15.356</td>\n",
              "      <td>8.570</td>\n",
              "      <td>2.928</td>\n",
              "      <td>12.124</td>\n",
              "      <td>18.067</td>\n",
              "      <td>3909.0</td>\n",
              "    </tr>\n",
              "    <tr>\n",
              "      <th>3</th>\n",
              "      <td>18.716</td>\n",
              "      <td>2.402</td>\n",
              "      <td>1.550</td>\n",
              "      <td>16.947</td>\n",
              "      <td>20.182</td>\n",
              "      <td>2113.0</td>\n",
              "    </tr>\n",
              "    <tr>\n",
              "      <th>4</th>\n",
              "      <td>16.926</td>\n",
              "      <td>5.426</td>\n",
              "      <td>2.329</td>\n",
              "      <td>14.253</td>\n",
              "      <td>19.002</td>\n",
              "      <td>2978.0</td>\n",
              "    </tr>\n",
              "  </tbody>\n",
              "</table>\n",
              "</div>"
            ],
            "text/plain": [
              "     Mean  Variance  Std-Dev  25-Quartile  75-Quartile  EndTime\n",
              "0  16.970     2.257    1.502       15.677       17.795   3490.0\n",
              "1  18.490     1.851    1.360       17.133       19.910   2556.0\n",
              "2  15.356     8.570    2.928       12.124       18.067   3909.0\n",
              "3  18.716     2.402    1.550       16.947       20.182   2113.0\n",
              "4  16.926     5.426    2.329       14.253       19.002   2978.0"
            ]
          },
          "metadata": {
            "tags": []
          },
          "execution_count": 51
        }
      ]
    },
    {
      "cell_type": "code",
      "metadata": {
        "id": "vCdb0fzeIfcM",
        "colab_type": "code",
        "colab": {
          "base_uri": "https://localhost:8080/",
          "height": 35
        },
        "outputId": "7faf9166-d30e-4bd6-c964-0017ce1b35a2"
      },
      "source": [
        "len(df_feature)"
      ],
      "execution_count": 45,
      "outputs": [
        {
          "output_type": "execute_result",
          "data": {
            "text/plain": [
              "40"
            ]
          },
          "metadata": {
            "tags": []
          },
          "execution_count": 45
        }
      ]
    },
    {
      "cell_type": "markdown",
      "metadata": {
        "id": "Clot1nBIOsTf",
        "colab_type": "text"
      },
      "source": [
        "#Analysis of Each Feature with #EndTime"
      ]
    },
    {
      "cell_type": "markdown",
      "metadata": {
        "id": "_QILfTlNPok-",
        "colab_type": "text"
      },
      "source": [
        "## 1.Finding PairWise RelationShip"
      ]
    },
    {
      "cell_type": "code",
      "metadata": {
        "id": "0o8tNT5wPtPO",
        "colab_type": "code",
        "colab": {
          "base_uri": "https://localhost:8080/",
          "height": 1089
        },
        "outputId": "4ea55c87-1b00-438a-d01d-c2f87407a9e8"
      },
      "source": [
        "sns.pairplot(df_feature);"
      ],
      "execution_count": 53,
      "outputs": [
        {
          "output_type": "display_data",
          "data": {
            "image/png": "[encoded data removed]",
            "text/plain": [
              "<Figure size 1080x1080 with 42 Axes>"
            ]
          },
          "metadata": {
            "tags": []
          }
        }
      ]
    },
    {
      "cell_type": "markdown",
      "metadata": {
        "id": "TNZWpC3GQpiI",
        "colab_type": "text"
      },
      "source": [
        "## 2. Generating a Correlation Matrix between features"
      ]
    },
    {
      "cell_type": "code",
      "metadata": {
        "id": "S5JsP7OKPWf1",
        "colab_type": "code",
        "colab": {
          "base_uri": "https://localhost:8080/",
          "height": 559
        },
        "outputId": "63317c19-fbc2-457d-ab42-28b9be2c7e5c"
      },
      "source": [
        "# Compute the correlation matrix\n",
        "corr = df_feature.corr()\n",
        "\n",
        "# Generate a mask for the upper triangle\n",
        "mask = np.zeros_like(corr, dtype=np.bool)\n",
        "mask[np.triu_indices_from(mask)] = True\n",
        "\n",
        "# Set up the matplotlib figure\n",
        "f, ax = plt.subplots(figsize=(11, 9))\n",
        "\n",
        "# Generate a custom diverging colormap\n",
        "cmap = sns.diverging_palette(220, 10, as_cmap=True)\n",
        "\n",
        "# Draw the heatmap with the mask and correct aspect ratio\n",
        "sns.heatmap(corr, mask=mask, cmap=cmap, vmax=.3, center=0,\n",
        "            square=True, linewidths=.5, cbar_kws={\"shrink\": .5})"
      ],
      "execution_count": 9,
      "outputs": [
        {
          "output_type": "execute_result",
          "data": {
            "text/plain": [
              "<matplotlib.axes._subplots.AxesSubplot at 0x7f21723028d0>"
            ]
          },
          "metadata": {
            "tags": []
          },
          "execution_count": 9
        },
        {
          "output_type": "display_data",
          "data": {
            "image/png": "[encoded data removed]",
            "text/plain": [
              "<Figure size 792x648 with 2 Axes>"
            ]
          },
          "metadata": {
            "tags": []
          }
        }
      ]
    },
    {
      "cell_type": "code",
      "metadata": {
        "id": "uNvfBCDKRFKf",
        "colab_type": "code",
        "colab": {
          "base_uri": "https://localhost:8080/",
          "height": 333
        },
        "outputId": "5ad6ce2c-5aac-4f3c-a796-7522ef74df6d"
      },
      "source": [
        "#Using Pearson Correlation\n",
        "sns.heatmap(corr, annot=True, cmap=plt.cm.Reds)"
      ],
      "execution_count": 10,
      "outputs": [
        {
          "output_type": "execute_result",
          "data": {
            "text/plain": [
              "<matplotlib.axes._subplots.AxesSubplot at 0x7f2172304be0>"
            ]
          },
          "metadata": {
            "tags": []
          },
          "execution_count": 10
        },
        {
          "output_type": "display_data",
          "data": {
            "image/png": "[encoded data removed]",
            "text/plain": [
              "<Figure size 432x288 with 2 Axes>"
            ]
          },
          "metadata": {
            "tags": []
          }
        }
      ]
    },
    {
      "cell_type": "markdown",
      "metadata": {
        "id": "XXkrZwnJS1Ro",
        "colab_type": "text"
      },
      "source": [
        "# Feature Selection"
      ]
    },
    {
      "cell_type": "markdown",
      "metadata": {
        "id": "MT2M3oGiS5cE",
        "colab_type": "text"
      },
      "source": [
        "## 1. Filter Method"
      ]
    },
    {
      "cell_type": "markdown",
      "metadata": {
        "id": "zM7aSFBBdcQk",
        "colab_type": "text"
      },
      "source": [
        "We feed all the possible features to the model at first. We check the performance of the model and then iteratively remove the worst performing features one by one till the overall performance of the model comes in acceptable range.\n",
        "\n",
        "The performance metric used here to evaluate feature performance is pvalue. If the pvalue is above 0.05 then we remove the feature, else we keep it.\n",
        "\n",
        "We will first run one iteration here just to get an idea of the concept and then we will run the same code in a loop, which will give the final set of features. Here we are using OLS model which stands for “Ordinary Least Squares”. This model is used for performing linear regression."
      ]
    },
    {
      "cell_type": "code",
      "metadata": {
        "id": "7TqHa-RPRjTx",
        "colab_type": "code",
        "colab": {
          "base_uri": "https://localhost:8080/",
          "height": 104
        },
        "outputId": "89610627-1553-4dff-e66f-a443935a1f54"
      },
      "source": [
        "#Correlation with output variable\n",
        "cor_target = abs(corr[\"EndTime\"])\n",
        "#Selecting highly correlated features\n",
        "relevant_features = cor_target[cor_target>0.4]\n",
        "relevant_features"
      ],
      "execution_count": 11,
      "outputs": [
        {
          "output_type": "execute_result",
          "data": {
            "text/plain": [
              "Mean           0.486528\n",
              "25-Quartile    0.445167\n",
              "75-Quartile    0.559713\n",
              "EndTime        1.000000\n",
              "Name: EndTime, dtype: float64"
            ]
          },
          "metadata": {
            "tags": []
          },
          "execution_count": 11
        }
      ]
    },
    {
      "cell_type": "code",
      "metadata": {
        "id": "xJDu2yD9THgR",
        "colab_type": "code",
        "colab": {
          "base_uri": "https://localhost:8080/",
          "height": 121
        },
        "outputId": "330cb8c4-6515-4dca-92fc-c6611d4362b6"
      },
      "source": [
        "#Checking Internal Feature Correlation\n",
        "print(df_feature[[\"25-Quartile\",\"75-Quartile\"]].corr())\n",
        "print(df_feature[[\"25-Quartile\",\"Mean\"]].corr())"
      ],
      "execution_count": 12,
      "outputs": [
        {
          "output_type": "stream",
          "text": [
            "             25-Quartile  75-Quartile\n",
            "25-Quartile     1.000000     0.877172\n",
            "75-Quartile     0.877172     1.000000\n",
            "             25-Quartile      Mean\n",
            "25-Quartile     1.000000  0.985775\n",
            "Mean            0.985775  1.000000\n"
          ],
          "name": "stdout"
        }
      ]
    },
    {
      "cell_type": "markdown",
      "metadata": {
        "id": "R9FcnFrUUAbA",
        "colab_type": "text"
      },
      "source": [
        "1. *25- Quartile and Mean are strictly related. Need to drop one before predicting.*\n",
        "2. *We can combine 25Quartile and 75Quartile into one feature i.e. (75Q-25Q) that will be interQuartile Range.*"
      ]
    },
    {
      "cell_type": "markdown",
      "metadata": {
        "id": "zFq3GDW6U3WQ",
        "colab_type": "text"
      },
      "source": [
        "## 2. Wrapper Method"
      ]
    },
    {
      "cell_type": "markdown",
      "metadata": {
        "id": "JHq9GZImdp9i",
        "colab_type": "text"
      },
      "source": [
        "A wrapper method needs one machine learning algorithm and uses its performance as evaluation criteria. This means, you feed the features to the selected Machine Learning algorithm and based on the model performance you add/remove the features. This is an iterative and computationally expensive process but it is more accurate than the filter method.\n",
        "\n",
        "There are different wrapper methods such as Backward Elimination, Forward Selection, Bidirectional Elimination and RFE. We will discuss Backward Elimination and RFE here."
      ]
    },
    {
      "cell_type": "markdown",
      "metadata": {
        "id": "Rr6gjwHQVB-A",
        "colab_type": "text"
      },
      "source": [
        "### i. Backward Elimination"
      ]
    },
    {
      "cell_type": "markdown",
      "metadata": {
        "id": "8HtTS5VJdvPm",
        "colab_type": "text"
      },
      "source": [
        "We check the performance of the model and then iteratively remove the worst performing features one by one till the overall performance of the model comes in acceptable range.\n",
        "\n",
        "The performance metric used here to evaluate feature performance is pvalue. If the pvalue is above 0.05 then we remove the feature, else we keep it.\n",
        "\n",
        "We will first run one iteration here just to get an idea of the concept and then we will run the same code in a loop, which will give the final set of features. Here we are using OLS model which stands for “Ordinary Least Squares”. This model is used for performing linear regression."
      ]
    },
    {
      "cell_type": "code",
      "metadata": {
        "id": "8NipM52jVpDI",
        "colab_type": "code",
        "colab": {}
      },
      "source": [
        "X=df_feature[['Mean','Variance','Std-Dev','25-Quartile','75-Quartile']]\n",
        "Y=df_feature[['EndTime']]"
      ],
      "execution_count": 0,
      "outputs": []
    },
    {
      "cell_type": "code",
      "metadata": {
        "id": "7493yN1aW__s",
        "colab_type": "code",
        "colab": {}
      },
      "source": [
        "#install if sm throws error\n",
        "#!pip install statsmodels==0.10.0rc2 --pre"
      ],
      "execution_count": 0,
      "outputs": []
    },
    {
      "cell_type": "code",
      "metadata": {
        "id": "cY_q04YjTl30",
        "colab_type": "code",
        "colab": {
          "base_uri": "https://localhost:8080/",
          "height": 193
        },
        "outputId": "b7b1f5d6-eb68-42a3-910f-76193fc23c18"
      },
      "source": [
        "import statsmodels.api as sm\n",
        "\n",
        "#Adding constant column of ones, mandatory for sm.OLS model\n",
        "X_1 = sm.add_constant(X)\n",
        "#Fitting sm.OLS model\n",
        "model = sm.OLS(Y,X_1).fit()\n",
        "model.pvalues"
      ],
      "execution_count": 14,
      "outputs": [
        {
          "output_type": "stream",
          "text": [
            "/usr/local/lib/python3.6/dist-packages/numpy/core/fromnumeric.py:2389: FutureWarning: Method .ptp is deprecated and will be removed in a future version. Use numpy.ptp instead.\n",
            "  return ptp(axis=axis, out=out, **kwargs)\n"
          ],
          "name": "stderr"
        },
        {
          "output_type": "execute_result",
          "data": {
            "text/plain": [
              "const          0.334244\n",
              "Mean           0.931385\n",
              "Variance       0.272889\n",
              "Std-Dev        0.003623\n",
              "25-Quartile    0.055598\n",
              "75-Quartile    0.005137\n",
              "dtype: float64"
            ]
          },
          "metadata": {
            "tags": []
          },
          "execution_count": 14
        }
      ]
    },
    {
      "cell_type": "code",
      "metadata": {
        "id": "qwAVwEgUWn8k",
        "colab_type": "code",
        "colab": {
          "base_uri": "https://localhost:8080/",
          "height": 89
        },
        "outputId": "994ba443-1b97-4357-c23c-2ed664212290"
      },
      "source": [
        "#Backward Elimination\n",
        "cols = list(X.columns)\n",
        "pmax = 1\n",
        "while (len(cols)>0):\n",
        "    p= []\n",
        "    X_1 = X[cols]\n",
        "    X_1 = sm.add_constant(X_1)\n",
        "    model = sm.OLS(Y,X_1).fit()\n",
        "    p = pd.Series(model.pvalues.values[1:],index = cols)      \n",
        "    pmax = max(p)\n",
        "    feature_with_p_max = p.idxmax()\n",
        "    if(pmax>0.05):\n",
        "        cols.remove(feature_with_p_max)\n",
        "    else:\n",
        "        break\n",
        "selected_features_BE = cols\n",
        "print(selected_features_BE)"
      ],
      "execution_count": 16,
      "outputs": [
        {
          "output_type": "stream",
          "text": [
            "['Std-Dev', '25-Quartile', '75-Quartile']\n"
          ],
          "name": "stdout"
        },
        {
          "output_type": "stream",
          "text": [
            "/usr/local/lib/python3.6/dist-packages/numpy/core/fromnumeric.py:2389: FutureWarning: Method .ptp is deprecated and will be removed in a future version. Use numpy.ptp instead.\n",
            "  return ptp(axis=axis, out=out, **kwargs)\n"
          ],
          "name": "stderr"
        }
      ]
    },
    {
      "cell_type": "markdown",
      "metadata": {
        "id": "6n43aWwqY1jK",
        "colab_type": "text"
      },
      "source": [
        "###ii. Recursive Feature Elimination"
      ]
    },
    {
      "cell_type": "markdown",
      "metadata": {
        "id": "1g0lD5dYd0CS",
        "colab_type": "text"
      },
      "source": [
        "The Recursive Feature Elimination (RFE) method works by recursively removing attributes and building a model on those attributes that remain. It uses accuracy metric to rank the feature according to their importance. The RFE method takes the model to be used and the number of required features as input. It then gives the ranking of all the variables, 1 being most important. It also gives its support, True being relevant feature and False being irrelevant feature."
      ]
    },
    {
      "cell_type": "code",
      "metadata": {
        "id": "22oeRMZiYlaV",
        "colab_type": "code",
        "colab": {
          "base_uri": "https://localhost:8080/",
          "height": 124
        },
        "outputId": "8213f4c8-8368-46fd-9063-134622ad151d"
      },
      "source": [
        "from sklearn.linear_model import LinearRegression\n",
        "from sklearn.feature_selection import RFE\n",
        "\n",
        "model = LinearRegression()\n",
        "#Initializing RFE model\n",
        "rfe = RFE(model, 3)\n",
        "#Transforming data using RFE\n",
        "X_rfe = rfe.fit_transform(X,Y)  \n",
        "#Fitting the data to model\n",
        "model.fit(X_rfe,Y)\n",
        "print(rfe.support_)\n",
        "print(rfe.ranking_)\n",
        "print(X.columns)"
      ],
      "execution_count": 26,
      "outputs": [
        {
          "output_type": "stream",
          "text": [
            "[False False  True  True  True]\n",
            "[3 2 1 1 1]\n",
            "Index(['Mean', 'Variance', 'Std-Dev', '25-Quartile', '75-Quartile'], dtype='object')\n"
          ],
          "name": "stdout"
        },
        {
          "output_type": "stream",
          "text": [
            "/usr/local/lib/python3.6/dist-packages/sklearn/utils/validation.py:724: DataConversionWarning: A column-vector y was passed when a 1d array was expected. Please change the shape of y to (n_samples, ), for example using ravel().\n",
            "  y = column_or_1d(y, warn=True)\n"
          ],
          "name": "stderr"
        }
      ]
    },
    {
      "cell_type": "code",
      "metadata": {
        "id": "k6GuZzXWZ21B",
        "colab_type": "code",
        "colab": {
          "base_uri": "https://localhost:8080/",
          "height": 211
        },
        "outputId": "3d182a77-8f0a-407d-ba5e-ef21f266448a"
      },
      "source": [
        "from sklearn.model_selection import train_test_split\n",
        "\n",
        "#no of features\n",
        "nof_list=np.arange(1,5)            \n",
        "high_score=0\n",
        "#Variable to store the optimum features\n",
        "nof=0           \n",
        "score_list =[]\n",
        "for n in range(len(nof_list)):\n",
        "    X_train, X_test, y_train, y_test = train_test_split(X,Y, test_size = 0.2, random_state = 0)\n",
        "    model = LinearRegression()\n",
        "    rfe = RFE(model,nof_list[n])\n",
        "    X_train_rfe = rfe.fit_transform(X_train,y_train)\n",
        "    X_test_rfe = rfe.transform(X_test)\n",
        "    model.fit(X_train_rfe,y_train)\n",
        "    score = model.score(X_test_rfe,y_test)\n",
        "    score_list.append(score)\n",
        "    if(score>high_score):\n",
        "        high_score = score\n",
        "        nof = nof_list[n]\n",
        "print(\"Optimum number of features: %d\" %nof)\n",
        "print(\"Score with %d features: %f\" % (nof, high_score))"
      ],
      "execution_count": 37,
      "outputs": [
        {
          "output_type": "stream",
          "text": [
            "Optimum number of features: 3\n",
            "Score with 3 features: 0.740102\n"
          ],
          "name": "stdout"
        },
        {
          "output_type": "stream",
          "text": [
            "/usr/local/lib/python3.6/dist-packages/sklearn/utils/validation.py:724: DataConversionWarning: A column-vector y was passed when a 1d array was expected. Please change the shape of y to (n_samples, ), for example using ravel().\n",
            "  y = column_or_1d(y, warn=True)\n",
            "/usr/local/lib/python3.6/dist-packages/sklearn/utils/validation.py:724: DataConversionWarning: A column-vector y was passed when a 1d array was expected. Please change the shape of y to (n_samples, ), for example using ravel().\n",
            "  y = column_or_1d(y, warn=True)\n",
            "/usr/local/lib/python3.6/dist-packages/sklearn/utils/validation.py:724: DataConversionWarning: A column-vector y was passed when a 1d array was expected. Please change the shape of y to (n_samples, ), for example using ravel().\n",
            "  y = column_or_1d(y, warn=True)\n",
            "/usr/local/lib/python3.6/dist-packages/sklearn/utils/validation.py:724: DataConversionWarning: A column-vector y was passed when a 1d array was expected. Please change the shape of y to (n_samples, ), for example using ravel().\n",
            "  y = column_or_1d(y, warn=True)\n"
          ],
          "name": "stderr"
        }
      ]
    },
    {
      "cell_type": "code",
      "metadata": {
        "id": "D1G-AuSca_BI",
        "colab_type": "code",
        "colab": {
          "base_uri": "https://localhost:8080/",
          "height": 89
        },
        "outputId": "06ab5b0c-1ae8-4634-9c62-07e797b792bc"
      },
      "source": [
        "cols = list(X.columns)\n",
        "model = LinearRegression()\n",
        "#Initializing RFE model\n",
        "rfe = RFE(model, 3)             \n",
        "#Transforming data using RFE\n",
        "X_rfe = rfe.fit_transform(X,Y)  \n",
        "#Fitting the data to model\n",
        "model.fit(X_rfe,Y)              \n",
        "temp = pd.Series(rfe.support_,index = cols)\n",
        "selected_features_rfe = temp[temp==True].index\n",
        "print(selected_features_rfe)\n"
      ],
      "execution_count": 38,
      "outputs": [
        {
          "output_type": "stream",
          "text": [
            "Index(['Std-Dev', '25-Quartile', '75-Quartile'], dtype='object')\n"
          ],
          "name": "stdout"
        },
        {
          "output_type": "stream",
          "text": [
            "/usr/local/lib/python3.6/dist-packages/sklearn/utils/validation.py:724: DataConversionWarning: A column-vector y was passed when a 1d array was expected. Please change the shape of y to (n_samples, ), for example using ravel().\n",
            "  y = column_or_1d(y, warn=True)\n"
          ],
          "name": "stderr"
        }
      ]
    },
    {
      "cell_type": "markdown",
      "metadata": {
        "id": "uJxxoOmRdNwj",
        "colab_type": "text"
      },
      "source": [
        "### iii. Embedded Method"
      ]
    },
    {
      "cell_type": "markdown",
      "metadata": {
        "id": "CkblC0MFd4Ab",
        "colab_type": "text"
      },
      "source": [
        "Embedded methods are iterative in a sense that takes care of each iteration of the model training process and carefully extract those features which contribute the most to the training for a particular iteration. Regularization methods are the most commonly used embedded methods which penalize a feature given a coefficient threshold.\n",
        "Here we will do feature selection using Lasso regularization. If the feature is irrelevant, lasso penalizes it’s coefficient and make it 0. Hence the features with coefficient = 0 are removed and the rest are taken."
      ]
    },
    {
      "cell_type": "code",
      "metadata": {
        "id": "NFMNspuDdLwx",
        "colab_type": "code",
        "colab": {}
      },
      "source": [
        "from sklearn.linear_model import RidgeCV, LassoCV, Ridge, Lasso\n",
        "\n",
        "reg = LassoCV()\n",
        "reg.fit(X, Y)\n",
        "print(\"Best alpha using built-in LassoCV: %f\" % reg.alpha_)\n",
        "print(\"Best score using built-in LassoCV: %f\" %reg.score(X,Y))\n",
        "coef = pd.Series(reg.coef_, index = X.columns)\n",
        "\n",
        "print(\"Lasso picked \" + str(sum(coef != 0)) + \" variables and eliminated the other \" +  str(sum(coef == 0)) + \" variables\")"
      ],
      "execution_count": 0,
      "outputs": []
    },
    {
      "cell_type": "code",
      "metadata": {
        "id": "gt-7x2mheBlZ",
        "colab_type": "code",
        "colab": {
          "base_uri": "https://localhost:8080/",
          "height": 625
        },
        "outputId": "5b8800ea-60d4-4789-b622-5ce4d78d34e7"
      },
      "source": [
        "imp_coef = coef.sort_values()\n",
        "import matplotlib\n",
        "matplotlib.rcParams['figure.figsize'] = (8.0, 10.0)\n",
        "imp_coef.plot(kind = \"barh\")\n",
        "plt.title(\"Feature importance using Lasso Model\")"
      ],
      "execution_count": 44,
      "outputs": [
        {
          "output_type": "execute_result",
          "data": {
            "text/plain": [
              "Text(0.5, 1.0, 'Feature importance using Lasso Model')"
            ]
          },
          "metadata": {
            "tags": []
          },
          "execution_count": 44
        },
        {
          "output_type": "display_data",
          "data": {
            "image/png": "[encoded data removed]",
            "text/plain": [
              "<Figure size 576x720 with 1 Axes>"
            ]
          },
          "metadata": {
            "tags": []
          }
        }
      ]
    },
    {
      "cell_type": "markdown",
      "metadata": {
        "id": "nu_3XoJHf3s_",
        "colab_type": "text"
      },
      "source": [
        "# Modeling"
      ]
    },
    {
      "cell_type": "code",
      "metadata": {
        "id": "aV72vxvdekUi",
        "colab_type": "code",
        "colab": {
          "base_uri": "https://localhost:8080/",
          "height": 202
        },
        "outputId": "52fff479-c235-48fc-8b07-0f858b3c1ab6"
      },
      "source": [
        "df_feature.head()"
      ],
      "execution_count": 45,
      "outputs": [
        {
          "output_type": "execute_result",
          "data": {
            "text/html": [
              "<div>\n",
              "<style scoped>\n",
              "    .dataframe tbody tr th:only-of-type {\n",
              "        vertical-align: middle;\n",
              "    }\n",
              "\n",
              "    .dataframe tbody tr th {\n",
              "        vertical-align: top;\n",
              "    }\n",
              "\n",
              "    .dataframe thead th {\n",
              "        text-align: right;\n",
              "    }\n",
              "</style>\n",
              "<table border=\"1\" class=\"dataframe\">\n",
              "  <thead>\n",
              "    <tr style=\"text-align: right;\">\n",
              "      <th></th>\n",
              "      <th>Mean</th>\n",
              "      <th>Variance</th>\n",
              "      <th>Std-Dev</th>\n",
              "      <th>25-Quartile</th>\n",
              "      <th>75-Quartile</th>\n",
              "      <th>EndTime</th>\n",
              "    </tr>\n",
              "  </thead>\n",
              "  <tbody>\n",
              "    <tr>\n",
              "      <th>0</th>\n",
              "      <td>16.970</td>\n",
              "      <td>2.257</td>\n",
              "      <td>1.502</td>\n",
              "      <td>15.677</td>\n",
              "      <td>17.795</td>\n",
              "      <td>3490.0</td>\n",
              "    </tr>\n",
              "    <tr>\n",
              "      <th>1</th>\n",
              "      <td>18.490</td>\n",
              "      <td>1.851</td>\n",
              "      <td>1.360</td>\n",
              "      <td>17.133</td>\n",
              "      <td>19.910</td>\n",
              "      <td>2556.0</td>\n",
              "    </tr>\n",
              "    <tr>\n",
              "      <th>2</th>\n",
              "      <td>15.356</td>\n",
              "      <td>8.570</td>\n",
              "      <td>2.928</td>\n",
              "      <td>12.124</td>\n",
              "      <td>18.067</td>\n",
              "      <td>3909.0</td>\n",
              "    </tr>\n",
              "    <tr>\n",
              "      <th>3</th>\n",
              "      <td>18.716</td>\n",
              "      <td>2.402</td>\n",
              "      <td>1.550</td>\n",
              "      <td>16.947</td>\n",
              "      <td>20.182</td>\n",
              "      <td>2113.0</td>\n",
              "    </tr>\n",
              "    <tr>\n",
              "      <th>4</th>\n",
              "      <td>16.926</td>\n",
              "      <td>5.426</td>\n",
              "      <td>2.329</td>\n",
              "      <td>14.253</td>\n",
              "      <td>19.002</td>\n",
              "      <td>2978.0</td>\n",
              "    </tr>\n",
              "  </tbody>\n",
              "</table>\n",
              "</div>"
            ],
            "text/plain": [
              "     Mean  Variance  Std-Dev  25-Quartile  75-Quartile  EndTime\n",
              "0  16.970     2.257    1.502       15.677       17.795   3490.0\n",
              "1  18.490     1.851    1.360       17.133       19.910   2556.0\n",
              "2  15.356     8.570    2.928       12.124       18.067   3909.0\n",
              "3  18.716     2.402    1.550       16.947       20.182   2113.0\n",
              "4  16.926     5.426    2.329       14.253       19.002   2978.0"
            ]
          },
          "metadata": {
            "tags": []
          },
          "execution_count": 45
        }
      ]
    },
    {
      "cell_type": "code",
      "metadata": {
        "id": "jbMi64uyg_g1",
        "colab_type": "code",
        "colab": {
          "base_uri": "https://localhost:8080/",
          "height": 139
        },
        "outputId": "6f0bb517-1a33-436e-faab-67bad7305f02"
      },
      "source": [
        "df_feature.dtypes"
      ],
      "execution_count": 52,
      "outputs": [
        {
          "output_type": "execute_result",
          "data": {
            "text/plain": [
              "Mean           float64\n",
              "Variance       float64\n",
              "Std-Dev        float64\n",
              "25-Quartile    float64\n",
              "75-Quartile    float64\n",
              "EndTime        float64\n",
              "dtype: object"
            ]
          },
          "metadata": {
            "tags": []
          },
          "execution_count": 52
        }
      ]
    },
    {
      "cell_type": "code",
      "metadata": {
        "id": "kmAKvX1dgCjD",
        "colab_type": "code",
        "colab": {
          "base_uri": "https://localhost:8080/",
          "height": 202
        },
        "outputId": "195ff4bf-c698-4fe3-a47d-3c9d48a27ce3"
      },
      "source": [
        "X.head()"
      ],
      "execution_count": 47,
      "outputs": [
        {
          "output_type": "execute_result",
          "data": {
            "text/html": [
              "<div>\n",
              "<style scoped>\n",
              "    .dataframe tbody tr th:only-of-type {\n",
              "        vertical-align: middle;\n",
              "    }\n",
              "\n",
              "    .dataframe tbody tr th {\n",
              "        vertical-align: top;\n",
              "    }\n",
              "\n",
              "    .dataframe thead th {\n",
              "        text-align: right;\n",
              "    }\n",
              "</style>\n",
              "<table border=\"1\" class=\"dataframe\">\n",
              "  <thead>\n",
              "    <tr style=\"text-align: right;\">\n",
              "      <th></th>\n",
              "      <th>Mean</th>\n",
              "      <th>Variance</th>\n",
              "      <th>Std-Dev</th>\n",
              "      <th>25-Quartile</th>\n",
              "      <th>75-Quartile</th>\n",
              "    </tr>\n",
              "  </thead>\n",
              "  <tbody>\n",
              "    <tr>\n",
              "      <th>0</th>\n",
              "      <td>16.970</td>\n",
              "      <td>2.257</td>\n",
              "      <td>1.502</td>\n",
              "      <td>15.677</td>\n",
              "      <td>17.795</td>\n",
              "    </tr>\n",
              "    <tr>\n",
              "      <th>1</th>\n",
              "      <td>18.490</td>\n",
              "      <td>1.851</td>\n",
              "      <td>1.360</td>\n",
              "      <td>17.133</td>\n",
              "      <td>19.910</td>\n",
              "    </tr>\n",
              "    <tr>\n",
              "      <th>2</th>\n",
              "      <td>15.356</td>\n",
              "      <td>8.570</td>\n",
              "      <td>2.928</td>\n",
              "      <td>12.124</td>\n",
              "      <td>18.067</td>\n",
              "    </tr>\n",
              "    <tr>\n",
              "      <th>3</th>\n",
              "      <td>18.716</td>\n",
              "      <td>2.402</td>\n",
              "      <td>1.550</td>\n",
              "      <td>16.947</td>\n",
              "      <td>20.182</td>\n",
              "    </tr>\n",
              "    <tr>\n",
              "      <th>4</th>\n",
              "      <td>16.926</td>\n",
              "      <td>5.426</td>\n",
              "      <td>2.329</td>\n",
              "      <td>14.253</td>\n",
              "      <td>19.002</td>\n",
              "    </tr>\n",
              "  </tbody>\n",
              "</table>\n",
              "</div>"
            ],
            "text/plain": [
              "     Mean  Variance  Std-Dev  25-Quartile  75-Quartile\n",
              "0  16.970     2.257    1.502       15.677       17.795\n",
              "1  18.490     1.851    1.360       17.133       19.910\n",
              "2  15.356     8.570    2.928       12.124       18.067\n",
              "3  18.716     2.402    1.550       16.947       20.182\n",
              "4  16.926     5.426    2.329       14.253       19.002"
            ]
          },
          "metadata": {
            "tags": []
          },
          "execution_count": 47
        }
      ]
    },
    {
      "cell_type": "code",
      "metadata": {
        "id": "ZBVB9XNjgENK",
        "colab_type": "code",
        "colab": {
          "base_uri": "https://localhost:8080/",
          "height": 202
        },
        "outputId": "0e9c41e1-6143-4ef4-99ed-d0c9015e46d5"
      },
      "source": [
        "Y.head()"
      ],
      "execution_count": 48,
      "outputs": [
        {
          "output_type": "execute_result",
          "data": {
            "text/html": [
              "<div>\n",
              "<style scoped>\n",
              "    .dataframe tbody tr th:only-of-type {\n",
              "        vertical-align: middle;\n",
              "    }\n",
              "\n",
              "    .dataframe tbody tr th {\n",
              "        vertical-align: top;\n",
              "    }\n",
              "\n",
              "    .dataframe thead th {\n",
              "        text-align: right;\n",
              "    }\n",
              "</style>\n",
              "<table border=\"1\" class=\"dataframe\">\n",
              "  <thead>\n",
              "    <tr style=\"text-align: right;\">\n",
              "      <th></th>\n",
              "      <th>EndTime</th>\n",
              "    </tr>\n",
              "  </thead>\n",
              "  <tbody>\n",
              "    <tr>\n",
              "      <th>0</th>\n",
              "      <td>3490.0</td>\n",
              "    </tr>\n",
              "    <tr>\n",
              "      <th>1</th>\n",
              "      <td>2556.0</td>\n",
              "    </tr>\n",
              "    <tr>\n",
              "      <th>2</th>\n",
              "      <td>3909.0</td>\n",
              "    </tr>\n",
              "    <tr>\n",
              "      <th>3</th>\n",
              "      <td>2113.0</td>\n",
              "    </tr>\n",
              "    <tr>\n",
              "      <th>4</th>\n",
              "      <td>2978.0</td>\n",
              "    </tr>\n",
              "  </tbody>\n",
              "</table>\n",
              "</div>"
            ],
            "text/plain": [
              "   EndTime\n",
              "0   3490.0\n",
              "1   2556.0\n",
              "2   3909.0\n",
              "3   2113.0\n",
              "4   2978.0"
            ]
          },
          "metadata": {
            "tags": []
          },
          "execution_count": 48
        }
      ]
    },
    {
      "cell_type": "code",
      "metadata": {
        "id": "cwu-3Lf_gItK",
        "colab_type": "code",
        "colab": {}
      },
      "source": [
        "#Splitting the dataset into the Training set and Test set\n",
        "from sklearn.model_selection import train_test_split\n",
        "X_train, X_test, y_train, y_test = train_test_split(X, Y, test_size = 0.2, random_state = 0)"
      ],
      "execution_count": 0,
      "outputs": []
    },
    {
      "cell_type": "markdown",
      "metadata": {
        "id": "oABFFhl1gj_8",
        "colab_type": "text"
      },
      "source": [
        "## Trying Various Models"
      ]
    },
    {
      "cell_type": "code",
      "metadata": {
        "id": "sCETxMdpimvg",
        "colab_type": "code",
        "colab": {}
      },
      "source": [
        "from sklearn.linear_model import LinearRegression\n",
        "from sklearn import model_selection, tree, linear_model\n",
        "from sklearn.metrics import mean_absolute_error\n",
        "import xgboost"
      ],
      "execution_count": 0,
      "outputs": []
    },
    {
      "cell_type": "markdown",
      "metadata": {
        "id": "AV_y5OofgpA0",
        "colab_type": "text"
      },
      "source": [
        "### 1. Linear regression"
      ]
    },
    {
      "cell_type": "code",
      "metadata": {
        "id": "8QxemoVYgg-h",
        "colab_type": "code",
        "colab": {
          "base_uri": "https://localhost:8080/",
          "height": 35
        },
        "outputId": "c99e068f-1d3c-4217-83e7-dd93af9e4f4e"
      },
      "source": [
        "linear_regr = linear_model.LinearRegression()\n",
        "linear_regr.fit(X_train, y_train)"
      ],
      "execution_count": 55,
      "outputs": [
        {
          "output_type": "execute_result",
          "data": {
            "text/plain": [
              "LinearRegression(copy_X=True, fit_intercept=True, n_jobs=None, normalize=False)"
            ]
          },
          "metadata": {
            "tags": []
          },
          "execution_count": 55
        }
      ]
    },
    {
      "cell_type": "code",
      "metadata": {
        "id": "a-KlW9W3g0LT",
        "colab_type": "code",
        "colab": {
          "base_uri": "https://localhost:8080/",
          "height": 35
        },
        "outputId": "ef01cf5e-dbed-4ecd-c7e9-e32ab16ceaa5"
      },
      "source": [
        "linear_regr.score(X_test,y_test)"
      ],
      "execution_count": 56,
      "outputs": [
        {
          "output_type": "execute_result",
          "data": {
            "text/plain": [
              "0.7617582149882273"
            ]
          },
          "metadata": {
            "tags": []
          },
          "execution_count": 56
        }
      ]
    },
    {
      "cell_type": "code",
      "metadata": {
        "id": "SvhFH_QXkk3f",
        "colab_type": "code",
        "colab": {
          "base_uri": "https://localhost:8080/",
          "height": 35
        },
        "outputId": "04d709a7-50df-400b-e83d-d8eb4036625b"
      },
      "source": [
        "predictions = linear_regr.predict(X_test)\n",
        "print(mean_absolute_error(y_test,predictions))"
      ],
      "execution_count": 66,
      "outputs": [
        {
          "output_type": "stream",
          "text": [
            "342.8787569759661\n"
          ],
          "name": "stdout"
        }
      ]
    },
    {
      "cell_type": "markdown",
      "metadata": {
        "id": "eRUyHLkGjiTu",
        "colab_type": "text"
      },
      "source": [
        "### 2. XGBoost"
      ]
    },
    {
      "cell_type": "code",
      "metadata": {
        "id": "7yB_-kNug39i",
        "colab_type": "code",
        "colab": {}
      },
      "source": [
        "# Let's try XGboost algorithm to see if we can get better results\n",
        "xgb_regr = xgboost.XGBRegressor(n_estimators=100, learning_rate=0.08, gamma=0, subsample=0.75,\n",
        "                           colsample_bytree=1, max_depth=7)"
      ],
      "execution_count": 0,
      "outputs": []
    },
    {
      "cell_type": "code",
      "metadata": {
        "id": "u1k1PI0fjrlh",
        "colab_type": "code",
        "colab": {
          "base_uri": "https://localhost:8080/",
          "height": 156
        },
        "outputId": "863d2f69-2a33-4e04-f032-d94d9444f2ae"
      },
      "source": [
        "xgb_regr.fit(X_train,y_train)"
      ],
      "execution_count": 58,
      "outputs": [
        {
          "output_type": "stream",
          "text": [
            "[06:24:55] WARNING: /workspace/src/objective/regression_obj.cu:152: reg:linear is now deprecated in favor of reg:squarederror.\n"
          ],
          "name": "stdout"
        },
        {
          "output_type": "execute_result",
          "data": {
            "text/plain": [
              "XGBRegressor(base_score=0.5, booster='gbtree', colsample_bylevel=1,\n",
              "             colsample_bynode=1, colsample_bytree=1, gamma=0,\n",
              "             importance_type='gain', learning_rate=0.08, max_delta_step=0,\n",
              "             max_depth=7, min_child_weight=1, missing=None, n_estimators=100,\n",
              "             n_jobs=1, nthread=None, objective='reg:linear', random_state=0,\n",
              "             reg_alpha=0, reg_lambda=1, scale_pos_weight=1, seed=None,\n",
              "             silent=None, subsample=0.75, verbosity=1)"
            ]
          },
          "metadata": {
            "tags": []
          },
          "execution_count": 58
        }
      ]
    },
    {
      "cell_type": "code",
      "metadata": {
        "id": "ro2ml7dSjzrV",
        "colab_type": "code",
        "colab": {
          "base_uri": "https://localhost:8080/",
          "height": 35
        },
        "outputId": "53c11bb7-0416-41b4-aa5c-ee583993f68a"
      },
      "source": [
        "predictions = xgb_regr.predict(X_test)\n",
        "print(mean_absolute_error(y_test,predictions))"
      ],
      "execution_count": 62,
      "outputs": [
        {
          "output_type": "stream",
          "text": [
            "624.7912902832031\n"
          ],
          "name": "stdout"
        }
      ]
    },
    {
      "cell_type": "code",
      "metadata": {
        "id": "q7OfPoEXj4Jl",
        "colab_type": "code",
        "colab": {
          "base_uri": "https://localhost:8080/",
          "height": 52
        },
        "outputId": "1e1b26f3-156b-46b1-f6de-a0bcac1ab16b"
      },
      "source": [
        "predictions"
      ],
      "execution_count": 63,
      "outputs": [
        {
          "output_type": "execute_result",
          "data": {
            "text/plain": [
              "array([2861.5535, 2866.9543, 2834.911 , 2695.2622, 3045.5693, 3728.7083,\n",
              "       2834.911 , 2473.5088], dtype=float32)"
            ]
          },
          "metadata": {
            "tags": []
          },
          "execution_count": 63
        }
      ]
    },
    {
      "cell_type": "code",
      "metadata": {
        "id": "eKmYXaeXkWpd",
        "colab_type": "code",
        "colab": {
          "base_uri": "https://localhost:8080/",
          "height": 294
        },
        "outputId": "12a38308-7ed5-4dee-bc82-dcbeeb41c20e"
      },
      "source": [
        "y_test"
      ],
      "execution_count": 65,
      "outputs": [
        {
          "output_type": "execute_result",
          "data": {
            "text/html": [
              "<div>\n",
              "<style scoped>\n",
              "    .dataframe tbody tr th:only-of-type {\n",
              "        vertical-align: middle;\n",
              "    }\n",
              "\n",
              "    .dataframe tbody tr th {\n",
              "        vertical-align: top;\n",
              "    }\n",
              "\n",
              "    .dataframe thead th {\n",
              "        text-align: right;\n",
              "    }\n",
              "</style>\n",
              "<table border=\"1\" class=\"dataframe\">\n",
              "  <thead>\n",
              "    <tr style=\"text-align: right;\">\n",
              "      <th></th>\n",
              "      <th>EndTime</th>\n",
              "    </tr>\n",
              "  </thead>\n",
              "  <tbody>\n",
              "    <tr>\n",
              "      <th>22</th>\n",
              "      <td>3664.0</td>\n",
              "    </tr>\n",
              "    <tr>\n",
              "      <th>20</th>\n",
              "      <td>2246.0</td>\n",
              "    </tr>\n",
              "    <tr>\n",
              "      <th>25</th>\n",
              "      <td>2092.0</td>\n",
              "    </tr>\n",
              "    <tr>\n",
              "      <th>4</th>\n",
              "      <td>2978.0</td>\n",
              "    </tr>\n",
              "    <tr>\n",
              "      <th>10</th>\n",
              "      <td>2058.0</td>\n",
              "    </tr>\n",
              "    <tr>\n",
              "      <th>15</th>\n",
              "      <td>4428.0</td>\n",
              "    </tr>\n",
              "    <tr>\n",
              "      <th>28</th>\n",
              "      <td>2184.0</td>\n",
              "    </tr>\n",
              "    <tr>\n",
              "      <th>11</th>\n",
              "      <td>2262.0</td>\n",
              "    </tr>\n",
              "  </tbody>\n",
              "</table>\n",
              "</div>"
            ],
            "text/plain": [
              "    EndTime\n",
              "22   3664.0\n",
              "20   2246.0\n",
              "25   2092.0\n",
              "4    2978.0\n",
              "10   2058.0\n",
              "15   4428.0\n",
              "28   2184.0\n",
              "11   2262.0"
            ]
          },
          "metadata": {
            "tags": []
          },
          "execution_count": 65
        }
      ]
    },
    {
      "cell_type": "markdown",
      "metadata": {
        "id": "fW2MSyqOlBfw",
        "colab_type": "text"
      },
      "source": [
        "# Predicting"
      ]
    },
    {
      "cell_type": "code",
      "metadata": {
        "id": "f7NNc_PXkYYN",
        "colab_type": "code",
        "colab": {}
      },
      "source": [
        "df_test=pd.read_csv('test.csv')"
      ],
      "execution_count": 0,
      "outputs": []
    },
    {
      "cell_type": "code",
      "metadata": {
        "id": "JtEuCZcMlIwW",
        "colab_type": "code",
        "colab": {
          "base_uri": "https://localhost:8080/",
          "height": 202
        },
        "outputId": "f043a766-509b-4da9-ca4e-92e427b92f5c"
      },
      "source": [
        "df_test.head()"
      ],
      "execution_count": 68,
      "outputs": [
        {
          "output_type": "execute_result",
          "data": {
            "text/html": [
              "<div>\n",
              "<style scoped>\n",
              "    .dataframe tbody tr th:only-of-type {\n",
              "        vertical-align: middle;\n",
              "    }\n",
              "\n",
              "    .dataframe tbody tr th {\n",
              "        vertical-align: top;\n",
              "    }\n",
              "\n",
              "    .dataframe thead th {\n",
              "        text-align: right;\n",
              "    }\n",
              "</style>\n",
              "<table border=\"1\" class=\"dataframe\">\n",
              "  <thead>\n",
              "    <tr style=\"text-align: right;\">\n",
              "      <th></th>\n",
              "      <th>Cycle</th>\n",
              "      <th>Type</th>\n",
              "      <th>Time</th>\n",
              "      <th>Values</th>\n",
              "    </tr>\n",
              "  </thead>\n",
              "  <tbody>\n",
              "    <tr>\n",
              "      <th>0</th>\n",
              "      <td>100</td>\n",
              "      <td>2</td>\n",
              "      <td>101</td>\n",
              "      <td>20.456</td>\n",
              "    </tr>\n",
              "    <tr>\n",
              "      <th>1</th>\n",
              "      <td>100</td>\n",
              "      <td>2</td>\n",
              "      <td>102</td>\n",
              "      <td>20.456</td>\n",
              "    </tr>\n",
              "    <tr>\n",
              "      <th>2</th>\n",
              "      <td>100</td>\n",
              "      <td>2</td>\n",
              "      <td>103</td>\n",
              "      <td>20.456</td>\n",
              "    </tr>\n",
              "    <tr>\n",
              "      <th>3</th>\n",
              "      <td>100</td>\n",
              "      <td>2</td>\n",
              "      <td>104</td>\n",
              "      <td>20.448</td>\n",
              "    </tr>\n",
              "    <tr>\n",
              "      <th>4</th>\n",
              "      <td>100</td>\n",
              "      <td>2</td>\n",
              "      <td>105</td>\n",
              "      <td>20.448</td>\n",
              "    </tr>\n",
              "  </tbody>\n",
              "</table>\n",
              "</div>"
            ],
            "text/plain": [
              "   Cycle  Type  Time  Values\n",
              "0    100     2   101  20.456\n",
              "1    100     2   102  20.456\n",
              "2    100     2   103  20.456\n",
              "3    100     2   104  20.448\n",
              "4    100     2   105  20.448"
            ]
          },
          "metadata": {
            "tags": []
          },
          "execution_count": 68
        }
      ]
    },
    {
      "cell_type": "code",
      "metadata": {
        "id": "_sVI0pTIldsQ",
        "colab_type": "code",
        "colab": {}
      },
      "source": [
        "def makeTestFeatureDataset(df):\n",
        "  cycle_set=df['Cycle'].unique()\n",
        "  \n",
        "  data=[]\n",
        "  for i in range(len(cycle_set)):\n",
        "    val=[]\n",
        "    df_temp=df[df['Cycle']==cycle_set[i]]\n",
        "    val.append(cycle_set[i])\n",
        "    val.append(float('%.3f'%(df_temp['Values'].mean())))\n",
        "    val.append(float('%.3f'%(df_temp['Values'].var())))\n",
        "    val.append(float('%.3f'%(df_temp['Values'].std())))\n",
        "    val.append(float('%.3f'%(df_temp['Values'].quantile(0.25))))\n",
        "    val.append(float('%.3f'%(df_temp['Values'].quantile(0.75))))\n",
        "\n",
        "    data.append(val)\n",
        "    \n",
        "  col=['Cycle','Mean', 'Variance', 'Std-Dev', '25-Quartile', '75-Quartile']\n",
        "  df_feature = pd.DataFrame(data, columns = col)\n",
        "    \n",
        "  return df_feature"
      ],
      "execution_count": 0,
      "outputs": []
    },
    {
      "cell_type": "code",
      "metadata": {
        "id": "uJslaXGulKWm",
        "colab_type": "code",
        "colab": {}
      },
      "source": [
        "df_test_feature= makeTestFeatureDataset(df_test)"
      ],
      "execution_count": 0,
      "outputs": []
    },
    {
      "cell_type": "code",
      "metadata": {
        "id": "aNQoYFjklZdd",
        "colab_type": "code",
        "colab": {
          "base_uri": "https://localhost:8080/",
          "height": 202
        },
        "outputId": "b7b1c4f1-e2ce-4b0f-8a80-c972b4813c31"
      },
      "source": [
        "df_test_feature.head()"
      ],
      "execution_count": 80,
      "outputs": [
        {
          "output_type": "execute_result",
          "data": {
            "text/html": [
              "<div>\n",
              "<style scoped>\n",
              "    .dataframe tbody tr th:only-of-type {\n",
              "        vertical-align: middle;\n",
              "    }\n",
              "\n",
              "    .dataframe tbody tr th {\n",
              "        vertical-align: top;\n",
              "    }\n",
              "\n",
              "    .dataframe thead th {\n",
              "        text-align: right;\n",
              "    }\n",
              "</style>\n",
              "<table border=\"1\" class=\"dataframe\">\n",
              "  <thead>\n",
              "    <tr style=\"text-align: right;\">\n",
              "      <th></th>\n",
              "      <th>Cycle</th>\n",
              "      <th>Mean</th>\n",
              "      <th>Variance</th>\n",
              "      <th>Std-Dev</th>\n",
              "      <th>25-Quartile</th>\n",
              "      <th>75-Quartile</th>\n",
              "    </tr>\n",
              "  </thead>\n",
              "  <tbody>\n",
              "    <tr>\n",
              "      <th>0</th>\n",
              "      <td>100</td>\n",
              "      <td>18.764</td>\n",
              "      <td>0.762</td>\n",
              "      <td>0.873</td>\n",
              "      <td>18.235</td>\n",
              "      <td>19.327</td>\n",
              "    </tr>\n",
              "    <tr>\n",
              "      <th>1</th>\n",
              "      <td>200</td>\n",
              "      <td>18.082</td>\n",
              "      <td>2.620</td>\n",
              "      <td>1.619</td>\n",
              "      <td>16.772</td>\n",
              "      <td>19.623</td>\n",
              "    </tr>\n",
              "    <tr>\n",
              "      <th>2</th>\n",
              "      <td>300</td>\n",
              "      <td>18.767</td>\n",
              "      <td>1.034</td>\n",
              "      <td>1.017</td>\n",
              "      <td>17.827</td>\n",
              "      <td>19.846</td>\n",
              "    </tr>\n",
              "    <tr>\n",
              "      <th>3</th>\n",
              "      <td>2200</td>\n",
              "      <td>18.439</td>\n",
              "      <td>1.301</td>\n",
              "      <td>1.141</td>\n",
              "      <td>17.363</td>\n",
              "      <td>19.346</td>\n",
              "    </tr>\n",
              "    <tr>\n",
              "      <th>4</th>\n",
              "      <td>2300</td>\n",
              "      <td>17.558</td>\n",
              "      <td>2.229</td>\n",
              "      <td>1.493</td>\n",
              "      <td>16.096</td>\n",
              "      <td>18.379</td>\n",
              "    </tr>\n",
              "  </tbody>\n",
              "</table>\n",
              "</div>"
            ],
            "text/plain": [
              "   Cycle    Mean  Variance  Std-Dev  25-Quartile  75-Quartile\n",
              "0    100  18.764     0.762    0.873       18.235       19.327\n",
              "1    200  18.082     2.620    1.619       16.772       19.623\n",
              "2    300  18.767     1.034    1.017       17.827       19.846\n",
              "3   2200  18.439     1.301    1.141       17.363       19.346\n",
              "4   2300  17.558     2.229    1.493       16.096       18.379"
            ]
          },
          "metadata": {
            "tags": []
          },
          "execution_count": 80
        }
      ]
    },
    {
      "cell_type": "code",
      "metadata": {
        "id": "Be28Ol80luL1",
        "colab_type": "code",
        "colab": {}
      },
      "source": [
        "X_test=df_test_feature.drop(columns='Cycle')"
      ],
      "execution_count": 0,
      "outputs": []
    },
    {
      "cell_type": "code",
      "metadata": {
        "id": "4SYGCbeVmv65",
        "colab_type": "code",
        "colab": {
          "base_uri": "https://localhost:8080/",
          "height": 202
        },
        "outputId": "0f77f2f0-845a-428a-8f20-5256ace966cd"
      },
      "source": [
        "X_test.head()"
      ],
      "execution_count": 83,
      "outputs": [
        {
          "output_type": "execute_result",
          "data": {
            "text/html": [
              "<div>\n",
              "<style scoped>\n",
              "    .dataframe tbody tr th:only-of-type {\n",
              "        vertical-align: middle;\n",
              "    }\n",
              "\n",
              "    .dataframe tbody tr th {\n",
              "        vertical-align: top;\n",
              "    }\n",
              "\n",
              "    .dataframe thead th {\n",
              "        text-align: right;\n",
              "    }\n",
              "</style>\n",
              "<table border=\"1\" class=\"dataframe\">\n",
              "  <thead>\n",
              "    <tr style=\"text-align: right;\">\n",
              "      <th></th>\n",
              "      <th>Mean</th>\n",
              "      <th>Variance</th>\n",
              "      <th>Std-Dev</th>\n",
              "      <th>25-Quartile</th>\n",
              "      <th>75-Quartile</th>\n",
              "    </tr>\n",
              "  </thead>\n",
              "  <tbody>\n",
              "    <tr>\n",
              "      <th>0</th>\n",
              "      <td>18.764</td>\n",
              "      <td>0.762</td>\n",
              "      <td>0.873</td>\n",
              "      <td>18.235</td>\n",
              "      <td>19.327</td>\n",
              "    </tr>\n",
              "    <tr>\n",
              "      <th>1</th>\n",
              "      <td>18.082</td>\n",
              "      <td>2.620</td>\n",
              "      <td>1.619</td>\n",
              "      <td>16.772</td>\n",
              "      <td>19.623</td>\n",
              "    </tr>\n",
              "    <tr>\n",
              "      <th>2</th>\n",
              "      <td>18.767</td>\n",
              "      <td>1.034</td>\n",
              "      <td>1.017</td>\n",
              "      <td>17.827</td>\n",
              "      <td>19.846</td>\n",
              "    </tr>\n",
              "    <tr>\n",
              "      <th>3</th>\n",
              "      <td>18.439</td>\n",
              "      <td>1.301</td>\n",
              "      <td>1.141</td>\n",
              "      <td>17.363</td>\n",
              "      <td>19.346</td>\n",
              "    </tr>\n",
              "    <tr>\n",
              "      <th>4</th>\n",
              "      <td>17.558</td>\n",
              "      <td>2.229</td>\n",
              "      <td>1.493</td>\n",
              "      <td>16.096</td>\n",
              "      <td>18.379</td>\n",
              "    </tr>\n",
              "  </tbody>\n",
              "</table>\n",
              "</div>"
            ],
            "text/plain": [
              "     Mean  Variance  Std-Dev  25-Quartile  75-Quartile\n",
              "0  18.764     0.762    0.873       18.235       19.327\n",
              "1  18.082     2.620    1.619       16.772       19.623\n",
              "2  18.767     1.034    1.017       17.827       19.846\n",
              "3  18.439     1.301    1.141       17.363       19.346\n",
              "4  17.558     2.229    1.493       16.096       18.379"
            ]
          },
          "metadata": {
            "tags": []
          },
          "execution_count": 83
        }
      ]
    },
    {
      "cell_type": "code",
      "metadata": {
        "id": "UbtX24H1l2wW",
        "colab_type": "code",
        "colab": {}
      },
      "source": [
        "y_pred=linear_regr.predict(X_test)"
      ],
      "execution_count": 0,
      "outputs": []
    },
    {
      "cell_type": "code",
      "metadata": {
        "id": "4T_GpP8ImvUS",
        "colab_type": "code",
        "colab": {}
      },
      "source": [
        "df_result = pd.DataFrame(columns = ['Cycle','EndTime'])"
      ],
      "execution_count": 0,
      "outputs": []
    },
    {
      "cell_type": "code",
      "metadata": {
        "id": "tzso98pZopqi",
        "colab_type": "code",
        "colab": {}
      },
      "source": [
        "df_result['Cycle']=df_test_feature['Cycle']\n",
        "df_result['EndTime']=y_pred"
      ],
      "execution_count": 0,
      "outputs": []
    },
    {
      "cell_type": "code",
      "metadata": {
        "id": "VyH33uYNoJch",
        "colab_type": "code",
        "colab": {
          "base_uri": "https://localhost:8080/",
          "height": 202
        },
        "outputId": "2cd23d81-3af2-46c3-bc1b-c9a35dfbdb58"
      },
      "source": [
        "df_result.head()"
      ],
      "execution_count": 104,
      "outputs": [
        {
          "output_type": "execute_result",
          "data": {
            "text/html": [
              "<div>\n",
              "<style scoped>\n",
              "    .dataframe tbody tr th:only-of-type {\n",
              "        vertical-align: middle;\n",
              "    }\n",
              "\n",
              "    .dataframe tbody tr th {\n",
              "        vertical-align: top;\n",
              "    }\n",
              "\n",
              "    .dataframe thead th {\n",
              "        text-align: right;\n",
              "    }\n",
              "</style>\n",
              "<table border=\"1\" class=\"dataframe\">\n",
              "  <thead>\n",
              "    <tr style=\"text-align: right;\">\n",
              "      <th></th>\n",
              "      <th>Cycle</th>\n",
              "      <th>EndTime</th>\n",
              "    </tr>\n",
              "  </thead>\n",
              "  <tbody>\n",
              "    <tr>\n",
              "      <th>0</th>\n",
              "      <td>100</td>\n",
              "      <td>3222.143815</td>\n",
              "    </tr>\n",
              "    <tr>\n",
              "      <th>1</th>\n",
              "      <td>200</td>\n",
              "      <td>3428.268979</td>\n",
              "    </tr>\n",
              "    <tr>\n",
              "      <th>2</th>\n",
              "      <td>300</td>\n",
              "      <td>2389.699799</td>\n",
              "    </tr>\n",
              "    <tr>\n",
              "      <th>3</th>\n",
              "      <td>2200</td>\n",
              "      <td>2935.454826</td>\n",
              "    </tr>\n",
              "    <tr>\n",
              "      <th>4</th>\n",
              "      <td>2300</td>\n",
              "      <td>3801.960164</td>\n",
              "    </tr>\n",
              "  </tbody>\n",
              "</table>\n",
              "</div>"
            ],
            "text/plain": [
              "   Cycle      EndTime\n",
              "0    100  3222.143815\n",
              "1    200  3428.268979\n",
              "2    300  2389.699799\n",
              "3   2200  2935.454826\n",
              "4   2300  3801.960164"
            ]
          },
          "metadata": {
            "tags": []
          },
          "execution_count": 104
        }
      ]
    },
    {
      "cell_type": "markdown",
      "metadata": {
        "id": "GkaJDa5ImEfo",
        "colab_type": "text"
      },
      "source": [
        "# Saving File"
      ]
    },
    {
      "cell_type": "code",
      "metadata": {
        "id": "-Ng51KAEmBbm",
        "colab_type": "code",
        "colab": {}
      },
      "source": [
        "#Saving the file\n",
        "df_result.to_csv('resultv1.0.csv',index=False) "
      ],
      "execution_count": 0,
      "outputs": []
    },
    {
      "cell_type": "code",
      "metadata": {
        "id": "iUvtrbcIpwqU",
        "colab_type": "code",
        "colab": {
          "base_uri": "https://localhost:8080/",
          "height": 329
        },
        "outputId": "7e17012d-cc29-4ca7-911f-97aea18593b2"
      },
      "source": [
        "from google.colab import files\n",
        "files.download('resultv1.0.csv')"
      ],
      "execution_count": 114,
      "outputs": [
        {
          "output_type": "error",
          "ename": "MessageError",
          "evalue": "ignored",
          "traceback": [
            "\u001b[0;31m---------------------------------------------------------------------------\u001b[0m",
            "\u001b[0;31mMessageError\u001b[0m                              Traceback (most recent call last)",
            "\u001b[0;32m<ipython-input-114-2da96842345b>\u001b[0m in \u001b[0;36m<module>\u001b[0;34m()\u001b[0m\n\u001b[1;32m      1\u001b[0m \u001b[0;32mfrom\u001b[0m \u001b[0mgoogle\u001b[0m\u001b[0;34m.\u001b[0m\u001b[0mcolab\u001b[0m \u001b[0;32mimport\u001b[0m \u001b[0mfiles\u001b[0m\u001b[0;34m\u001b[0m\u001b[0;34m\u001b[0m\u001b[0m\n\u001b[0;32m----> 2\u001b[0;31m \u001b[0mfiles\u001b[0m\u001b[0;34m.\u001b[0m\u001b[0mdownload\u001b[0m\u001b[0;34m(\u001b[0m\u001b[0;34m'resultv1.0.csv'\u001b[0m\u001b[0;34m)\u001b[0m\u001b[0;34m\u001b[0m\u001b[0;34m\u001b[0m\u001b[0m\n\u001b[0m",
            "\u001b[0;32m/usr/local/lib/python3.6/dist-packages/google/colab/files.py\u001b[0m in \u001b[0;36mdownload\u001b[0;34m(filename)\u001b[0m\n\u001b[1;32m    176\u001b[0m       \u001b[0;34m'port'\u001b[0m\u001b[0;34m:\u001b[0m \u001b[0mport\u001b[0m\u001b[0;34m,\u001b[0m\u001b[0;34m\u001b[0m\u001b[0;34m\u001b[0m\u001b[0m\n\u001b[1;32m    177\u001b[0m       \u001b[0;34m'path'\u001b[0m\u001b[0;34m:\u001b[0m \u001b[0m_os\u001b[0m\u001b[0;34m.\u001b[0m\u001b[0mpath\u001b[0m\u001b[0;34m.\u001b[0m\u001b[0mabspath\u001b[0m\u001b[0;34m(\u001b[0m\u001b[0mfilename\u001b[0m\u001b[0;34m)\u001b[0m\u001b[0;34m,\u001b[0m\u001b[0;34m\u001b[0m\u001b[0;34m\u001b[0m\u001b[0m\n\u001b[0;32m--> 178\u001b[0;31m       \u001b[0;34m'name'\u001b[0m\u001b[0;34m:\u001b[0m \u001b[0m_os\u001b[0m\u001b[0;34m.\u001b[0m\u001b[0mpath\u001b[0m\u001b[0;34m.\u001b[0m\u001b[0mbasename\u001b[0m\u001b[0;34m(\u001b[0m\u001b[0mfilename\u001b[0m\u001b[0;34m)\u001b[0m\u001b[0;34m,\u001b[0m\u001b[0;34m\u001b[0m\u001b[0;34m\u001b[0m\u001b[0m\n\u001b[0m\u001b[1;32m    179\u001b[0m   })\n",
            "\u001b[0;32m/usr/local/lib/python3.6/dist-packages/google/colab/output/_js.py\u001b[0m in \u001b[0;36meval_js\u001b[0;34m(script, ignore_result)\u001b[0m\n\u001b[1;32m     37\u001b[0m   \u001b[0;32mif\u001b[0m \u001b[0mignore_result\u001b[0m\u001b[0;34m:\u001b[0m\u001b[0;34m\u001b[0m\u001b[0;34m\u001b[0m\u001b[0m\n\u001b[1;32m     38\u001b[0m     \u001b[0;32mreturn\u001b[0m\u001b[0;34m\u001b[0m\u001b[0;34m\u001b[0m\u001b[0m\n\u001b[0;32m---> 39\u001b[0;31m   \u001b[0;32mreturn\u001b[0m \u001b[0m_message\u001b[0m\u001b[0;34m.\u001b[0m\u001b[0mread_reply_from_input\u001b[0m\u001b[0;34m(\u001b[0m\u001b[0mrequest_id\u001b[0m\u001b[0;34m)\u001b[0m\u001b[0;34m\u001b[0m\u001b[0;34m\u001b[0m\u001b[0m\n\u001b[0m\u001b[1;32m     40\u001b[0m \u001b[0;34m\u001b[0m\u001b[0m\n\u001b[1;32m     41\u001b[0m \u001b[0;34m\u001b[0m\u001b[0m\n",
            "\u001b[0;32m/usr/local/lib/python3.6/dist-packages/google/colab/_message.py\u001b[0m in \u001b[0;36mread_reply_from_input\u001b[0;34m(message_id, timeout_sec)\u001b[0m\n\u001b[1;32m    104\u001b[0m         reply.get('colab_msg_id') == message_id):\n\u001b[1;32m    105\u001b[0m       \u001b[0;32mif\u001b[0m \u001b[0;34m'error'\u001b[0m \u001b[0;32min\u001b[0m \u001b[0mreply\u001b[0m\u001b[0;34m:\u001b[0m\u001b[0;34m\u001b[0m\u001b[0;34m\u001b[0m\u001b[0m\n\u001b[0;32m--> 106\u001b[0;31m         \u001b[0;32mraise\u001b[0m \u001b[0mMessageError\u001b[0m\u001b[0;34m(\u001b[0m\u001b[0mreply\u001b[0m\u001b[0;34m[\u001b[0m\u001b[0;34m'error'\u001b[0m\u001b[0;34m]\u001b[0m\u001b[0;34m)\u001b[0m\u001b[0;34m\u001b[0m\u001b[0;34m\u001b[0m\u001b[0m\n\u001b[0m\u001b[1;32m    107\u001b[0m       \u001b[0;32mreturn\u001b[0m \u001b[0mreply\u001b[0m\u001b[0;34m.\u001b[0m\u001b[0mget\u001b[0m\u001b[0;34m(\u001b[0m\u001b[0;34m'data'\u001b[0m\u001b[0;34m,\u001b[0m \u001b[0;32mNone\u001b[0m\u001b[0;34m)\u001b[0m\u001b[0;34m\u001b[0m\u001b[0;34m\u001b[0m\u001b[0m\n\u001b[1;32m    108\u001b[0m \u001b[0;34m\u001b[0m\u001b[0m\n",
            "\u001b[0;31mMessageError\u001b[0m: TypeError: Failed to fetch"
          ]
        }
      ]
    },
    {
      "cell_type": "code",
      "metadata": {
        "id": "A_MbIwXGp_uf",
        "colab_type": "code",
        "colab": {}
      },
      "source": [
        ""
      ],
      "execution_count": 0,
      "outputs": []
    }
  ]
}