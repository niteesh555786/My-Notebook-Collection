{
  "nbformat": 4,
  "nbformat_minor": 0,
  "metadata": {
    "colab": {
      "name": "Problem 1.ipynb",
      "version": "0.3.2",
      "provenance": [],
      "collapsed_sections": [],
      "include_colab_link": true
    },
    "kernelspec": {
      "name": "python3",
      "display_name": "Python 3"
    },
    "accelerator": "GPU"
  },
  "cells": [
    {
      "cell_type": "markdown",
      "metadata": {
        "id": "view-in-github",
        "colab_type": "text"
      },
      "source": [
        "<a href=\"https://colab.research.google.com/github/niteesh555786/My-Notebook-Collection/blob/master/Problem_1.ipynb\" target=\"_parent\"><img src=\"https://colab.research.google.com/assets/colab-badge.svg\" alt=\"Open In Colab\"/></a>"
      ]
    },
    {
      "cell_type": "code",
      "metadata": {
        "id": "9hrLamVEAiLi",
        "colab_type": "code",
        "colab": {}
      },
      "source": [
        "import pandas as pd\n",
        "import numpy as np\n",
        "import seaborn as sns\n",
        "import matplotlib.pyplot as plt\n",
        "%matplotlib inline"
      ],
      "execution_count": 0,
      "outputs": []
    },
    {
      "cell_type": "code",
      "metadata": {
        "id": "qoMy91DrEXAv",
        "colab_type": "code",
        "colab": {}
      },
      "source": [
        "!wget -O train.csv \"https://www.dropbox.com/sh/ti9ta6mzdx56x1f/AAA-JbNaAHzMs_Xs3xwu7K53a/Training.csv?dl=0\""
      ],
      "execution_count": 0,
      "outputs": []
    },
    {
      "cell_type": "code",
      "metadata": {
        "id": "v_25CtmUG6cU",
        "colab_type": "code",
        "colab": {}
      },
      "source": [
        "!wget -O test.csv \"https://www.dropbox.com/sh/ti9ta6mzdx56x1f/AACZjJ4lHrh_RTDaCsQ5HeKia/Testing.csv?dl=0\""
      ],
      "execution_count": 0,
      "outputs": []
    },
    {
      "cell_type": "code",
      "metadata": {
        "id": "ssUYlorIDTtk",
        "colab_type": "code",
        "colab": {}
      },
      "source": [
        "!wget -O sample.csv \"https://www.dropbox.com/sh/ti9ta6mzdx56x1f/AACGdX2acMpsNpia_7FN_2c9a/Sample%20Submission.csv?dl=0\""
      ],
      "execution_count": 0,
      "outputs": []
    },
    {
      "cell_type": "code",
      "metadata": {
        "id": "lntE5RUtDihP",
        "colab_type": "code",
        "colab": {
          "base_uri": "https://localhost:8080/",
          "height": 35
        },
        "outputId": "2d3aad0a-aa28-4287-abc2-dd284fd3a363"
      },
      "source": [
        "!ls"
      ],
      "execution_count": 12,
      "outputs": [
        {
          "output_type": "stream",
          "text": [
            "sample.csv  sample_data  test.csv  train.csv\n"
          ],
          "name": "stdout"
        }
      ]
    },
    {
      "cell_type": "markdown",
      "metadata": {
        "id": "YHYvLX4BDuI9",
        "colab_type": "text"
      },
      "source": [
        "#DataSet v1 Analysis"
      ]
    },
    {
      "cell_type": "code",
      "metadata": {
        "id": "RJJlLoxnDron",
        "colab_type": "code",
        "colab": {}
      },
      "source": [
        "df=pd.read_csv('train.csv')"
      ],
      "execution_count": 0,
      "outputs": []
    },
    {
      "cell_type": "code",
      "metadata": {
        "id": "MfwS_eiZD4NX",
        "colab_type": "code",
        "colab": {
          "base_uri": "https://localhost:8080/",
          "height": 202
        },
        "outputId": "2c97effa-3ca6-42b2-fc5b-f6631782d6bd"
      },
      "source": [
        "df.head()"
      ],
      "execution_count": 13,
      "outputs": [
        {
          "output_type": "execute_result",
          "data": {
            "text/html": [
              "<div>\n",
              "<style scoped>\n",
              "    .dataframe tbody tr th:only-of-type {\n",
              "        vertical-align: middle;\n",
              "    }\n",
              "\n",
              "    .dataframe tbody tr th {\n",
              "        vertical-align: top;\n",
              "    }\n",
              "\n",
              "    .dataframe thead th {\n",
              "        text-align: right;\n",
              "    }\n",
              "</style>\n",
              "<table border=\"1\" class=\"dataframe\">\n",
              "  <thead>\n",
              "    <tr style=\"text-align: right;\">\n",
              "      <th></th>\n",
              "      <th>Cycle</th>\n",
              "      <th>Type</th>\n",
              "      <th>EndTime</th>\n",
              "      <th>Time</th>\n",
              "      <th>Values</th>\n",
              "    </tr>\n",
              "  </thead>\n",
              "  <tbody>\n",
              "    <tr>\n",
              "      <th>0</th>\n",
              "      <td>2</td>\n",
              "      <td>2</td>\n",
              "      <td>3490.0</td>\n",
              "      <td>101.0</td>\n",
              "      <td>20.402</td>\n",
              "    </tr>\n",
              "    <tr>\n",
              "      <th>1</th>\n",
              "      <td>2</td>\n",
              "      <td>2</td>\n",
              "      <td>3490.0</td>\n",
              "      <td>102.0</td>\n",
              "      <td>20.402</td>\n",
              "    </tr>\n",
              "    <tr>\n",
              "      <th>2</th>\n",
              "      <td>2</td>\n",
              "      <td>2</td>\n",
              "      <td>3490.0</td>\n",
              "      <td>103.0</td>\n",
              "      <td>20.402</td>\n",
              "    </tr>\n",
              "    <tr>\n",
              "      <th>3</th>\n",
              "      <td>2</td>\n",
              "      <td>2</td>\n",
              "      <td>3490.0</td>\n",
              "      <td>104.0</td>\n",
              "      <td>20.402</td>\n",
              "    </tr>\n",
              "    <tr>\n",
              "      <th>4</th>\n",
              "      <td>2</td>\n",
              "      <td>2</td>\n",
              "      <td>3490.0</td>\n",
              "      <td>105.0</td>\n",
              "      <td>20.402</td>\n",
              "    </tr>\n",
              "  </tbody>\n",
              "</table>\n",
              "</div>"
            ],
            "text/plain": [
              "   Cycle  Type  EndTime   Time  Values\n",
              "0      2     2   3490.0  101.0  20.402\n",
              "1      2     2   3490.0  102.0  20.402\n",
              "2      2     2   3490.0  103.0  20.402\n",
              "3      2     2   3490.0  104.0  20.402\n",
              "4      2     2   3490.0  105.0  20.402"
            ]
          },
          "metadata": {
            "tags": []
          },
          "execution_count": 13
        }
      ]
    },
    {
      "cell_type": "code",
      "metadata": {
        "id": "PZdrkAqAEfRu",
        "colab_type": "code",
        "colab": {
          "base_uri": "https://localhost:8080/",
          "height": 35
        },
        "outputId": "c604feae-d7ec-4ead-b540-f2e546209deb"
      },
      "source": [
        "cycle_set=df['Cycle'].unique()\n",
        "len(cycle_set)"
      ],
      "execution_count": 17,
      "outputs": [
        {
          "output_type": "execute_result",
          "data": {
            "text/plain": [
              "40"
            ]
          },
          "metadata": {
            "tags": []
          },
          "execution_count": 17
        }
      ]
    },
    {
      "cell_type": "code",
      "metadata": {
        "id": "Au86zMLVEkAm",
        "colab_type": "code",
        "colab": {}
      },
      "source": [
        "def makeFeatureDataset(df):\n",
        "  cycle_set=df['Cycle'].unique()\n",
        "  \n",
        "  data=[]\n",
        "  for i in range(len(cycle_set)):\n",
        "    val=[]\n",
        "    df_temp=df[df['Cycle']==cycle_set[i]]\n",
        "    #val.append(cycle_set[i])\n",
        "    val.append(float('%.3f'%(df_temp['Values'].mean())))\n",
        "    val.append(float('%.3f'%(df_temp['Values'].var())))\n",
        "    val.append(float('%.3f'%(df_temp['Values'].std())))\n",
        "    val.append(df_temp.iloc[0]['EndTime'])\n",
        "\n",
        "    data.append(val)\n",
        "    \n",
        "  col=['Mean', 'Variance', 'Std-Dev', 'EndTime']\n",
        "  df_feature = pd.DataFrame(data, columns = col)\n",
        "    \n",
        "  return df_feature"
      ],
      "execution_count": 0,
      "outputs": []
    },
    {
      "cell_type": "code",
      "metadata": {
        "id": "CLWlQDM5HpBu",
        "colab_type": "code",
        "colab": {}
      },
      "source": [
        "df_feature= makeFeatureDataset(df)"
      ],
      "execution_count": 0,
      "outputs": []
    },
    {
      "cell_type": "code",
      "metadata": {
        "id": "fYxEnOBZIdao",
        "colab_type": "code",
        "colab": {
          "base_uri": "https://localhost:8080/",
          "height": 202
        },
        "outputId": "d65d763c-971e-40d0-b407-3b6145872424"
      },
      "source": [
        "df_feature.head()"
      ],
      "execution_count": 44,
      "outputs": [
        {
          "output_type": "execute_result",
          "data": {
            "text/html": [
              "<div>\n",
              "<style scoped>\n",
              "    .dataframe tbody tr th:only-of-type {\n",
              "        vertical-align: middle;\n",
              "    }\n",
              "\n",
              "    .dataframe tbody tr th {\n",
              "        vertical-align: top;\n",
              "    }\n",
              "\n",
              "    .dataframe thead th {\n",
              "        text-align: right;\n",
              "    }\n",
              "</style>\n",
              "<table border=\"1\" class=\"dataframe\">\n",
              "  <thead>\n",
              "    <tr style=\"text-align: right;\">\n",
              "      <th></th>\n",
              "      <th>Mean</th>\n",
              "      <th>Variance</th>\n",
              "      <th>Std-Dev</th>\n",
              "      <th>EndTime</th>\n",
              "    </tr>\n",
              "  </thead>\n",
              "  <tbody>\n",
              "    <tr>\n",
              "      <th>0</th>\n",
              "      <td>16.970</td>\n",
              "      <td>2.257</td>\n",
              "      <td>1.502</td>\n",
              "      <td>3490.0</td>\n",
              "    </tr>\n",
              "    <tr>\n",
              "      <th>1</th>\n",
              "      <td>18.490</td>\n",
              "      <td>1.851</td>\n",
              "      <td>1.360</td>\n",
              "      <td>2556.0</td>\n",
              "    </tr>\n",
              "    <tr>\n",
              "      <th>2</th>\n",
              "      <td>15.356</td>\n",
              "      <td>8.570</td>\n",
              "      <td>2.928</td>\n",
              "      <td>3909.0</td>\n",
              "    </tr>\n",
              "    <tr>\n",
              "      <th>3</th>\n",
              "      <td>18.716</td>\n",
              "      <td>2.402</td>\n",
              "      <td>1.550</td>\n",
              "      <td>2113.0</td>\n",
              "    </tr>\n",
              "    <tr>\n",
              "      <th>4</th>\n",
              "      <td>16.926</td>\n",
              "      <td>5.426</td>\n",
              "      <td>2.329</td>\n",
              "      <td>2978.0</td>\n",
              "    </tr>\n",
              "  </tbody>\n",
              "</table>\n",
              "</div>"
            ],
            "text/plain": [
              "     Mean  Variance  Std-Dev  EndTime\n",
              "0  16.970     2.257    1.502   3490.0\n",
              "1  18.490     1.851    1.360   2556.0\n",
              "2  15.356     8.570    2.928   3909.0\n",
              "3  18.716     2.402    1.550   2113.0\n",
              "4  16.926     5.426    2.329   2978.0"
            ]
          },
          "metadata": {
            "tags": []
          },
          "execution_count": 44
        }
      ]
    },
    {
      "cell_type": "code",
      "metadata": {
        "id": "vCdb0fzeIfcM",
        "colab_type": "code",
        "colab": {
          "base_uri": "https://localhost:8080/",
          "height": 35
        },
        "outputId": "7faf9166-d30e-4bd6-c964-0017ce1b35a2"
      },
      "source": [
        "len(df_feature)"
      ],
      "execution_count": 45,
      "outputs": [
        {
          "output_type": "execute_result",
          "data": {
            "text/plain": [
              "40"
            ]
          },
          "metadata": {
            "tags": []
          },
          "execution_count": 45
        }
      ]
    },
    {
      "cell_type": "code",
      "metadata": {
        "id": "WnfLwH-4JhP8",
        "colab_type": "code",
        "colab": {}
      },
      "source": [
        ""
      ],
      "execution_count": 0,
      "outputs": []
    }
  ]
}