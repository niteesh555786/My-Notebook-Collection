{
  "nbformat": 4,
  "nbformat_minor": 0,
  "metadata": {
    "colab": {
      "name": "Problem 1.ipynb",
      "version": "0.3.2",
      "provenance": [],
      "collapsed_sections": [],
      "include_colab_link": true
    },
    "kernelspec": {
      "name": "python3",
      "display_name": "Python 3"
    },
    "accelerator": "GPU"
  },
  "cells": [
    {
      "cell_type": "markdown",
      "metadata": {
        "id": "view-in-github",
        "colab_type": "text"
      },
      "source": [
        "<a href=\"https://colab.research.google.com/github/niteshkumartiwari/My-Notebook-Collection/blob/master/Problem_1.ipynb\" target=\"_parent\"><img src=\"https://colab.research.google.com/assets/colab-badge.svg\" alt=\"Open In Colab\"/></a>"
      ]
    },
    {
      "cell_type": "code",
      "metadata": {
        "id": "9hrLamVEAiLi",
        "colab_type": "code",
        "colab": {}
      },
      "source": [
        "import pandas as pd\n",
        "import numpy as np\n",
        "import seaborn as sns\n",
        "import matplotlib.pyplot as plt\n",
        "%matplotlib inline"
      ],
      "execution_count": 0,
      "outputs": []
    },
    {
      "cell_type": "code",
      "metadata": {
        "id": "qoMy91DrEXAv",
        "colab_type": "code",
        "colab": {}
      },
      "source": [
        "!wget -O train.csv \"https://www.dropbox.com/sh/ti9ta6mzdx56x1f/AAA-JbNaAHzMs_Xs3xwu7K53a/Training.csv?dl=0\""
      ],
      "execution_count": 0,
      "outputs": []
    },
    {
      "cell_type": "code",
      "metadata": {
        "id": "v_25CtmUG6cU",
        "colab_type": "code",
        "colab": {}
      },
      "source": [
        "!wget -O test.csv \"https://www.dropbox.com/sh/ti9ta6mzdx56x1f/AACZjJ4lHrh_RTDaCsQ5HeKia/Testing.csv?dl=0\""
      ],
      "execution_count": 0,
      "outputs": []
    },
    {
      "cell_type": "code",
      "metadata": {
        "id": "ssUYlorIDTtk",
        "colab_type": "code",
        "colab": {}
      },
      "source": [
        "!wget -O sample.csv \"https://www.dropbox.com/sh/ti9ta6mzdx56x1f/AACGdX2acMpsNpia_7FN_2c9a/Sample%20Submission.csv?dl=0\""
      ],
      "execution_count": 0,
      "outputs": []
    },
    {
      "cell_type": "code",
      "metadata": {
        "id": "lntE5RUtDihP",
        "colab_type": "code",
        "outputId": "068c2525-9da9-479e-ba1f-2b0f463cf1ba",
        "colab": {
          "base_uri": "https://localhost:8080/",
          "height": 34
        }
      },
      "source": [
        "!ls"
      ],
      "execution_count": 6,
      "outputs": [
        {
          "output_type": "stream",
          "text": [
            "sample.csv  sample_data  test.csv  train.csv\n"
          ],
          "name": "stdout"
        }
      ]
    },
    {
      "cell_type": "markdown",
      "metadata": {
        "id": "YHYvLX4BDuI9",
        "colab_type": "text"
      },
      "source": [
        "#DataSet v1 Analysis"
      ]
    },
    {
      "cell_type": "code",
      "metadata": {
        "id": "RJJlLoxnDron",
        "colab_type": "code",
        "colab": {}
      },
      "source": [
        "df=pd.read_csv('train.csv')"
      ],
      "execution_count": 0,
      "outputs": []
    },
    {
      "cell_type": "code",
      "metadata": {
        "id": "MfwS_eiZD4NX",
        "colab_type": "code",
        "outputId": "2c97effa-3ca6-42b2-fc5b-f6631782d6bd",
        "colab": {
          "base_uri": "https://localhost:8080/",
          "height": 202
        }
      },
      "source": [
        "df.head()"
      ],
      "execution_count": 0,
      "outputs": [
        {
          "output_type": "execute_result",
          "data": {
            "text/html": [
              "<div>\n",
              "<style scoped>\n",
              "    .dataframe tbody tr th:only-of-type {\n",
              "        vertical-align: middle;\n",
              "    }\n",
              "\n",
              "    .dataframe tbody tr th {\n",
              "        vertical-align: top;\n",
              "    }\n",
              "\n",
              "    .dataframe thead th {\n",
              "        text-align: right;\n",
              "    }\n",
              "</style>\n",
              "<table border=\"1\" class=\"dataframe\">\n",
              "  <thead>\n",
              "    <tr style=\"text-align: right;\">\n",
              "      <th></th>\n",
              "      <th>Cycle</th>\n",
              "      <th>Type</th>\n",
              "      <th>EndTime</th>\n",
              "      <th>Time</th>\n",
              "      <th>Values</th>\n",
              "    </tr>\n",
              "  </thead>\n",
              "  <tbody>\n",
              "    <tr>\n",
              "      <th>0</th>\n",
              "      <td>2</td>\n",
              "      <td>2</td>\n",
              "      <td>3490.0</td>\n",
              "      <td>101.0</td>\n",
              "      <td>20.402</td>\n",
              "    </tr>\n",
              "    <tr>\n",
              "      <th>1</th>\n",
              "      <td>2</td>\n",
              "      <td>2</td>\n",
              "      <td>3490.0</td>\n",
              "      <td>102.0</td>\n",
              "      <td>20.402</td>\n",
              "    </tr>\n",
              "    <tr>\n",
              "      <th>2</th>\n",
              "      <td>2</td>\n",
              "      <td>2</td>\n",
              "      <td>3490.0</td>\n",
              "      <td>103.0</td>\n",
              "      <td>20.402</td>\n",
              "    </tr>\n",
              "    <tr>\n",
              "      <th>3</th>\n",
              "      <td>2</td>\n",
              "      <td>2</td>\n",
              "      <td>3490.0</td>\n",
              "      <td>104.0</td>\n",
              "      <td>20.402</td>\n",
              "    </tr>\n",
              "    <tr>\n",
              "      <th>4</th>\n",
              "      <td>2</td>\n",
              "      <td>2</td>\n",
              "      <td>3490.0</td>\n",
              "      <td>105.0</td>\n",
              "      <td>20.402</td>\n",
              "    </tr>\n",
              "  </tbody>\n",
              "</table>\n",
              "</div>"
            ],
            "text/plain": [
              "   Cycle  Type  EndTime   Time  Values\n",
              "0      2     2   3490.0  101.0  20.402\n",
              "1      2     2   3490.0  102.0  20.402\n",
              "2      2     2   3490.0  103.0  20.402\n",
              "3      2     2   3490.0  104.0  20.402\n",
              "4      2     2   3490.0  105.0  20.402"
            ]
          },
          "metadata": {
            "tags": []
          },
          "execution_count": 13
        }
      ]
    },
    {
      "cell_type": "code",
      "metadata": {
        "id": "PZdrkAqAEfRu",
        "colab_type": "code",
        "outputId": "a557de44-8896-4946-a30c-3d8965f71137",
        "colab": {
          "base_uri": "https://localhost:8080/",
          "height": 301
        }
      },
      "source": [
        "sns.boxplot(\"Values\", data=df[df['Cycle']==2])\n",
        "sns.swarmplot(\"Values\", data=df[df['Cycle']==2], color=\".25\")"
      ],
      "execution_count": 0,
      "outputs": [
        {
          "output_type": "execute_result",
          "data": {
            "text/plain": [
              "<matplotlib.axes._subplots.AxesSubplot at 0x7fed9a141c88>"
            ]
          },
          "metadata": {
            "tags": []
          },
          "execution_count": 48
        },
        {
          "output_type": "display_data",
          "data": {
            "image/png": "[encoded data removed]",
            "text/plain": [
              "<Figure size 432x288 with 1 Axes>"
            ]
          },
          "metadata": {
            "tags": []
          }
        }
      ]
    },
    {
      "cell_type": "markdown",
      "metadata": {
        "id": "FrQh2czrZN87",
        "colab_type": "text"
      },
      "source": [
        "(**To-Do**)\n",
        "*We can clip off the training data set till 1800. as req in test data*"
      ]
    },
    {
      "cell_type": "code",
      "metadata": {
        "id": "Au86zMLVEkAm",
        "colab_type": "code",
        "colab": {}
      },
      "source": [
        "def makeFeatureDataset(df):\n",
        "  cycle_set=df['Cycle'].unique()\n",
        "  \n",
        "  data=[]\n",
        "  for i in range(len(cycle_set)):\n",
        "    val=[]\n",
        "    df_temp=df[df['Cycle']==cycle_set[i]]\n",
        "    #val.append(cycle_set[i])\n",
        "    val.append(float('%.3f'%(df_temp['Values'].mean())))\n",
        "    val.append(float('%.3f'%(df_temp['Values'].var())))\n",
        "    val.append(float('%.3f'%(df_temp['Values'].std())))\n",
        "    val.append(float('%.3f'%(df_temp['Values'].quantile(0.25))))\n",
        "    val.append(float('%.3f'%(df_temp['Values'].quantile(0.75))))\n",
        "    val.append(df_temp.iloc[0]['EndTime'])\n",
        "\n",
        "    data.append(val)\n",
        "    \n",
        "  col=['Mean', 'Variance', 'Std-Dev', '25-Quartile', '75-Quartile', 'EndTime']\n",
        "  df_feature = pd.DataFrame(data, columns = col)\n",
        "    \n",
        "  return df_feature"
      ],
      "execution_count": 0,
      "outputs": []
    },
    {
      "cell_type": "code",
      "metadata": {
        "id": "CLWlQDM5HpBu",
        "colab_type": "code",
        "colab": {}
      },
      "source": [
        "df_feature= makeFeatureDataset(df)"
      ],
      "execution_count": 0,
      "outputs": []
    },
    {
      "cell_type": "code",
      "metadata": {
        "id": "Bk4RyO-TpQaS",
        "colab_type": "code",
        "colab": {}
      },
      "source": [
        "df_feature['IQR']=df_feature['75-Quartile']-df_feature['25-Quartile']"
      ],
      "execution_count": 0,
      "outputs": []
    },
    {
      "cell_type": "code",
      "metadata": {
        "id": "fYxEnOBZIdao",
        "colab_type": "code",
        "outputId": "5cf8d9ee-d1ea-4da3-b5d7-6be241c60cce",
        "colab": {
          "base_uri": "https://localhost:8080/",
          "height": 204
        }
      },
      "source": [
        "df_feature.head()"
      ],
      "execution_count": 12,
      "outputs": [
        {
          "output_type": "execute_result",
          "data": {
            "text/html": [
              "<div>\n",
              "<style scoped>\n",
              "    .dataframe tbody tr th:only-of-type {\n",
              "        vertical-align: middle;\n",
              "    }\n",
              "\n",
              "    .dataframe tbody tr th {\n",
              "        vertical-align: top;\n",
              "    }\n",
              "\n",
              "    .dataframe thead th {\n",
              "        text-align: right;\n",
              "    }\n",
              "</style>\n",
              "<table border=\"1\" class=\"dataframe\">\n",
              "  <thead>\n",
              "    <tr style=\"text-align: right;\">\n",
              "      <th></th>\n",
              "      <th>Mean</th>\n",
              "      <th>Variance</th>\n",
              "      <th>Std-Dev</th>\n",
              "      <th>25-Quartile</th>\n",
              "      <th>75-Quartile</th>\n",
              "      <th>EndTime</th>\n",
              "      <th>IQR</th>\n",
              "    </tr>\n",
              "  </thead>\n",
              "  <tbody>\n",
              "    <tr>\n",
              "      <th>0</th>\n",
              "      <td>16.970</td>\n",
              "      <td>2.257</td>\n",
              "      <td>1.502</td>\n",
              "      <td>15.677</td>\n",
              "      <td>17.795</td>\n",
              "      <td>3490.0</td>\n",
              "      <td>2.118</td>\n",
              "    </tr>\n",
              "    <tr>\n",
              "      <th>1</th>\n",
              "      <td>18.490</td>\n",
              "      <td>1.851</td>\n",
              "      <td>1.360</td>\n",
              "      <td>17.133</td>\n",
              "      <td>19.910</td>\n",
              "      <td>2556.0</td>\n",
              "      <td>2.777</td>\n",
              "    </tr>\n",
              "    <tr>\n",
              "      <th>2</th>\n",
              "      <td>15.356</td>\n",
              "      <td>8.570</td>\n",
              "      <td>2.928</td>\n",
              "      <td>12.124</td>\n",
              "      <td>18.067</td>\n",
              "      <td>3909.0</td>\n",
              "      <td>5.943</td>\n",
              "    </tr>\n",
              "    <tr>\n",
              "      <th>3</th>\n",
              "      <td>18.716</td>\n",
              "      <td>2.402</td>\n",
              "      <td>1.550</td>\n",
              "      <td>16.947</td>\n",
              "      <td>20.182</td>\n",
              "      <td>2113.0</td>\n",
              "      <td>3.235</td>\n",
              "    </tr>\n",
              "    <tr>\n",
              "      <th>4</th>\n",
              "      <td>16.926</td>\n",
              "      <td>5.426</td>\n",
              "      <td>2.329</td>\n",
              "      <td>14.253</td>\n",
              "      <td>19.002</td>\n",
              "      <td>2978.0</td>\n",
              "      <td>4.749</td>\n",
              "    </tr>\n",
              "  </tbody>\n",
              "</table>\n",
              "</div>"
            ],
            "text/plain": [
              "     Mean  Variance  Std-Dev  25-Quartile  75-Quartile  EndTime    IQR\n",
              "0  16.970     2.257    1.502       15.677       17.795   3490.0  2.118\n",
              "1  18.490     1.851    1.360       17.133       19.910   2556.0  2.777\n",
              "2  15.356     8.570    2.928       12.124       18.067   3909.0  5.943\n",
              "3  18.716     2.402    1.550       16.947       20.182   2113.0  3.235\n",
              "4  16.926     5.426    2.329       14.253       19.002   2978.0  4.749"
            ]
          },
          "metadata": {
            "tags": []
          },
          "execution_count": 12
        }
      ]
    },
    {
      "cell_type": "code",
      "metadata": {
        "id": "vCdb0fzeIfcM",
        "colab_type": "code",
        "outputId": "bf229e0e-7e74-44fd-d5e3-06d72136ebbe",
        "colab": {
          "base_uri": "https://localhost:8080/",
          "height": 34
        }
      },
      "source": [
        "len(df_feature)"
      ],
      "execution_count": 13,
      "outputs": [
        {
          "output_type": "execute_result",
          "data": {
            "text/plain": [
              "40"
            ]
          },
          "metadata": {
            "tags": []
          },
          "execution_count": 13
        }
      ]
    },
    {
      "cell_type": "markdown",
      "metadata": {
        "id": "Clot1nBIOsTf",
        "colab_type": "text"
      },
      "source": [
        "#Analysis of Each Feature with #EndTime"
      ]
    },
    {
      "cell_type": "markdown",
      "metadata": {
        "id": "_QILfTlNPok-",
        "colab_type": "text"
      },
      "source": [
        "## 1.Finding PairWise RelationShip"
      ]
    },
    {
      "cell_type": "code",
      "metadata": {
        "id": "0o8tNT5wPtPO",
        "colab_type": "code",
        "outputId": "e3148545-d443-4085-c854-457ba45d6327",
        "colab": {
          "base_uri": "https://localhost:8080/",
          "height": 1000
        }
      },
      "source": [
        "sns.pairplot(df_feature);"
      ],
      "execution_count": 14,
      "outputs": [
        {
          "output_type": "display_data",
          "data": {
            "image/png": "[encoded data removed]",
            "text/plain": [
              "<Figure size 1260x1260 with 56 Axes>"
            ]
          },
          "metadata": {
            "tags": []
          }
        }
      ]
    },
    {
      "cell_type": "markdown",
      "metadata": {
        "id": "TNZWpC3GQpiI",
        "colab_type": "text"
      },
      "source": [
        "## 2. Generating a Correlation Matrix between features"
      ]
    },
    {
      "cell_type": "code",
      "metadata": {
        "id": "S5JsP7OKPWf1",
        "colab_type": "code",
        "outputId": "fcbdfb25-2dd0-4c2f-9dac-6353fe5597aa",
        "colab": {
          "base_uri": "https://localhost:8080/",
          "height": 558
        }
      },
      "source": [
        "# Compute the correlation matrix\n",
        "corr = df_feature.corr()\n",
        "\n",
        "# Generate a mask for the upper triangle\n",
        "mask = np.zeros_like(corr, dtype=np.bool)\n",
        "mask[np.triu_indices_from(mask)] = True\n",
        "\n",
        "# Set up the matplotlib figure\n",
        "f, ax = plt.subplots(figsize=(11, 9))\n",
        "\n",
        "# Generate a custom diverging colormap\n",
        "cmap = sns.diverging_palette(220, 10, as_cmap=True)\n",
        "\n",
        "# Draw the heatmap with the mask and correct aspect ratio\n",
        "sns.heatmap(corr, mask=mask, cmap=cmap, vmax=.3, center=0,\n",
        "            square=True, linewidths=.5, cbar_kws={\"shrink\": .5})"
      ],
      "execution_count": 15,
      "outputs": [
        {
          "output_type": "execute_result",
          "data": {
            "text/plain": [
              "<matplotlib.axes._subplots.AxesSubplot at 0x7f91f8d9ea90>"
            ]
          },
          "metadata": {
            "tags": []
          },
          "execution_count": 15
        },
        {
          "output_type": "display_data",
          "data": {
            "image/png": "[encoded data removed]",
            "text/plain": [
              "<Figure size 792x648 with 2 Axes>"
            ]
          },
          "metadata": {
            "tags": []
          }
        }
      ]
    },
    {
      "cell_type": "code",
      "metadata": {
        "id": "uNvfBCDKRFKf",
        "colab_type": "code",
        "outputId": "fdf0c265-914e-4830-9ef5-73739f0b49c6",
        "colab": {
          "base_uri": "https://localhost:8080/",
          "height": 332
        }
      },
      "source": [
        "#Using Pearson Correlation\n",
        "sns.heatmap(corr, annot=True, cmap=plt.cm.Reds)"
      ],
      "execution_count": 16,
      "outputs": [
        {
          "output_type": "execute_result",
          "data": {
            "text/plain": [
              "<matplotlib.axes._subplots.AxesSubplot at 0x7f91f923eb70>"
            ]
          },
          "metadata": {
            "tags": []
          },
          "execution_count": 16
        },
        {
          "output_type": "display_data",
          "data": {
            "image/png": "[encoded data removed]",
            "text/plain": [
              "<Figure size 432x288 with 2 Axes>"
            ]
          },
          "metadata": {
            "tags": []
          }
        }
      ]
    },
    {
      "cell_type": "markdown",
      "metadata": {
        "id": "XXkrZwnJS1Ro",
        "colab_type": "text"
      },
      "source": [
        "# Feature Selection"
      ]
    },
    {
      "cell_type": "markdown",
      "metadata": {
        "id": "MT2M3oGiS5cE",
        "colab_type": "text"
      },
      "source": [
        "## 1. Filter Method"
      ]
    },
    {
      "cell_type": "markdown",
      "metadata": {
        "id": "zM7aSFBBdcQk",
        "colab_type": "text"
      },
      "source": [
        "We feed all the possible features to the model at first. We check the performance of the model and then iteratively remove the worst performing features one by one till the overall performance of the model comes in acceptable range.\n",
        "\n",
        "The performance metric used here to evaluate feature performance is pvalue. If the pvalue is above 0.05 then we remove the feature, else we keep it.\n",
        "\n",
        "We will first run one iteration here just to get an idea of the concept and then we will run the same code in a loop, which will give the final set of features. Here we are using OLS model which stands for “Ordinary Least Squares”. This model is used for performing linear regression."
      ]
    },
    {
      "cell_type": "code",
      "metadata": {
        "id": "7TqHa-RPRjTx",
        "colab_type": "code",
        "outputId": "ec533ab3-5c5f-4d81-aa34-44fbe13dd2dd",
        "colab": {
          "base_uri": "https://localhost:8080/",
          "height": 102
        }
      },
      "source": [
        "#Correlation with output variable\n",
        "cor_target = abs(corr[\"EndTime\"])\n",
        "#Selecting highly correlated features\n",
        "relevant_features = cor_target[cor_target>0.4]\n",
        "relevant_features"
      ],
      "execution_count": 17,
      "outputs": [
        {
          "output_type": "execute_result",
          "data": {
            "text/plain": [
              "Mean           0.486528\n",
              "25-Quartile    0.445167\n",
              "75-Quartile    0.559713\n",
              "EndTime        1.000000\n",
              "Name: EndTime, dtype: float64"
            ]
          },
          "metadata": {
            "tags": []
          },
          "execution_count": 17
        }
      ]
    },
    {
      "cell_type": "code",
      "metadata": {
        "id": "xJDu2yD9THgR",
        "colab_type": "code",
        "outputId": "a44bd598-37fd-45a3-c450-ec40f257ec0e",
        "colab": {
          "base_uri": "https://localhost:8080/",
          "height": 119
        }
      },
      "source": [
        "#Checking Internal Feature Correlation\n",
        "print(df_feature[[\"25-Quartile\",\"75-Quartile\"]].corr())\n",
        "print(df_feature[[\"25-Quartile\",\"Mean\"]].corr())"
      ],
      "execution_count": 18,
      "outputs": [
        {
          "output_type": "stream",
          "text": [
            "             25-Quartile  75-Quartile\n",
            "25-Quartile     1.000000     0.877172\n",
            "75-Quartile     0.877172     1.000000\n",
            "             25-Quartile      Mean\n",
            "25-Quartile     1.000000  0.985775\n",
            "Mean            0.985775  1.000000\n"
          ],
          "name": "stdout"
        }
      ]
    },
    {
      "cell_type": "markdown",
      "metadata": {
        "id": "R9FcnFrUUAbA",
        "colab_type": "text"
      },
      "source": [
        "1. *25- Quartile and Mean are strictly related. Need to drop one before predicting.*\n",
        "2. *We can combine 25Quartile and 75Quartile into one feature i.e. (75Q-25Q) that will be interQuartile Range.*"
      ]
    },
    {
      "cell_type": "markdown",
      "metadata": {
        "id": "zFq3GDW6U3WQ",
        "colab_type": "text"
      },
      "source": [
        "## 2. Wrapper Method"
      ]
    },
    {
      "cell_type": "markdown",
      "metadata": {
        "id": "JHq9GZImdp9i",
        "colab_type": "text"
      },
      "source": [
        "A wrapper method needs one machine learning algorithm and uses its performance as evaluation criteria. This means, you feed the features to the selected Machine Learning algorithm and based on the model performance you add/remove the features. This is an iterative and computationally expensive process but it is more accurate than the filter method.\n",
        "\n",
        "There are different wrapper methods such as Backward Elimination, Forward Selection, Bidirectional Elimination and RFE. We will discuss Backward Elimination and RFE here."
      ]
    },
    {
      "cell_type": "markdown",
      "metadata": {
        "id": "Rr6gjwHQVB-A",
        "colab_type": "text"
      },
      "source": [
        "### i. Backward Elimination"
      ]
    },
    {
      "cell_type": "markdown",
      "metadata": {
        "id": "8HtTS5VJdvPm",
        "colab_type": "text"
      },
      "source": [
        "We check the performance of the model and then iteratively remove the worst performing features one by one till the overall performance of the model comes in acceptable range.\n",
        "\n",
        "The performance metric used here to evaluate feature performance is pvalue. If the pvalue is above 0.05 then we remove the feature, else we keep it.\n",
        "\n",
        "We will first run one iteration here just to get an idea of the concept and then we will run the same code in a loop, which will give the final set of features. Here we are using OLS model which stands for “Ordinary Least Squares”. This model is used for performing linear regression."
      ]
    },
    {
      "cell_type": "code",
      "metadata": {
        "id": "8NipM52jVpDI",
        "colab_type": "code",
        "colab": {}
      },
      "source": [
        "X=df_feature[['Mean','Variance','Std-Dev','25-Quartile','75-Quartile','IQR']]\n",
        "Y=df_feature[['EndTime']]"
      ],
      "execution_count": 0,
      "outputs": []
    },
    {
      "cell_type": "code",
      "metadata": {
        "id": "7493yN1aW__s",
        "colab_type": "code",
        "colab": {
          "base_uri": "https://localhost:8080/",
          "height": 136
        },
        "outputId": "3c58d94f-9777-4bd3-948b-317538860a8a"
      },
      "source": [
        "#install if sm throws error\n",
        "!pip install statsmodels==0.10.0rc2 --pre"
      ],
      "execution_count": 20,
      "outputs": [
        {
          "output_type": "stream",
          "text": [
            "      Successfully uninstalled statsmodels-0.10.0\n",
            "Successfully installed statsmodels-0.10.0rc2\n"
          ],
          "name": "stdout"
        },
        {
          "output_type": "display_data",
          "data": {
            "application/vnd.colab-display-data+json": {
              "pip_warning": {
                "packages": [
                  "statsmodels"
                ]
              }
            }
          },
          "metadata": {
            "tags": []
          }
        }
      ]
    },
    {
      "cell_type": "code",
      "metadata": {
        "id": "cY_q04YjTl30",
        "colab_type": "code",
        "outputId": "cabc406f-7b60-43f9-917c-6e4649560a6e",
        "colab": {
          "base_uri": "https://localhost:8080/",
          "height": 207
        }
      },
      "source": [
        "import statsmodels.api as sm\n",
        "\n",
        "#Adding constant column of ones, mandatory for sm.OLS model\n",
        "X_1 = sm.add_constant(X)\n",
        "#Fitting sm.OLS model\n",
        "model = sm.OLS(Y,X_1).fit()\n",
        "model.pvalues"
      ],
      "execution_count": 21,
      "outputs": [
        {
          "output_type": "stream",
          "text": [
            "/usr/local/lib/python3.6/dist-packages/numpy/core/fromnumeric.py:2389: FutureWarning: Method .ptp is deprecated and will be removed in a future version. Use numpy.ptp instead.\n",
            "  return ptp(axis=axis, out=out, **kwargs)\n"
          ],
          "name": "stderr"
        },
        {
          "output_type": "execute_result",
          "data": {
            "text/plain": [
              "const          0.334244\n",
              "Mean           0.931385\n",
              "Variance       0.272889\n",
              "Std-Dev        0.003623\n",
              "25-Quartile    0.293670\n",
              "75-Quartile    0.464863\n",
              "IQR            0.000963\n",
              "dtype: float64"
            ]
          },
          "metadata": {
            "tags": []
          },
          "execution_count": 21
        }
      ]
    },
    {
      "cell_type": "code",
      "metadata": {
        "id": "qwAVwEgUWn8k",
        "colab_type": "code",
        "outputId": "403837ad-f4ca-4401-e374-57cce298c39f",
        "colab": {
          "base_uri": "https://localhost:8080/",
          "height": 88
        }
      },
      "source": [
        "#Backward Elimination\n",
        "cols = list(X.columns)\n",
        "pmax = 1\n",
        "while (len(cols)>0):\n",
        "    p= []\n",
        "    X_1 = X[cols]\n",
        "    X_1 = sm.add_constant(X_1)\n",
        "    model = sm.OLS(Y,X_1).fit()\n",
        "    p = pd.Series(model.pvalues.values[1:],index = cols)      \n",
        "    pmax = max(p)\n",
        "    feature_with_p_max = p.idxmax()\n",
        "    if(pmax>0.05):\n",
        "        cols.remove(feature_with_p_max)\n",
        "    else:\n",
        "        break\n",
        "selected_features_BE = cols\n",
        "print(selected_features_BE)"
      ],
      "execution_count": 22,
      "outputs": [
        {
          "output_type": "stream",
          "text": [
            "['Std-Dev', '25-Quartile', '75-Quartile', 'IQR']\n"
          ],
          "name": "stdout"
        },
        {
          "output_type": "stream",
          "text": [
            "/usr/local/lib/python3.6/dist-packages/numpy/core/fromnumeric.py:2389: FutureWarning: Method .ptp is deprecated and will be removed in a future version. Use numpy.ptp instead.\n",
            "  return ptp(axis=axis, out=out, **kwargs)\n"
          ],
          "name": "stderr"
        }
      ]
    },
    {
      "cell_type": "markdown",
      "metadata": {
        "id": "6n43aWwqY1jK",
        "colab_type": "text"
      },
      "source": [
        "###ii. Recursive Feature Elimination"
      ]
    },
    {
      "cell_type": "markdown",
      "metadata": {
        "id": "1g0lD5dYd0CS",
        "colab_type": "text"
      },
      "source": [
        "The Recursive Feature Elimination (RFE) method works by recursively removing attributes and building a model on those attributes that remain. It uses accuracy metric to rank the feature according to their importance. The RFE method takes the model to be used and the number of required features as input. It then gives the ranking of all the variables, 1 being most important. It also gives its support, True being relevant feature and False being irrelevant feature."
      ]
    },
    {
      "cell_type": "code",
      "metadata": {
        "id": "22oeRMZiYlaV",
        "colab_type": "code",
        "outputId": "2e34b578-7f63-40b4-a63e-b381347f30e0",
        "colab": {
          "base_uri": "https://localhost:8080/",
          "height": 122
        }
      },
      "source": [
        "from sklearn.linear_model import LinearRegression\n",
        "from sklearn.feature_selection import RFE\n",
        "\n",
        "model = LinearRegression()\n",
        "#Initializing RFE model\n",
        "rfe = RFE(model, 2)\n",
        "#Transforming data using RFE\n",
        "X_rfe = rfe.fit_transform(X,Y)  \n",
        "#Fitting the data to model\n",
        "model.fit(X_rfe,Y)\n",
        "print(rfe.support_)\n",
        "print(rfe.ranking_)\n",
        "print(X.columns)"
      ],
      "execution_count": 25,
      "outputs": [
        {
          "output_type": "stream",
          "text": [
            "[False False False  True  True False]\n",
            "[5 4 3 1 1 2]\n",
            "Index(['Mean', 'Variance', 'Std-Dev', '25-Quartile', '75-Quartile', 'IQR'], dtype='object')\n"
          ],
          "name": "stdout"
        },
        {
          "output_type": "stream",
          "text": [
            "/usr/local/lib/python3.6/dist-packages/sklearn/utils/validation.py:724: DataConversionWarning: A column-vector y was passed when a 1d array was expected. Please change the shape of y to (n_samples, ), for example using ravel().\n",
            "  y = column_or_1d(y, warn=True)\n"
          ],
          "name": "stderr"
        }
      ]
    },
    {
      "cell_type": "code",
      "metadata": {
        "id": "k6GuZzXWZ21B",
        "colab_type": "code",
        "outputId": "af87b185-292d-4e3d-da1d-f474209ab7e6",
        "colab": {
          "base_uri": "https://localhost:8080/",
          "height": 207
        }
      },
      "source": [
        "from sklearn.model_selection import train_test_split\n",
        "\n",
        "#no of features\n",
        "nof_list=np.arange(1,5)            \n",
        "high_score=0\n",
        "#Variable to store the optimum features\n",
        "nof=0           \n",
        "score_list =[]\n",
        "for n in range(len(nof_list)):\n",
        "    X_train, X_test, y_train, y_test = train_test_split(X,Y, test_size = 0.2, random_state = 0)\n",
        "    model = LinearRegression()\n",
        "    rfe = RFE(model,nof_list[n])\n",
        "    X_train_rfe = rfe.fit_transform(X_train,y_train)\n",
        "    X_test_rfe = rfe.transform(X_test)\n",
        "    model.fit(X_train_rfe,y_train)\n",
        "    score = model.score(X_test_rfe,y_test)\n",
        "    score_list.append(score)\n",
        "    if(score>high_score):\n",
        "        high_score = score\n",
        "        nof = nof_list[n]\n",
        "print(\"Optimum number of features: %d\" %nof)\n",
        "print(\"Score with %d features: %f\" % (nof, high_score))"
      ],
      "execution_count": 26,
      "outputs": [
        {
          "output_type": "stream",
          "text": [
            "Optimum number of features: 3\n",
            "Score with 3 features: 0.735246\n"
          ],
          "name": "stdout"
        },
        {
          "output_type": "stream",
          "text": [
            "/usr/local/lib/python3.6/dist-packages/sklearn/utils/validation.py:724: DataConversionWarning: A column-vector y was passed when a 1d array was expected. Please change the shape of y to (n_samples, ), for example using ravel().\n",
            "  y = column_or_1d(y, warn=True)\n",
            "/usr/local/lib/python3.6/dist-packages/sklearn/utils/validation.py:724: DataConversionWarning: A column-vector y was passed when a 1d array was expected. Please change the shape of y to (n_samples, ), for example using ravel().\n",
            "  y = column_or_1d(y, warn=True)\n",
            "/usr/local/lib/python3.6/dist-packages/sklearn/utils/validation.py:724: DataConversionWarning: A column-vector y was passed when a 1d array was expected. Please change the shape of y to (n_samples, ), for example using ravel().\n",
            "  y = column_or_1d(y, warn=True)\n",
            "/usr/local/lib/python3.6/dist-packages/sklearn/utils/validation.py:724: DataConversionWarning: A column-vector y was passed when a 1d array was expected. Please change the shape of y to (n_samples, ), for example using ravel().\n",
            "  y = column_or_1d(y, warn=True)\n"
          ],
          "name": "stderr"
        }
      ]
    },
    {
      "cell_type": "code",
      "metadata": {
        "id": "D1G-AuSca_BI",
        "colab_type": "code",
        "outputId": "d5c1dd6e-8823-452a-af69-30595a4f871c",
        "colab": {
          "base_uri": "https://localhost:8080/",
          "height": 88
        }
      },
      "source": [
        "cols = list(X.columns)\n",
        "model = LinearRegression()\n",
        "#Initializing RFE model\n",
        "rfe = RFE(model, 4)             \n",
        "#Transforming data using RFE\n",
        "X_rfe = rfe.fit_transform(X,Y)  \n",
        "#Fitting the data to model\n",
        "model.fit(X_rfe,Y)              \n",
        "temp = pd.Series(rfe.support_,index = cols)\n",
        "selected_features_rfe = temp[temp==True].index\n",
        "print(selected_features_rfe)\n"
      ],
      "execution_count": 28,
      "outputs": [
        {
          "output_type": "stream",
          "text": [
            "Index(['Std-Dev', '25-Quartile', '75-Quartile', 'IQR'], dtype='object')\n"
          ],
          "name": "stdout"
        },
        {
          "output_type": "stream",
          "text": [
            "/usr/local/lib/python3.6/dist-packages/sklearn/utils/validation.py:724: DataConversionWarning: A column-vector y was passed when a 1d array was expected. Please change the shape of y to (n_samples, ), for example using ravel().\n",
            "  y = column_or_1d(y, warn=True)\n"
          ],
          "name": "stderr"
        }
      ]
    },
    {
      "cell_type": "markdown",
      "metadata": {
        "id": "uJxxoOmRdNwj",
        "colab_type": "text"
      },
      "source": [
        "### iii. Embedded Method"
      ]
    },
    {
      "cell_type": "markdown",
      "metadata": {
        "id": "CkblC0MFd4Ab",
        "colab_type": "text"
      },
      "source": [
        "Embedded methods are iterative in a sense that takes care of each iteration of the model training process and carefully extract those features which contribute the most to the training for a particular iteration. Regularization methods are the most commonly used embedded methods which penalize a feature given a coefficient threshold.\n",
        "Here we will do feature selection using Lasso regularization. If the feature is irrelevant, lasso penalizes it’s coefficient and make it 0. Hence the features with coefficient = 0 are removed and the rest are taken."
      ]
    },
    {
      "cell_type": "code",
      "metadata": {
        "id": "NFMNspuDdLwx",
        "colab_type": "code",
        "colab": {}
      },
      "source": [
        "from sklearn.linear_model import RidgeCV, LassoCV, Ridge, Lasso\n",
        "\n",
        "reg = LassoCV()\n",
        "reg.fit(X, Y)\n",
        "print(\"Best alpha using built-in LassoCV: %f\" % reg.alpha_)\n",
        "print(\"Best score using built-in LassoCV: %f\" %reg.score(X,Y))\n",
        "coef = pd.Series(reg.coef_, index = X.columns)\n",
        "\n",
        "print(\"Lasso picked \" + str(sum(coef != 0)) + \" variables and eliminated the other \" +  str(sum(coef == 0)) + \" variables\")"
      ],
      "execution_count": 0,
      "outputs": []
    },
    {
      "cell_type": "code",
      "metadata": {
        "id": "gt-7x2mheBlZ",
        "colab_type": "code",
        "outputId": "5778986a-7d8a-4a35-c1fb-1fccaa3a3b20",
        "colab": {
          "base_uri": "https://localhost:8080/",
          "height": 624
        }
      },
      "source": [
        "imp_coef = coef.sort_values()\n",
        "import matplotlib\n",
        "matplotlib.rcParams['figure.figsize'] = (8.0, 10.0)\n",
        "imp_coef.plot(kind = \"barh\")\n",
        "plt.title(\"Feature importance using Lasso Model\")"
      ],
      "execution_count": 30,
      "outputs": [
        {
          "output_type": "execute_result",
          "data": {
            "text/plain": [
              "Text(0.5, 1.0, 'Feature importance using Lasso Model')"
            ]
          },
          "metadata": {
            "tags": []
          },
          "execution_count": 30
        },
        {
          "output_type": "display_data",
          "data": {
            "image/png": "[encoded data removed]",
            "text/plain": [
              "<Figure size 576x720 with 1 Axes>"
            ]
          },
          "metadata": {
            "tags": []
          }
        }
      ]
    },
    {
      "cell_type": "markdown",
      "metadata": {
        "id": "nu_3XoJHf3s_",
        "colab_type": "text"
      },
      "source": [
        "# Modeling"
      ]
    },
    {
      "cell_type": "code",
      "metadata": {
        "id": "aV72vxvdekUi",
        "colab_type": "code",
        "outputId": "7377fa62-7dad-4f1e-b665-0a556da02c04",
        "colab": {
          "base_uri": "https://localhost:8080/",
          "height": 204
        }
      },
      "source": [
        "df_feature.head()"
      ],
      "execution_count": 31,
      "outputs": [
        {
          "output_type": "execute_result",
          "data": {
            "text/html": [
              "<div>\n",
              "<style scoped>\n",
              "    .dataframe tbody tr th:only-of-type {\n",
              "        vertical-align: middle;\n",
              "    }\n",
              "\n",
              "    .dataframe tbody tr th {\n",
              "        vertical-align: top;\n",
              "    }\n",
              "\n",
              "    .dataframe thead th {\n",
              "        text-align: right;\n",
              "    }\n",
              "</style>\n",
              "<table border=\"1\" class=\"dataframe\">\n",
              "  <thead>\n",
              "    <tr style=\"text-align: right;\">\n",
              "      <th></th>\n",
              "      <th>Mean</th>\n",
              "      <th>Variance</th>\n",
              "      <th>Std-Dev</th>\n",
              "      <th>25-Quartile</th>\n",
              "      <th>75-Quartile</th>\n",
              "      <th>EndTime</th>\n",
              "      <th>IQR</th>\n",
              "    </tr>\n",
              "  </thead>\n",
              "  <tbody>\n",
              "    <tr>\n",
              "      <th>0</th>\n",
              "      <td>16.970</td>\n",
              "      <td>2.257</td>\n",
              "      <td>1.502</td>\n",
              "      <td>15.677</td>\n",
              "      <td>17.795</td>\n",
              "      <td>3490.0</td>\n",
              "      <td>2.118</td>\n",
              "    </tr>\n",
              "    <tr>\n",
              "      <th>1</th>\n",
              "      <td>18.490</td>\n",
              "      <td>1.851</td>\n",
              "      <td>1.360</td>\n",
              "      <td>17.133</td>\n",
              "      <td>19.910</td>\n",
              "      <td>2556.0</td>\n",
              "      <td>2.777</td>\n",
              "    </tr>\n",
              "    <tr>\n",
              "      <th>2</th>\n",
              "      <td>15.356</td>\n",
              "      <td>8.570</td>\n",
              "      <td>2.928</td>\n",
              "      <td>12.124</td>\n",
              "      <td>18.067</td>\n",
              "      <td>3909.0</td>\n",
              "      <td>5.943</td>\n",
              "    </tr>\n",
              "    <tr>\n",
              "      <th>3</th>\n",
              "      <td>18.716</td>\n",
              "      <td>2.402</td>\n",
              "      <td>1.550</td>\n",
              "      <td>16.947</td>\n",
              "      <td>20.182</td>\n",
              "      <td>2113.0</td>\n",
              "      <td>3.235</td>\n",
              "    </tr>\n",
              "    <tr>\n",
              "      <th>4</th>\n",
              "      <td>16.926</td>\n",
              "      <td>5.426</td>\n",
              "      <td>2.329</td>\n",
              "      <td>14.253</td>\n",
              "      <td>19.002</td>\n",
              "      <td>2978.0</td>\n",
              "      <td>4.749</td>\n",
              "    </tr>\n",
              "  </tbody>\n",
              "</table>\n",
              "</div>"
            ],
            "text/plain": [
              "     Mean  Variance  Std-Dev  25-Quartile  75-Quartile  EndTime    IQR\n",
              "0  16.970     2.257    1.502       15.677       17.795   3490.0  2.118\n",
              "1  18.490     1.851    1.360       17.133       19.910   2556.0  2.777\n",
              "2  15.356     8.570    2.928       12.124       18.067   3909.0  5.943\n",
              "3  18.716     2.402    1.550       16.947       20.182   2113.0  3.235\n",
              "4  16.926     5.426    2.329       14.253       19.002   2978.0  4.749"
            ]
          },
          "metadata": {
            "tags": []
          },
          "execution_count": 31
        }
      ]
    },
    {
      "cell_type": "code",
      "metadata": {
        "id": "jbMi64uyg_g1",
        "colab_type": "code",
        "outputId": "a3eec653-7924-4c48-d77c-3c23a295f128",
        "colab": {
          "base_uri": "https://localhost:8080/",
          "height": 153
        }
      },
      "source": [
        "df_feature.dtypes"
      ],
      "execution_count": 32,
      "outputs": [
        {
          "output_type": "execute_result",
          "data": {
            "text/plain": [
              "Mean           float64\n",
              "Variance       float64\n",
              "Std-Dev        float64\n",
              "25-Quartile    float64\n",
              "75-Quartile    float64\n",
              "EndTime        float64\n",
              "IQR            float64\n",
              "dtype: object"
            ]
          },
          "metadata": {
            "tags": []
          },
          "execution_count": 32
        }
      ]
    },
    {
      "cell_type": "code",
      "metadata": {
        "id": "kmAKvX1dgCjD",
        "colab_type": "code",
        "outputId": "cea45574-da9d-41b9-ac8d-badb70d2ae42",
        "colab": {
          "base_uri": "https://localhost:8080/",
          "height": 204
        }
      },
      "source": [
        "X.head()"
      ],
      "execution_count": 33,
      "outputs": [
        {
          "output_type": "execute_result",
          "data": {
            "text/html": [
              "<div>\n",
              "<style scoped>\n",
              "    .dataframe tbody tr th:only-of-type {\n",
              "        vertical-align: middle;\n",
              "    }\n",
              "\n",
              "    .dataframe tbody tr th {\n",
              "        vertical-align: top;\n",
              "    }\n",
              "\n",
              "    .dataframe thead th {\n",
              "        text-align: right;\n",
              "    }\n",
              "</style>\n",
              "<table border=\"1\" class=\"dataframe\">\n",
              "  <thead>\n",
              "    <tr style=\"text-align: right;\">\n",
              "      <th></th>\n",
              "      <th>Mean</th>\n",
              "      <th>Variance</th>\n",
              "      <th>Std-Dev</th>\n",
              "      <th>25-Quartile</th>\n",
              "      <th>75-Quartile</th>\n",
              "      <th>IQR</th>\n",
              "    </tr>\n",
              "  </thead>\n",
              "  <tbody>\n",
              "    <tr>\n",
              "      <th>0</th>\n",
              "      <td>16.970</td>\n",
              "      <td>2.257</td>\n",
              "      <td>1.502</td>\n",
              "      <td>15.677</td>\n",
              "      <td>17.795</td>\n",
              "      <td>2.118</td>\n",
              "    </tr>\n",
              "    <tr>\n",
              "      <th>1</th>\n",
              "      <td>18.490</td>\n",
              "      <td>1.851</td>\n",
              "      <td>1.360</td>\n",
              "      <td>17.133</td>\n",
              "      <td>19.910</td>\n",
              "      <td>2.777</td>\n",
              "    </tr>\n",
              "    <tr>\n",
              "      <th>2</th>\n",
              "      <td>15.356</td>\n",
              "      <td>8.570</td>\n",
              "      <td>2.928</td>\n",
              "      <td>12.124</td>\n",
              "      <td>18.067</td>\n",
              "      <td>5.943</td>\n",
              "    </tr>\n",
              "    <tr>\n",
              "      <th>3</th>\n",
              "      <td>18.716</td>\n",
              "      <td>2.402</td>\n",
              "      <td>1.550</td>\n",
              "      <td>16.947</td>\n",
              "      <td>20.182</td>\n",
              "      <td>3.235</td>\n",
              "    </tr>\n",
              "    <tr>\n",
              "      <th>4</th>\n",
              "      <td>16.926</td>\n",
              "      <td>5.426</td>\n",
              "      <td>2.329</td>\n",
              "      <td>14.253</td>\n",
              "      <td>19.002</td>\n",
              "      <td>4.749</td>\n",
              "    </tr>\n",
              "  </tbody>\n",
              "</table>\n",
              "</div>"
            ],
            "text/plain": [
              "     Mean  Variance  Std-Dev  25-Quartile  75-Quartile    IQR\n",
              "0  16.970     2.257    1.502       15.677       17.795  2.118\n",
              "1  18.490     1.851    1.360       17.133       19.910  2.777\n",
              "2  15.356     8.570    2.928       12.124       18.067  5.943\n",
              "3  18.716     2.402    1.550       16.947       20.182  3.235\n",
              "4  16.926     5.426    2.329       14.253       19.002  4.749"
            ]
          },
          "metadata": {
            "tags": []
          },
          "execution_count": 33
        }
      ]
    },
    {
      "cell_type": "code",
      "metadata": {
        "id": "ZBVB9XNjgENK",
        "colab_type": "code",
        "outputId": "fb227a46-48f8-4d46-a769-44c689076525",
        "colab": {
          "base_uri": "https://localhost:8080/",
          "height": 204
        }
      },
      "source": [
        "Y.head()"
      ],
      "execution_count": 34,
      "outputs": [
        {
          "output_type": "execute_result",
          "data": {
            "text/html": [
              "<div>\n",
              "<style scoped>\n",
              "    .dataframe tbody tr th:only-of-type {\n",
              "        vertical-align: middle;\n",
              "    }\n",
              "\n",
              "    .dataframe tbody tr th {\n",
              "        vertical-align: top;\n",
              "    }\n",
              "\n",
              "    .dataframe thead th {\n",
              "        text-align: right;\n",
              "    }\n",
              "</style>\n",
              "<table border=\"1\" class=\"dataframe\">\n",
              "  <thead>\n",
              "    <tr style=\"text-align: right;\">\n",
              "      <th></th>\n",
              "      <th>EndTime</th>\n",
              "    </tr>\n",
              "  </thead>\n",
              "  <tbody>\n",
              "    <tr>\n",
              "      <th>0</th>\n",
              "      <td>3490.0</td>\n",
              "    </tr>\n",
              "    <tr>\n",
              "      <th>1</th>\n",
              "      <td>2556.0</td>\n",
              "    </tr>\n",
              "    <tr>\n",
              "      <th>2</th>\n",
              "      <td>3909.0</td>\n",
              "    </tr>\n",
              "    <tr>\n",
              "      <th>3</th>\n",
              "      <td>2113.0</td>\n",
              "    </tr>\n",
              "    <tr>\n",
              "      <th>4</th>\n",
              "      <td>2978.0</td>\n",
              "    </tr>\n",
              "  </tbody>\n",
              "</table>\n",
              "</div>"
            ],
            "text/plain": [
              "   EndTime\n",
              "0   3490.0\n",
              "1   2556.0\n",
              "2   3909.0\n",
              "3   2113.0\n",
              "4   2978.0"
            ]
          },
          "metadata": {
            "tags": []
          },
          "execution_count": 34
        }
      ]
    },
    {
      "cell_type": "code",
      "metadata": {
        "id": "cwu-3Lf_gItK",
        "colab_type": "code",
        "colab": {}
      },
      "source": [
        "#Splitting the dataset into the Training set and Test set\n",
        "from sklearn.model_selection import train_test_split\n",
        "X_train, X_test, y_train, y_test = train_test_split(X, Y, test_size = 0.1, random_state = 0)"
      ],
      "execution_count": 0,
      "outputs": []
    },
    {
      "cell_type": "markdown",
      "metadata": {
        "id": "oABFFhl1gj_8",
        "colab_type": "text"
      },
      "source": [
        "## Trying Various Models"
      ]
    },
    {
      "cell_type": "code",
      "metadata": {
        "id": "sCETxMdpimvg",
        "colab_type": "code",
        "colab": {}
      },
      "source": [
        "from sklearn.linear_model import LinearRegression\n",
        "from sklearn import model_selection, tree, linear_model\n",
        "from sklearn.metrics import mean_absolute_error\n",
        "import xgboost"
      ],
      "execution_count": 0,
      "outputs": []
    },
    {
      "cell_type": "markdown",
      "metadata": {
        "id": "AV_y5OofgpA0",
        "colab_type": "text"
      },
      "source": [
        "### 1. Linear regression"
      ]
    },
    {
      "cell_type": "code",
      "metadata": {
        "id": "8QxemoVYgg-h",
        "colab_type": "code",
        "outputId": "470a1809-e1c3-40f7-eeb1-e4ff60ce6ed9",
        "colab": {
          "base_uri": "https://localhost:8080/",
          "height": 34
        }
      },
      "source": [
        "linear_regr = linear_model.LinearRegression(n_jobs=100,normalize=True)\n",
        "linear_regr.fit(X_train, y_train)"
      ],
      "execution_count": 245,
      "outputs": [
        {
          "output_type": "execute_result",
          "data": {
            "text/plain": [
              "LinearRegression(copy_X=True, fit_intercept=True, n_jobs=100, normalize=True)"
            ]
          },
          "metadata": {
            "tags": []
          },
          "execution_count": 245
        }
      ]
    },
    {
      "cell_type": "code",
      "metadata": {
        "id": "a-KlW9W3g0LT",
        "colab_type": "code",
        "outputId": "31f4ff96-da8d-4df8-cc00-bf7b5690d5e3",
        "colab": {
          "base_uri": "https://localhost:8080/",
          "height": 34
        }
      },
      "source": [
        "linear_regr.score(X_test,y_test)"
      ],
      "execution_count": 246,
      "outputs": [
        {
          "output_type": "execute_result",
          "data": {
            "text/plain": [
              "0.5160242074337283"
            ]
          },
          "metadata": {
            "tags": []
          },
          "execution_count": 246
        }
      ]
    },
    {
      "cell_type": "code",
      "metadata": {
        "id": "SvhFH_QXkk3f",
        "colab_type": "code",
        "outputId": "ea64cdcb-c089-4da1-9545-aef757b4de7a",
        "colab": {
          "base_uri": "https://localhost:8080/",
          "height": 34
        }
      },
      "source": [
        "predictions = linear_regr.predict(X_test)\n",
        "print(mean_absolute_error(y_test,predictions))"
      ],
      "execution_count": 247,
      "outputs": [
        {
          "output_type": "stream",
          "text": [
            "328.79300054318696\n"
          ],
          "name": "stdout"
        }
      ]
    },
    {
      "cell_type": "markdown",
      "metadata": {
        "id": "eRUyHLkGjiTu",
        "colab_type": "text"
      },
      "source": [
        "### 2. XGBoost"
      ]
    },
    {
      "cell_type": "code",
      "metadata": {
        "id": "7yB_-kNug39i",
        "colab_type": "code",
        "colab": {}
      },
      "source": [
        "# Let's try XGboost algorithm to see if we can get better results\n",
        "xgb_regr = xgboost.XGBRegressor(n_estimators=500,booster='gbtree',objective = \"reg:linear\", learning_rate=0.06, gamma=0, subsample=0.5,\n",
        "                           colsample_bytree=1, max_depth=7)"
      ],
      "execution_count": 0,
      "outputs": []
    },
    {
      "cell_type": "code",
      "metadata": {
        "id": "u1k1PI0fjrlh",
        "colab_type": "code",
        "outputId": "5f519f4b-4f94-429f-8b8e-933a896dbdee",
        "colab": {
          "base_uri": "https://localhost:8080/",
          "height": 153
        }
      },
      "source": [
        "xgb_regr.fit(X_train,y_train,eval_metric='mae')"
      ],
      "execution_count": 300,
      "outputs": [
        {
          "output_type": "stream",
          "text": [
            "[19:04:59] WARNING: /workspace/src/objective/regression_obj.cu:152: reg:linear is now deprecated in favor of reg:squarederror.\n"
          ],
          "name": "stdout"
        },
        {
          "output_type": "execute_result",
          "data": {
            "text/plain": [
              "XGBRegressor(base_score=0.5, booster='gbtree', colsample_bylevel=1,\n",
              "             colsample_bynode=1, colsample_bytree=1, gamma=0,\n",
              "             importance_type='gain', learning_rate=0.06, max_delta_step=0,\n",
              "             max_depth=7, min_child_weight=1, missing=None, n_estimators=500,\n",
              "             n_jobs=1, nthread=None, objective='reg:linear', random_state=0,\n",
              "             reg_alpha=0, reg_lambda=1, scale_pos_weight=1, seed=None,\n",
              "             silent=None, subsample=0.5, verbosity=1)"
            ]
          },
          "metadata": {
            "tags": []
          },
          "execution_count": 300
        }
      ]
    },
    {
      "cell_type": "code",
      "metadata": {
        "id": "ro2ml7dSjzrV",
        "colab_type": "code",
        "outputId": "c015925c-f349-4ec4-b61c-454176c6d8e2",
        "colab": {
          "base_uri": "https://localhost:8080/",
          "height": 34
        }
      },
      "source": [
        "predictions = xgb_regr.predict(X_test)\n",
        "print(mean_absolute_error(y_test,predictions))"
      ],
      "execution_count": 301,
      "outputs": [
        {
          "output_type": "stream",
          "text": [
            "281.3111572265625\n"
          ],
          "name": "stdout"
        }
      ]
    },
    {
      "cell_type": "code",
      "metadata": {
        "id": "q7OfPoEXj4Jl",
        "colab_type": "code",
        "outputId": "ba23bc14-8a9c-47ae-85d3-f03bff4a3ad0",
        "colab": {
          "base_uri": "https://localhost:8080/",
          "height": 34
        }
      },
      "source": [
        "predictions"
      ],
      "execution_count": 302,
      "outputs": [
        {
          "output_type": "execute_result",
          "data": {
            "text/plain": [
              "array([2856.0864, 2241.0437, 2390.5176, 2964.1428], dtype=float32)"
            ]
          },
          "metadata": {
            "tags": []
          },
          "execution_count": 302
        }
      ]
    },
    {
      "cell_type": "code",
      "metadata": {
        "id": "eKmYXaeXkWpd",
        "colab_type": "code",
        "outputId": "f3269d35-1c67-4f36-9425-5cb736e98074",
        "colab": {
          "base_uri": "https://localhost:8080/",
          "height": 173
        }
      },
      "source": [
        "y_test"
      ],
      "execution_count": 303,
      "outputs": [
        {
          "output_type": "execute_result",
          "data": {
            "text/html": [
              "<div>\n",
              "<style scoped>\n",
              "    .dataframe tbody tr th:only-of-type {\n",
              "        vertical-align: middle;\n",
              "    }\n",
              "\n",
              "    .dataframe tbody tr th {\n",
              "        vertical-align: top;\n",
              "    }\n",
              "\n",
              "    .dataframe thead th {\n",
              "        text-align: right;\n",
              "    }\n",
              "</style>\n",
              "<table border=\"1\" class=\"dataframe\">\n",
              "  <thead>\n",
              "    <tr style=\"text-align: right;\">\n",
              "      <th></th>\n",
              "      <th>EndTime</th>\n",
              "    </tr>\n",
              "  </thead>\n",
              "  <tbody>\n",
              "    <tr>\n",
              "      <th>22</th>\n",
              "      <td>3664.0</td>\n",
              "    </tr>\n",
              "    <tr>\n",
              "      <th>20</th>\n",
              "      <td>2246.0</td>\n",
              "    </tr>\n",
              "    <tr>\n",
              "      <th>25</th>\n",
              "      <td>2092.0</td>\n",
              "    </tr>\n",
              "    <tr>\n",
              "      <th>4</th>\n",
              "      <td>2978.0</td>\n",
              "    </tr>\n",
              "  </tbody>\n",
              "</table>\n",
              "</div>"
            ],
            "text/plain": [
              "    EndTime\n",
              "22   3664.0\n",
              "20   2246.0\n",
              "25   2092.0\n",
              "4    2978.0"
            ]
          },
          "metadata": {
            "tags": []
          },
          "execution_count": 303
        }
      ]
    },
    {
      "cell_type": "markdown",
      "metadata": {
        "id": "yF-TrQgf2MLI",
        "colab_type": "text"
      },
      "source": [
        "### Cross validation xgboost"
      ]
    },
    {
      "cell_type": "code",
      "metadata": {
        "id": "fVy80a2I2SLU",
        "colab_type": "code",
        "colab": {}
      },
      "source": [
        "from sklearn.model_selection import GridSearchCV \n",
        "from sklearn.metrics import confusion_matrix, mean_squared_error\n",
        "import xgboost as xgb"
      ],
      "execution_count": 0,
      "outputs": []
    },
    {
      "cell_type": "markdown",
      "metadata": {
        "id": "ghLtMXCi2lWp",
        "colab_type": "text"
      },
      "source": [
        "First, we tune the max_depth and min_child_weight parameters on a wide range of values. Later, we will refine these two choices with a smaller grid. Note that if you are running this in a Jupyter notebook, you can see the training process in your bash window. We will use the parameters dict to store the latest parameter values, and the scores vector to store the MSE values"
      ]
    },
    {
      "cell_type": "code",
      "metadata": {
        "id": "NRgCIH3_2nLd",
        "colab_type": "code",
        "colab": {
          "base_uri": "https://localhost:8080/",
          "height": 1000
        },
        "outputId": "e80032b6-fa3d-4aa0-fa77-05ada793a688"
      },
      "source": [
        "objective = \"reg:linear\"\n",
        "seed = 100\n",
        "n_estimators = 100\n",
        "learning_rate = 0.1\n",
        "gamma = 0.1\n",
        "subsample = 0.8\n",
        "colsample_bytree = 0.8\n",
        "reg_alpha = 1\n",
        "reg_lambda = 1\n",
        "silent = False\n",
        "\n",
        "parameters = {}\n",
        "parameters['objective'] = objective\n",
        "parameters['seed'] = seed\n",
        "parameters['n_estimators'] = n_estimators\n",
        "parameters['learning_rate'] = learning_rate\n",
        "parameters['gamma'] = gamma\n",
        "parameters['colsample_bytree'] = colsample_bytree\n",
        "parameters['reg_alpha'] = reg_alpha\n",
        "parameters['reg_lambda'] = reg_lambda\n",
        "parameters['silent'] = silent\n",
        "\n",
        "scores = []\n",
        "\n",
        "cv_params = {'max_depth': [2,4,6,8],\n",
        "             'min_child_weight': [1,3,5,7]\n",
        "            }\n",
        "\n",
        "gbm = GridSearchCV(xgb.XGBRegressor(\n",
        "                                        objective = objective,\n",
        "                                        seed = seed,\n",
        "                                        n_estimators = n_estimators,\n",
        "                                        learning_rate = learning_rate,\n",
        "                                        gamma = gamma,\n",
        "                                        subsample = subsample,\n",
        "                                        colsample_bytree = colsample_bytree,\n",
        "                                        reg_alpha = reg_alpha,\n",
        "                                        reg_lambda = reg_lambda,\n",
        "                                        silent = silent\n",
        "\n",
        "                                    ),\n",
        "                    \n",
        "                    param_grid = cv_params,\n",
        "                    iid = False,\n",
        "                    scoring = \"neg_mean_absolute_error\",\n",
        "                    cv = 5,\n",
        "                    verbose = True\n",
        ")\n",
        "\n",
        "gbm.fit(X_train,y_train)\n",
        "print (gbm.cv_results_)\n",
        "print (\"Best parameters %s\" %gbm.best_params_)\n",
        "print (\"Best score %s\" %gbm.best_score_)"
      ],
      "execution_count": 264,
      "outputs": [
        {
          "output_type": "stream",
          "text": [
            "Fitting 5 folds for each of 16 candidates, totalling 80 fits\n",
            "[18:57:24] WARNING: /workspace/src/objective/regression_obj.cu:152: reg:linear is now deprecated in favor of reg:squarederror.\n",
            "[18:57:24] WARNING: /workspace/src/objective/regression_obj.cu:152: reg:linear is now deprecated in favor of reg:squarederror.\n",
            "[18:57:24] WARNING: /workspace/src/objective/regression_obj.cu:152: reg:linear is now deprecated in favor of reg:squarederror.\n",
            "[18:57:24] WARNING: /workspace/src/objective/regression_obj.cu:152: reg:linear is now deprecated in favor of reg:squarederror.\n",
            "[18:57:24] WARNING: /workspace/src/objective/regression_obj.cu:152: reg:linear is now deprecated in favor of reg:squarederror.\n",
            "[18:57:24] WARNING: /workspace/src/objective/regression_obj.cu:152: reg:linear is now deprecated in favor of reg:squarederror.\n",
            "[18:57:24] WARNING: /workspace/src/objective/regression_obj.cu:152: reg:linear is now deprecated in favor of reg:squarederror.\n",
            "[18:57:24] WARNING: /workspace/src/objective/regression_obj.cu:152: reg:linear is now deprecated in favor of reg:squarederror.\n",
            "[18:57:24] WARNING: /workspace/src/objective/regression_obj.cu:152: reg:linear is now deprecated in favor of reg:squarederror.\n",
            "[18:57:24] WARNING: /workspace/src/objective/regression_obj.cu:152: reg:linear is now deprecated in favor of reg:squarederror.\n",
            "[18:57:25] WARNING: /workspace/src/objective/regression_obj.cu:152: reg:linear is now deprecated in favor of reg:squarederror.\n"
          ],
          "name": "stdout"
        },
        {
          "output_type": "stream",
          "text": [
            "[Parallel(n_jobs=1)]: Using backend SequentialBackend with 1 concurrent workers.\n"
          ],
          "name": "stderr"
        },
        {
          "output_type": "stream",
          "text": [
            "[18:57:25] WARNING: /workspace/src/objective/regression_obj.cu:152: reg:linear is now deprecated in favor of reg:squarederror.\n",
            "[18:57:25] WARNING: /workspace/src/objective/regression_obj.cu:152: reg:linear is now deprecated in favor of reg:squarederror.\n",
            "[18:57:25] WARNING: /workspace/src/objective/regression_obj.cu:152: reg:linear is now deprecated in favor of reg:squarederror.\n",
            "[18:57:25] WARNING: /workspace/src/objective/regression_obj.cu:152: reg:linear is now deprecated in favor of reg:squarederror.\n",
            "[18:57:25] WARNING: /workspace/src/objective/regression_obj.cu:152: reg:linear is now deprecated in favor of reg:squarederror.\n",
            "[18:57:25] WARNING: /workspace/src/objective/regression_obj.cu:152: reg:linear is now deprecated in favor of reg:squarederror.\n",
            "[18:57:25] WARNING: /workspace/src/objective/regression_obj.cu:152: reg:linear is now deprecated in favor of reg:squarederror.\n",
            "[18:57:25] WARNING: /workspace/src/objective/regression_obj.cu:152: reg:linear is now deprecated in favor of reg:squarederror.\n",
            "[18:57:25] WARNING: /workspace/src/objective/regression_obj.cu:152: reg:linear is now deprecated in favor of reg:squarederror.\n",
            "[18:57:25] WARNING: /workspace/src/objective/regression_obj.cu:152: reg:linear is now deprecated in favor of reg:squarederror.\n",
            "[18:57:25] WARNING: /workspace/src/objective/regression_obj.cu:152: reg:linear is now deprecated in favor of reg:squarederror.\n",
            "[18:57:25] WARNING: /workspace/src/objective/regression_obj.cu:152: reg:linear is now deprecated in favor of reg:squarederror.\n",
            "[18:57:25] WARNING: /workspace/src/objective/regression_obj.cu:152: reg:linear is now deprecated in favor of reg:squarederror.\n",
            "[18:57:25] WARNING: /workspace/src/objective/regression_obj.cu:152: reg:linear is now deprecated in favor of reg:squarederror.\n",
            "[18:57:25] WARNING: /workspace/src/objective/regression_obj.cu:152: reg:linear is now deprecated in favor of reg:squarederror.\n",
            "[18:57:25] WARNING: /workspace/src/objective/regression_obj.cu:152: reg:linear is now deprecated in favor of reg:squarederror.\n",
            "[18:57:25] WARNING: /workspace/src/objective/regression_obj.cu:152: reg:linear is now deprecated in favor of reg:squarederror.\n",
            "[18:57:25] WARNING: /workspace/src/objective/regression_obj.cu:152: reg:linear is now deprecated in favor of reg:squarederror.\n",
            "[18:57:25] WARNING: /workspace/src/objective/regression_obj.cu:152: reg:linear is now deprecated in favor of reg:squarederror.\n",
            "[18:57:25] WARNING: /workspace/src/objective/regression_obj.cu:152: reg:linear is now deprecated in favor of reg:squarederror.\n",
            "[18:57:25] WARNING: /workspace/src/objective/regression_obj.cu:152: reg:linear is now deprecated in favor of reg:squarederror.\n",
            "[18:57:25] WARNING: /workspace/src/objective/regression_obj.cu:152: reg:linear is now deprecated in favor of reg:squarederror.\n",
            "[18:57:25] WARNING: /workspace/src/objective/regression_obj.cu:152: reg:linear is now deprecated in favor of reg:squarederror.\n",
            "[18:57:25] WARNING: /workspace/src/objective/regression_obj.cu:152: reg:linear is now deprecated in favor of reg:squarederror.\n",
            "[18:57:25] WARNING: /workspace/src/objective/regression_obj.cu:152: reg:linear is now deprecated in favor of reg:squarederror.\n",
            "[18:57:25] WARNING: /workspace/src/objective/regression_obj.cu:152: reg:linear is now deprecated in favor of reg:squarederror.\n",
            "[18:57:25] WARNING: /workspace/src/objective/regression_obj.cu:152: reg:linear is now deprecated in favor of reg:squarederror.\n",
            "[18:57:25] WARNING: /workspace/src/objective/regression_obj.cu:152: reg:linear is now deprecated in favor of reg:squarederror.\n",
            "[18:57:25] WARNING: /workspace/src/objective/regression_obj.cu:152: reg:linear is now deprecated in favor of reg:squarederror.\n",
            "[18:57:25] WARNING: /workspace/src/objective/regression_obj.cu:152: reg:linear is now deprecated in favor of reg:squarederror.\n",
            "[18:57:25] WARNING: /workspace/src/objective/regression_obj.cu:152: reg:linear is now deprecated in favor of reg:squarederror.\n",
            "[18:57:25] WARNING: /workspace/src/objective/regression_obj.cu:152: reg:linear is now deprecated in favor of reg:squarederror.\n",
            "[18:57:25] WARNING: /workspace/src/objective/regression_obj.cu:152: reg:linear is now deprecated in favor of reg:squarederror.\n",
            "[18:57:25] WARNING: /workspace/src/objective/regression_obj.cu:152: reg:linear is now deprecated in favor of reg:squarederror.\n",
            "[18:57:25] WARNING: /workspace/src/objective/regression_obj.cu:152: reg:linear is now deprecated in favor of reg:squarederror.\n",
            "[18:57:25] WARNING: /workspace/src/objective/regression_obj.cu:152: reg:linear is now deprecated in favor of reg:squarederror.\n",
            "[18:57:25] WARNING: /workspace/src/objective/regression_obj.cu:152: reg:linear is now deprecated in favor of reg:squarederror.\n",
            "[18:57:25] WARNING: /workspace/src/objective/regression_obj.cu:152: reg:linear is now deprecated in favor of reg:squarederror.\n",
            "[18:57:25] WARNING: /workspace/src/objective/regression_obj.cu:152: reg:linear is now deprecated in favor of reg:squarederror.\n",
            "[18:57:25] WARNING: /workspace/src/objective/regression_obj.cu:152: reg:linear is now deprecated in favor of reg:squarederror.\n",
            "[18:57:25] WARNING: /workspace/src/objective/regression_obj.cu:152: reg:linear is now deprecated in favor of reg:squarederror.\n",
            "[18:57:25] WARNING: /workspace/src/objective/regression_obj.cu:152: reg:linear is now deprecated in favor of reg:squarederror.\n",
            "[18:57:25] WARNING: /workspace/src/objective/regression_obj.cu:152: reg:linear is now deprecated in favor of reg:squarederror.\n",
            "[18:57:25] WARNING: /workspace/src/objective/regression_obj.cu:152: reg:linear is now deprecated in favor of reg:squarederror.\n",
            "[18:57:25] WARNING: /workspace/src/objective/regression_obj.cu:152: reg:linear is now deprecated in favor of reg:squarederror.\n",
            "[18:57:25] WARNING: /workspace/src/objective/regression_obj.cu:152: reg:linear is now deprecated in favor of reg:squarederror.\n",
            "[18:57:25] WARNING: /workspace/src/objective/regression_obj.cu:152: reg:linear is now deprecated in favor of reg:squarederror.\n",
            "[18:57:25] WARNING: /workspace/src/objective/regression_obj.cu:152: reg:linear is now deprecated in favor of reg:squarederror.\n",
            "[18:57:26] WARNING: /workspace/src/objective/regression_obj.cu:152: reg:linear is now deprecated in favor of reg:squarederror.\n",
            "[18:57:26] WARNING: /workspace/src/objective/regression_obj.cu:152: reg:linear is now deprecated in favor of reg:squarederror.\n",
            "[18:57:26] WARNING: /workspace/src/objective/regression_obj.cu:152: reg:linear is now deprecated in favor of reg:squarederror.\n",
            "[18:57:26] WARNING: /workspace/src/objective/regression_obj.cu:152: reg:linear is now deprecated in favor of reg:squarederror.\n",
            "[18:57:26] WARNING: /workspace/src/objective/regression_obj.cu:152: reg:linear is now deprecated in favor of reg:squarederror.\n",
            "[18:57:26] WARNING: /workspace/src/objective/regression_obj.cu:152: reg:linear is now deprecated in favor of reg:squarederror.\n",
            "[18:57:26] WARNING: /workspace/src/objective/regression_obj.cu:152: reg:linear is now deprecated in favor of reg:squarederror.\n",
            "[18:57:26] WARNING: /workspace/src/objective/regression_obj.cu:152: reg:linear is now deprecated in favor of reg:squarederror.\n",
            "[18:57:26] WARNING: /workspace/src/objective/regression_obj.cu:152: reg:linear is now deprecated in favor of reg:squarederror.\n",
            "[18:57:26] WARNING: /workspace/src/objective/regression_obj.cu:152: reg:linear is now deprecated in favor of reg:squarederror.\n",
            "[18:57:26] WARNING: /workspace/src/objective/regression_obj.cu:152: reg:linear is now deprecated in favor of reg:squarederror.\n",
            "[18:57:26] WARNING: /workspace/src/objective/regression_obj.cu:152: reg:linear is now deprecated in favor of reg:squarederror.\n",
            "[18:57:26] WARNING: /workspace/src/objective/regression_obj.cu:152: reg:linear is now deprecated in favor of reg:squarederror.\n",
            "[18:57:26] WARNING: /workspace/src/objective/regression_obj.cu:152: reg:linear is now deprecated in favor of reg:squarederror.\n",
            "[18:57:26] WARNING: /workspace/src/objective/regression_obj.cu:152: reg:linear is now deprecated in favor of reg:squarederror.\n",
            "[18:57:26] WARNING: /workspace/src/objective/regression_obj.cu:152: reg:linear is now deprecated in favor of reg:squarederror.\n",
            "[18:57:26] WARNING: /workspace/src/objective/regression_obj.cu:152: reg:linear is now deprecated in favor of reg:squarederror.\n",
            "[18:57:26] WARNING: /workspace/src/objective/regression_obj.cu:152: reg:linear is now deprecated in favor of reg:squarederror.\n",
            "[18:57:26] WARNING: /workspace/src/objective/regression_obj.cu:152: reg:linear is now deprecated in favor of reg:squarederror.\n",
            "[18:57:26] WARNING: /workspace/src/objective/regression_obj.cu:152: reg:linear is now deprecated in favor of reg:squarederror.\n",
            "[18:57:26] WARNING: /workspace/src/objective/regression_obj.cu:152: reg:linear is now deprecated in favor of reg:squarederror.\n",
            "[18:57:26] WARNING: /workspace/src/objective/regression_obj.cu:152: reg:linear is now deprecated in favor of reg:squarederror.\n",
            "{'mean_fit_time': array([0.01733227, 0.01614671, 0.01766396, 0.01586456, 0.01830864,\n",
            "       0.01898131, 0.01737456, 0.01657038, 0.02021265, 0.01833453,\n",
            "       0.01742368, 0.01621003, 0.02115846, 0.0186955 , 0.01815395,\n",
            "       0.01762209]), 'std_fit_time': array([1.84310967e-03, 9.79980294e-05, 2.56723891e-03, 1.53918529e-04,\n",
            "       7.83018390e-04, 1.97213447e-03, 6.49700583e-04, 3.85907450e-04,\n",
            "       1.51346114e-03, 2.30634091e-04, 8.68889974e-04, 2.22140894e-04,\n",
            "       1.60330703e-03, 5.10447187e-04, 1.64551201e-03, 1.99514190e-03]), 'mean_score_time': array([0.001933  , 0.00183554, 0.00185823, 0.00185566, 0.00211749,\n",
            "       0.0019001 , 0.0020597 , 0.00188055, 0.0018702 , 0.00183835,\n",
            "       0.00216312, 0.00185781, 0.00189285, 0.00189247, 0.00192289,\n",
            "       0.00207934]), 'std_score_time': array([7.00359355e-05, 8.73588578e-06, 5.61338811e-05, 4.14490271e-05,\n",
            "       5.35457823e-04, 8.69463363e-05, 4.05825429e-04, 6.42175209e-05,\n",
            "       1.80993467e-05, 2.12139487e-05, 5.84731068e-04, 3.01496861e-05,\n",
            "       4.23621981e-05, 2.46901289e-05, 3.46914681e-05, 4.39605551e-04]), 'param_max_depth': masked_array(data=[2, 2, 2, 2, 4, 4, 4, 4, 6, 6, 6, 6, 8, 8, 8, 8],\n",
            "             mask=[False, False, False, False, False, False, False, False,\n",
            "                   False, False, False, False, False, False, False, False],\n",
            "       fill_value='?',\n",
            "            dtype=object), 'param_min_child_weight': masked_array(data=[1, 3, 5, 7, 1, 3, 5, 7, 1, 3, 5, 7, 1, 3, 5, 7],\n",
            "             mask=[False, False, False, False, False, False, False, False,\n",
            "                   False, False, False, False, False, False, False, False],\n",
            "       fill_value='?',\n",
            "            dtype=object), 'params': [{'max_depth': 2, 'min_child_weight': 1}, {'max_depth': 2, 'min_child_weight': 3}, {'max_depth': 2, 'min_child_weight': 5}, {'max_depth': 2, 'min_child_weight': 7}, {'max_depth': 4, 'min_child_weight': 1}, {'max_depth': 4, 'min_child_weight': 3}, {'max_depth': 4, 'min_child_weight': 5}, {'max_depth': 4, 'min_child_weight': 7}, {'max_depth': 6, 'min_child_weight': 1}, {'max_depth': 6, 'min_child_weight': 3}, {'max_depth': 6, 'min_child_weight': 5}, {'max_depth': 6, 'min_child_weight': 7}, {'max_depth': 8, 'min_child_weight': 1}, {'max_depth': 8, 'min_child_weight': 3}, {'max_depth': 8, 'min_child_weight': 5}, {'max_depth': 8, 'min_child_weight': 7}], 'split0_test_score': array([-539.15081787, -615.72384644, -678.96817017, -724.68048096,\n",
            "       -556.58688354, -611.41687012, -692.9369812 , -724.68048096,\n",
            "       -552.5619812 , -608.54107666, -692.9369812 , -724.68048096,\n",
            "       -552.97940063, -610.40206909, -692.9369812 , -724.68048096]), 'split1_test_score': array([-255.70926339, -258.96205357, -345.71575056, -395.01116071,\n",
            "       -263.6953125 , -261.07003348, -343.91591099, -395.01116071,\n",
            "       -261.82073103, -258.99487305, -343.91591099, -395.01116071,\n",
            "       -267.96498326, -258.99487305, -343.91591099, -395.01116071]), 'split2_test_score': array([-212.2507673 , -244.99351283, -250.49884905, -245.10375977,\n",
            "       -292.61415318, -262.43387277, -275.24591936, -245.10375977,\n",
            "       -292.30779157, -287.25463867, -275.24591936, -245.10375977,\n",
            "       -289.21173968, -287.25463867, -275.24591936, -245.10375977]), 'split3_test_score': array([-720.69462081, -738.51671205, -677.11102009, -667.77665206,\n",
            "       -728.15576758, -720.0909308 , -727.90165206, -667.77665206,\n",
            "       -721.04855497, -724.02135073, -727.90165206, -667.77665206,\n",
            "       -726.1280053 , -724.02135073, -727.90165206, -667.77665206]), 'split4_test_score': array([-485.64411272, -410.34082031, -430.10871233, -485.77371652,\n",
            "       -404.67592076, -378.86586217, -436.31354632, -485.77371652,\n",
            "       -395.60337612, -383.14822824, -436.31354632, -485.77371652,\n",
            "       -398.06881278, -383.14822824, -436.31354632, -485.77371652]), 'mean_test_score': array([-442.68991642, -453.70738904, -476.48050044, -503.669154  ,\n",
            "       -449.14560751, -446.77551387, -495.26280199, -503.669154  ,\n",
            "       -444.66848698, -452.39203347, -495.26280199, -503.669154  ,\n",
            "       -446.87058833, -452.76423195, -495.26280199, -503.669154  ]), 'std_test_score': array([187.88312868, 195.31183786, 174.10992569, 175.93188844,\n",
            "       173.35614115, 187.02308959, 183.29443008, 175.93188844,\n",
            "       171.51175851, 183.1024495 , 183.29443008, 175.93188844,\n",
            "       172.3304537 , 183.42109479, 183.29443008, 175.93188844]), 'rank_test_score': array([ 1,  8,  9, 13,  5,  3, 10, 13,  2,  6, 10, 13,  4,  7, 10, 13],\n",
            "      dtype=int32)}\n",
            "Best parameters {'max_depth': 2, 'min_child_weight': 1}\n",
            "Best score -442.6899164202008\n"
          ],
          "name": "stdout"
        },
        {
          "output_type": "stream",
          "text": [
            "[Parallel(n_jobs=1)]: Done  80 out of  80 | elapsed:    1.6s finished\n"
          ],
          "name": "stderr"
        }
      ]
    },
    {
      "cell_type": "markdown",
      "metadata": {
        "id": "RIdL5hA43rNo",
        "colab_type": "text"
      },
      "source": [
        "Refine with a smaller grid of values based on best values from the big grid above"
      ]
    },
    {
      "cell_type": "code",
      "metadata": {
        "id": "tRyBMgxy3tA_",
        "colab_type": "code",
        "colab": {
          "base_uri": "https://localhost:8080/",
          "height": 1000
        },
        "outputId": "b9353eb5-9a55-47af-9626-ca82cec275c5"
      },
      "source": [
        "max_depth = gbm.best_params_['max_depth']\n",
        "min_child_weight = gbm.best_params_['min_child_weight']\n",
        "parameters['max_depth'] = max_depth\n",
        "parameters['min_child_weight'] = min_child_weight\n",
        "scores.append(gbm.best_score_)\n",
        "\n",
        "cv_params = {'max_depth': [max_depth-1, max_depth, max_depth+1], \n",
        "             'min_child_weight': [min_child_weight-1, min_child_weight-0.5, min_child_weight, min_child_weight+0.5, min_child_weight+1]\n",
        "            }\n",
        "\n",
        "gbm = GridSearchCV(xgb.XGBRegressor(\n",
        "                                        objective = objective,\n",
        "                                        seed = seed,\n",
        "                                        n_estimators = n_estimators,\n",
        "                                        learning_rate = learning_rate,\n",
        "                                        gamma = gamma,\n",
        "                                        subsample = subsample,\n",
        "                                        colsample_bytree = colsample_bytree,\n",
        "                                        reg_alpha = reg_alpha,\n",
        "                                        reg_lambda = reg_lambda,\n",
        "                                        silent = silent\n",
        "\n",
        "                                    ),\n",
        "                   \n",
        "                    param_grid = cv_params,\n",
        "                    iid = False,\n",
        "                    scoring = \"neg_mean_absolute_error\",\n",
        "                    cv = 5,\n",
        "                    verbose = True\n",
        ")\n",
        "\n",
        "gbm.fit(X_train,y_train)\n",
        "print (gbm.cv_results_)\n",
        "print (\"Best parameters %s\" %gbm.best_params_)\n",
        "print (\"Best score %s\" %gbm.best_score_)"
      ],
      "execution_count": 265,
      "outputs": [
        {
          "output_type": "stream",
          "text": [
            "Fitting 5 folds for each of 15 candidates, totalling 75 fits\n",
            "[18:57:35] WARNING: /workspace/src/objective/regression_obj.cu:152: reg:linear is now deprecated in favor of reg:squarederror.\n",
            "[18:57:35] WARNING: /workspace/src/objective/regression_obj.cu:152: reg:linear is now deprecated in favor of reg:squarederror.\n",
            "[18:57:35] WARNING: /workspace/src/objective/regression_obj.cu:152: reg:linear is now deprecated in favor of reg:squarederror.\n",
            "[18:57:35] WARNING: /workspace/src/objective/regression_obj.cu:152: reg:linear is now deprecated in favor of reg:squarederror.\n",
            "[18:57:35] WARNING: /workspace/src/objective/regression_obj.cu:152: reg:linear is now deprecated in favor of reg:squarederror.\n",
            "[18:57:35] WARNING: /workspace/src/objective/regression_obj.cu:152: reg:linear is now deprecated in favor of reg:squarederror.\n",
            "[18:57:35] WARNING: /workspace/src/objective/regression_obj.cu:152: reg:linear is now deprecated in favor of reg:squarederror.\n",
            "[18:57:35] WARNING: /workspace/src/objective/regression_obj.cu:152: reg:linear is now deprecated in favor of reg:squarederror.\n",
            "[18:57:35] WARNING: /workspace/src/objective/regression_obj.cu:152: reg:linear is now deprecated in favor of reg:squarederror.\n",
            "[18:57:35] WARNING: /workspace/src/objective/regression_obj.cu:152: reg:linear is now deprecated in favor of reg:squarederror.\n",
            "[18:57:35] WARNING: /workspace/src/objective/regression_obj.cu:152: reg:linear is now deprecated in favor of reg:squarederror.\n"
          ],
          "name": "stdout"
        },
        {
          "output_type": "stream",
          "text": [
            "[Parallel(n_jobs=1)]: Using backend SequentialBackend with 1 concurrent workers.\n"
          ],
          "name": "stderr"
        },
        {
          "output_type": "stream",
          "text": [
            "[18:57:35] WARNING: /workspace/src/objective/regression_obj.cu:152: reg:linear is now deprecated in favor of reg:squarederror.\n",
            "[18:57:35] WARNING: /workspace/src/objective/regression_obj.cu:152: reg:linear is now deprecated in favor of reg:squarederror.\n",
            "[18:57:35] WARNING: /workspace/src/objective/regression_obj.cu:152: reg:linear is now deprecated in favor of reg:squarederror.\n",
            "[18:57:35] WARNING: /workspace/src/objective/regression_obj.cu:152: reg:linear is now deprecated in favor of reg:squarederror.\n",
            "[18:57:35] WARNING: /workspace/src/objective/regression_obj.cu:152: reg:linear is now deprecated in favor of reg:squarederror.\n",
            "[18:57:35] WARNING: /workspace/src/objective/regression_obj.cu:152: reg:linear is now deprecated in favor of reg:squarederror.\n",
            "[18:57:35] WARNING: /workspace/src/objective/regression_obj.cu:152: reg:linear is now deprecated in favor of reg:squarederror.\n",
            "[18:57:35] WARNING: /workspace/src/objective/regression_obj.cu:152: reg:linear is now deprecated in favor of reg:squarederror.\n",
            "[18:57:35] WARNING: /workspace/src/objective/regression_obj.cu:152: reg:linear is now deprecated in favor of reg:squarederror.\n",
            "[18:57:35] WARNING: /workspace/src/objective/regression_obj.cu:152: reg:linear is now deprecated in favor of reg:squarederror.\n",
            "[18:57:35] WARNING: /workspace/src/objective/regression_obj.cu:152: reg:linear is now deprecated in favor of reg:squarederror.\n",
            "[18:57:35] WARNING: /workspace/src/objective/regression_obj.cu:152: reg:linear is now deprecated in favor of reg:squarederror.\n",
            "[18:57:36] WARNING: /workspace/src/objective/regression_obj.cu:152: reg:linear is now deprecated in favor of reg:squarederror.\n",
            "[18:57:36] WARNING: /workspace/src/objective/regression_obj.cu:152: reg:linear is now deprecated in favor of reg:squarederror.\n",
            "[18:57:36] WARNING: /workspace/src/objective/regression_obj.cu:152: reg:linear is now deprecated in favor of reg:squarederror.\n",
            "[18:57:36] WARNING: /workspace/src/objective/regression_obj.cu:152: reg:linear is now deprecated in favor of reg:squarederror.\n",
            "[18:57:36] WARNING: /workspace/src/objective/regression_obj.cu:152: reg:linear is now deprecated in favor of reg:squarederror.\n",
            "[18:57:36] WARNING: /workspace/src/objective/regression_obj.cu:152: reg:linear is now deprecated in favor of reg:squarederror.\n",
            "[18:57:36] WARNING: /workspace/src/objective/regression_obj.cu:152: reg:linear is now deprecated in favor of reg:squarederror.\n",
            "[18:57:36] WARNING: /workspace/src/objective/regression_obj.cu:152: reg:linear is now deprecated in favor of reg:squarederror.\n",
            "[18:57:36] WARNING: /workspace/src/objective/regression_obj.cu:152: reg:linear is now deprecated in favor of reg:squarederror.\n",
            "[18:57:36] WARNING: /workspace/src/objective/regression_obj.cu:152: reg:linear is now deprecated in favor of reg:squarederror.\n",
            "[18:57:36] WARNING: /workspace/src/objective/regression_obj.cu:152: reg:linear is now deprecated in favor of reg:squarederror.\n",
            "[18:57:36] WARNING: /workspace/src/objective/regression_obj.cu:152: reg:linear is now deprecated in favor of reg:squarederror.\n",
            "[18:57:36] WARNING: /workspace/src/objective/regression_obj.cu:152: reg:linear is now deprecated in favor of reg:squarederror.\n",
            "[18:57:36] WARNING: /workspace/src/objective/regression_obj.cu:152: reg:linear is now deprecated in favor of reg:squarederror.\n",
            "[18:57:36] WARNING: /workspace/src/objective/regression_obj.cu:152: reg:linear is now deprecated in favor of reg:squarederror.\n",
            "[18:57:36] WARNING: /workspace/src/objective/regression_obj.cu:152: reg:linear is now deprecated in favor of reg:squarederror.\n",
            "[18:57:36] WARNING: /workspace/src/objective/regression_obj.cu:152: reg:linear is now deprecated in favor of reg:squarederror.\n",
            "[18:57:36] WARNING: /workspace/src/objective/regression_obj.cu:152: reg:linear is now deprecated in favor of reg:squarederror.\n",
            "[18:57:36] WARNING: /workspace/src/objective/regression_obj.cu:152: reg:linear is now deprecated in favor of reg:squarederror.\n",
            "[18:57:36] WARNING: /workspace/src/objective/regression_obj.cu:152: reg:linear is now deprecated in favor of reg:squarederror.\n",
            "[18:57:36] WARNING: /workspace/src/objective/regression_obj.cu:152: reg:linear is now deprecated in favor of reg:squarederror.\n",
            "[18:57:36] WARNING: /workspace/src/objective/regression_obj.cu:152: reg:linear is now deprecated in favor of reg:squarederror.\n",
            "[18:57:36] WARNING: /workspace/src/objective/regression_obj.cu:152: reg:linear is now deprecated in favor of reg:squarederror.\n",
            "[18:57:36] WARNING: /workspace/src/objective/regression_obj.cu:152: reg:linear is now deprecated in favor of reg:squarederror.\n",
            "[18:57:36] WARNING: /workspace/src/objective/regression_obj.cu:152: reg:linear is now deprecated in favor of reg:squarederror.\n",
            "[18:57:36] WARNING: /workspace/src/objective/regression_obj.cu:152: reg:linear is now deprecated in favor of reg:squarederror.\n",
            "[18:57:36] WARNING: /workspace/src/objective/regression_obj.cu:152: reg:linear is now deprecated in favor of reg:squarederror.\n",
            "[18:57:36] WARNING: /workspace/src/objective/regression_obj.cu:152: reg:linear is now deprecated in favor of reg:squarederror.\n",
            "[18:57:36] WARNING: /workspace/src/objective/regression_obj.cu:152: reg:linear is now deprecated in favor of reg:squarederror.\n",
            "[18:57:36] WARNING: /workspace/src/objective/regression_obj.cu:152: reg:linear is now deprecated in favor of reg:squarederror.\n",
            "[18:57:36] WARNING: /workspace/src/objective/regression_obj.cu:152: reg:linear is now deprecated in favor of reg:squarederror.\n",
            "[18:57:36] WARNING: /workspace/src/objective/regression_obj.cu:152: reg:linear is now deprecated in favor of reg:squarederror.\n",
            "[18:57:36] WARNING: /workspace/src/objective/regression_obj.cu:152: reg:linear is now deprecated in favor of reg:squarederror.\n",
            "[18:57:36] WARNING: /workspace/src/objective/regression_obj.cu:152: reg:linear is now deprecated in favor of reg:squarederror.\n",
            "[18:57:36] WARNING: /workspace/src/objective/regression_obj.cu:152: reg:linear is now deprecated in favor of reg:squarederror.\n",
            "[18:57:36] WARNING: /workspace/src/objective/regression_obj.cu:152: reg:linear is now deprecated in favor of reg:squarederror.\n",
            "[18:57:36] WARNING: /workspace/src/objective/regression_obj.cu:152: reg:linear is now deprecated in favor of reg:squarederror.\n",
            "[18:57:36] WARNING: /workspace/src/objective/regression_obj.cu:152: reg:linear is now deprecated in favor of reg:squarederror.\n",
            "[18:57:36] WARNING: /workspace/src/objective/regression_obj.cu:152: reg:linear is now deprecated in favor of reg:squarederror.\n",
            "[18:57:36] WARNING: /workspace/src/objective/regression_obj.cu:152: reg:linear is now deprecated in favor of reg:squarederror.\n",
            "[18:57:36] WARNING: /workspace/src/objective/regression_obj.cu:152: reg:linear is now deprecated in favor of reg:squarederror.\n",
            "[18:57:36] WARNING: /workspace/src/objective/regression_obj.cu:152: reg:linear is now deprecated in favor of reg:squarederror.\n",
            "[18:57:36] WARNING: /workspace/src/objective/regression_obj.cu:152: reg:linear is now deprecated in favor of reg:squarederror.\n",
            "[18:57:36] WARNING: /workspace/src/objective/regression_obj.cu:152: reg:linear is now deprecated in favor of reg:squarederror.\n",
            "[18:57:36] WARNING: /workspace/src/objective/regression_obj.cu:152: reg:linear is now deprecated in favor of reg:squarederror.\n",
            "[18:57:36] WARNING: /workspace/src/objective/regression_obj.cu:152: reg:linear is now deprecated in favor of reg:squarederror.\n",
            "[18:57:36] WARNING: /workspace/src/objective/regression_obj.cu:152: reg:linear is now deprecated in favor of reg:squarederror.\n",
            "[18:57:36] WARNING: /workspace/src/objective/regression_obj.cu:152: reg:linear is now deprecated in favor of reg:squarederror.\n",
            "[18:57:36] WARNING: /workspace/src/objective/regression_obj.cu:152: reg:linear is now deprecated in favor of reg:squarederror.\n",
            "[18:57:37] WARNING: /workspace/src/objective/regression_obj.cu:152: reg:linear is now deprecated in favor of reg:squarederror.\n",
            "[18:57:37] WARNING: /workspace/src/objective/regression_obj.cu:152: reg:linear is now deprecated in favor of reg:squarederror.\n",
            "[18:57:37] WARNING: /workspace/src/objective/regression_obj.cu:152: reg:linear is now deprecated in favor of reg:squarederror.\n",
            "[18:57:37] WARNING: /workspace/src/objective/regression_obj.cu:152: reg:linear is now deprecated in favor of reg:squarederror.\n",
            "{'mean_fit_time': array([0.01627483, 0.01552715, 0.01652913, 0.01561284, 0.01773205,\n",
            "       0.01650286, 0.01743097, 0.01651273, 0.0171916 , 0.01734881,\n",
            "       0.01887965, 0.01781187, 0.01789155, 0.01873178, 0.01792707]), 'std_fit_time': array([0.00131429, 0.00029491, 0.00162274, 0.00013489, 0.00318625,\n",
            "       0.00024912, 0.00165911, 0.00014675, 0.00149663, 0.00107574,\n",
            "       0.00218382, 0.0005489 , 0.00042301, 0.00206216, 0.00057021]), 'mean_score_time': array([0.00192156, 0.00186992, 0.00216365, 0.00187106, 0.00220146,\n",
            "       0.00187335, 0.00200744, 0.00191813, 0.00205188, 0.00195007,\n",
            "       0.00239344, 0.0018836 , 0.00194607, 0.00189276, 0.00193367]), 'std_score_time': array([5.71151798e-05, 4.10603588e-05, 5.32651715e-04, 3.01032702e-05,\n",
            "       3.98083029e-04, 4.69316784e-05, 1.87513167e-04, 5.89393489e-05,\n",
            "       2.85923361e-04, 1.22614056e-04, 5.88115521e-04, 3.01746382e-05,\n",
            "       7.44793998e-05, 5.17818369e-05, 3.09883992e-05]), 'param_max_depth': masked_array(data=[1, 1, 1, 1, 1, 2, 2, 2, 2, 2, 3, 3, 3, 3, 3],\n",
            "             mask=[False, False, False, False, False, False, False, False,\n",
            "                   False, False, False, False, False, False, False],\n",
            "       fill_value='?',\n",
            "            dtype=object), 'param_min_child_weight': masked_array(data=[0, 0.5, 1, 1.5, 2, 0, 0.5, 1, 1.5, 2, 0, 0.5, 1, 1.5,\n",
            "                   2],\n",
            "             mask=[False, False, False, False, False, False, False, False,\n",
            "                   False, False, False, False, False, False, False],\n",
            "       fill_value='?',\n",
            "            dtype=object), 'params': [{'max_depth': 1, 'min_child_weight': 0}, {'max_depth': 1, 'min_child_weight': 0.5}, {'max_depth': 1, 'min_child_weight': 1}, {'max_depth': 1, 'min_child_weight': 1.5}, {'max_depth': 1, 'min_child_weight': 2}, {'max_depth': 2, 'min_child_weight': 0}, {'max_depth': 2, 'min_child_weight': 0.5}, {'max_depth': 2, 'min_child_weight': 1}, {'max_depth': 2, 'min_child_weight': 1.5}, {'max_depth': 2, 'min_child_weight': 2}, {'max_depth': 3, 'min_child_weight': 0}, {'max_depth': 3, 'min_child_weight': 0.5}, {'max_depth': 3, 'min_child_weight': 1}, {'max_depth': 3, 'min_child_weight': 1.5}, {'max_depth': 3, 'min_child_weight': 2}], 'split0_test_score': array([-594.64196777, -594.64196777, -594.64196777, -582.38064575,\n",
            "       -582.38064575, -539.15081787, -539.15081787, -539.15081787,\n",
            "       -544.16110229, -544.16110229, -570.32717896, -570.32717896,\n",
            "       -570.32717896, -549.64782715, -549.64782715]), 'split1_test_score': array([-333.19475446, -333.19475446, -333.19475446, -331.61216518,\n",
            "       -331.61216518, -255.70926339, -255.70926339, -255.70926339,\n",
            "       -271.7835519 , -271.7835519 , -234.76677595, -234.76677595,\n",
            "       -234.76677595, -279.58611189, -279.58611189]), 'split2_test_score': array([-249.04432896, -249.04432896, -249.04432896, -243.41120257,\n",
            "       -243.41120257, -212.2507673 , -212.2507673 , -212.2507673 ,\n",
            "       -242.87130301, -242.87130301, -261.67766462, -261.67766462,\n",
            "       -261.67766462, -249.41496931, -249.41496931]), 'split3_test_score': array([-609.08859403, -609.08859403, -609.08859403, -632.61670508,\n",
            "       -632.61670508, -720.69462081, -720.69462081, -720.69462081,\n",
            "       -713.32711942, -713.32711942, -705.1826928 , -705.1826928 ,\n",
            "       -705.1826928 , -698.18691295, -698.18691295]), 'split4_test_score': array([-429.18812779, -429.18812779, -429.18812779, -432.23409598,\n",
            "       -432.23409598, -485.64411272, -485.64411272, -485.64411272,\n",
            "       -418.9460798 , -418.9460798 , -438.8206264 , -438.8206264 ,\n",
            "       -438.8206264 , -423.07240513, -423.07240513]), 'mean_test_score': array([-443.0315546 , -443.0315546 , -443.0315546 , -444.45096291,\n",
            "       -444.45096291, -442.68991642, -442.68991642, -442.68991642,\n",
            "       -438.21783128, -438.21783128, -442.15498774, -442.15498774,\n",
            "       -442.15498774, -439.98164528, -439.98164528]), 'std_test_score': array([141.73740831, 141.73740831, 141.73740831, 146.78540478,\n",
            "       146.78540478, 187.88312868, 187.88312868, 187.88312868,\n",
            "       175.00921859, 175.00921859, 179.55764353, 179.55764353,\n",
            "       179.55764353, 167.94340667, 167.94340667]), 'rank_test_score': array([11, 11, 11, 14, 14,  8,  8,  8,  1,  1,  5,  5,  5,  3,  3],\n",
            "      dtype=int32)}\n",
            "Best parameters {'max_depth': 2, 'min_child_weight': 1.5}\n",
            "Best score -438.2178312848772\n"
          ],
          "name": "stdout"
        },
        {
          "output_type": "stream",
          "text": [
            "[Parallel(n_jobs=1)]: Done  75 out of  75 | elapsed:    1.5s finished\n"
          ],
          "name": "stderr"
        }
      ]
    },
    {
      "cell_type": "markdown",
      "metadata": {
        "id": "f_iYQIhW4M8H",
        "colab_type": "text"
      },
      "source": [
        "Set max_depth and min_child_weight before tuning gamma parameter"
      ]
    },
    {
      "cell_type": "code",
      "metadata": {
        "id": "_ZzOaAz94WKI",
        "colab_type": "code",
        "colab": {
          "base_uri": "https://localhost:8080/",
          "height": 785
        },
        "outputId": "e760f082-829e-497a-db34-d48739979911"
      },
      "source": [
        "max_depth = gbm.best_params_['max_depth']\n",
        "min_child_weight = gbm.best_params_['min_child_weight']\n",
        "parameters['max_depth'] = max_depth\n",
        "parameters['min_child_weight'] = min_child_weight\n",
        "scores.append(gbm.best_score_)\n",
        "\n",
        "cv_params = {'gamma': [i/10.0 for i in range(1,10,2)]}\n",
        "\n",
        "gbm = GridSearchCV(xgb.XGBRegressor(\n",
        "                                        objective = objective,\n",
        "                                        seed = seed,\n",
        "                                        n_estimators = n_estimators,\n",
        "                                        max_depth = max_depth,\n",
        "                                        min_child_weight = min_child_weight,\n",
        "                                        learning_rate = learning_rate,\n",
        "                                        subsample = subsample,\n",
        "                                        colsample_bytree = colsample_bytree,\n",
        "                                        reg_alpha = reg_alpha,\n",
        "                                        reg_lambda = reg_lambda,\n",
        "                                        silent = silent\n",
        "\n",
        "                                    ),\n",
        "                   \n",
        "                    param_grid = cv_params,\n",
        "                    iid = False,\n",
        "                    scoring = \"neg_mean_absolute_error\",\n",
        "                    cv = 5,\n",
        "                    verbose = True\n",
        ")\n",
        "\n",
        "gbm.fit(X_train,y_train)\n",
        "print (gbm.cv_results_)\n",
        "print (\"Best parameters %s\" %gbm.best_params_)\n",
        "print (\"Best score %s\" %gbm.best_score_)"
      ],
      "execution_count": 266,
      "outputs": [
        {
          "output_type": "stream",
          "text": [
            "Fitting 5 folds for each of 5 candidates, totalling 25 fits\n",
            "[18:57:54] WARNING: /workspace/src/objective/regression_obj.cu:152: reg:linear is now deprecated in favor of reg:squarederror.\n",
            "[18:57:54] WARNING: /workspace/src/objective/regression_obj.cu:152: reg:linear is now deprecated in favor of reg:squarederror.\n",
            "[18:57:54] WARNING: /workspace/src/objective/regression_obj.cu:152: reg:linear is now deprecated in favor of reg:squarederror.\n",
            "[18:57:54] WARNING: /workspace/src/objective/regression_obj.cu:152: reg:linear is now deprecated in favor of reg:squarederror.\n",
            "[18:57:54] WARNING: /workspace/src/objective/regression_obj.cu:152: reg:linear is now deprecated in favor of reg:squarederror.\n",
            "[18:57:54] WARNING: /workspace/src/objective/regression_obj.cu:152: reg:linear is now deprecated in favor of reg:squarederror.\n",
            "[18:57:54] WARNING: /workspace/src/objective/regression_obj.cu:152: reg:linear is now deprecated in favor of reg:squarederror.\n",
            "[18:57:54] WARNING: /workspace/src/objective/regression_obj.cu:152: reg:linear is now deprecated in favor of reg:squarederror.\n",
            "[18:57:54] WARNING: /workspace/src/objective/regression_obj.cu:152: reg:linear is now deprecated in favor of reg:squarederror.\n",
            "[18:57:54] WARNING: /workspace/src/objective/regression_obj.cu:152: reg:linear is now deprecated in favor of reg:squarederror.\n",
            "[18:57:54] WARNING: /workspace/src/objective/regression_obj.cu:152: reg:linear is now deprecated in favor of reg:squarederror.\n"
          ],
          "name": "stdout"
        },
        {
          "output_type": "stream",
          "text": [
            "[Parallel(n_jobs=1)]: Using backend SequentialBackend with 1 concurrent workers.\n"
          ],
          "name": "stderr"
        },
        {
          "output_type": "stream",
          "text": [
            "[18:57:54] WARNING: /workspace/src/objective/regression_obj.cu:152: reg:linear is now deprecated in favor of reg:squarederror.\n",
            "[18:57:54] WARNING: /workspace/src/objective/regression_obj.cu:152: reg:linear is now deprecated in favor of reg:squarederror.\n",
            "[18:57:54] WARNING: /workspace/src/objective/regression_obj.cu:152: reg:linear is now deprecated in favor of reg:squarederror.\n",
            "[18:57:54] WARNING: /workspace/src/objective/regression_obj.cu:152: reg:linear is now deprecated in favor of reg:squarederror.\n",
            "[18:57:54] WARNING: /workspace/src/objective/regression_obj.cu:152: reg:linear is now deprecated in favor of reg:squarederror.\n",
            "[18:57:54] WARNING: /workspace/src/objective/regression_obj.cu:152: reg:linear is now deprecated in favor of reg:squarederror.\n",
            "[18:57:54] WARNING: /workspace/src/objective/regression_obj.cu:152: reg:linear is now deprecated in favor of reg:squarederror.\n",
            "[18:57:54] WARNING: /workspace/src/objective/regression_obj.cu:152: reg:linear is now deprecated in favor of reg:squarederror.\n",
            "[18:57:54] WARNING: /workspace/src/objective/regression_obj.cu:152: reg:linear is now deprecated in favor of reg:squarederror.\n",
            "[18:57:54] WARNING: /workspace/src/objective/regression_obj.cu:152: reg:linear is now deprecated in favor of reg:squarederror.\n",
            "[18:57:54] WARNING: /workspace/src/objective/regression_obj.cu:152: reg:linear is now deprecated in favor of reg:squarederror.\n",
            "[18:57:54] WARNING: /workspace/src/objective/regression_obj.cu:152: reg:linear is now deprecated in favor of reg:squarederror.\n",
            "[18:57:54] WARNING: /workspace/src/objective/regression_obj.cu:152: reg:linear is now deprecated in favor of reg:squarederror.\n",
            "[18:57:54] WARNING: /workspace/src/objective/regression_obj.cu:152: reg:linear is now deprecated in favor of reg:squarederror.\n",
            "[18:57:54] WARNING: /workspace/src/objective/regression_obj.cu:152: reg:linear is now deprecated in favor of reg:squarederror.\n",
            "{'mean_fit_time': array([0.0169168 , 0.01613288, 0.01734762, 0.01597762, 0.0171185 ]), 'std_fit_time': array([1.22149150e-03, 1.03333308e-04, 2.53483239e-03, 6.27259300e-05,\n",
            "       1.97286728e-03]), 'mean_score_time': array([0.00193272, 0.00186501, 0.00187535, 0.00183344, 0.00193563]), 'std_score_time': array([4.53435784e-05, 5.44176710e-05, 9.53649759e-05, 2.22494487e-05,\n",
            "       1.75359132e-04]), 'param_gamma': masked_array(data=[0.1, 0.3, 0.5, 0.7, 0.9],\n",
            "             mask=[False, False, False, False, False],\n",
            "       fill_value='?',\n",
            "            dtype=object), 'params': [{'gamma': 0.1}, {'gamma': 0.3}, {'gamma': 0.5}, {'gamma': 0.7}, {'gamma': 0.9}], 'split0_test_score': array([-544.16110229, -544.16110229, -544.16110229, -544.16110229,\n",
            "       -544.16110229]), 'split1_test_score': array([-271.7835519, -271.7835519, -271.7835519, -271.7835519,\n",
            "       -271.7835519]), 'split2_test_score': array([-242.87130301, -242.87130301, -242.87130301, -242.87130301,\n",
            "       -242.87130301]), 'split3_test_score': array([-713.32711942, -713.32711942, -713.32711942, -713.32711942,\n",
            "       -713.32711942]), 'split4_test_score': array([-418.9460798, -418.9460798, -418.9460798, -418.9460798,\n",
            "       -418.9460798]), 'mean_test_score': array([-438.21783128, -438.21783128, -438.21783128, -438.21783128,\n",
            "       -438.21783128]), 'std_test_score': array([175.00921859, 175.00921859, 175.00921859, 175.00921859,\n",
            "       175.00921859]), 'rank_test_score': array([1, 1, 1, 1, 1], dtype=int32)}\n",
            "Best parameters {'gamma': 0.1}\n",
            "Best score -438.2178312848772\n"
          ],
          "name": "stdout"
        },
        {
          "output_type": "stream",
          "text": [
            "[Parallel(n_jobs=1)]: Done  25 out of  25 | elapsed:    0.5s finished\n"
          ],
          "name": "stderr"
        }
      ]
    },
    {
      "cell_type": "markdown",
      "metadata": {
        "id": "qR1FGN875KK5",
        "colab_type": "text"
      },
      "source": [
        "Set the gamma parameter and tune the subsample and colsample_bytree parameters next. We will look at 10% intervals from 60% to 100% for both subsample and colsample_bytree"
      ]
    },
    {
      "cell_type": "code",
      "metadata": {
        "id": "iHYpvNY55PDk",
        "colab_type": "code",
        "colab": {
          "base_uri": "https://localhost:8080/",
          "height": 1000
        },
        "outputId": "bbf54fcf-68a6-497b-9cd9-ed4a393b30a0"
      },
      "source": [
        "gamma = gbm.best_params_['gamma']\n",
        "parameters['gamma'] = gamma\n",
        "scores.append(gbm.best_score_)\n",
        "\n",
        "cv_params = {'subsample': [i/10.0 for i in range(6,11)],\n",
        "             'colsample_bytree': [i/10.0 for i in range(6,11)]\n",
        "            }\n",
        "\n",
        "gbm = GridSearchCV(xgb.XGBRegressor(\n",
        "                                        objective = objective,\n",
        "                                        seed = seed,\n",
        "                                        n_estimators = n_estimators,\n",
        "                                        max_depth = max_depth,\n",
        "                                        min_child_weight = min_child_weight,\n",
        "                                        learning_rate = learning_rate,\n",
        "                                        gamma = gamma,\n",
        "                                        reg_alpha = reg_alpha,\n",
        "                                        reg_lambda = reg_lambda,\n",
        "                                        silent = silent\n",
        "\n",
        "                                    ),\n",
        "                   \n",
        "                    param_grid = cv_params,\n",
        "                    iid = False,\n",
        "                    scoring = \"neg_mean_absolute_error\",\n",
        "                    cv = 5,\n",
        "                    verbose = True\n",
        ")\n",
        "\n",
        "gbm.fit(X_train,y_train)\n",
        "print (gbm.cv_results_)\n",
        "print (\"Best parameters %s\" %gbm.best_params_)\n",
        "print (\"Best score %s\" %gbm.best_score_)"
      ],
      "execution_count": 267,
      "outputs": [
        {
          "output_type": "stream",
          "text": [
            "Fitting 5 folds for each of 25 candidates, totalling 125 fits\n",
            "[18:58:02] WARNING: /workspace/src/objective/regression_obj.cu:152: reg:linear is now deprecated in favor of reg:squarederror.\n",
            "[18:58:02] WARNING: /workspace/src/objective/regression_obj.cu:152: reg:linear is now deprecated in favor of reg:squarederror.\n",
            "[18:58:02] WARNING: /workspace/src/objective/regression_obj.cu:152: reg:linear is now deprecated in favor of reg:squarederror.\n",
            "[18:58:02] WARNING: /workspace/src/objective/regression_obj.cu:152: reg:linear is now deprecated in favor of reg:squarederror.\n",
            "[18:58:02] WARNING: /workspace/src/objective/regression_obj.cu:152: reg:linear is now deprecated in favor of reg:squarederror.\n",
            "[18:58:02] WARNING: /workspace/src/objective/regression_obj.cu:152: reg:linear is now deprecated in favor of reg:squarederror.\n",
            "[18:58:02] WARNING: /workspace/src/objective/regression_obj.cu:152: reg:linear is now deprecated in favor of reg:squarederror.\n",
            "[18:58:02] WARNING: /workspace/src/objective/regression_obj.cu:152: reg:linear is now deprecated in favor of reg:squarederror.\n",
            "[18:58:02] WARNING: /workspace/src/objective/regression_obj.cu:152: reg:linear is now deprecated in favor of reg:squarederror.\n",
            "[18:58:02] WARNING: /workspace/src/objective/regression_obj.cu:152: reg:linear is now deprecated in favor of reg:squarederror.\n"
          ],
          "name": "stdout"
        },
        {
          "output_type": "stream",
          "text": [
            "[Parallel(n_jobs=1)]: Using backend SequentialBackend with 1 concurrent workers.\n"
          ],
          "name": "stderr"
        },
        {
          "output_type": "stream",
          "text": [
            "[18:58:02] WARNING: /workspace/src/objective/regression_obj.cu:152: reg:linear is now deprecated in favor of reg:squarederror.\n",
            "[18:58:02] WARNING: /workspace/src/objective/regression_obj.cu:152: reg:linear is now deprecated in favor of reg:squarederror.\n",
            "[18:58:02] WARNING: /workspace/src/objective/regression_obj.cu:152: reg:linear is now deprecated in favor of reg:squarederror.\n",
            "[18:58:02] WARNING: /workspace/src/objective/regression_obj.cu:152: reg:linear is now deprecated in favor of reg:squarederror.\n",
            "[18:58:02] WARNING: /workspace/src/objective/regression_obj.cu:152: reg:linear is now deprecated in favor of reg:squarederror.\n",
            "[18:58:02] WARNING: /workspace/src/objective/regression_obj.cu:152: reg:linear is now deprecated in favor of reg:squarederror.\n",
            "[18:58:02] WARNING: /workspace/src/objective/regression_obj.cu:152: reg:linear is now deprecated in favor of reg:squarederror.\n",
            "[18:58:02] WARNING: /workspace/src/objective/regression_obj.cu:152: reg:linear is now deprecated in favor of reg:squarederror.\n",
            "[18:58:02] WARNING: /workspace/src/objective/regression_obj.cu:152: reg:linear is now deprecated in favor of reg:squarederror.\n",
            "[18:58:02] WARNING: /workspace/src/objective/regression_obj.cu:152: reg:linear is now deprecated in favor of reg:squarederror.\n",
            "[18:58:02] WARNING: /workspace/src/objective/regression_obj.cu:152: reg:linear is now deprecated in favor of reg:squarederror.\n",
            "[18:58:02] WARNING: /workspace/src/objective/regression_obj.cu:152: reg:linear is now deprecated in favor of reg:squarederror.\n",
            "[18:58:02] WARNING: /workspace/src/objective/regression_obj.cu:152: reg:linear is now deprecated in favor of reg:squarederror.\n",
            "[18:58:02] WARNING: /workspace/src/objective/regression_obj.cu:152: reg:linear is now deprecated in favor of reg:squarederror.\n",
            "[18:58:02] WARNING: /workspace/src/objective/regression_obj.cu:152: reg:linear is now deprecated in favor of reg:squarederror.\n",
            "[18:58:02] WARNING: /workspace/src/objective/regression_obj.cu:152: reg:linear is now deprecated in favor of reg:squarederror.\n",
            "[18:58:02] WARNING: /workspace/src/objective/regression_obj.cu:152: reg:linear is now deprecated in favor of reg:squarederror.\n",
            "[18:58:02] WARNING: /workspace/src/objective/regression_obj.cu:152: reg:linear is now deprecated in favor of reg:squarederror.\n",
            "[18:58:02] WARNING: /workspace/src/objective/regression_obj.cu:152: reg:linear is now deprecated in favor of reg:squarederror.\n",
            "[18:58:02] WARNING: /workspace/src/objective/regression_obj.cu:152: reg:linear is now deprecated in favor of reg:squarederror.\n",
            "[18:58:02] WARNING: /workspace/src/objective/regression_obj.cu:152: reg:linear is now deprecated in favor of reg:squarederror.\n",
            "[18:58:02] WARNING: /workspace/src/objective/regression_obj.cu:152: reg:linear is now deprecated in favor of reg:squarederror.\n",
            "[18:58:02] WARNING: /workspace/src/objective/regression_obj.cu:152: reg:linear is now deprecated in favor of reg:squarederror.\n",
            "[18:58:03] WARNING: /workspace/src/objective/regression_obj.cu:152: reg:linear is now deprecated in favor of reg:squarederror.\n",
            "[18:58:03] WARNING: /workspace/src/objective/regression_obj.cu:152: reg:linear is now deprecated in favor of reg:squarederror.\n",
            "[18:58:03] WARNING: /workspace/src/objective/regression_obj.cu:152: reg:linear is now deprecated in favor of reg:squarederror.\n",
            "[18:58:03] WARNING: /workspace/src/objective/regression_obj.cu:152: reg:linear is now deprecated in favor of reg:squarederror.\n",
            "[18:58:03] WARNING: /workspace/src/objective/regression_obj.cu:152: reg:linear is now deprecated in favor of reg:squarederror.\n",
            "[18:58:03] WARNING: /workspace/src/objective/regression_obj.cu:152: reg:linear is now deprecated in favor of reg:squarederror.\n",
            "[18:58:03] WARNING: /workspace/src/objective/regression_obj.cu:152: reg:linear is now deprecated in favor of reg:squarederror.\n",
            "[18:58:03] WARNING: /workspace/src/objective/regression_obj.cu:152: reg:linear is now deprecated in favor of reg:squarederror.\n",
            "[18:58:03] WARNING: /workspace/src/objective/regression_obj.cu:152: reg:linear is now deprecated in favor of reg:squarederror.\n",
            "[18:58:03] WARNING: /workspace/src/objective/regression_obj.cu:152: reg:linear is now deprecated in favor of reg:squarederror.\n",
            "[18:58:03] WARNING: /workspace/src/objective/regression_obj.cu:152: reg:linear is now deprecated in favor of reg:squarederror.\n",
            "[18:58:03] WARNING: /workspace/src/objective/regression_obj.cu:152: reg:linear is now deprecated in favor of reg:squarederror.\n",
            "[18:58:03] WARNING: /workspace/src/objective/regression_obj.cu:152: reg:linear is now deprecated in favor of reg:squarederror.\n",
            "[18:58:03] WARNING: /workspace/src/objective/regression_obj.cu:152: reg:linear is now deprecated in favor of reg:squarederror.\n",
            "[18:58:03] WARNING: /workspace/src/objective/regression_obj.cu:152: reg:linear is now deprecated in favor of reg:squarederror.\n",
            "[18:58:03] WARNING: /workspace/src/objective/regression_obj.cu:152: reg:linear is now deprecated in favor of reg:squarederror.\n",
            "[18:58:03] WARNING: /workspace/src/objective/regression_obj.cu:152: reg:linear is now deprecated in favor of reg:squarederror.\n",
            "[18:58:03] WARNING: /workspace/src/objective/regression_obj.cu:152: reg:linear is now deprecated in favor of reg:squarederror.\n",
            "[18:58:03] WARNING: /workspace/src/objective/regression_obj.cu:152: reg:linear is now deprecated in favor of reg:squarederror.\n",
            "[18:58:03] WARNING: /workspace/src/objective/regression_obj.cu:152: reg:linear is now deprecated in favor of reg:squarederror.\n",
            "[18:58:03] WARNING: /workspace/src/objective/regression_obj.cu:152: reg:linear is now deprecated in favor of reg:squarederror.\n",
            "[18:58:03] WARNING: /workspace/src/objective/regression_obj.cu:152: reg:linear is now deprecated in favor of reg:squarederror.\n",
            "[18:58:03] WARNING: /workspace/src/objective/regression_obj.cu:152: reg:linear is now deprecated in favor of reg:squarederror.\n",
            "[18:58:03] WARNING: /workspace/src/objective/regression_obj.cu:152: reg:linear is now deprecated in favor of reg:squarederror.\n",
            "[18:58:03] WARNING: /workspace/src/objective/regression_obj.cu:152: reg:linear is now deprecated in favor of reg:squarederror.\n",
            "[18:58:03] WARNING: /workspace/src/objective/regression_obj.cu:152: reg:linear is now deprecated in favor of reg:squarederror.\n",
            "[18:58:03] WARNING: /workspace/src/objective/regression_obj.cu:152: reg:linear is now deprecated in favor of reg:squarederror.\n",
            "[18:58:03] WARNING: /workspace/src/objective/regression_obj.cu:152: reg:linear is now deprecated in favor of reg:squarederror.\n",
            "[18:58:03] WARNING: /workspace/src/objective/regression_obj.cu:152: reg:linear is now deprecated in favor of reg:squarederror.\n",
            "[18:58:03] WARNING: /workspace/src/objective/regression_obj.cu:152: reg:linear is now deprecated in favor of reg:squarederror.\n",
            "[18:58:03] WARNING: /workspace/src/objective/regression_obj.cu:152: reg:linear is now deprecated in favor of reg:squarederror.\n",
            "[18:58:03] WARNING: /workspace/src/objective/regression_obj.cu:152: reg:linear is now deprecated in favor of reg:squarederror.\n",
            "[18:58:03] WARNING: /workspace/src/objective/regression_obj.cu:152: reg:linear is now deprecated in favor of reg:squarederror.\n",
            "[18:58:03] WARNING: /workspace/src/objective/regression_obj.cu:152: reg:linear is now deprecated in favor of reg:squarederror.\n",
            "[18:58:03] WARNING: /workspace/src/objective/regression_obj.cu:152: reg:linear is now deprecated in favor of reg:squarederror.\n",
            "[18:58:03] WARNING: /workspace/src/objective/regression_obj.cu:152: reg:linear is now deprecated in favor of reg:squarederror.\n",
            "[18:58:03] WARNING: /workspace/src/objective/regression_obj.cu:152: reg:linear is now deprecated in favor of reg:squarederror.\n",
            "[18:58:03] WARNING: /workspace/src/objective/regression_obj.cu:152: reg:linear is now deprecated in favor of reg:squarederror.\n",
            "[18:58:03] WARNING: /workspace/src/objective/regression_obj.cu:152: reg:linear is now deprecated in favor of reg:squarederror.\n",
            "[18:58:03] WARNING: /workspace/src/objective/regression_obj.cu:152: reg:linear is now deprecated in favor of reg:squarederror.\n",
            "[18:58:03] WARNING: /workspace/src/objective/regression_obj.cu:152: reg:linear is now deprecated in favor of reg:squarederror.\n",
            "[18:58:03] WARNING: /workspace/src/objective/regression_obj.cu:152: reg:linear is now deprecated in favor of reg:squarederror.\n",
            "[18:58:03] WARNING: /workspace/src/objective/regression_obj.cu:152: reg:linear is now deprecated in favor of reg:squarederror.\n",
            "[18:58:03] WARNING: /workspace/src/objective/regression_obj.cu:152: reg:linear is now deprecated in favor of reg:squarederror.\n",
            "[18:58:03] WARNING: /workspace/src/objective/regression_obj.cu:152: reg:linear is now deprecated in favor of reg:squarederror.\n",
            "[18:58:03] WARNING: /workspace/src/objective/regression_obj.cu:152: reg:linear is now deprecated in favor of reg:squarederror.\n",
            "[18:58:03] WARNING: /workspace/src/objective/regression_obj.cu:152: reg:linear is now deprecated in favor of reg:squarederror.\n",
            "[18:58:03] WARNING: /workspace/src/objective/regression_obj.cu:152: reg:linear is now deprecated in favor of reg:squarederror.\n",
            "[18:58:03] WARNING: /workspace/src/objective/regression_obj.cu:152: reg:linear is now deprecated in favor of reg:squarederror.\n",
            "[18:58:03] WARNING: /workspace/src/objective/regression_obj.cu:152: reg:linear is now deprecated in favor of reg:squarederror.\n",
            "[18:58:03] WARNING: /workspace/src/objective/regression_obj.cu:152: reg:linear is now deprecated in favor of reg:squarederror.\n",
            "[18:58:04] WARNING: /workspace/src/objective/regression_obj.cu:152: reg:linear is now deprecated in favor of reg:squarederror.\n",
            "[18:58:04] WARNING: /workspace/src/objective/regression_obj.cu:152: reg:linear is now deprecated in favor of reg:squarederror.\n",
            "[18:58:04] WARNING: /workspace/src/objective/regression_obj.cu:152: reg:linear is now deprecated in favor of reg:squarederror.\n",
            "[18:58:04] WARNING: /workspace/src/objective/regression_obj.cu:152: reg:linear is now deprecated in favor of reg:squarederror.\n",
            "[18:58:04] WARNING: /workspace/src/objective/regression_obj.cu:152: reg:linear is now deprecated in favor of reg:squarederror.\n",
            "[18:58:04] WARNING: /workspace/src/objective/regression_obj.cu:152: reg:linear is now deprecated in favor of reg:squarederror.\n",
            "[18:58:04] WARNING: /workspace/src/objective/regression_obj.cu:152: reg:linear is now deprecated in favor of reg:squarederror.\n",
            "[18:58:04] WARNING: /workspace/src/objective/regression_obj.cu:152: reg:linear is now deprecated in favor of reg:squarederror.\n",
            "[18:58:04] WARNING: /workspace/src/objective/regression_obj.cu:152: reg:linear is now deprecated in favor of reg:squarederror.\n",
            "[18:58:04] WARNING: /workspace/src/objective/regression_obj.cu:152: reg:linear is now deprecated in favor of reg:squarederror.\n",
            "[18:58:04] WARNING: /workspace/src/objective/regression_obj.cu:152: reg:linear is now deprecated in favor of reg:squarederror.\n",
            "[18:58:04] WARNING: /workspace/src/objective/regression_obj.cu:152: reg:linear is now deprecated in favor of reg:squarederror.\n",
            "[18:58:04] WARNING: /workspace/src/objective/regression_obj.cu:152: reg:linear is now deprecated in favor of reg:squarederror.\n",
            "[18:58:04] WARNING: /workspace/src/objective/regression_obj.cu:152: reg:linear is now deprecated in favor of reg:squarederror.\n",
            "[18:58:04] WARNING: /workspace/src/objective/regression_obj.cu:152: reg:linear is now deprecated in favor of reg:squarederror.\n",
            "[18:58:04] WARNING: /workspace/src/objective/regression_obj.cu:152: reg:linear is now deprecated in favor of reg:squarederror.\n",
            "[18:58:04] WARNING: /workspace/src/objective/regression_obj.cu:152: reg:linear is now deprecated in favor of reg:squarederror.\n",
            "[18:58:04] WARNING: /workspace/src/objective/regression_obj.cu:152: reg:linear is now deprecated in favor of reg:squarederror.\n",
            "[18:58:04] WARNING: /workspace/src/objective/regression_obj.cu:152: reg:linear is now deprecated in favor of reg:squarederror.\n",
            "[18:58:04] WARNING: /workspace/src/objective/regression_obj.cu:152: reg:linear is now deprecated in favor of reg:squarederror.\n",
            "[18:58:04] WARNING: /workspace/src/objective/regression_obj.cu:152: reg:linear is now deprecated in favor of reg:squarederror.\n",
            "[18:58:04] WARNING: /workspace/src/objective/regression_obj.cu:152: reg:linear is now deprecated in favor of reg:squarederror.\n",
            "[18:58:04] WARNING: /workspace/src/objective/regression_obj.cu:152: reg:linear is now deprecated in favor of reg:squarederror.\n",
            "[18:58:04] WARNING: /workspace/src/objective/regression_obj.cu:152: reg:linear is now deprecated in favor of reg:squarederror.\n",
            "[18:58:04] WARNING: /workspace/src/objective/regression_obj.cu:152: reg:linear is now deprecated in favor of reg:squarederror.\n",
            "[18:58:04] WARNING: /workspace/src/objective/regression_obj.cu:152: reg:linear is now deprecated in favor of reg:squarederror.\n",
            "[18:58:04] WARNING: /workspace/src/objective/regression_obj.cu:152: reg:linear is now deprecated in favor of reg:squarederror.\n",
            "[18:58:04] WARNING: /workspace/src/objective/regression_obj.cu:152: reg:linear is now deprecated in favor of reg:squarederror.\n",
            "[18:58:04] WARNING: /workspace/src/objective/regression_obj.cu:152: reg:linear is now deprecated in favor of reg:squarederror.\n",
            "[18:58:04] WARNING: /workspace/src/objective/regression_obj.cu:152: reg:linear is now deprecated in favor of reg:squarederror.\n",
            "[18:58:04] WARNING: /workspace/src/objective/regression_obj.cu:152: reg:linear is now deprecated in favor of reg:squarederror.\n",
            "[18:58:04] WARNING: /workspace/src/objective/regression_obj.cu:152: reg:linear is now deprecated in favor of reg:squarederror.\n",
            "[18:58:04] WARNING: /workspace/src/objective/regression_obj.cu:152: reg:linear is now deprecated in favor of reg:squarederror.\n",
            "[18:58:04] WARNING: /workspace/src/objective/regression_obj.cu:152: reg:linear is now deprecated in favor of reg:squarederror.\n",
            "[18:58:04] WARNING: /workspace/src/objective/regression_obj.cu:152: reg:linear is now deprecated in favor of reg:squarederror.\n",
            "[18:58:04] WARNING: /workspace/src/objective/regression_obj.cu:152: reg:linear is now deprecated in favor of reg:squarederror.\n",
            "[18:58:04] WARNING: /workspace/src/objective/regression_obj.cu:152: reg:linear is now deprecated in favor of reg:squarederror.\n",
            "[18:58:04] WARNING: /workspace/src/objective/regression_obj.cu:152: reg:linear is now deprecated in favor of reg:squarederror.\n",
            "[18:58:04] WARNING: /workspace/src/objective/regression_obj.cu:152: reg:linear is now deprecated in favor of reg:squarederror.\n",
            "[18:58:04] WARNING: /workspace/src/objective/regression_obj.cu:152: reg:linear is now deprecated in favor of reg:squarederror.\n",
            "[18:58:04] WARNING: /workspace/src/objective/regression_obj.cu:152: reg:linear is now deprecated in favor of reg:squarederror.\n",
            "[18:58:04] WARNING: /workspace/src/objective/regression_obj.cu:152: reg:linear is now deprecated in favor of reg:squarederror.\n",
            "{'mean_fit_time': array([0.01819401, 0.01637883, 0.0177577 , 0.01643987, 0.01753054,\n",
            "       0.01612725, 0.01665468, 0.01778865, 0.01701441, 0.01587563,\n",
            "       0.01717572, 0.01619229, 0.01708145, 0.01687241, 0.01631832,\n",
            "       0.01689906, 0.0169951 , 0.01873999, 0.01636853, 0.01710505,\n",
            "       0.0163466 , 0.01675525, 0.01695867, 0.01722655, 0.0162364 ]), 'std_fit_time': array([2.77328897e-03, 1.22097355e-04, 2.80365644e-03, 1.24770472e-04,\n",
            "       1.68276658e-03, 1.29548907e-04, 7.38780006e-04, 2.05396305e-03,\n",
            "       1.51344051e-03, 1.03454149e-04, 1.77541317e-03, 1.66568072e-04,\n",
            "       1.39880887e-03, 1.52220241e-03, 2.16701531e-04, 6.52323783e-04,\n",
            "       1.00287020e-03, 2.66706294e-03, 9.70485572e-05, 1.46949914e-03,\n",
            "       1.47701847e-04, 1.09624033e-03, 1.10248640e-03, 1.53951725e-03,\n",
            "       7.33006822e-05]), 'mean_score_time': array([0.00198402, 0.00208669, 0.00191607, 0.00197716, 0.00205245,\n",
            "       0.00191145, 0.0020535 , 0.00198836, 0.00187411, 0.0019938 ,\n",
            "       0.00204535, 0.00185704, 0.0020648 , 0.00187578, 0.00189004,\n",
            "       0.00210471, 0.00191431, 0.00223227, 0.00198317, 0.001965  ,\n",
            "       0.00185246, 0.00211253, 0.00201964, 0.00196271, 0.00193162]), 'std_score_time': array([6.72385370e-05, 3.15987842e-04, 5.09592817e-05, 9.76398341e-05,\n",
            "       1.92486386e-04, 4.07165327e-05, 3.64528020e-04, 1.08934532e-04,\n",
            "       4.18821036e-05, 2.99013043e-04, 2.21447838e-04, 2.35747635e-05,\n",
            "       2.79926627e-04, 4.76526159e-05, 3.75984209e-05, 5.06968849e-04,\n",
            "       3.55131336e-05, 4.89202214e-04, 7.48201415e-05, 9.36469089e-05,\n",
            "       2.86746888e-05, 4.53388460e-04, 8.34324689e-05, 1.15111137e-04,\n",
            "       1.14306172e-04]), 'param_colsample_bytree': masked_array(data=[0.6, 0.6, 0.6, 0.6, 0.6, 0.7, 0.7, 0.7, 0.7, 0.7, 0.8,\n",
            "                   0.8, 0.8, 0.8, 0.8, 0.9, 0.9, 0.9, 0.9, 0.9, 1.0, 1.0,\n",
            "                   1.0, 1.0, 1.0],\n",
            "             mask=[False, False, False, False, False, False, False, False,\n",
            "                   False, False, False, False, False, False, False, False,\n",
            "                   False, False, False, False, False, False, False, False,\n",
            "                   False],\n",
            "       fill_value='?',\n",
            "            dtype=object), 'param_subsample': masked_array(data=[0.6, 0.7, 0.8, 0.9, 1.0, 0.6, 0.7, 0.8, 0.9, 1.0, 0.6,\n",
            "                   0.7, 0.8, 0.9, 1.0, 0.6, 0.7, 0.8, 0.9, 1.0, 0.6, 0.7,\n",
            "                   0.8, 0.9, 1.0],\n",
            "             mask=[False, False, False, False, False, False, False, False,\n",
            "                   False, False, False, False, False, False, False, False,\n",
            "                   False, False, False, False, False, False, False, False,\n",
            "                   False],\n",
            "       fill_value='?',\n",
            "            dtype=object), 'params': [{'colsample_bytree': 0.6, 'subsample': 0.6}, {'colsample_bytree': 0.6, 'subsample': 0.7}, {'colsample_bytree': 0.6, 'subsample': 0.8}, {'colsample_bytree': 0.6, 'subsample': 0.9}, {'colsample_bytree': 0.6, 'subsample': 1.0}, {'colsample_bytree': 0.7, 'subsample': 0.6}, {'colsample_bytree': 0.7, 'subsample': 0.7}, {'colsample_bytree': 0.7, 'subsample': 0.8}, {'colsample_bytree': 0.7, 'subsample': 0.9}, {'colsample_bytree': 0.7, 'subsample': 1.0}, {'colsample_bytree': 0.8, 'subsample': 0.6}, {'colsample_bytree': 0.8, 'subsample': 0.7}, {'colsample_bytree': 0.8, 'subsample': 0.8}, {'colsample_bytree': 0.8, 'subsample': 0.9}, {'colsample_bytree': 0.8, 'subsample': 1.0}, {'colsample_bytree': 0.9, 'subsample': 0.6}, {'colsample_bytree': 0.9, 'subsample': 0.7}, {'colsample_bytree': 0.9, 'subsample': 0.8}, {'colsample_bytree': 0.9, 'subsample': 0.9}, {'colsample_bytree': 0.9, 'subsample': 1.0}, {'colsample_bytree': 1.0, 'subsample': 0.6}, {'colsample_bytree': 1.0, 'subsample': 0.7}, {'colsample_bytree': 1.0, 'subsample': 0.8}, {'colsample_bytree': 1.0, 'subsample': 0.9}, {'colsample_bytree': 1.0, 'subsample': 1.0}], 'split0_test_score': array([-674.6512146 , -612.31152344, -570.85614014, -508.60406494,\n",
            "       -544.81286621, -667.91329956, -607.75799561, -544.16110229,\n",
            "       -567.12182617, -556.41442871, -667.91329956, -607.75799561,\n",
            "       -544.16110229, -567.12182617, -556.41442871, -608.73760986,\n",
            "       -563.46304321, -540.61950684, -569.8918457 , -554.05038452,\n",
            "       -606.58666992, -557.05715942, -545.57232666, -595.42755127,\n",
            "       -589.32672119]), 'split1_test_score': array([-293.40865653, -303.14355469, -274.3120466 , -269.94974191,\n",
            "       -288.62925502, -305.9289202 , -262.36279297, -271.7835519 ,\n",
            "       -279.49710519, -267.68327985, -305.9289202 , -262.36279297,\n",
            "       -271.7835519 , -279.49710519, -267.68327985, -304.6925572 ,\n",
            "       -243.19970703, -257.76845006, -239.89383371, -247.29771205,\n",
            "       -310.04038783, -252.19813756, -275.96160017, -255.66570173,\n",
            "       -250.76262556]), 'split2_test_score': array([-285.91510882, -259.54837472, -258.45288086, -256.81731306,\n",
            "       -249.33433315, -251.78749302, -204.29244559, -242.87130301,\n",
            "       -246.51489258, -212.97708566, -251.78749302, -204.29244559,\n",
            "       -242.87130301, -246.51489258, -212.97708566, -244.91556222,\n",
            "       -223.12154715, -223.92755999, -229.76911272, -204.80887277,\n",
            "       -258.42707171, -236.94674247, -250.51677595, -214.4109933 ,\n",
            "       -203.16413225]), 'split3_test_score': array([-720.22273186, -641.50666741, -738.06449386, -719.22433622,\n",
            "       -693.40813923, -730.53013979, -680.83514118, -713.32711942,\n",
            "       -671.71491936, -692.55748354, -730.53013979, -680.83514118,\n",
            "       -713.32711942, -671.71491936, -692.55748354, -689.88815458,\n",
            "       -684.78753376, -718.37793555, -659.10313783, -677.79677623,\n",
            "       -681.33161858, -684.02194364, -681.03317411, -659.79688086,\n",
            "       -687.86649581]), 'split4_test_score': array([-437.12688337, -433.38413783, -413.07083566, -420.99595424,\n",
            "       -389.35177176, -431.77828544, -460.35560826, -418.9460798 ,\n",
            "       -377.90359933, -419.44430106, -431.77828544, -460.35560826,\n",
            "       -418.9460798 , -377.90359933, -419.44430106, -447.03519113,\n",
            "       -475.83565848, -416.81958008, -433.8979841 , -385.69813756,\n",
            "       -439.80880301, -523.39512416, -460.99937221, -465.79781669,\n",
            "       -397.08813477]), 'mean_test_score': array([-482.26491904, -449.97885162, -450.95127942, -435.11828207,\n",
            "       -433.10727307, -477.5876276 , -443.12079672, -438.21783128,\n",
            "       -428.55046853, -429.81531576, -477.5876276 , -443.12079672,\n",
            "       -438.21783128, -428.55046853, -429.81531576, -459.053815  ,\n",
            "       -438.08149793, -431.5026065 , -426.51118281, -413.93037663,\n",
            "       -459.23891021, -450.72382145, -442.81664982, -438.21978877,\n",
            "       -425.64162192]), 'std_test_score': array([184.33327726, 155.64996373, 182.48460405, 170.5213961 ,\n",
            "       165.4059343 , 191.18299313, 186.34537438, 175.00921859,\n",
            "       165.07569942, 178.03030932, 191.18299313, 186.34537438,\n",
            "       175.00921859, 165.07569942, 178.03030932, 170.59704998,\n",
            "       180.10911666, 183.13410423, 172.18889279, 179.75227456,\n",
            "       163.70684533, 176.70823268, 162.76136031, 177.75691693,\n",
            "       187.85573966]), 'rank_test_score': array([25, 18, 20, 10,  9, 23, 16, 12,  4,  6, 23, 16, 12,  4,  6, 21, 11,\n",
            "        8,  3,  1, 22, 19, 15, 14,  2], dtype=int32)}\n",
            "Best parameters {'colsample_bytree': 0.9, 'subsample': 1.0}\n",
            "Best score -413.93037662527894\n"
          ],
          "name": "stdout"
        },
        {
          "output_type": "stream",
          "text": [
            "[Parallel(n_jobs=1)]: Done 125 out of 125 | elapsed:    2.4s finished\n"
          ],
          "name": "stderr"
        }
      ]
    },
    {
      "cell_type": "markdown",
      "metadata": {
        "id": "iQHpyx055mlF",
        "colab_type": "text"
      },
      "source": [
        "Retune with a smaller grid of values based on best values from the big grid above. Look at 5% intervals in some range around the best values found previously"
      ]
    },
    {
      "cell_type": "code",
      "metadata": {
        "id": "SZnHrMoM5jIo",
        "colab_type": "code",
        "colab": {
          "base_uri": "https://localhost:8080/",
          "height": 1000
        },
        "outputId": "16ccb85a-5b37-4898-ddf1-2cf1c94fb98a"
      },
      "source": [
        "subsample = gbm.best_params_['subsample']\n",
        "colsample_bytree = gbm.best_params_['colsample_bytree']\n",
        "parameters['subsample'] = subsample\n",
        "parameters['colsample_bytree'] = colsample_bytree\n",
        "scores.append(gbm.best_score_)\n",
        "\n",
        "cv_params = {'subsample': [i/100.0 for i in range(int((subsample-0.1)*100.0), min(int((subsample+0.1)*100),105) , 5)],\n",
        "             'colsample_bytree': [i/100.0 for i in range(int((colsample_bytree-0.1)*100.0), min(int((subsample+0.1)*100),105), 5)]\n",
        "            }\n",
        "\n",
        "gbm = GridSearchCV(xgb.XGBRegressor(\n",
        "                                        objective = objective,\n",
        "                                        seed = seed,\n",
        "                                        n_estimators = n_estimators,\n",
        "                                        max_depth = max_depth,\n",
        "                                        min_child_weight = min_child_weight,\n",
        "                                        learning_rate = learning_rate,\n",
        "                                        gamma = gamma,\n",
        "                                        reg_alpha = reg_alpha,\n",
        "                                        reg_lambda = reg_lambda,\n",
        "                                        silent = silent\n",
        "\n",
        "                                    ),\n",
        "                   \n",
        "                    param_grid = cv_params,\n",
        "                    iid = False,\n",
        "                    scoring = \"neg_mean_absolute_error\",\n",
        "                    cv = 5,\n",
        "                    verbose = True\n",
        ")\n",
        "\n",
        "gbm.fit(X_train,y_train)\n",
        "print (gbm.cv_results_)\n",
        "print (\"Best parameters %s\" %gbm.best_params_)\n",
        "print (\"Best score %s\" %gbm.best_score_)"
      ],
      "execution_count": 268,
      "outputs": [
        {
          "output_type": "stream",
          "text": [
            "Fitting 5 folds for each of 15 candidates, totalling 75 fits\n",
            "[18:58:08] WARNING: /workspace/src/objective/regression_obj.cu:152: reg:linear is now deprecated in favor of reg:squarederror.\n",
            "[18:58:08] WARNING: /workspace/src/objective/regression_obj.cu:152: reg:linear is now deprecated in favor of reg:squarederror.\n",
            "[18:58:08] WARNING: /workspace/src/objective/regression_obj.cu:152: reg:linear is now deprecated in favor of reg:squarederror.\n",
            "[18:58:08] WARNING: /workspace/src/objective/regression_obj.cu:152: reg:linear is now deprecated in favor of reg:squarederror.\n",
            "[18:58:08] WARNING: /workspace/src/objective/regression_obj.cu:152: reg:linear is now deprecated in favor of reg:squarederror.\n",
            "[18:58:08] WARNING: /workspace/src/objective/regression_obj.cu:152: reg:linear is now deprecated in favor of reg:squarederror.\n",
            "[18:58:08] WARNING: /workspace/src/objective/regression_obj.cu:152: reg:linear is now deprecated in favor of reg:squarederror.\n",
            "[18:58:08] WARNING: /workspace/src/objective/regression_obj.cu:152: reg:linear is now deprecated in favor of reg:squarederror.\n",
            "[18:58:08] WARNING: /workspace/src/objective/regression_obj.cu:152: reg:linear is now deprecated in favor of reg:squarederror.\n",
            "[18:58:08] WARNING: /workspace/src/objective/regression_obj.cu:152: reg:linear is now deprecated in favor of reg:squarederror.\n",
            "[18:58:08] WARNING: /workspace/src/objective/regression_obj.cu:152: reg:linear is now deprecated in favor of reg:squarederror.\n"
          ],
          "name": "stdout"
        },
        {
          "output_type": "stream",
          "text": [
            "[Parallel(n_jobs=1)]: Using backend SequentialBackend with 1 concurrent workers.\n"
          ],
          "name": "stderr"
        },
        {
          "output_type": "stream",
          "text": [
            "[18:58:08] WARNING: /workspace/src/objective/regression_obj.cu:152: reg:linear is now deprecated in favor of reg:squarederror.\n",
            "[18:58:08] WARNING: /workspace/src/objective/regression_obj.cu:152: reg:linear is now deprecated in favor of reg:squarederror.\n",
            "[18:58:08] WARNING: /workspace/src/objective/regression_obj.cu:152: reg:linear is now deprecated in favor of reg:squarederror.\n",
            "[18:58:08] WARNING: /workspace/src/objective/regression_obj.cu:152: reg:linear is now deprecated in favor of reg:squarederror.\n",
            "[18:58:08] WARNING: /workspace/src/objective/regression_obj.cu:152: reg:linear is now deprecated in favor of reg:squarederror.\n",
            "[18:58:08] WARNING: /workspace/src/objective/regression_obj.cu:152: reg:linear is now deprecated in favor of reg:squarederror.\n",
            "[18:58:08] WARNING: /workspace/src/objective/regression_obj.cu:152: reg:linear is now deprecated in favor of reg:squarederror.\n",
            "[18:58:08] WARNING: /workspace/src/objective/regression_obj.cu:152: reg:linear is now deprecated in favor of reg:squarederror.\n",
            "[18:58:08] WARNING: /workspace/src/objective/regression_obj.cu:152: reg:linear is now deprecated in favor of reg:squarederror.\n",
            "[18:58:08] WARNING: /workspace/src/objective/regression_obj.cu:152: reg:linear is now deprecated in favor of reg:squarederror.\n",
            "[18:58:08] WARNING: /workspace/src/objective/regression_obj.cu:152: reg:linear is now deprecated in favor of reg:squarederror.\n",
            "[18:58:09] WARNING: /workspace/src/objective/regression_obj.cu:152: reg:linear is now deprecated in favor of reg:squarederror.\n",
            "[18:58:09] WARNING: /workspace/src/objective/regression_obj.cu:152: reg:linear is now deprecated in favor of reg:squarederror.\n",
            "[18:58:09] WARNING: /workspace/src/objective/regression_obj.cu:152: reg:linear is now deprecated in favor of reg:squarederror.\n",
            "[18:58:09] WARNING: /workspace/src/objective/regression_obj.cu:152: reg:linear is now deprecated in favor of reg:squarederror.\n",
            "[18:58:09] WARNING: /workspace/src/objective/regression_obj.cu:152: reg:linear is now deprecated in favor of reg:squarederror.\n",
            "[18:58:09] WARNING: /workspace/src/objective/regression_obj.cu:152: reg:linear is now deprecated in favor of reg:squarederror.\n",
            "[18:58:09] WARNING: /workspace/src/objective/regression_obj.cu:152: reg:linear is now deprecated in favor of reg:squarederror.\n",
            "[18:58:09] WARNING: /workspace/src/objective/regression_obj.cu:152: reg:linear is now deprecated in favor of reg:squarederror.\n",
            "[18:58:09] WARNING: /workspace/src/objective/regression_obj.cu:152: reg:linear is now deprecated in favor of reg:squarederror.\n",
            "[18:58:09] WARNING: /workspace/src/objective/regression_obj.cu:152: reg:linear is now deprecated in favor of reg:squarederror.\n",
            "[18:58:09] WARNING: /workspace/src/objective/regression_obj.cu:152: reg:linear is now deprecated in favor of reg:squarederror.\n",
            "[18:58:09] WARNING: /workspace/src/objective/regression_obj.cu:152: reg:linear is now deprecated in favor of reg:squarederror.\n",
            "[18:58:09] WARNING: /workspace/src/objective/regression_obj.cu:152: reg:linear is now deprecated in favor of reg:squarederror.\n",
            "[18:58:09] WARNING: /workspace/src/objective/regression_obj.cu:152: reg:linear is now deprecated in favor of reg:squarederror.\n",
            "[18:58:09] WARNING: /workspace/src/objective/regression_obj.cu:152: reg:linear is now deprecated in favor of reg:squarederror.\n",
            "[18:58:09] WARNING: /workspace/src/objective/regression_obj.cu:152: reg:linear is now deprecated in favor of reg:squarederror.\n",
            "[18:58:09] WARNING: /workspace/src/objective/regression_obj.cu:152: reg:linear is now deprecated in favor of reg:squarederror.\n",
            "[18:58:09] WARNING: /workspace/src/objective/regression_obj.cu:152: reg:linear is now deprecated in favor of reg:squarederror.\n",
            "[18:58:09] WARNING: /workspace/src/objective/regression_obj.cu:152: reg:linear is now deprecated in favor of reg:squarederror.\n",
            "[18:58:09] WARNING: /workspace/src/objective/regression_obj.cu:152: reg:linear is now deprecated in favor of reg:squarederror.\n",
            "[18:58:09] WARNING: /workspace/src/objective/regression_obj.cu:152: reg:linear is now deprecated in favor of reg:squarederror.\n",
            "[18:58:09] WARNING: /workspace/src/objective/regression_obj.cu:152: reg:linear is now deprecated in favor of reg:squarederror.\n",
            "[18:58:09] WARNING: /workspace/src/objective/regression_obj.cu:152: reg:linear is now deprecated in favor of reg:squarederror.\n",
            "[18:58:09] WARNING: /workspace/src/objective/regression_obj.cu:152: reg:linear is now deprecated in favor of reg:squarederror.\n",
            "[18:58:09] WARNING: /workspace/src/objective/regression_obj.cu:152: reg:linear is now deprecated in favor of reg:squarederror.\n",
            "[18:58:09] WARNING: /workspace/src/objective/regression_obj.cu:152: reg:linear is now deprecated in favor of reg:squarederror.\n",
            "[18:58:09] WARNING: /workspace/src/objective/regression_obj.cu:152: reg:linear is now deprecated in favor of reg:squarederror.\n",
            "[18:58:09] WARNING: /workspace/src/objective/regression_obj.cu:152: reg:linear is now deprecated in favor of reg:squarederror.\n",
            "[18:58:09] WARNING: /workspace/src/objective/regression_obj.cu:152: reg:linear is now deprecated in favor of reg:squarederror.\n",
            "[18:58:09] WARNING: /workspace/src/objective/regression_obj.cu:152: reg:linear is now deprecated in favor of reg:squarederror.\n",
            "[18:58:09] WARNING: /workspace/src/objective/regression_obj.cu:152: reg:linear is now deprecated in favor of reg:squarederror.\n",
            "[18:58:09] WARNING: /workspace/src/objective/regression_obj.cu:152: reg:linear is now deprecated in favor of reg:squarederror.\n",
            "[18:58:09] WARNING: /workspace/src/objective/regression_obj.cu:152: reg:linear is now deprecated in favor of reg:squarederror.\n",
            "[18:58:09] WARNING: /workspace/src/objective/regression_obj.cu:152: reg:linear is now deprecated in favor of reg:squarederror.\n",
            "[18:58:09] WARNING: /workspace/src/objective/regression_obj.cu:152: reg:linear is now deprecated in favor of reg:squarederror.\n",
            "[18:58:09] WARNING: /workspace/src/objective/regression_obj.cu:152: reg:linear is now deprecated in favor of reg:squarederror.\n",
            "[18:58:09] WARNING: /workspace/src/objective/regression_obj.cu:152: reg:linear is now deprecated in favor of reg:squarederror.\n",
            "[18:58:09] WARNING: /workspace/src/objective/regression_obj.cu:152: reg:linear is now deprecated in favor of reg:squarederror.\n",
            "[18:58:09] WARNING: /workspace/src/objective/regression_obj.cu:152: reg:linear is now deprecated in favor of reg:squarederror.\n",
            "[18:58:09] WARNING: /workspace/src/objective/regression_obj.cu:152: reg:linear is now deprecated in favor of reg:squarederror.\n",
            "[18:58:09] WARNING: /workspace/src/objective/regression_obj.cu:152: reg:linear is now deprecated in favor of reg:squarederror.\n",
            "[18:58:09] WARNING: /workspace/src/objective/regression_obj.cu:152: reg:linear is now deprecated in favor of reg:squarederror.\n",
            "[18:58:09] WARNING: /workspace/src/objective/regression_obj.cu:152: reg:linear is now deprecated in favor of reg:squarederror.\n",
            "[18:58:09] WARNING: /workspace/src/objective/regression_obj.cu:152: reg:linear is now deprecated in favor of reg:squarederror.\n",
            "[18:58:09] WARNING: /workspace/src/objective/regression_obj.cu:152: reg:linear is now deprecated in favor of reg:squarederror.\n",
            "[18:58:09] WARNING: /workspace/src/objective/regression_obj.cu:152: reg:linear is now deprecated in favor of reg:squarederror.\n",
            "[18:58:09] WARNING: /workspace/src/objective/regression_obj.cu:152: reg:linear is now deprecated in favor of reg:squarederror.\n",
            "[18:58:09] WARNING: /workspace/src/objective/regression_obj.cu:152: reg:linear is now deprecated in favor of reg:squarederror.\n",
            "[18:58:09] WARNING: /workspace/src/objective/regression_obj.cu:152: reg:linear is now deprecated in favor of reg:squarederror.\n",
            "[18:58:09] WARNING: /workspace/src/objective/regression_obj.cu:152: reg:linear is now deprecated in favor of reg:squarederror.\n",
            "[18:58:10] WARNING: /workspace/src/objective/regression_obj.cu:152: reg:linear is now deprecated in favor of reg:squarederror.\n",
            "[18:58:10] WARNING: /workspace/src/objective/regression_obj.cu:152: reg:linear is now deprecated in favor of reg:squarederror.\n",
            "[18:58:10] WARNING: /workspace/src/objective/regression_obj.cu:152: reg:linear is now deprecated in favor of reg:squarederror.\n",
            "[18:58:10] WARNING: /workspace/src/objective/regression_obj.cu:152: reg:linear is now deprecated in favor of reg:squarederror.\n",
            "{'mean_fit_time': array([0.01729884, 0.0164825 , 0.01771169, 0.01664486, 0.01787453,\n",
            "       0.01667633, 0.01860685, 0.01663136, 0.01711802, 0.01657624,\n",
            "       0.01744866, 0.01751122, 0.01655164, 0.01835389, 0.01682038]), 'std_fit_time': array([0.00093966, 0.00012176, 0.00255038, 0.00022147, 0.00144044,\n",
            "       0.00013951, 0.00290995, 0.00012466, 0.00140027, 0.00024863,\n",
            "       0.00182991, 0.00113423, 0.00015711, 0.00211239, 0.000239  ]), 'mean_score_time': array([0.00213723, 0.00197635, 0.00201702, 0.0019825 , 0.0021152 ,\n",
            "       0.00209799, 0.00217137, 0.00194664, 0.00209646, 0.00200891,\n",
            "       0.00204558, 0.00215955, 0.00195684, 0.00194106, 0.00205917]), 'std_score_time': array([1.77930966e-04, 9.46006466e-05, 8.74504268e-05, 8.30019143e-05,\n",
            "       3.21667731e-04, 1.02672862e-04, 4.38016307e-04, 7.03100230e-05,\n",
            "       2.10200366e-04, 1.24522717e-04, 1.87659347e-04, 2.27216103e-04,\n",
            "       9.42393098e-05, 6.99989152e-05, 2.87918501e-04]), 'param_colsample_bytree': masked_array(data=[0.8, 0.8, 0.8, 0.85, 0.85, 0.85, 0.9, 0.9, 0.9, 0.95,\n",
            "                   0.95, 0.95, 1.0, 1.0, 1.0],\n",
            "             mask=[False, False, False, False, False, False, False, False,\n",
            "                   False, False, False, False, False, False, False],\n",
            "       fill_value='?',\n",
            "            dtype=object), 'param_subsample': masked_array(data=[0.9, 0.95, 1.0, 0.9, 0.95, 1.0, 0.9, 0.95, 1.0, 0.9,\n",
            "                   0.95, 1.0, 0.9, 0.95, 1.0],\n",
            "             mask=[False, False, False, False, False, False, False, False,\n",
            "                   False, False, False, False, False, False, False],\n",
            "       fill_value='?',\n",
            "            dtype=object), 'params': [{'colsample_bytree': 0.8, 'subsample': 0.9}, {'colsample_bytree': 0.8, 'subsample': 0.95}, {'colsample_bytree': 0.8, 'subsample': 1.0}, {'colsample_bytree': 0.85, 'subsample': 0.9}, {'colsample_bytree': 0.85, 'subsample': 0.95}, {'colsample_bytree': 0.85, 'subsample': 1.0}, {'colsample_bytree': 0.9, 'subsample': 0.9}, {'colsample_bytree': 0.9, 'subsample': 0.95}, {'colsample_bytree': 0.9, 'subsample': 1.0}, {'colsample_bytree': 0.95, 'subsample': 0.9}, {'colsample_bytree': 0.95, 'subsample': 0.95}, {'colsample_bytree': 0.95, 'subsample': 1.0}, {'colsample_bytree': 1.0, 'subsample': 0.9}, {'colsample_bytree': 1.0, 'subsample': 0.95}, {'colsample_bytree': 1.0, 'subsample': 1.0}], 'split0_test_score': array([-567.12182617, -559.67715454, -556.41442871, -569.8918457 ,\n",
            "       -533.40100098, -554.05038452, -569.8918457 , -533.40100098,\n",
            "       -554.05038452, -569.8918457 , -533.40100098, -554.05038452,\n",
            "       -595.42755127, -549.19094849, -589.32672119]), 'split1_test_score': array([-279.49710519, -263.85623605, -267.68327985, -239.89383371,\n",
            "       -264.52270508, -247.29771205, -239.89383371, -264.52270508,\n",
            "       -247.29771205, -239.89383371, -264.52270508, -247.29771205,\n",
            "       -255.66570173, -249.3566197 , -250.76262556]), 'split2_test_score': array([-246.51489258, -247.37810407, -212.97708566, -229.76911272,\n",
            "       -215.73036412, -204.80887277, -229.76911272, -215.73036412,\n",
            "       -204.80887277, -229.76911272, -215.73036412, -204.80887277,\n",
            "       -214.4109933 , -215.06183733, -203.16413225]), 'split3_test_score': array([-671.71491936, -688.6998524 , -692.55748354, -659.10313783,\n",
            "       -685.70546763, -677.79677623, -659.10313783, -685.70546763,\n",
            "       -677.79677623, -659.10313783, -685.70546763, -677.79677623,\n",
            "       -659.79688086, -669.920137  , -687.86649581]), 'split4_test_score': array([-377.90359933, -410.73165458, -419.44430106, -433.8979841 ,\n",
            "       -423.30165318, -385.69813756, -433.8979841 , -423.30165318,\n",
            "       -385.69813756, -433.8979841 , -423.30165318, -385.69813756,\n",
            "       -465.79781669, -442.99581473, -397.08813477]), 'mean_test_score': array([-428.55046853, -434.06860033, -429.81531576, -426.51118281,\n",
            "       -424.5322382 , -413.93037663, -426.51118281, -424.5322382 ,\n",
            "       -413.93037663, -426.51118281, -424.5322382 , -413.93037663,\n",
            "       -438.21978877, -425.30507145, -425.64162192]), 'std_test_score': array([165.07569942, 170.28492993, 178.03030932, 172.18889279,\n",
            "       172.78116271, 179.75227456, 172.18889279, 172.78116271,\n",
            "       179.75227456, 172.18889279, 172.78116271, 179.75227456,\n",
            "       177.75691693, 173.58414581, 187.85573966]), 'rank_test_score': array([12, 14, 13,  9,  4,  1,  9,  4,  1,  9,  4,  1, 15,  7,  8],\n",
            "      dtype=int32)}\n",
            "Best parameters {'colsample_bytree': 0.85, 'subsample': 1.0}\n",
            "Best score -413.93037662527894\n"
          ],
          "name": "stdout"
        },
        {
          "output_type": "stream",
          "text": [
            "[Parallel(n_jobs=1)]: Done  75 out of  75 | elapsed:    1.5s finished\n"
          ],
          "name": "stderr"
        }
      ]
    },
    {
      "cell_type": "markdown",
      "metadata": {
        "id": "q9HmEYpP6BkZ",
        "colab_type": "text"
      },
      "source": [
        "Set the colsample_bytree and subsample parameters before tuning reg_alpha and reg_lambda parameters. reg_alpha controls L1 regularisation and reg_lambda controls L2 regularisation"
      ]
    },
    {
      "cell_type": "code",
      "metadata": {
        "id": "phv3fvxn6Aut",
        "colab_type": "code",
        "colab": {
          "base_uri": "https://localhost:8080/",
          "height": 1000
        },
        "outputId": "677d022d-592e-4058-9139-12ded35ff63e"
      },
      "source": [
        "colsample_bytree = gbm.best_params_['colsample_bytree']\n",
        "subsample = gbm.best_params_['subsample']\n",
        "parameters['colsample_bytree'] = colsample_bytree\n",
        "parameters['subsample'] = subsample\n",
        "scores.append(gbm.best_score_)\n",
        "\n",
        "cv_params = {'reg_alpha': [1e-5, 1e-2, 0.1, 1, 100], \n",
        "             'reg_lambda': [1e-5, 1e-2, 0.1, 1, 100]\n",
        "            }\n",
        "\n",
        "gbm = GridSearchCV(xgb.XGBRegressor(\n",
        "                                        objective = objective,\n",
        "                                        seed = seed,\n",
        "                                        n_estimators = n_estimators,\n",
        "                                        max_depth = max_depth,\n",
        "                                        min_child_weight = min_child_weight,\n",
        "                                        learning_rate = learning_rate,\n",
        "                                        gamma = gamma,\n",
        "                                        colsample_bytree = colsample_bytree,\n",
        "                                        subsample = subsample,\n",
        "                                        silent = silent\n",
        "\n",
        "                                    ),\n",
        "                   \n",
        "                    param_grid = cv_params,\n",
        "                    iid = False,\n",
        "                    scoring = \"neg_mean_absolute_error\",\n",
        "                    cv = 5,\n",
        "                    verbose = True\n",
        ")\n",
        "\n",
        "gbm.fit(X_train,y_train)\n",
        "print (gbm.cv_results_)\n",
        "print (\"Best parameters %s\" %gbm.best_params_)\n",
        "print (\"Best score %s\" %gbm.best_score_)"
      ],
      "execution_count": 269,
      "outputs": [
        {
          "output_type": "stream",
          "text": [
            "Fitting 5 folds for each of 25 candidates, totalling 125 fits\n",
            "[18:58:20] WARNING: /workspace/src/objective/regression_obj.cu:152: reg:linear is now deprecated in favor of reg:squarederror.\n",
            "[18:58:20] WARNING: /workspace/src/objective/regression_obj.cu:152: reg:linear is now deprecated in favor of reg:squarederror.\n",
            "[18:58:20] WARNING: /workspace/src/objective/regression_obj.cu:152: reg:linear is now deprecated in favor of reg:squarederror.\n",
            "[18:58:20] WARNING: /workspace/src/objective/regression_obj.cu:152: reg:linear is now deprecated in favor of reg:squarederror.\n",
            "[18:58:20] WARNING: /workspace/src/objective/regression_obj.cu:152: reg:linear is now deprecated in favor of reg:squarederror.\n",
            "[18:58:20] WARNING: /workspace/src/objective/regression_obj.cu:152: reg:linear is now deprecated in favor of reg:squarederror.\n",
            "[18:58:20] WARNING: /workspace/src/objective/regression_obj.cu:152: reg:linear is now deprecated in favor of reg:squarederror.\n",
            "[18:58:20] WARNING: /workspace/src/objective/regression_obj.cu:152: reg:linear is now deprecated in favor of reg:squarederror.\n",
            "[18:58:20] WARNING: /workspace/src/objective/regression_obj.cu:152: reg:linear is now deprecated in favor of reg:squarederror.\n",
            "[18:58:20] WARNING: /workspace/src/objective/regression_obj.cu:152: reg:linear is now deprecated in favor of reg:squarederror.\n"
          ],
          "name": "stdout"
        },
        {
          "output_type": "stream",
          "text": [
            "[Parallel(n_jobs=1)]: Using backend SequentialBackend with 1 concurrent workers.\n"
          ],
          "name": "stderr"
        },
        {
          "output_type": "stream",
          "text": [
            "[18:58:20] WARNING: /workspace/src/objective/regression_obj.cu:152: reg:linear is now deprecated in favor of reg:squarederror.\n",
            "[18:58:20] WARNING: /workspace/src/objective/regression_obj.cu:152: reg:linear is now deprecated in favor of reg:squarederror.\n",
            "[18:58:20] WARNING: /workspace/src/objective/regression_obj.cu:152: reg:linear is now deprecated in favor of reg:squarederror.\n",
            "[18:58:20] WARNING: /workspace/src/objective/regression_obj.cu:152: reg:linear is now deprecated in favor of reg:squarederror.\n",
            "[18:58:20] WARNING: /workspace/src/objective/regression_obj.cu:152: reg:linear is now deprecated in favor of reg:squarederror.\n",
            "[18:58:20] WARNING: /workspace/src/objective/regression_obj.cu:152: reg:linear is now deprecated in favor of reg:squarederror.\n",
            "[18:58:20] WARNING: /workspace/src/objective/regression_obj.cu:152: reg:linear is now deprecated in favor of reg:squarederror.\n",
            "[18:58:20] WARNING: /workspace/src/objective/regression_obj.cu:152: reg:linear is now deprecated in favor of reg:squarederror.\n",
            "[18:58:20] WARNING: /workspace/src/objective/regression_obj.cu:152: reg:linear is now deprecated in favor of reg:squarederror.\n",
            "[18:58:20] WARNING: /workspace/src/objective/regression_obj.cu:152: reg:linear is now deprecated in favor of reg:squarederror.\n",
            "[18:58:20] WARNING: /workspace/src/objective/regression_obj.cu:152: reg:linear is now deprecated in favor of reg:squarederror.\n",
            "[18:58:20] WARNING: /workspace/src/objective/regression_obj.cu:152: reg:linear is now deprecated in favor of reg:squarederror.\n",
            "[18:58:20] WARNING: /workspace/src/objective/regression_obj.cu:152: reg:linear is now deprecated in favor of reg:squarederror.\n",
            "[18:58:20] WARNING: /workspace/src/objective/regression_obj.cu:152: reg:linear is now deprecated in favor of reg:squarederror.\n",
            "[18:58:20] WARNING: /workspace/src/objective/regression_obj.cu:152: reg:linear is now deprecated in favor of reg:squarederror.\n",
            "[18:58:20] WARNING: /workspace/src/objective/regression_obj.cu:152: reg:linear is now deprecated in favor of reg:squarederror.\n",
            "[18:58:20] WARNING: /workspace/src/objective/regression_obj.cu:152: reg:linear is now deprecated in favor of reg:squarederror.\n",
            "[18:58:20] WARNING: /workspace/src/objective/regression_obj.cu:152: reg:linear is now deprecated in favor of reg:squarederror.\n",
            "[18:58:20] WARNING: /workspace/src/objective/regression_obj.cu:152: reg:linear is now deprecated in favor of reg:squarederror.\n",
            "[18:58:20] WARNING: /workspace/src/objective/regression_obj.cu:152: reg:linear is now deprecated in favor of reg:squarederror.\n",
            "[18:58:20] WARNING: /workspace/src/objective/regression_obj.cu:152: reg:linear is now deprecated in favor of reg:squarederror.\n",
            "[18:58:20] WARNING: /workspace/src/objective/regression_obj.cu:152: reg:linear is now deprecated in favor of reg:squarederror.\n",
            "[18:58:20] WARNING: /workspace/src/objective/regression_obj.cu:152: reg:linear is now deprecated in favor of reg:squarederror.\n",
            "[18:58:20] WARNING: /workspace/src/objective/regression_obj.cu:152: reg:linear is now deprecated in favor of reg:squarederror.\n",
            "[18:58:20] WARNING: /workspace/src/objective/regression_obj.cu:152: reg:linear is now deprecated in favor of reg:squarederror.\n",
            "[18:58:20] WARNING: /workspace/src/objective/regression_obj.cu:152: reg:linear is now deprecated in favor of reg:squarederror.\n",
            "[18:58:20] WARNING: /workspace/src/objective/regression_obj.cu:152: reg:linear is now deprecated in favor of reg:squarederror.\n",
            "[18:58:20] WARNING: /workspace/src/objective/regression_obj.cu:152: reg:linear is now deprecated in favor of reg:squarederror.\n",
            "[18:58:20] WARNING: /workspace/src/objective/regression_obj.cu:152: reg:linear is now deprecated in favor of reg:squarederror.\n",
            "[18:58:20] WARNING: /workspace/src/objective/regression_obj.cu:152: reg:linear is now deprecated in favor of reg:squarederror.\n",
            "[18:58:20] WARNING: /workspace/src/objective/regression_obj.cu:152: reg:linear is now deprecated in favor of reg:squarederror.\n",
            "[18:58:20] WARNING: /workspace/src/objective/regression_obj.cu:152: reg:linear is now deprecated in favor of reg:squarederror.\n",
            "[18:58:20] WARNING: /workspace/src/objective/regression_obj.cu:152: reg:linear is now deprecated in favor of reg:squarederror.\n",
            "[18:58:20] WARNING: /workspace/src/objective/regression_obj.cu:152: reg:linear is now deprecated in favor of reg:squarederror.\n",
            "[18:58:20] WARNING: /workspace/src/objective/regression_obj.cu:152: reg:linear is now deprecated in favor of reg:squarederror.\n",
            "[18:58:20] WARNING: /workspace/src/objective/regression_obj.cu:152: reg:linear is now deprecated in favor of reg:squarederror.\n",
            "[18:58:20] WARNING: /workspace/src/objective/regression_obj.cu:152: reg:linear is now deprecated in favor of reg:squarederror.\n",
            "[18:58:20] WARNING: /workspace/src/objective/regression_obj.cu:152: reg:linear is now deprecated in favor of reg:squarederror.\n",
            "[18:58:20] WARNING: /workspace/src/objective/regression_obj.cu:152: reg:linear is now deprecated in favor of reg:squarederror.\n",
            "[18:58:21] WARNING: /workspace/src/objective/regression_obj.cu:152: reg:linear is now deprecated in favor of reg:squarederror.\n",
            "[18:58:21] WARNING: /workspace/src/objective/regression_obj.cu:152: reg:linear is now deprecated in favor of reg:squarederror.\n",
            "[18:58:21] WARNING: /workspace/src/objective/regression_obj.cu:152: reg:linear is now deprecated in favor of reg:squarederror.\n",
            "[18:58:21] WARNING: /workspace/src/objective/regression_obj.cu:152: reg:linear is now deprecated in favor of reg:squarederror.\n",
            "[18:58:21] WARNING: /workspace/src/objective/regression_obj.cu:152: reg:linear is now deprecated in favor of reg:squarederror.\n",
            "[18:58:21] WARNING: /workspace/src/objective/regression_obj.cu:152: reg:linear is now deprecated in favor of reg:squarederror.\n",
            "[18:58:21] WARNING: /workspace/src/objective/regression_obj.cu:152: reg:linear is now deprecated in favor of reg:squarederror.\n",
            "[18:58:21] WARNING: /workspace/src/objective/regression_obj.cu:152: reg:linear is now deprecated in favor of reg:squarederror.\n",
            "[18:58:21] WARNING: /workspace/src/objective/regression_obj.cu:152: reg:linear is now deprecated in favor of reg:squarederror.\n",
            "[18:58:21] WARNING: /workspace/src/objective/regression_obj.cu:152: reg:linear is now deprecated in favor of reg:squarederror.\n",
            "[18:58:21] WARNING: /workspace/src/objective/regression_obj.cu:152: reg:linear is now deprecated in favor of reg:squarederror.\n",
            "[18:58:21] WARNING: /workspace/src/objective/regression_obj.cu:152: reg:linear is now deprecated in favor of reg:squarederror.\n",
            "[18:58:21] WARNING: /workspace/src/objective/regression_obj.cu:152: reg:linear is now deprecated in favor of reg:squarederror.\n",
            "[18:58:21] WARNING: /workspace/src/objective/regression_obj.cu:152: reg:linear is now deprecated in favor of reg:squarederror.\n",
            "[18:58:21] WARNING: /workspace/src/objective/regression_obj.cu:152: reg:linear is now deprecated in favor of reg:squarederror.\n",
            "[18:58:21] WARNING: /workspace/src/objective/regression_obj.cu:152: reg:linear is now deprecated in favor of reg:squarederror.\n",
            "[18:58:21] WARNING: /workspace/src/objective/regression_obj.cu:152: reg:linear is now deprecated in favor of reg:squarederror.\n",
            "[18:58:21] WARNING: /workspace/src/objective/regression_obj.cu:152: reg:linear is now deprecated in favor of reg:squarederror.\n",
            "[18:58:21] WARNING: /workspace/src/objective/regression_obj.cu:152: reg:linear is now deprecated in favor of reg:squarederror.\n",
            "[18:58:21] WARNING: /workspace/src/objective/regression_obj.cu:152: reg:linear is now deprecated in favor of reg:squarederror.\n",
            "[18:58:21] WARNING: /workspace/src/objective/regression_obj.cu:152: reg:linear is now deprecated in favor of reg:squarederror.\n",
            "[18:58:21] WARNING: /workspace/src/objective/regression_obj.cu:152: reg:linear is now deprecated in favor of reg:squarederror.\n",
            "[18:58:21] WARNING: /workspace/src/objective/regression_obj.cu:152: reg:linear is now deprecated in favor of reg:squarederror.\n",
            "[18:58:21] WARNING: /workspace/src/objective/regression_obj.cu:152: reg:linear is now deprecated in favor of reg:squarederror.\n",
            "[18:58:21] WARNING: /workspace/src/objective/regression_obj.cu:152: reg:linear is now deprecated in favor of reg:squarederror.\n",
            "[18:58:21] WARNING: /workspace/src/objective/regression_obj.cu:152: reg:linear is now deprecated in favor of reg:squarederror.\n",
            "[18:58:21] WARNING: /workspace/src/objective/regression_obj.cu:152: reg:linear is now deprecated in favor of reg:squarederror.\n",
            "[18:58:21] WARNING: /workspace/src/objective/regression_obj.cu:152: reg:linear is now deprecated in favor of reg:squarederror.\n",
            "[18:58:21] WARNING: /workspace/src/objective/regression_obj.cu:152: reg:linear is now deprecated in favor of reg:squarederror.\n",
            "[18:58:21] WARNING: /workspace/src/objective/regression_obj.cu:152: reg:linear is now deprecated in favor of reg:squarederror.\n",
            "[18:58:21] WARNING: /workspace/src/objective/regression_obj.cu:152: reg:linear is now deprecated in favor of reg:squarederror.\n",
            "[18:58:21] WARNING: /workspace/src/objective/regression_obj.cu:152: reg:linear is now deprecated in favor of reg:squarederror.\n",
            "[18:58:21] WARNING: /workspace/src/objective/regression_obj.cu:152: reg:linear is now deprecated in favor of reg:squarederror.\n",
            "[18:58:21] WARNING: /workspace/src/objective/regression_obj.cu:152: reg:linear is now deprecated in favor of reg:squarederror.\n",
            "[18:58:21] WARNING: /workspace/src/objective/regression_obj.cu:152: reg:linear is now deprecated in favor of reg:squarederror.\n",
            "[18:58:21] WARNING: /workspace/src/objective/regression_obj.cu:152: reg:linear is now deprecated in favor of reg:squarederror.\n",
            "[18:58:21] WARNING: /workspace/src/objective/regression_obj.cu:152: reg:linear is now deprecated in favor of reg:squarederror.\n",
            "[18:58:21] WARNING: /workspace/src/objective/regression_obj.cu:152: reg:linear is now deprecated in favor of reg:squarederror.\n",
            "[18:58:21] WARNING: /workspace/src/objective/regression_obj.cu:152: reg:linear is now deprecated in favor of reg:squarederror.\n",
            "[18:58:21] WARNING: /workspace/src/objective/regression_obj.cu:152: reg:linear is now deprecated in favor of reg:squarederror.\n",
            "[18:58:21] WARNING: /workspace/src/objective/regression_obj.cu:152: reg:linear is now deprecated in favor of reg:squarederror.\n",
            "[18:58:21] WARNING: /workspace/src/objective/regression_obj.cu:152: reg:linear is now deprecated in favor of reg:squarederror.\n",
            "[18:58:21] WARNING: /workspace/src/objective/regression_obj.cu:152: reg:linear is now deprecated in favor of reg:squarederror.\n",
            "[18:58:21] WARNING: /workspace/src/objective/regression_obj.cu:152: reg:linear is now deprecated in favor of reg:squarederror.\n",
            "[18:58:21] WARNING: /workspace/src/objective/regression_obj.cu:152: reg:linear is now deprecated in favor of reg:squarederror.\n",
            "[18:58:21] WARNING: /workspace/src/objective/regression_obj.cu:152: reg:linear is now deprecated in favor of reg:squarederror.\n",
            "[18:58:21] WARNING: /workspace/src/objective/regression_obj.cu:152: reg:linear is now deprecated in favor of reg:squarederror.\n",
            "[18:58:21] WARNING: /workspace/src/objective/regression_obj.cu:152: reg:linear is now deprecated in favor of reg:squarederror.\n",
            "[18:58:21] WARNING: /workspace/src/objective/regression_obj.cu:152: reg:linear is now deprecated in favor of reg:squarederror.\n",
            "[18:58:21] WARNING: /workspace/src/objective/regression_obj.cu:152: reg:linear is now deprecated in favor of reg:squarederror.\n",
            "[18:58:21] WARNING: /workspace/src/objective/regression_obj.cu:152: reg:linear is now deprecated in favor of reg:squarederror.\n",
            "[18:58:22] WARNING: /workspace/src/objective/regression_obj.cu:152: reg:linear is now deprecated in favor of reg:squarederror.\n",
            "[18:58:22] WARNING: /workspace/src/objective/regression_obj.cu:152: reg:linear is now deprecated in favor of reg:squarederror.\n",
            "[18:58:22] WARNING: /workspace/src/objective/regression_obj.cu:152: reg:linear is now deprecated in favor of reg:squarederror.\n",
            "[18:58:22] WARNING: /workspace/src/objective/regression_obj.cu:152: reg:linear is now deprecated in favor of reg:squarederror.\n",
            "[18:58:22] WARNING: /workspace/src/objective/regression_obj.cu:152: reg:linear is now deprecated in favor of reg:squarederror.\n",
            "[18:58:22] WARNING: /workspace/src/objective/regression_obj.cu:152: reg:linear is now deprecated in favor of reg:squarederror.\n",
            "[18:58:22] WARNING: /workspace/src/objective/regression_obj.cu:152: reg:linear is now deprecated in favor of reg:squarederror.\n",
            "[18:58:22] WARNING: /workspace/src/objective/regression_obj.cu:152: reg:linear is now deprecated in favor of reg:squarederror.\n",
            "[18:58:22] WARNING: /workspace/src/objective/regression_obj.cu:152: reg:linear is now deprecated in favor of reg:squarederror.\n",
            "[18:58:22] WARNING: /workspace/src/objective/regression_obj.cu:152: reg:linear is now deprecated in favor of reg:squarederror.\n",
            "[18:58:22] WARNING: /workspace/src/objective/regression_obj.cu:152: reg:linear is now deprecated in favor of reg:squarederror.\n",
            "[18:58:22] WARNING: /workspace/src/objective/regression_obj.cu:152: reg:linear is now deprecated in favor of reg:squarederror.\n",
            "[18:58:22] WARNING: /workspace/src/objective/regression_obj.cu:152: reg:linear is now deprecated in favor of reg:squarederror.\n",
            "[18:58:22] WARNING: /workspace/src/objective/regression_obj.cu:152: reg:linear is now deprecated in favor of reg:squarederror.\n",
            "[18:58:22] WARNING: /workspace/src/objective/regression_obj.cu:152: reg:linear is now deprecated in favor of reg:squarederror.\n",
            "[18:58:22] WARNING: /workspace/src/objective/regression_obj.cu:152: reg:linear is now deprecated in favor of reg:squarederror.\n",
            "[18:58:22] WARNING: /workspace/src/objective/regression_obj.cu:152: reg:linear is now deprecated in favor of reg:squarederror.\n",
            "[18:58:22] WARNING: /workspace/src/objective/regression_obj.cu:152: reg:linear is now deprecated in favor of reg:squarederror.\n",
            "[18:58:22] WARNING: /workspace/src/objective/regression_obj.cu:152: reg:linear is now deprecated in favor of reg:squarederror.\n",
            "[18:58:22] WARNING: /workspace/src/objective/regression_obj.cu:152: reg:linear is now deprecated in favor of reg:squarederror.\n",
            "[18:58:22] WARNING: /workspace/src/objective/regression_obj.cu:152: reg:linear is now deprecated in favor of reg:squarederror.\n",
            "[18:58:22] WARNING: /workspace/src/objective/regression_obj.cu:152: reg:linear is now deprecated in favor of reg:squarederror.\n",
            "[18:58:22] WARNING: /workspace/src/objective/regression_obj.cu:152: reg:linear is now deprecated in favor of reg:squarederror.\n",
            "[18:58:22] WARNING: /workspace/src/objective/regression_obj.cu:152: reg:linear is now deprecated in favor of reg:squarederror.\n",
            "[18:58:22] WARNING: /workspace/src/objective/regression_obj.cu:152: reg:linear is now deprecated in favor of reg:squarederror.\n",
            "[18:58:22] WARNING: /workspace/src/objective/regression_obj.cu:152: reg:linear is now deprecated in favor of reg:squarederror.\n",
            "{'mean_fit_time': array([0.01858592, 0.01696587, 0.01743793, 0.01638055, 0.01801696,\n",
            "       0.01703477, 0.01766438, 0.01661987, 0.01759605, 0.01605229,\n",
            "       0.01695833, 0.01624746, 0.01624117, 0.01727662, 0.01681848,\n",
            "       0.01771741, 0.01635461, 0.01758704, 0.01678629, 0.01672568,\n",
            "       0.0168541 , 0.01826825, 0.01679263, 0.01740341, 0.02071161]), 'std_fit_time': array([0.00341768, 0.00056093, 0.00119352, 0.00014657, 0.00285865,\n",
            "       0.00055688, 0.00175049, 0.00014174, 0.00142035, 0.00125435,\n",
            "       0.00075017, 0.00014364, 0.00032349, 0.00137843, 0.00273207,\n",
            "       0.00150537, 0.0002374 , 0.00157343, 0.00012257, 0.00166869,\n",
            "       0.00021636, 0.00170105, 0.00025194, 0.00168561, 0.00568877]), 'mean_score_time': array([0.00207205, 0.00218191, 0.00194068, 0.00191717, 0.00256271,\n",
            "       0.00216136, 0.00200138, 0.00201864, 0.00209184, 0.00191054,\n",
            "       0.0021369 , 0.00188475, 0.00206161, 0.00199199, 0.00217547,\n",
            "       0.00206165, 0.00193305, 0.0021224 , 0.00204945, 0.00206122,\n",
            "       0.00205574, 0.00202746, 0.00199661, 0.00204587, 0.00240798]), 'std_score_time': array([1.86007043e-04, 4.43034061e-04, 6.98838002e-05, 3.91059965e-05,\n",
            "       8.49658929e-04, 9.36960870e-05, 1.30944259e-04, 5.70547964e-05,\n",
            "       1.85848003e-04, 9.88501486e-05, 4.32822055e-04, 3.89022562e-05,\n",
            "       3.65242167e-04, 1.22666023e-04, 3.22803986e-04, 5.14781877e-05,\n",
            "       3.22376481e-05, 1.25785991e-04, 5.33254479e-05, 1.47393258e-04,\n",
            "       6.07619654e-05, 8.66210365e-05, 3.13918963e-05, 9.08416712e-05,\n",
            "       4.62386398e-04]), 'param_reg_alpha': masked_array(data=[1e-05, 1e-05, 1e-05, 1e-05, 1e-05, 0.01, 0.01, 0.01,\n",
            "                   0.01, 0.01, 0.1, 0.1, 0.1, 0.1, 0.1, 1, 1, 1, 1, 1,\n",
            "                   100, 100, 100, 100, 100],\n",
            "             mask=[False, False, False, False, False, False, False, False,\n",
            "                   False, False, False, False, False, False, False, False,\n",
            "                   False, False, False, False, False, False, False, False,\n",
            "                   False],\n",
            "       fill_value='?',\n",
            "            dtype=object), 'param_reg_lambda': masked_array(data=[1e-05, 0.01, 0.1, 1, 100, 1e-05, 0.01, 0.1, 1, 100,\n",
            "                   1e-05, 0.01, 0.1, 1, 100, 1e-05, 0.01, 0.1, 1, 100,\n",
            "                   1e-05, 0.01, 0.1, 1, 100],\n",
            "             mask=[False, False, False, False, False, False, False, False,\n",
            "                   False, False, False, False, False, False, False, False,\n",
            "                   False, False, False, False, False, False, False, False,\n",
            "                   False],\n",
            "       fill_value='?',\n",
            "            dtype=object), 'params': [{'reg_alpha': 1e-05, 'reg_lambda': 1e-05}, {'reg_alpha': 1e-05, 'reg_lambda': 0.01}, {'reg_alpha': 1e-05, 'reg_lambda': 0.1}, {'reg_alpha': 1e-05, 'reg_lambda': 1}, {'reg_alpha': 1e-05, 'reg_lambda': 100}, {'reg_alpha': 0.01, 'reg_lambda': 1e-05}, {'reg_alpha': 0.01, 'reg_lambda': 0.01}, {'reg_alpha': 0.01, 'reg_lambda': 0.1}, {'reg_alpha': 0.01, 'reg_lambda': 1}, {'reg_alpha': 0.01, 'reg_lambda': 100}, {'reg_alpha': 0.1, 'reg_lambda': 1e-05}, {'reg_alpha': 0.1, 'reg_lambda': 0.01}, {'reg_alpha': 0.1, 'reg_lambda': 0.1}, {'reg_alpha': 0.1, 'reg_lambda': 1}, {'reg_alpha': 0.1, 'reg_lambda': 100}, {'reg_alpha': 1, 'reg_lambda': 1e-05}, {'reg_alpha': 1, 'reg_lambda': 0.01}, {'reg_alpha': 1, 'reg_lambda': 0.1}, {'reg_alpha': 1, 'reg_lambda': 1}, {'reg_alpha': 1, 'reg_lambda': 100}, {'reg_alpha': 100, 'reg_lambda': 1e-05}, {'reg_alpha': 100, 'reg_lambda': 0.01}, {'reg_alpha': 100, 'reg_lambda': 0.1}, {'reg_alpha': 100, 'reg_lambda': 1}, {'reg_alpha': 100, 'reg_lambda': 100}], 'split0_test_score': array([-539.73446655, -516.07019043, -516.98678589, -568.65957642,\n",
            "       -624.43832397, -539.73529053, -516.07073975, -516.98757935,\n",
            "       -568.65924072, -624.43823242, -539.74435425, -521.77731323,\n",
            "       -516.99554443, -556.45431519, -624.43728638, -538.96066284,\n",
            "       -517.52075195, -513.74804688, -554.05038452, -624.42736816,\n",
            "       -526.77865601, -562.19903564, -595.86245728, -526.54095459,\n",
            "       -623.57000732]), 'split1_test_score': array([-251.89955357, -249.68376814, -242.55308315, -253.04471261,\n",
            "       -565.45270647, -251.90000698, -249.68380301, -242.55381557,\n",
            "       -253.04499163, -565.45274135, -251.90450614, -251.66535296,\n",
            "       -240.79987444, -253.04795619, -565.45333426, -251.00062779,\n",
            "       -245.90039062, -243.10299247, -247.29771205, -565.4597168 ,\n",
            "       -263.95043945, -241.0387486 , -252.58628627, -257.72830636,\n",
            "       -566.16566685]), 'split2_test_score': array([-228.44276646, -237.78404018, -239.78735352, -204.84908622,\n",
            "       -510.74937221, -228.44283622, -237.78424944, -239.78693499,\n",
            "       -204.84870257, -510.74951172, -228.44241769, -237.78274972,\n",
            "       -239.78309849, -204.8449707 , -510.75115095, -226.65053013,\n",
            "       -239.07955497, -243.89892578, -204.80887277, -510.76900809,\n",
            "       -236.95839146, -244.25847517, -223.1175014 , -198.85993304,\n",
            "       -514.43955776]), 'split3_test_score': array([-692.96620982, -695.35526535, -685.11311272, -677.74048437,\n",
            "       -828.27769838, -692.96411719, -695.35338198, -685.11168276,\n",
            "       -677.73964732, -828.27787277, -691.16539369, -695.33608287,\n",
            "       -682.66501004, -677.73242773, -828.27982589, -691.07220173,\n",
            "       -696.60707896, -684.38208594, -677.79677623, -828.30322852,\n",
            "       -668.1744269 , -675.28697573, -678.04517187, -677.73295089,\n",
            "       -830.92979799]), 'split4_test_score': array([-403.47126116, -399.28421456, -361.63253348, -385.04317801,\n",
            "       -597.48702567, -403.47112165, -399.28383092, -361.6340332 ,\n",
            "       -385.04265485, -597.48699079, -403.46902902, -396.12280273,\n",
            "       -361.64683315, -385.03777204, -597.48765346, -399.18725586,\n",
            "       -392.94771903, -361.77852958, -385.69813756, -597.49229213,\n",
            "       -398.49741908, -400.4855957 , -388.00268555, -424.49005999,\n",
            "       -598.39669364]), 'mean_test_score': array([-423.30285151, -419.63549573, -409.21457375, -417.86740753,\n",
            "       -625.28102534, -423.30267451, -419.63520102, -409.21480917,\n",
            "       -417.86704742, -625.28106981, -422.94514016, -420.5368603 ,\n",
            "       -408.37807211, -415.42348837, -625.28185019, -421.37425567,\n",
            "       -418.41109911, -409.38211613, -413.93037663, -625.29032274,\n",
            "       -418.87186658, -424.65376617, -427.52282047, -417.07044097,\n",
            "       -626.70034471]), 'std_test_score': array([175.50924936, 171.86550436, 171.16105835, 181.04864003,\n",
            "       108.33078338, 175.50861474, 171.86491962, 171.16055412,\n",
            "       181.04840226, 108.33081731, 174.95695885, 172.20739773,\n",
            "       170.71707927, 179.06875277, 108.33110466, 175.49946472,\n",
            "       173.08024583, 169.59762121, 179.75227456, 108.33517252,\n",
            "       162.05179475, 172.38140447, 181.68425821, 174.92257134,\n",
            "       108.43200337]), 'rank_test_score': array([18, 13,  2,  9, 21, 17, 12,  3,  8, 22, 16, 14,  1,  6, 23, 15, 10,\n",
            "        4,  5, 24, 11, 19, 20,  7, 25], dtype=int32)}\n",
            "Best parameters {'reg_alpha': 0.1, 'reg_lambda': 0.1}\n",
            "Best score -408.3780721121651\n"
          ],
          "name": "stdout"
        },
        {
          "output_type": "stream",
          "text": [
            "[Parallel(n_jobs=1)]: Done 125 out of 125 | elapsed:    2.5s finished\n"
          ],
          "name": "stderr"
        }
      ]
    },
    {
      "cell_type": "markdown",
      "metadata": {
        "id": "ELo-yyis6WRW",
        "colab_type": "text"
      },
      "source": [
        "Refine parameters on a smaller grid. Look at a smaller grid around the best values found previously"
      ]
    },
    {
      "cell_type": "code",
      "metadata": {
        "id": "lwx-P9Z86efP",
        "colab_type": "code",
        "colab": {
          "base_uri": "https://localhost:8080/",
          "height": 1000
        },
        "outputId": "bfd7d30f-0bfa-4ee2-b0cb-e1c1dfd48670"
      },
      "source": [
        "reg_alpha = gbm.best_params_['reg_alpha']\n",
        "reg_lambda = gbm.best_params_['reg_lambda']\n",
        "parameters['reg_alpha'] = reg_alpha\n",
        "parameters['reg_lambda'] = reg_lambda\n",
        "scores.append(gbm.best_score_)\n",
        "\n",
        "cv_params = {'reg_lambda': [reg_alpha*0.2, reg_alpha*0.5, reg_alpha, reg_alpha*2, reg_alpha*5], \n",
        "             'reg_alpha': [reg_lambda*0.2, reg_lambda*0.5, reg_lambda, reg_lambda*2, reg_lambda*5]\n",
        "            }\n",
        "\n",
        "gbm = GridSearchCV(xgb.XGBRegressor(\n",
        "                                        objective = objective,\n",
        "                                        seed = seed,\n",
        "                                        n_estimators = n_estimators,\n",
        "                                        max_depth = max_depth,\n",
        "                                        min_child_weight = min_child_weight,\n",
        "                                        learning_rate = learning_rate,\n",
        "                                        gamma = gamma,\n",
        "                                        colsample_bytree = colsample_bytree,\n",
        "                                        subsample = subsample,\n",
        "                                        silent = silent\n",
        "\n",
        "                                    ),\n",
        "                   \n",
        "                    param_grid = cv_params,\n",
        "                    iid = False,\n",
        "                    scoring = \"neg_mean_absolute_error\",\n",
        "                    cv = 5,\n",
        "                    verbose = True\n",
        ")\n",
        "\n",
        "gbm.fit(X_train,y_train)\n",
        "print (gbm.cv_results_)\n",
        "print (\"Best parameters %s\" %gbm.best_params_)\n",
        "print (\"Best score %s\" %gbm.best_score_)"
      ],
      "execution_count": 270,
      "outputs": [
        {
          "output_type": "stream",
          "text": [
            "Fitting 5 folds for each of 25 candidates, totalling 125 fits\n",
            "[18:58:27] WARNING: /workspace/src/objective/regression_obj.cu:152: reg:linear is now deprecated in favor of reg:squarederror.\n",
            "[18:58:27] WARNING: /workspace/src/objective/regression_obj.cu:152: reg:linear is now deprecated in favor of reg:squarederror.\n",
            "[18:58:27] WARNING: /workspace/src/objective/regression_obj.cu:152: reg:linear is now deprecated in favor of reg:squarederror.\n",
            "[18:58:27] WARNING: /workspace/src/objective/regression_obj.cu:152: reg:linear is now deprecated in favor of reg:squarederror.\n",
            "[18:58:27] WARNING: /workspace/src/objective/regression_obj.cu:152: reg:linear is now deprecated in favor of reg:squarederror.\n",
            "[18:58:27] WARNING: /workspace/src/objective/regression_obj.cu:152: reg:linear is now deprecated in favor of reg:squarederror.\n",
            "[18:58:27] WARNING: /workspace/src/objective/regression_obj.cu:152: reg:linear is now deprecated in favor of reg:squarederror.\n",
            "[18:58:27] WARNING: /workspace/src/objective/regression_obj.cu:152: reg:linear is now deprecated in favor of reg:squarederror.\n",
            "[18:58:27] WARNING: /workspace/src/objective/regression_obj.cu:152: reg:linear is now deprecated in favor of reg:squarederror.\n",
            "[18:58:27] WARNING: /workspace/src/objective/regression_obj.cu:152: reg:linear is now deprecated in favor of reg:squarederror.\n"
          ],
          "name": "stdout"
        },
        {
          "output_type": "stream",
          "text": [
            "[Parallel(n_jobs=1)]: Using backend SequentialBackend with 1 concurrent workers.\n"
          ],
          "name": "stderr"
        },
        {
          "output_type": "stream",
          "text": [
            "[18:58:27] WARNING: /workspace/src/objective/regression_obj.cu:152: reg:linear is now deprecated in favor of reg:squarederror.\n",
            "[18:58:27] WARNING: /workspace/src/objective/regression_obj.cu:152: reg:linear is now deprecated in favor of reg:squarederror.\n",
            "[18:58:27] WARNING: /workspace/src/objective/regression_obj.cu:152: reg:linear is now deprecated in favor of reg:squarederror.\n",
            "[18:58:27] WARNING: /workspace/src/objective/regression_obj.cu:152: reg:linear is now deprecated in favor of reg:squarederror.\n",
            "[18:58:27] WARNING: /workspace/src/objective/regression_obj.cu:152: reg:linear is now deprecated in favor of reg:squarederror.\n",
            "[18:58:27] WARNING: /workspace/src/objective/regression_obj.cu:152: reg:linear is now deprecated in favor of reg:squarederror.\n",
            "[18:58:28] WARNING: /workspace/src/objective/regression_obj.cu:152: reg:linear is now deprecated in favor of reg:squarederror.\n",
            "[18:58:28] WARNING: /workspace/src/objective/regression_obj.cu:152: reg:linear is now deprecated in favor of reg:squarederror.\n",
            "[18:58:28] WARNING: /workspace/src/objective/regression_obj.cu:152: reg:linear is now deprecated in favor of reg:squarederror.\n",
            "[18:58:28] WARNING: /workspace/src/objective/regression_obj.cu:152: reg:linear is now deprecated in favor of reg:squarederror.\n",
            "[18:58:28] WARNING: /workspace/src/objective/regression_obj.cu:152: reg:linear is now deprecated in favor of reg:squarederror.\n",
            "[18:58:28] WARNING: /workspace/src/objective/regression_obj.cu:152: reg:linear is now deprecated in favor of reg:squarederror.\n",
            "[18:58:28] WARNING: /workspace/src/objective/regression_obj.cu:152: reg:linear is now deprecated in favor of reg:squarederror.\n",
            "[18:58:28] WARNING: /workspace/src/objective/regression_obj.cu:152: reg:linear is now deprecated in favor of reg:squarederror.\n",
            "[18:58:28] WARNING: /workspace/src/objective/regression_obj.cu:152: reg:linear is now deprecated in favor of reg:squarederror.\n",
            "[18:58:28] WARNING: /workspace/src/objective/regression_obj.cu:152: reg:linear is now deprecated in favor of reg:squarederror.\n",
            "[18:58:28] WARNING: /workspace/src/objective/regression_obj.cu:152: reg:linear is now deprecated in favor of reg:squarederror.\n",
            "[18:58:28] WARNING: /workspace/src/objective/regression_obj.cu:152: reg:linear is now deprecated in favor of reg:squarederror.\n",
            "[18:58:28] WARNING: /workspace/src/objective/regression_obj.cu:152: reg:linear is now deprecated in favor of reg:squarederror.\n",
            "[18:58:28] WARNING: /workspace/src/objective/regression_obj.cu:152: reg:linear is now deprecated in favor of reg:squarederror.\n",
            "[18:58:28] WARNING: /workspace/src/objective/regression_obj.cu:152: reg:linear is now deprecated in favor of reg:squarederror.\n",
            "[18:58:28] WARNING: /workspace/src/objective/regression_obj.cu:152: reg:linear is now deprecated in favor of reg:squarederror.\n",
            "[18:58:28] WARNING: /workspace/src/objective/regression_obj.cu:152: reg:linear is now deprecated in favor of reg:squarederror.\n",
            "[18:58:28] WARNING: /workspace/src/objective/regression_obj.cu:152: reg:linear is now deprecated in favor of reg:squarederror.\n",
            "[18:58:28] WARNING: /workspace/src/objective/regression_obj.cu:152: reg:linear is now deprecated in favor of reg:squarederror.\n",
            "[18:58:28] WARNING: /workspace/src/objective/regression_obj.cu:152: reg:linear is now deprecated in favor of reg:squarederror.\n",
            "[18:58:28] WARNING: /workspace/src/objective/regression_obj.cu:152: reg:linear is now deprecated in favor of reg:squarederror.\n",
            "[18:58:28] WARNING: /workspace/src/objective/regression_obj.cu:152: reg:linear is now deprecated in favor of reg:squarederror.\n",
            "[18:58:28] WARNING: /workspace/src/objective/regression_obj.cu:152: reg:linear is now deprecated in favor of reg:squarederror.\n",
            "[18:58:28] WARNING: /workspace/src/objective/regression_obj.cu:152: reg:linear is now deprecated in favor of reg:squarederror.\n",
            "[18:58:28] WARNING: /workspace/src/objective/regression_obj.cu:152: reg:linear is now deprecated in favor of reg:squarederror.\n",
            "[18:58:28] WARNING: /workspace/src/objective/regression_obj.cu:152: reg:linear is now deprecated in favor of reg:squarederror.\n",
            "[18:58:28] WARNING: /workspace/src/objective/regression_obj.cu:152: reg:linear is now deprecated in favor of reg:squarederror.\n",
            "[18:58:28] WARNING: /workspace/src/objective/regression_obj.cu:152: reg:linear is now deprecated in favor of reg:squarederror.\n",
            "[18:58:28] WARNING: /workspace/src/objective/regression_obj.cu:152: reg:linear is now deprecated in favor of reg:squarederror.\n",
            "[18:58:28] WARNING: /workspace/src/objective/regression_obj.cu:152: reg:linear is now deprecated in favor of reg:squarederror.\n",
            "[18:58:28] WARNING: /workspace/src/objective/regression_obj.cu:152: reg:linear is now deprecated in favor of reg:squarederror.\n",
            "[18:58:28] WARNING: /workspace/src/objective/regression_obj.cu:152: reg:linear is now deprecated in favor of reg:squarederror.\n",
            "[18:58:28] WARNING: /workspace/src/objective/regression_obj.cu:152: reg:linear is now deprecated in favor of reg:squarederror.\n",
            "[18:58:28] WARNING: /workspace/src/objective/regression_obj.cu:152: reg:linear is now deprecated in favor of reg:squarederror.\n",
            "[18:58:28] WARNING: /workspace/src/objective/regression_obj.cu:152: reg:linear is now deprecated in favor of reg:squarederror.\n",
            "[18:58:28] WARNING: /workspace/src/objective/regression_obj.cu:152: reg:linear is now deprecated in favor of reg:squarederror.\n",
            "[18:58:28] WARNING: /workspace/src/objective/regression_obj.cu:152: reg:linear is now deprecated in favor of reg:squarederror.\n",
            "[18:58:28] WARNING: /workspace/src/objective/regression_obj.cu:152: reg:linear is now deprecated in favor of reg:squarederror.\n",
            "[18:58:28] WARNING: /workspace/src/objective/regression_obj.cu:152: reg:linear is now deprecated in favor of reg:squarederror.\n",
            "[18:58:28] WARNING: /workspace/src/objective/regression_obj.cu:152: reg:linear is now deprecated in favor of reg:squarederror.\n",
            "[18:58:28] WARNING: /workspace/src/objective/regression_obj.cu:152: reg:linear is now deprecated in favor of reg:squarederror.\n",
            "[18:58:28] WARNING: /workspace/src/objective/regression_obj.cu:152: reg:linear is now deprecated in favor of reg:squarederror.\n",
            "[18:58:28] WARNING: /workspace/src/objective/regression_obj.cu:152: reg:linear is now deprecated in favor of reg:squarederror.\n",
            "[18:58:28] WARNING: /workspace/src/objective/regression_obj.cu:152: reg:linear is now deprecated in favor of reg:squarederror.\n",
            "[18:58:28] WARNING: /workspace/src/objective/regression_obj.cu:152: reg:linear is now deprecated in favor of reg:squarederror.\n",
            "[18:58:28] WARNING: /workspace/src/objective/regression_obj.cu:152: reg:linear is now deprecated in favor of reg:squarederror.\n",
            "[18:58:28] WARNING: /workspace/src/objective/regression_obj.cu:152: reg:linear is now deprecated in favor of reg:squarederror.\n",
            "[18:58:28] WARNING: /workspace/src/objective/regression_obj.cu:152: reg:linear is now deprecated in favor of reg:squarederror.\n",
            "[18:58:28] WARNING: /workspace/src/objective/regression_obj.cu:152: reg:linear is now deprecated in favor of reg:squarederror.\n",
            "[18:58:28] WARNING: /workspace/src/objective/regression_obj.cu:152: reg:linear is now deprecated in favor of reg:squarederror.\n",
            "[18:58:29] WARNING: /workspace/src/objective/regression_obj.cu:152: reg:linear is now deprecated in favor of reg:squarederror.\n",
            "[18:58:29] WARNING: /workspace/src/objective/regression_obj.cu:152: reg:linear is now deprecated in favor of reg:squarederror.\n",
            "[18:58:29] WARNING: /workspace/src/objective/regression_obj.cu:152: reg:linear is now deprecated in favor of reg:squarederror.\n",
            "[18:58:29] WARNING: /workspace/src/objective/regression_obj.cu:152: reg:linear is now deprecated in favor of reg:squarederror.\n",
            "[18:58:29] WARNING: /workspace/src/objective/regression_obj.cu:152: reg:linear is now deprecated in favor of reg:squarederror.\n",
            "[18:58:29] WARNING: /workspace/src/objective/regression_obj.cu:152: reg:linear is now deprecated in favor of reg:squarederror.\n",
            "[18:58:29] WARNING: /workspace/src/objective/regression_obj.cu:152: reg:linear is now deprecated in favor of reg:squarederror.\n",
            "[18:58:29] WARNING: /workspace/src/objective/regression_obj.cu:152: reg:linear is now deprecated in favor of reg:squarederror.\n",
            "[18:58:29] WARNING: /workspace/src/objective/regression_obj.cu:152: reg:linear is now deprecated in favor of reg:squarederror.\n",
            "[18:58:29] WARNING: /workspace/src/objective/regression_obj.cu:152: reg:linear is now deprecated in favor of reg:squarederror.\n",
            "[18:58:29] WARNING: /workspace/src/objective/regression_obj.cu:152: reg:linear is now deprecated in favor of reg:squarederror.\n",
            "[18:58:29] WARNING: /workspace/src/objective/regression_obj.cu:152: reg:linear is now deprecated in favor of reg:squarederror.\n",
            "[18:58:29] WARNING: /workspace/src/objective/regression_obj.cu:152: reg:linear is now deprecated in favor of reg:squarederror.\n",
            "[18:58:29] WARNING: /workspace/src/objective/regression_obj.cu:152: reg:linear is now deprecated in favor of reg:squarederror.\n",
            "[18:58:29] WARNING: /workspace/src/objective/regression_obj.cu:152: reg:linear is now deprecated in favor of reg:squarederror.\n",
            "[18:58:29] WARNING: /workspace/src/objective/regression_obj.cu:152: reg:linear is now deprecated in favor of reg:squarederror.\n",
            "[18:58:29] WARNING: /workspace/src/objective/regression_obj.cu:152: reg:linear is now deprecated in favor of reg:squarederror.\n",
            "[18:58:29] WARNING: /workspace/src/objective/regression_obj.cu:152: reg:linear is now deprecated in favor of reg:squarederror.\n",
            "[18:58:29] WARNING: /workspace/src/objective/regression_obj.cu:152: reg:linear is now deprecated in favor of reg:squarederror.\n",
            "[18:58:29] WARNING: /workspace/src/objective/regression_obj.cu:152: reg:linear is now deprecated in favor of reg:squarederror.\n",
            "[18:58:29] WARNING: /workspace/src/objective/regression_obj.cu:152: reg:linear is now deprecated in favor of reg:squarederror.\n",
            "[18:58:29] WARNING: /workspace/src/objective/regression_obj.cu:152: reg:linear is now deprecated in favor of reg:squarederror.\n",
            "[18:58:29] WARNING: /workspace/src/objective/regression_obj.cu:152: reg:linear is now deprecated in favor of reg:squarederror.\n",
            "[18:58:29] WARNING: /workspace/src/objective/regression_obj.cu:152: reg:linear is now deprecated in favor of reg:squarederror.\n",
            "[18:58:29] WARNING: /workspace/src/objective/regression_obj.cu:152: reg:linear is now deprecated in favor of reg:squarederror.\n",
            "[18:58:29] WARNING: /workspace/src/objective/regression_obj.cu:152: reg:linear is now deprecated in favor of reg:squarederror.\n",
            "[18:58:29] WARNING: /workspace/src/objective/regression_obj.cu:152: reg:linear is now deprecated in favor of reg:squarederror.\n",
            "[18:58:29] WARNING: /workspace/src/objective/regression_obj.cu:152: reg:linear is now deprecated in favor of reg:squarederror.\n",
            "[18:58:29] WARNING: /workspace/src/objective/regression_obj.cu:152: reg:linear is now deprecated in favor of reg:squarederror.\n",
            "[18:58:29] WARNING: /workspace/src/objective/regression_obj.cu:152: reg:linear is now deprecated in favor of reg:squarederror.\n",
            "[18:58:29] WARNING: /workspace/src/objective/regression_obj.cu:152: reg:linear is now deprecated in favor of reg:squarederror.\n",
            "[18:58:29] WARNING: /workspace/src/objective/regression_obj.cu:152: reg:linear is now deprecated in favor of reg:squarederror.\n",
            "[18:58:29] WARNING: /workspace/src/objective/regression_obj.cu:152: reg:linear is now deprecated in favor of reg:squarederror.\n",
            "[18:58:29] WARNING: /workspace/src/objective/regression_obj.cu:152: reg:linear is now deprecated in favor of reg:squarederror.\n",
            "[18:58:29] WARNING: /workspace/src/objective/regression_obj.cu:152: reg:linear is now deprecated in favor of reg:squarederror.\n",
            "[18:58:29] WARNING: /workspace/src/objective/regression_obj.cu:152: reg:linear is now deprecated in favor of reg:squarederror.\n",
            "[18:58:29] WARNING: /workspace/src/objective/regression_obj.cu:152: reg:linear is now deprecated in favor of reg:squarederror.\n",
            "[18:58:29] WARNING: /workspace/src/objective/regression_obj.cu:152: reg:linear is now deprecated in favor of reg:squarederror.\n",
            "[18:58:29] WARNING: /workspace/src/objective/regression_obj.cu:152: reg:linear is now deprecated in favor of reg:squarederror.\n",
            "[18:58:29] WARNING: /workspace/src/objective/regression_obj.cu:152: reg:linear is now deprecated in favor of reg:squarederror.\n",
            "[18:58:29] WARNING: /workspace/src/objective/regression_obj.cu:152: reg:linear is now deprecated in favor of reg:squarederror.\n",
            "[18:58:29] WARNING: /workspace/src/objective/regression_obj.cu:152: reg:linear is now deprecated in favor of reg:squarederror.\n",
            "[18:58:29] WARNING: /workspace/src/objective/regression_obj.cu:152: reg:linear is now deprecated in favor of reg:squarederror.\n",
            "[18:58:29] WARNING: /workspace/src/objective/regression_obj.cu:152: reg:linear is now deprecated in favor of reg:squarederror.\n",
            "[18:58:29] WARNING: /workspace/src/objective/regression_obj.cu:152: reg:linear is now deprecated in favor of reg:squarederror.\n",
            "[18:58:29] WARNING: /workspace/src/objective/regression_obj.cu:152: reg:linear is now deprecated in favor of reg:squarederror.\n",
            "[18:58:29] WARNING: /workspace/src/objective/regression_obj.cu:152: reg:linear is now deprecated in favor of reg:squarederror.\n",
            "[18:58:29] WARNING: /workspace/src/objective/regression_obj.cu:152: reg:linear is now deprecated in favor of reg:squarederror.\n",
            "[18:58:29] WARNING: /workspace/src/objective/regression_obj.cu:152: reg:linear is now deprecated in favor of reg:squarederror.\n",
            "[18:58:30] WARNING: /workspace/src/objective/regression_obj.cu:152: reg:linear is now deprecated in favor of reg:squarederror.\n",
            "[18:58:30] WARNING: /workspace/src/objective/regression_obj.cu:152: reg:linear is now deprecated in favor of reg:squarederror.\n",
            "[18:58:30] WARNING: /workspace/src/objective/regression_obj.cu:152: reg:linear is now deprecated in favor of reg:squarederror.\n",
            "[18:58:30] WARNING: /workspace/src/objective/regression_obj.cu:152: reg:linear is now deprecated in favor of reg:squarederror.\n",
            "[18:58:30] WARNING: /workspace/src/objective/regression_obj.cu:152: reg:linear is now deprecated in favor of reg:squarederror.\n",
            "[18:58:30] WARNING: /workspace/src/objective/regression_obj.cu:152: reg:linear is now deprecated in favor of reg:squarederror.\n",
            "[18:58:30] WARNING: /workspace/src/objective/regression_obj.cu:152: reg:linear is now deprecated in favor of reg:squarederror.\n",
            "[18:58:30] WARNING: /workspace/src/objective/regression_obj.cu:152: reg:linear is now deprecated in favor of reg:squarederror.\n",
            "[18:58:30] WARNING: /workspace/src/objective/regression_obj.cu:152: reg:linear is now deprecated in favor of reg:squarederror.\n",
            "[18:58:30] WARNING: /workspace/src/objective/regression_obj.cu:152: reg:linear is now deprecated in favor of reg:squarederror.\n",
            "[18:58:30] WARNING: /workspace/src/objective/regression_obj.cu:152: reg:linear is now deprecated in favor of reg:squarederror.\n",
            "{'mean_fit_time': array([0.01866474, 0.01759462, 0.01803284, 0.01711679, 0.01755695,\n",
            "       0.0174542 , 0.01759157, 0.01655164, 0.01715803, 0.0177516 ,\n",
            "       0.01769662, 0.01695313, 0.01848631, 0.0173275 , 0.01691198,\n",
            "       0.01815362, 0.01692901, 0.01805711, 0.01790171, 0.019484  ,\n",
            "       0.01702199, 0.01802888, 0.0170866 , 0.01814494, 0.01737738]), 'std_fit_time': array([0.00386065, 0.00143675, 0.00269716, 0.00058728, 0.0015677 ,\n",
            "       0.00069307, 0.00158467, 0.00014642, 0.00107183, 0.00205718,\n",
            "       0.00153398, 0.00018859, 0.00192086, 0.00032399, 0.00032317,\n",
            "       0.00170205, 0.00027455, 0.00181495, 0.00078379, 0.003309  ,\n",
            "       0.00014684, 0.00166754, 0.00037033, 0.00163661, 0.00081475]), 'mean_score_time': array([0.00194201, 0.00214648, 0.00191965, 0.00199823, 0.00192294,\n",
            "       0.00198736, 0.0019031 , 0.00191283, 0.00210948, 0.00224347,\n",
            "       0.00196276, 0.00203004, 0.00209756, 0.0019393 , 0.00197186,\n",
            "       0.00203009, 0.00194545, 0.00192742, 0.00212078, 0.00195847,\n",
            "       0.0019433 , 0.00198832, 0.00197124, 0.00196891, 0.00194783]), 'std_score_time': array([5.25596123e-05, 4.10815511e-04, 5.02769556e-05, 7.35779049e-05,\n",
            "       5.93727560e-05, 7.30177052e-05, 4.11903960e-05, 3.95846648e-05,\n",
            "       4.06770979e-04, 5.11516144e-04, 7.39040065e-05, 1.33308234e-04,\n",
            "       1.44387315e-04, 6.97423860e-05, 5.06536193e-05, 1.38667115e-04,\n",
            "       4.60693303e-05, 6.21809915e-05, 2.71283442e-04, 4.98536841e-05,\n",
            "       8.97621602e-05, 6.64219955e-05, 9.94554751e-05, 7.97803430e-05,\n",
            "       7.69275049e-05]), 'param_reg_alpha': masked_array(data=[0.020000000000000004, 0.020000000000000004,\n",
            "                   0.020000000000000004, 0.020000000000000004,\n",
            "                   0.020000000000000004, 0.05, 0.05, 0.05, 0.05, 0.05,\n",
            "                   0.1, 0.1, 0.1, 0.1, 0.1, 0.2, 0.2, 0.2, 0.2, 0.2, 0.5,\n",
            "                   0.5, 0.5, 0.5, 0.5],\n",
            "             mask=[False, False, False, False, False, False, False, False,\n",
            "                   False, False, False, False, False, False, False, False,\n",
            "                   False, False, False, False, False, False, False, False,\n",
            "                   False],\n",
            "       fill_value='?',\n",
            "            dtype=object), 'param_reg_lambda': masked_array(data=[0.020000000000000004, 0.05, 0.1, 0.2, 0.5,\n",
            "                   0.020000000000000004, 0.05, 0.1, 0.2, 0.5,\n",
            "                   0.020000000000000004, 0.05, 0.1, 0.2, 0.5,\n",
            "                   0.020000000000000004, 0.05, 0.1, 0.2, 0.5,\n",
            "                   0.020000000000000004, 0.05, 0.1, 0.2, 0.5],\n",
            "             mask=[False, False, False, False, False, False, False, False,\n",
            "                   False, False, False, False, False, False, False, False,\n",
            "                   False, False, False, False, False, False, False, False,\n",
            "                   False],\n",
            "       fill_value='?',\n",
            "            dtype=object), 'params': [{'reg_alpha': 0.020000000000000004, 'reg_lambda': 0.020000000000000004}, {'reg_alpha': 0.020000000000000004, 'reg_lambda': 0.05}, {'reg_alpha': 0.020000000000000004, 'reg_lambda': 0.1}, {'reg_alpha': 0.020000000000000004, 'reg_lambda': 0.2}, {'reg_alpha': 0.020000000000000004, 'reg_lambda': 0.5}, {'reg_alpha': 0.05, 'reg_lambda': 0.020000000000000004}, {'reg_alpha': 0.05, 'reg_lambda': 0.05}, {'reg_alpha': 0.05, 'reg_lambda': 0.1}, {'reg_alpha': 0.05, 'reg_lambda': 0.2}, {'reg_alpha': 0.05, 'reg_lambda': 0.5}, {'reg_alpha': 0.1, 'reg_lambda': 0.020000000000000004}, {'reg_alpha': 0.1, 'reg_lambda': 0.05}, {'reg_alpha': 0.1, 'reg_lambda': 0.1}, {'reg_alpha': 0.1, 'reg_lambda': 0.2}, {'reg_alpha': 0.1, 'reg_lambda': 0.5}, {'reg_alpha': 0.2, 'reg_lambda': 0.020000000000000004}, {'reg_alpha': 0.2, 'reg_lambda': 0.05}, {'reg_alpha': 0.2, 'reg_lambda': 0.1}, {'reg_alpha': 0.2, 'reg_lambda': 0.2}, {'reg_alpha': 0.2, 'reg_lambda': 0.5}, {'reg_alpha': 0.5, 'reg_lambda': 0.020000000000000004}, {'reg_alpha': 0.5, 'reg_lambda': 0.05}, {'reg_alpha': 0.5, 'reg_lambda': 0.1}, {'reg_alpha': 0.5, 'reg_lambda': 0.2}, {'reg_alpha': 0.5, 'reg_lambda': 0.5}], 'split0_test_score': array([-520.13702393, -520.6946106 , -516.98864746, -567.32540894,\n",
            "       -572.24008179, -520.13723755, -520.69769287, -516.99121094,\n",
            "       -567.32672119, -572.24151611, -520.13696289, -520.70285034,\n",
            "       -516.99554443, -567.3296814 , -572.24456787, -520.137146  ,\n",
            "       -525.69226074, -517.00469971, -567.33444214, -572.24960327,\n",
            "       -520.13778687, -525.7227478 , -517.03115845, -583.47607422,\n",
            "       -563.22061157]), 'split1_test_score': array([-250.42271205, -254.77284459, -242.55433873, -251.79237584,\n",
            "       -259.76028878, -250.42274693, -254.77458845, -242.55629185,\n",
            "       -251.79272461, -259.76046317, -250.42271205, -254.77825056,\n",
            "       -240.79987444, -251.79300363, -259.76053292, -250.42243304,\n",
            "       -254.78498186, -240.8077567 , -251.79345703, -256.91992188,\n",
            "       -244.49539621, -254.80597796, -240.83136858, -251.79481724,\n",
            "       -256.92204939]), 'split2_test_score': array([-240.85236468, -255.6753976 , -239.78644671, -225.89983259,\n",
            "       -218.3311942 , -240.85103934, -255.67379325, -239.78512137,\n",
            "       -224.35634068, -218.32938058, -240.84887695, -257.31389509,\n",
            "       -239.78309849, -224.3538644 , -218.32627651, -240.84455218,\n",
            "       -257.30712891, -239.77915737, -224.34898158, -218.32017299,\n",
            "       -240.83192662, -236.77410017, -239.76667132, -224.06406948,\n",
            "       -218.3019322 ]), 'split3_test_score': array([-688.95396791, -696.40043136, -685.11042718, -686.46191992,\n",
            "       -674.24184459, -688.94835268, -696.39513002, -685.10606752,\n",
            "       -687.20386328, -674.2396822 , -688.93844754, -695.20864146,\n",
            "       -682.66501004, -687.19563225, -677.80852985, -687.30267048,\n",
            "       -697.08315318, -682.64973382, -687.17951897, -677.80026395,\n",
            "       -687.24393722, -697.37211105, -682.60348661, -687.13128376,\n",
            "       -677.77543136]), 'split4_test_score': array([-415.40032087, -375.34671456, -361.63539342, -387.15733119,\n",
            "       -436.58959961, -415.39916992, -371.31529018, -361.63978795,\n",
            "       -387.15687779, -436.58893694, -415.3976702 , -371.31612723,\n",
            "       -361.64683315, -387.15530831, -436.58740234, -415.39439174,\n",
            "       -371.31738281, -361.66162109, -387.152274  , -436.58506557,\n",
            "       -411.30834961, -371.28989955, -361.70535714, -387.18648856,\n",
            "       -436.57760184]), 'mean_test_score': array([-423.15327789, -420.57799974, -409.2150507 , -423.7273737 ,\n",
            "       -432.23260179, -423.15170928, -419.77129895, -409.21569593,\n",
            "       -423.56730551, -432.2319958 , -423.14893393, -419.86395294,\n",
            "       -408.37807211, -423.565498  , -432.9454619 , -422.82023869,\n",
            "       -421.2369815 , -408.38059374, -423.56173474, -432.37500553,\n",
            "       -420.8034793 , -417.19296731, -408.38760842, -426.73054665,\n",
            "       -430.55952527]), 'std_test_score': array([169.22495885, 169.01564211, 171.16020301, 178.70902888,\n",
            "       175.32259547, 169.22350835, 169.23756767, 171.15875809,\n",
            "       179.26976242, 175.32263251, 169.22085208, 168.53241976,\n",
            "       170.71707927, 179.26837692, 176.31213292, 168.70852631,\n",
            "       169.74878314, 170.7117571 , 179.26552297, 176.87291646,\n",
            "       169.95427603, 173.95784512, 170.69570313, 181.99870726,\n",
            "       175.473157  ]), 'rank_test_score': array([15,  9,  4, 19, 23, 14,  7,  5, 18, 22, 13,  8,  1, 17, 25, 12, 11,\n",
            "        2, 16, 24, 10,  6,  3, 20, 21], dtype=int32)}\n",
            "Best parameters {'reg_alpha': 0.1, 'reg_lambda': 0.1}\n",
            "Best score -408.3780721121651\n"
          ],
          "name": "stdout"
        },
        {
          "output_type": "stream",
          "text": [
            "[Parallel(n_jobs=1)]: Done 125 out of 125 | elapsed:    2.5s finished\n"
          ],
          "name": "stderr"
        }
      ]
    },
    {
      "cell_type": "markdown",
      "metadata": {
        "id": "VkIvccfQ68Dc",
        "colab_type": "text"
      },
      "source": [
        "## Set regularisation parameters before increasing the number of trees and reducing the learning rate"
      ]
    },
    {
      "cell_type": "code",
      "metadata": {
        "id": "N3Zy2Vc37BXV",
        "colab_type": "code",
        "colab": {}
      },
      "source": [
        "reg_alpha = gbm.best_params_['reg_alpha']\n",
        "reg_lambda = gbm.best_params_['reg_lambda']\n",
        "parameters['reg_alpha'] = reg_alpha\n",
        "parameters['reg_lambda'] = reg_lambda\n",
        "scores.append(gbm.best_score_)"
      ],
      "execution_count": 0,
      "outputs": []
    },
    {
      "cell_type": "markdown",
      "metadata": {
        "id": "OkRhnV4q7FmR",
        "colab_type": "text"
      },
      "source": [
        "## Print final parameters used and scores obtained"
      ]
    },
    {
      "cell_type": "markdown",
      "metadata": {
        "id": "H3gbuDVd7LnC",
        "colab_type": "text"
      },
      "source": [
        "Importantly, ensure scores are increasing with each iteration. For the above implementation, the negative MSE objective function should be increasing in order to minimise MSE"
      ]
    },
    {
      "cell_type": "code",
      "metadata": {
        "id": "aqDT5Q547Tc_",
        "colab_type": "code",
        "colab": {
          "base_uri": "https://localhost:8080/",
          "height": 71
        },
        "outputId": "79c20623-2383-470f-b607-89392df5417c"
      },
      "source": [
        "print (parameters)\n",
        "print (scores)"
      ],
      "execution_count": 272,
      "outputs": [
        {
          "output_type": "stream",
          "text": [
            "{'objective': 'reg:linear', 'seed': 100, 'n_estimators': 100, 'learning_rate': 0.1, 'gamma': 0.1, 'colsample_bytree': 0.85, 'reg_alpha': 0.1, 'reg_lambda': 0.1, 'silent': False, 'max_depth': 2, 'min_child_weight': 1.5, 'subsample': 1.0}\n",
            "[-442.6899164202008, -438.2178312848772, -438.2178312848772, -413.93037662527894, -413.93037662527894, -408.3780721121651, -408.3780721121651]\n"
          ],
          "name": "stdout"
        }
      ]
    },
    {
      "cell_type": "markdown",
      "metadata": {
        "id": "PKCHoLT-7nql",
        "colab_type": "text"
      },
      "source": [
        "## Create XGBoost's DMatrix"
      ]
    },
    {
      "cell_type": "markdown",
      "metadata": {
        "id": "Zeq0pgKF7st-",
        "colab_type": "text"
      },
      "source": [
        "We will use this for finding the best tree via cross validation, and in the final XGBoost model"
      ]
    },
    {
      "cell_type": "code",
      "metadata": {
        "id": "wcxdniw97wEz",
        "colab_type": "code",
        "colab": {}
      },
      "source": [
        "trainDMat = xgb.DMatrix(data = X_train, label = y_train)\n",
        "testDMat = xgb.DMatrix(data = X_test, label = y_test)"
      ],
      "execution_count": 0,
      "outputs": []
    },
    {
      "cell_type": "markdown",
      "metadata": {
        "id": "MWFS_Qlr75cr",
        "colab_type": "text"
      },
      "source": [
        "## Find best tree"
      ]
    },
    {
      "cell_type": "markdown",
      "metadata": {
        "id": "tqxKLleJ79iM",
        "colab_type": "text"
      },
      "source": [
        "Lower the learning_rate and set a large num_boost_round hyperparameter to ensure convergence. If convergence is slow, retry with a slightly higher learning rate (e.g. 0.075 instead of 0.05)"
      ]
    },
    {
      "cell_type": "code",
      "metadata": {
        "id": "H4zTf-9n8BPx",
        "colab_type": "code",
        "colab": {
          "base_uri": "https://localhost:8080/",
          "height": 1000
        },
        "outputId": "fad9d5e9-4ac1-4e81-ab1b-7ccb04625126"
      },
      "source": [
        "learning_rate = 0.05\n",
        "parameters['eta'] = learning_rate\n",
        "\n",
        "num_boost_round = 3000\n",
        "early_stopping_rounds = 20\n",
        "\n",
        "xgbCV = xgb.cv(\n",
        "    params = parameters, \n",
        "    dtrain = trainDMat, \n",
        "    num_boost_round = num_boost_round,\n",
        "    nfold = 10,\n",
        "    metrics = {'mae'},\n",
        "    early_stopping_rounds = early_stopping_rounds,\n",
        "    verbose_eval = True,\n",
        "    seed = seed     \n",
        ")\n"
      ],
      "execution_count": 290,
      "outputs": [
        {
          "output_type": "stream",
          "text": [
            "[19:03:45] WARNING: /workspace/src/objective/regression_obj.cu:152: reg:linear is now deprecated in favor of reg:squarederror.\n",
            "[19:03:45] WARNING: /workspace/src/objective/regression_obj.cu:152: reg:linear is now deprecated in favor of reg:squarederror.\n",
            "[19:03:45] WARNING: /workspace/src/objective/regression_obj.cu:152: reg:linear is now deprecated in favor of reg:squarederror.\n",
            "[19:03:45] WARNING: /workspace/src/objective/regression_obj.cu:152: reg:linear is now deprecated in favor of reg:squarederror.\n",
            "[19:03:45] WARNING: /workspace/src/objective/regression_obj.cu:152: reg:linear is now deprecated in favor of reg:squarederror.\n",
            "[19:03:45] WARNING: /workspace/src/objective/regression_obj.cu:152: reg:linear is now deprecated in favor of reg:squarederror.\n",
            "[19:03:45] WARNING: /workspace/src/objective/regression_obj.cu:152: reg:linear is now deprecated in favor of reg:squarederror.\n",
            "[19:03:45] WARNING: /workspace/src/objective/regression_obj.cu:152: reg:linear is now deprecated in favor of reg:squarederror.\n",
            "[19:03:45] WARNING: /workspace/src/objective/regression_obj.cu:152: reg:linear is now deprecated in favor of reg:squarederror.\n",
            "[19:03:45] WARNING: /workspace/src/objective/regression_obj.cu:152: reg:linear is now deprecated in favor of reg:squarederror.\n",
            "[0]\ttrain-mae:2755.7+31.1511\ttest-mae:2767.75+308.127\n",
            "[1]\ttrain-mae:2483.02+27.9713\ttest-mae:2497.84+298.626\n",
            "[2]\ttrain-mae:2237.28+25.0712\ttest-mae:2257.76+294.817\n",
            "[3]\ttrain-mae:2016.22+22.482\ttest-mae:2033.96+295.303\n",
            "[4]\ttrain-mae:1816.89+20.0743\ttest-mae:1834.34+292.415\n",
            "[5]\ttrain-mae:1637.36+18.1326\ttest-mae:1661.67+286.192\n",
            "[6]\ttrain-mae:1475.63+16.2242\ttest-mae:1505.8+289.65\n",
            "[7]\ttrain-mae:1329.83+14.6317\ttest-mae:1363.05+286.23\n",
            "[8]\ttrain-mae:1198.43+13.1293\ttest-mae:1238.26+283.619\n",
            "[9]\ttrain-mae:1080.03+11.8151\ttest-mae:1128.65+283.409\n",
            "[10]\ttrain-mae:973.349+10.64\ttest-mae:1024.88+282.79\n",
            "[11]\ttrain-mae:877.19+9.50236\ttest-mae:929.46+285.21\n",
            "[12]\ttrain-mae:790.722+8.72614\ttest-mae:846.758+285.56\n",
            "[13]\ttrain-mae:712.891+8.19046\ttest-mae:777.407+287.538\n",
            "[14]\ttrain-mae:642.933+7.85188\ttest-mae:715.75+287.051\n",
            "[15]\ttrain-mae:580.081+7.83082\ttest-mae:662.844+279.857\n",
            "[16]\ttrain-mae:525.694+9.40265\ttest-mae:626.889+269.916\n",
            "[17]\ttrain-mae:479.627+11.2144\ttest-mae:593.663+255.501\n",
            "[18]\ttrain-mae:441.119+12.1213\ttest-mae:561.023+252.567\n",
            "[19]\ttrain-mae:408.56+12.1684\ttest-mae:531.636+253.606\n",
            "[20]\ttrain-mae:380.898+12.9357\ttest-mae:512.893+252.51\n",
            "[21]\ttrain-mae:355.268+13.3286\ttest-mae:499.707+246.206\n",
            "[22]\ttrain-mae:334.237+14.1078\ttest-mae:487.984+236.667\n",
            "[23]\ttrain-mae:316.4+15.4017\ttest-mae:482.098+234.342\n",
            "[24]\ttrain-mae:299.142+15.0491\ttest-mae:476.328+232.694\n",
            "[25]\ttrain-mae:283.764+15.7664\ttest-mae:475.988+227.914\n",
            "[26]\ttrain-mae:268.422+16.2141\ttest-mae:473.67+226.628\n",
            "[27]\ttrain-mae:257.071+16.6009\ttest-mae:469.451+226.602\n",
            "[28]\ttrain-mae:246.06+16.2177\ttest-mae:467.764+223.259\n",
            "[29]\ttrain-mae:235.281+16.0163\ttest-mae:467.34+224.333\n",
            "[30]\ttrain-mae:225.821+16.5414\ttest-mae:469.703+220.944\n",
            "[31]\ttrain-mae:218.356+16.6196\ttest-mae:468.911+218.268\n",
            "[32]\ttrain-mae:210.828+16.7041\ttest-mae:468.543+217.307\n",
            "[33]\ttrain-mae:205.034+16.7765\ttest-mae:469.381+215.116\n",
            "[34]\ttrain-mae:197.305+16.6883\ttest-mae:471.793+214.094\n",
            "[35]\ttrain-mae:191.59+16.5397\ttest-mae:470.316+211.577\n",
            "[36]\ttrain-mae:185.361+16.135\ttest-mae:466.475+213.037\n",
            "[37]\ttrain-mae:180.777+15.9314\ttest-mae:469.422+213.972\n",
            "[38]\ttrain-mae:175.777+15.2753\ttest-mae:467.204+212.183\n",
            "[39]\ttrain-mae:171.4+14.7622\ttest-mae:465.147+211.524\n",
            "[40]\ttrain-mae:166.646+14.3381\ttest-mae:467.189+214.159\n",
            "[41]\ttrain-mae:163.164+14.2235\ttest-mae:469.175+213.009\n",
            "[42]\ttrain-mae:159.484+13.8233\ttest-mae:467.913+212.011\n",
            "[43]\ttrain-mae:156.199+14.1619\ttest-mae:466.617+214.509\n",
            "[44]\ttrain-mae:152.761+14.5197\ttest-mae:469.015+214.835\n",
            "[45]\ttrain-mae:149.65+13.8993\ttest-mae:469.4+218.112\n",
            "[46]\ttrain-mae:146.695+14.0872\ttest-mae:470.099+220.249\n",
            "[47]\ttrain-mae:144.034+14.543\ttest-mae:472.051+220.312\n",
            "[48]\ttrain-mae:141.416+14.6253\ttest-mae:472.235+221.458\n",
            "[49]\ttrain-mae:138.449+14.3604\ttest-mae:472.655+222.633\n",
            "[50]\ttrain-mae:135.807+14.5133\ttest-mae:473.739+223.13\n",
            "[51]\ttrain-mae:132.962+14.1273\ttest-mae:471.692+224.284\n",
            "[52]\ttrain-mae:130.244+13.5312\ttest-mae:471.102+223.358\n",
            "[53]\ttrain-mae:127.61+13.3759\ttest-mae:469.195+225.149\n",
            "[54]\ttrain-mae:125.158+12.9813\ttest-mae:470.789+225.484\n",
            "[55]\ttrain-mae:122.614+12.5935\ttest-mae:471.854+227.571\n",
            "[56]\ttrain-mae:119.989+11.9842\ttest-mae:470.509+227.279\n",
            "[57]\ttrain-mae:118.095+11.9644\ttest-mae:471.125+226.648\n",
            "[58]\ttrain-mae:115.836+11.6331\ttest-mae:470.222+226.177\n"
          ],
          "name": "stdout"
        }
      ]
    },
    {
      "cell_type": "markdown",
      "metadata": {
        "id": "E3iyvVj18I9w",
        "colab_type": "text"
      },
      "source": [
        "## Finalise XGBoost model"
      ]
    },
    {
      "cell_type": "markdown",
      "metadata": {
        "id": "jRJQNw3x8Oke",
        "colab_type": "text"
      },
      "source": [
        "Produce the final booster object using the best tree from our cross validation"
      ]
    },
    {
      "cell_type": "code",
      "metadata": {
        "id": "-El1d4tQ8SFk",
        "colab_type": "code",
        "colab": {
          "base_uri": "https://localhost:8080/",
          "height": 714
        },
        "outputId": "9c078e83-9ffe-4764-da6a-42aa7c29aaa7"
      },
      "source": [
        "num_boost_round = len(xgbCV)\n",
        "parameters['eval_metric'] = 'mae'\n",
        "\n",
        "xgbFinal = xgb.train(\n",
        "    params = parameters, \n",
        "    dtrain = trainDMat, \n",
        "    num_boost_round = num_boost_round,\n",
        "    evals = [(trainDMat, 'train'), \n",
        "             (testDMat, 'eval')]\n",
        ")"
      ],
      "execution_count": 291,
      "outputs": [
        {
          "output_type": "stream",
          "text": [
            "[19:03:49] WARNING: /workspace/src/objective/regression_obj.cu:152: reg:linear is now deprecated in favor of reg:squarederror.\n",
            "[0]\ttrain-mae:2755.42\teval-mae:2480.21\n",
            "[1]\ttrain-mae:2482.37\teval-mae:2244.62\n",
            "[2]\ttrain-mae:2237.3\teval-mae:1997.3\n",
            "[3]\ttrain-mae:2016.43\teval-mae:1774.22\n",
            "[4]\ttrain-mae:1817.09\teval-mae:1604.23\n",
            "[5]\ttrain-mae:1637.67\teval-mae:1449.98\n",
            "[6]\ttrain-mae:1475.74\teval-mae:1319.66\n",
            "[7]\ttrain-mae:1329.57\teval-mae:1207.07\n",
            "[8]\ttrain-mae:1197.88\teval-mae:1105.65\n",
            "[9]\ttrain-mae:1079.64\teval-mae:1006.67\n",
            "[10]\ttrain-mae:972.815\teval-mae:908.035\n",
            "[11]\ttrain-mae:876.805\teval-mae:828.387\n",
            "[12]\ttrain-mae:789.971\teval-mae:765.726\n",
            "[13]\ttrain-mae:711.739\teval-mae:709.283\n",
            "[14]\ttrain-mae:641.542\teval-mae:645.46\n",
            "[15]\ttrain-mae:578.094\teval-mae:587.93\n",
            "[16]\ttrain-mae:523.923\teval-mae:548.311\n",
            "[17]\ttrain-mae:476.983\teval-mae:501.778\n",
            "[18]\ttrain-mae:440.124\teval-mae:452.5\n",
            "[19]\ttrain-mae:409.477\teval-mae:434.965\n",
            "[20]\ttrain-mae:382.861\teval-mae:417.823\n",
            "[21]\ttrain-mae:358.903\teval-mae:404.675\n",
            "[22]\ttrain-mae:339.843\teval-mae:392.834\n",
            "[23]\ttrain-mae:318.821\teval-mae:386.934\n",
            "[24]\ttrain-mae:306.723\teval-mae:381.804\n",
            "[25]\ttrain-mae:294.254\teval-mae:390.973\n",
            "[26]\ttrain-mae:280.105\teval-mae:411.686\n",
            "[27]\ttrain-mae:266.414\teval-mae:404.097\n",
            "[28]\ttrain-mae:254.494\teval-mae:421.87\n",
            "[29]\ttrain-mae:246.24\teval-mae:427.561\n",
            "[30]\ttrain-mae:235.171\teval-mae:419.3\n",
            "[31]\ttrain-mae:226.657\teval-mae:434.234\n",
            "[32]\ttrain-mae:218.1\teval-mae:437.121\n",
            "[33]\ttrain-mae:210.401\teval-mae:428.293\n",
            "[34]\ttrain-mae:204.554\teval-mae:440.65\n",
            "[35]\ttrain-mae:201.977\teval-mae:442.802\n",
            "[36]\ttrain-mae:197.49\teval-mae:433.981\n",
            "[37]\ttrain-mae:191.332\teval-mae:415.695\n",
            "[38]\ttrain-mae:187.754\teval-mae:415.309\n",
            "[39]\ttrain-mae:182.572\teval-mae:416.461\n"
          ],
          "name": "stdout"
        }
      ]
    },
    {
      "cell_type": "markdown",
      "metadata": {
        "id": "3NlXv1B_8gzw",
        "colab_type": "text"
      },
      "source": [
        "## Feature importance plot"
      ]
    },
    {
      "cell_type": "markdown",
      "metadata": {
        "id": "MihpV7J_8k_A",
        "colab_type": "text"
      },
      "source": [
        "Plot the feature importance plot to check whether this is making sense before checking optimal parameters and loss function progression"
      ]
    },
    {
      "cell_type": "code",
      "metadata": {
        "id": "Cw6zhMoh8oqE",
        "colab_type": "code",
        "colab": {
          "base_uri": "https://localhost:8080/",
          "height": 638
        },
        "outputId": "e2136908-6074-451a-f5e8-e03b5bb026d8"
      },
      "source": [
        "xgb.plot_importance(xgbFinal)"
      ],
      "execution_count": 292,
      "outputs": [
        {
          "output_type": "execute_result",
          "data": {
            "text/plain": [
              "<matplotlib.axes._subplots.AxesSubplot at 0x7f91fbee15f8>"
            ]
          },
          "metadata": {
            "tags": []
          },
          "execution_count": 292
        },
        {
          "output_type": "display_data",
          "data": {
            "image/png": "[encoded data removed]",
            "text/plain": [
              "<Figure size 576x720 with 1 Axes>"
            ]
          },
          "metadata": {
            "tags": []
          }
        }
      ]
    },
    {
      "cell_type": "markdown",
      "metadata": {
        "id": "U69IchT_81Tt",
        "colab_type": "text"
      },
      "source": [
        "## Produce predictions for train and test sets before measuring accuracy"
      ]
    },
    {
      "cell_type": "markdown",
      "metadata": {
        "id": "bvhPP0ZR83XD",
        "colab_type": "text"
      },
      "source": [
        "Calculate predictions for both train and test sets, and then calculate MSE and RMSE for both datasets"
      ]
    },
    {
      "cell_type": "code",
      "metadata": {
        "id": "8BtM3JA_89FQ",
        "colab_type": "code",
        "colab": {}
      },
      "source": [
        "xgbFinal_train_preds = xgbFinal.predict(xgb.DMatrix(X_train))\n",
        "xgbFinal_test_preds = xgbFinal.predict(xgb.DMatrix(X_test))"
      ],
      "execution_count": 0,
      "outputs": []
    },
    {
      "cell_type": "code",
      "metadata": {
        "id": "yB_6F4L1-Sfh",
        "colab_type": "code",
        "colab": {
          "base_uri": "https://localhost:8080/",
          "height": 51
        },
        "outputId": "1480fb69-adf2-468f-9481-201ef7123304"
      },
      "source": [
        "print(xgbFinal_train_preds.shape)\n",
        "print(xgbFinal_test_preds.shape)"
      ],
      "execution_count": 294,
      "outputs": [
        {
          "output_type": "stream",
          "text": [
            "(36,)\n",
            "(4,)\n"
          ],
          "name": "stdout"
        }
      ]
    },
    {
      "cell_type": "code",
      "metadata": {
        "id": "X5wzXVcM-XeX",
        "colab_type": "code",
        "colab": {
          "base_uri": "https://localhost:8080/",
          "height": 85
        },
        "outputId": "173ccd7e-1794-41ab-d76f-8021dced9e97"
      },
      "source": [
        "print (\"\\nModel Report\")\n",
        "print (\"MAE Train : %f\" % mean_absolute_error(y_train, xgbFinal_train_preds))\n",
        "print (\"MAE Test: %f\" % mean_absolute_error(y_test, xgbFinal_test_preds))"
      ],
      "execution_count": 295,
      "outputs": [
        {
          "output_type": "stream",
          "text": [
            "\n",
            "Model Report\n",
            "MAE Train : 182.572179\n",
            "MAE Test: 416.460693\n"
          ],
          "name": "stdout"
        }
      ]
    },
    {
      "cell_type": "markdown",
      "metadata": {
        "id": "fW2MSyqOlBfw",
        "colab_type": "text"
      },
      "source": [
        "# Predicting"
      ]
    },
    {
      "cell_type": "code",
      "metadata": {
        "id": "f7NNc_PXkYYN",
        "colab_type": "code",
        "colab": {}
      },
      "source": [
        "df_test=pd.read_csv('test.csv')"
      ],
      "execution_count": 0,
      "outputs": []
    },
    {
      "cell_type": "code",
      "metadata": {
        "id": "JtEuCZcMlIwW",
        "colab_type": "code",
        "outputId": "8ae881bc-e197-428c-deab-194b63070934",
        "colab": {
          "base_uri": "https://localhost:8080/",
          "height": 204
        }
      },
      "source": [
        "df_test.head()"
      ],
      "execution_count": 305,
      "outputs": [
        {
          "output_type": "execute_result",
          "data": {
            "text/html": [
              "<div>\n",
              "<style scoped>\n",
              "    .dataframe tbody tr th:only-of-type {\n",
              "        vertical-align: middle;\n",
              "    }\n",
              "\n",
              "    .dataframe tbody tr th {\n",
              "        vertical-align: top;\n",
              "    }\n",
              "\n",
              "    .dataframe thead th {\n",
              "        text-align: right;\n",
              "    }\n",
              "</style>\n",
              "<table border=\"1\" class=\"dataframe\">\n",
              "  <thead>\n",
              "    <tr style=\"text-align: right;\">\n",
              "      <th></th>\n",
              "      <th>Cycle</th>\n",
              "      <th>Type</th>\n",
              "      <th>Time</th>\n",
              "      <th>Values</th>\n",
              "    </tr>\n",
              "  </thead>\n",
              "  <tbody>\n",
              "    <tr>\n",
              "      <th>0</th>\n",
              "      <td>100</td>\n",
              "      <td>2</td>\n",
              "      <td>101</td>\n",
              "      <td>20.456</td>\n",
              "    </tr>\n",
              "    <tr>\n",
              "      <th>1</th>\n",
              "      <td>100</td>\n",
              "      <td>2</td>\n",
              "      <td>102</td>\n",
              "      <td>20.456</td>\n",
              "    </tr>\n",
              "    <tr>\n",
              "      <th>2</th>\n",
              "      <td>100</td>\n",
              "      <td>2</td>\n",
              "      <td>103</td>\n",
              "      <td>20.456</td>\n",
              "    </tr>\n",
              "    <tr>\n",
              "      <th>3</th>\n",
              "      <td>100</td>\n",
              "      <td>2</td>\n",
              "      <td>104</td>\n",
              "      <td>20.448</td>\n",
              "    </tr>\n",
              "    <tr>\n",
              "      <th>4</th>\n",
              "      <td>100</td>\n",
              "      <td>2</td>\n",
              "      <td>105</td>\n",
              "      <td>20.448</td>\n",
              "    </tr>\n",
              "  </tbody>\n",
              "</table>\n",
              "</div>"
            ],
            "text/plain": [
              "   Cycle  Type  Time  Values\n",
              "0    100     2   101  20.456\n",
              "1    100     2   102  20.456\n",
              "2    100     2   103  20.456\n",
              "3    100     2   104  20.448\n",
              "4    100     2   105  20.448"
            ]
          },
          "metadata": {
            "tags": []
          },
          "execution_count": 305
        }
      ]
    },
    {
      "cell_type": "code",
      "metadata": {
        "id": "_sVI0pTIldsQ",
        "colab_type": "code",
        "colab": {}
      },
      "source": [
        "def makeTestFeatureDataset(df):\n",
        "  cycle_set=df['Cycle'].unique()\n",
        "  \n",
        "  data=[]\n",
        "  for i in range(len(cycle_set)):\n",
        "    val=[]\n",
        "    df_temp=df[df['Cycle']==cycle_set[i]]\n",
        "    val.append(cycle_set[i])\n",
        "    val.append(float('%.3f'%(df_temp['Values'].mean())))\n",
        "    val.append(float('%.3f'%(df_temp['Values'].var())))\n",
        "    val.append(float('%.3f'%(df_temp['Values'].std())))\n",
        "    val.append(float('%.3f'%(df_temp['Values'].quantile(0.25))))\n",
        "    val.append(float('%.3f'%(df_temp['Values'].quantile(0.75))))\n",
        "\n",
        "    data.append(val)\n",
        "    \n",
        "  col=['Cycle','Mean', 'Variance', 'Std-Dev', '25-Quartile', '75-Quartile']\n",
        "  df_feature = pd.DataFrame(data, columns = col)\n",
        "    \n",
        "  return df_feature"
      ],
      "execution_count": 0,
      "outputs": []
    },
    {
      "cell_type": "code",
      "metadata": {
        "id": "uJslaXGulKWm",
        "colab_type": "code",
        "colab": {}
      },
      "source": [
        "df_test_feature= makeTestFeatureDataset(df_test)"
      ],
      "execution_count": 0,
      "outputs": []
    },
    {
      "cell_type": "code",
      "metadata": {
        "id": "vBsdDIjRFpmd",
        "colab_type": "code",
        "colab": {}
      },
      "source": [
        "df_test_feature['IQR']=df_test_feature['75-Quartile']-df_test_feature['25-Quartile']"
      ],
      "execution_count": 0,
      "outputs": []
    },
    {
      "cell_type": "code",
      "metadata": {
        "id": "aNQoYFjklZdd",
        "colab_type": "code",
        "outputId": "e072386f-6289-4369-eeb4-1aa88a00d9e3",
        "colab": {
          "base_uri": "https://localhost:8080/",
          "height": 204
        }
      },
      "source": [
        "df_test_feature.head()"
      ],
      "execution_count": 309,
      "outputs": [
        {
          "output_type": "execute_result",
          "data": {
            "text/html": [
              "<div>\n",
              "<style scoped>\n",
              "    .dataframe tbody tr th:only-of-type {\n",
              "        vertical-align: middle;\n",
              "    }\n",
              "\n",
              "    .dataframe tbody tr th {\n",
              "        vertical-align: top;\n",
              "    }\n",
              "\n",
              "    .dataframe thead th {\n",
              "        text-align: right;\n",
              "    }\n",
              "</style>\n",
              "<table border=\"1\" class=\"dataframe\">\n",
              "  <thead>\n",
              "    <tr style=\"text-align: right;\">\n",
              "      <th></th>\n",
              "      <th>Cycle</th>\n",
              "      <th>Mean</th>\n",
              "      <th>Variance</th>\n",
              "      <th>Std-Dev</th>\n",
              "      <th>25-Quartile</th>\n",
              "      <th>75-Quartile</th>\n",
              "      <th>IQR</th>\n",
              "    </tr>\n",
              "  </thead>\n",
              "  <tbody>\n",
              "    <tr>\n",
              "      <th>0</th>\n",
              "      <td>100</td>\n",
              "      <td>18.764</td>\n",
              "      <td>0.762</td>\n",
              "      <td>0.873</td>\n",
              "      <td>18.235</td>\n",
              "      <td>19.327</td>\n",
              "      <td>1.092</td>\n",
              "    </tr>\n",
              "    <tr>\n",
              "      <th>1</th>\n",
              "      <td>200</td>\n",
              "      <td>18.082</td>\n",
              "      <td>2.620</td>\n",
              "      <td>1.619</td>\n",
              "      <td>16.772</td>\n",
              "      <td>19.623</td>\n",
              "      <td>2.851</td>\n",
              "    </tr>\n",
              "    <tr>\n",
              "      <th>2</th>\n",
              "      <td>300</td>\n",
              "      <td>18.767</td>\n",
              "      <td>1.034</td>\n",
              "      <td>1.017</td>\n",
              "      <td>17.827</td>\n",
              "      <td>19.846</td>\n",
              "      <td>2.019</td>\n",
              "    </tr>\n",
              "    <tr>\n",
              "      <th>3</th>\n",
              "      <td>2200</td>\n",
              "      <td>18.439</td>\n",
              "      <td>1.301</td>\n",
              "      <td>1.141</td>\n",
              "      <td>17.363</td>\n",
              "      <td>19.346</td>\n",
              "      <td>1.983</td>\n",
              "    </tr>\n",
              "    <tr>\n",
              "      <th>4</th>\n",
              "      <td>2300</td>\n",
              "      <td>17.558</td>\n",
              "      <td>2.229</td>\n",
              "      <td>1.493</td>\n",
              "      <td>16.096</td>\n",
              "      <td>18.379</td>\n",
              "      <td>2.283</td>\n",
              "    </tr>\n",
              "  </tbody>\n",
              "</table>\n",
              "</div>"
            ],
            "text/plain": [
              "   Cycle    Mean  Variance  Std-Dev  25-Quartile  75-Quartile    IQR\n",
              "0    100  18.764     0.762    0.873       18.235       19.327  1.092\n",
              "1    200  18.082     2.620    1.619       16.772       19.623  2.851\n",
              "2    300  18.767     1.034    1.017       17.827       19.846  2.019\n",
              "3   2200  18.439     1.301    1.141       17.363       19.346  1.983\n",
              "4   2300  17.558     2.229    1.493       16.096       18.379  2.283"
            ]
          },
          "metadata": {
            "tags": []
          },
          "execution_count": 309
        }
      ]
    },
    {
      "cell_type": "code",
      "metadata": {
        "id": "Be28Ol80luL1",
        "colab_type": "code",
        "colab": {}
      },
      "source": [
        "X_test=df_test_feature.drop(columns='Cycle')"
      ],
      "execution_count": 0,
      "outputs": []
    },
    {
      "cell_type": "code",
      "metadata": {
        "id": "4SYGCbeVmv65",
        "colab_type": "code",
        "outputId": "b1a015a3-e6ae-4b02-838e-3e52c0ac614d",
        "colab": {
          "base_uri": "https://localhost:8080/",
          "height": 204
        }
      },
      "source": [
        "X_test.head()"
      ],
      "execution_count": 311,
      "outputs": [
        {
          "output_type": "execute_result",
          "data": {
            "text/html": [
              "<div>\n",
              "<style scoped>\n",
              "    .dataframe tbody tr th:only-of-type {\n",
              "        vertical-align: middle;\n",
              "    }\n",
              "\n",
              "    .dataframe tbody tr th {\n",
              "        vertical-align: top;\n",
              "    }\n",
              "\n",
              "    .dataframe thead th {\n",
              "        text-align: right;\n",
              "    }\n",
              "</style>\n",
              "<table border=\"1\" class=\"dataframe\">\n",
              "  <thead>\n",
              "    <tr style=\"text-align: right;\">\n",
              "      <th></th>\n",
              "      <th>Mean</th>\n",
              "      <th>Variance</th>\n",
              "      <th>Std-Dev</th>\n",
              "      <th>25-Quartile</th>\n",
              "      <th>75-Quartile</th>\n",
              "      <th>IQR</th>\n",
              "    </tr>\n",
              "  </thead>\n",
              "  <tbody>\n",
              "    <tr>\n",
              "      <th>0</th>\n",
              "      <td>18.764</td>\n",
              "      <td>0.762</td>\n",
              "      <td>0.873</td>\n",
              "      <td>18.235</td>\n",
              "      <td>19.327</td>\n",
              "      <td>1.092</td>\n",
              "    </tr>\n",
              "    <tr>\n",
              "      <th>1</th>\n",
              "      <td>18.082</td>\n",
              "      <td>2.620</td>\n",
              "      <td>1.619</td>\n",
              "      <td>16.772</td>\n",
              "      <td>19.623</td>\n",
              "      <td>2.851</td>\n",
              "    </tr>\n",
              "    <tr>\n",
              "      <th>2</th>\n",
              "      <td>18.767</td>\n",
              "      <td>1.034</td>\n",
              "      <td>1.017</td>\n",
              "      <td>17.827</td>\n",
              "      <td>19.846</td>\n",
              "      <td>2.019</td>\n",
              "    </tr>\n",
              "    <tr>\n",
              "      <th>3</th>\n",
              "      <td>18.439</td>\n",
              "      <td>1.301</td>\n",
              "      <td>1.141</td>\n",
              "      <td>17.363</td>\n",
              "      <td>19.346</td>\n",
              "      <td>1.983</td>\n",
              "    </tr>\n",
              "    <tr>\n",
              "      <th>4</th>\n",
              "      <td>17.558</td>\n",
              "      <td>2.229</td>\n",
              "      <td>1.493</td>\n",
              "      <td>16.096</td>\n",
              "      <td>18.379</td>\n",
              "      <td>2.283</td>\n",
              "    </tr>\n",
              "  </tbody>\n",
              "</table>\n",
              "</div>"
            ],
            "text/plain": [
              "     Mean  Variance  Std-Dev  25-Quartile  75-Quartile    IQR\n",
              "0  18.764     0.762    0.873       18.235       19.327  1.092\n",
              "1  18.082     2.620    1.619       16.772       19.623  2.851\n",
              "2  18.767     1.034    1.017       17.827       19.846  2.019\n",
              "3  18.439     1.301    1.141       17.363       19.346  1.983\n",
              "4  17.558     2.229    1.493       16.096       18.379  2.283"
            ]
          },
          "metadata": {
            "tags": []
          },
          "execution_count": 311
        }
      ]
    },
    {
      "cell_type": "code",
      "metadata": {
        "id": "UbtX24H1l2wW",
        "colab_type": "code",
        "colab": {}
      },
      "source": [
        "y_pred=xgb_regr.predict(X_test)"
      ],
      "execution_count": 0,
      "outputs": []
    },
    {
      "cell_type": "code",
      "metadata": {
        "id": "4T_GpP8ImvUS",
        "colab_type": "code",
        "colab": {}
      },
      "source": [
        "df_result = pd.DataFrame(columns = ['Cycle','EndTime'])"
      ],
      "execution_count": 0,
      "outputs": []
    },
    {
      "cell_type": "code",
      "metadata": {
        "id": "tzso98pZopqi",
        "colab_type": "code",
        "colab": {}
      },
      "source": [
        "df_result['Cycle']=df_test_feature['Cycle']\n",
        "df_result['EndTime']=y_pred"
      ],
      "execution_count": 0,
      "outputs": []
    },
    {
      "cell_type": "code",
      "metadata": {
        "id": "VyH33uYNoJch",
        "colab_type": "code",
        "outputId": "0e379f2f-cc98-408c-cf8e-d39454bd756a",
        "colab": {
          "base_uri": "https://localhost:8080/",
          "height": 204
        }
      },
      "source": [
        "df_result.head()"
      ],
      "execution_count": 315,
      "outputs": [
        {
          "output_type": "execute_result",
          "data": {
            "text/html": [
              "<div>\n",
              "<style scoped>\n",
              "    .dataframe tbody tr th:only-of-type {\n",
              "        vertical-align: middle;\n",
              "    }\n",
              "\n",
              "    .dataframe tbody tr th {\n",
              "        vertical-align: top;\n",
              "    }\n",
              "\n",
              "    .dataframe thead th {\n",
              "        text-align: right;\n",
              "    }\n",
              "</style>\n",
              "<table border=\"1\" class=\"dataframe\">\n",
              "  <thead>\n",
              "    <tr style=\"text-align: right;\">\n",
              "      <th></th>\n",
              "      <th>Cycle</th>\n",
              "      <th>EndTime</th>\n",
              "    </tr>\n",
              "  </thead>\n",
              "  <tbody>\n",
              "    <tr>\n",
              "      <th>0</th>\n",
              "      <td>100</td>\n",
              "      <td>3320.652344</td>\n",
              "    </tr>\n",
              "    <tr>\n",
              "      <th>1</th>\n",
              "      <td>200</td>\n",
              "      <td>3145.942627</td>\n",
              "    </tr>\n",
              "    <tr>\n",
              "      <th>2</th>\n",
              "      <td>300</td>\n",
              "      <td>2636.343262</td>\n",
              "    </tr>\n",
              "    <tr>\n",
              "      <th>3</th>\n",
              "      <td>2200</td>\n",
              "      <td>2963.205811</td>\n",
              "    </tr>\n",
              "    <tr>\n",
              "      <th>4</th>\n",
              "      <td>2300</td>\n",
              "      <td>3245.038574</td>\n",
              "    </tr>\n",
              "  </tbody>\n",
              "</table>\n",
              "</div>"
            ],
            "text/plain": [
              "   Cycle      EndTime\n",
              "0    100  3320.652344\n",
              "1    200  3145.942627\n",
              "2    300  2636.343262\n",
              "3   2200  2963.205811\n",
              "4   2300  3245.038574"
            ]
          },
          "metadata": {
            "tags": []
          },
          "execution_count": 315
        }
      ]
    },
    {
      "cell_type": "markdown",
      "metadata": {
        "id": "GkaJDa5ImEfo",
        "colab_type": "text"
      },
      "source": [
        "# Saving File"
      ]
    },
    {
      "cell_type": "code",
      "metadata": {
        "id": "-Ng51KAEmBbm",
        "colab_type": "code",
        "colab": {}
      },
      "source": [
        "#Saving the file\n",
        "df_result.to_csv('resultXGBOptimized.csv',index=False) "
      ],
      "execution_count": 0,
      "outputs": []
    },
    {
      "cell_type": "code",
      "metadata": {
        "id": "kq-qcVIorC1n",
        "colab_type": "code",
        "outputId": "9548728d-8f0f-4dc2-d28f-092c53fbf611",
        "colab": {
          "base_uri": "https://localhost:8080/",
          "height": 34
        }
      },
      "source": [
        "!ls"
      ],
      "execution_count": 317,
      "outputs": [
        {
          "output_type": "stream",
          "text": [
            "resultXGBOptimized.csv\tsample.csv  sample_data  test.csv  train.csv\n"
          ],
          "name": "stdout"
        }
      ]
    },
    {
      "cell_type": "code",
      "metadata": {
        "id": "iUvtrbcIpwqU",
        "colab_type": "code",
        "colab": {}
      },
      "source": [
        "from google.colab import files\n",
        "files.download('resultXGBOptimized.csv')"
      ],
      "execution_count": 0,
      "outputs": []
    },
    {
      "cell_type": "code",
      "metadata": {
        "id": "ZHhNM7BGrN1S",
        "colab_type": "code",
        "outputId": "7e9b23c8-b10e-40fe-d78b-e42264a7096d",
        "colab": {
          "base_uri": "https://localhost:8080/",
          "height": 122
        }
      },
      "source": [
        "from google.colab import drive\n",
        "drive.mount('drive')"
      ],
      "execution_count": 319,
      "outputs": [
        {
          "output_type": "stream",
          "text": [
            "Go to this URL in a browser: https://accounts.google.com/o/oauth2/auth?client_id=947318989803-6bn6qk8qdgf4n4g3pfee6491hc0brc4i.apps.googleusercontent.com&redirect_uri=urn%3Aietf%3Awg%3Aoauth%3A2.0%3Aoob&scope=email%20https%3A%2F%2Fwww.googleapis.com%2Fauth%2Fdocs.test%20https%3A%2F%2Fwww.googleapis.com%2Fauth%2Fdrive%20https%3A%2F%2Fwww.googleapis.com%2Fauth%2Fdrive.photos.readonly%20https%3A%2F%2Fwww.googleapis.com%2Fauth%2Fpeopleapi.readonly&response_type=code\n",
            "\n",
            "Enter your authorization code:\n",
            "··········\n",
            "Mounted at drive\n"
          ],
          "name": "stdout"
        }
      ]
    },
    {
      "cell_type": "code",
      "metadata": {
        "id": "A_MbIwXGp_uf",
        "colab_type": "code",
        "colab": {}
      },
      "source": [
        "!cp resultXGBOptimized.csv drive/My\\ Drive/"
      ],
      "execution_count": 0,
      "outputs": []
    },
    {
      "cell_type": "code",
      "metadata": {
        "id": "BE62jMYfq_G1",
        "colab_type": "code",
        "colab": {}
      },
      "source": [
        ""
      ],
      "execution_count": 0,
      "outputs": []
    }
  ]
}